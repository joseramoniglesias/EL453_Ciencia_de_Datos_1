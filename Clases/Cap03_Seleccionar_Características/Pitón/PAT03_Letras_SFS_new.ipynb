{
 "nbformat": 4,
 "nbformat_minor": 0,
 "metadata": {
  "colab": {
   "provenance": []
  },
  "kernelspec": {
   "name": "python3",
   "display_name": "Python 3"
  },
  "language_info": {
   "name": "python"
  },
  "widgets": {
   "application/vnd.jupyter.widget-state+json": {
    "65a93f51350941b3ab8dcdaaa939c62b": {
     "model_module": "@jupyter-widgets/controls",
     "model_name": "HBoxModel",
     "model_module_version": "1.5.0",
     "state": {
      "_dom_classes": [],
      "_model_module": "@jupyter-widgets/controls",
      "_model_module_version": "1.5.0",
      "_model_name": "HBoxModel",
      "_view_count": null,
      "_view_module": "@jupyter-widgets/controls",
      "_view_module_version": "1.5.0",
      "_view_name": "HBoxView",
      "box_style": "",
      "children": [
       "IPY_MODEL_32799a990278438780cda3e201719a20",
       "IPY_MODEL_595b543d7ded4a72881e4b81f73f9b43",
       "IPY_MODEL_76b314695f0d4ac89da33e0624f3fab3"
      ],
      "layout": "IPY_MODEL_c492404a512846b3b83a8c7e1e223024"
     }
    },
    "32799a990278438780cda3e201719a20": {
     "model_module": "@jupyter-widgets/controls",
     "model_name": "HTMLModel",
     "model_module_version": "1.5.0",
     "state": {
      "_dom_classes": [],
      "_model_module": "@jupyter-widgets/controls",
      "_model_module_version": "1.5.0",
      "_model_name": "HTMLModel",
      "_view_count": null,
      "_view_module": "@jupyter-widgets/controls",
      "_view_module_version": "1.5.0",
      "_view_name": "HTMLView",
      "description": "",
      "description_tooltip": null,
      "layout": "IPY_MODEL_3fab1f3dd710475c95f13b289d5dd2cf",
      "placeholder": "​",
      "style": "IPY_MODEL_5ee580024747431989ccfe2f30670c3c",
      "value": "100%"
     }
    },
    "595b543d7ded4a72881e4b81f73f9b43": {
     "model_module": "@jupyter-widgets/controls",
     "model_name": "FloatProgressModel",
     "model_module_version": "1.5.0",
     "state": {
      "_dom_classes": [],
      "_model_module": "@jupyter-widgets/controls",
      "_model_module_version": "1.5.0",
      "_model_name": "FloatProgressModel",
      "_view_count": null,
      "_view_module": "@jupyter-widgets/controls",
      "_view_module_version": "1.5.0",
      "_view_name": "ProgressView",
      "bar_style": "success",
      "description": "",
      "description_tooltip": null,
      "layout": "IPY_MODEL_a2f57f2ea52a493fa75de6857a4f729d",
      "max": 100,
      "min": 0,
      "orientation": "horizontal",
      "style": "IPY_MODEL_03ac86828f5947dfaf33b9d2205f4908",
      "value": 100
     }
    },
    "76b314695f0d4ac89da33e0624f3fab3": {
     "model_module": "@jupyter-widgets/controls",
     "model_name": "HTMLModel",
     "model_module_version": "1.5.0",
     "state": {
      "_dom_classes": [],
      "_model_module": "@jupyter-widgets/controls",
      "_model_module_version": "1.5.0",
      "_model_name": "HTMLModel",
      "_view_count": null,
      "_view_module": "@jupyter-widgets/controls",
      "_view_module_version": "1.5.0",
      "_view_name": "HTMLView",
      "description": "",
      "description_tooltip": null,
      "layout": "IPY_MODEL_04fc8029d9b74afdb63d294a88926980",
      "placeholder": "​",
      "style": "IPY_MODEL_b2fc1a0ceb1145bf8143efbf094f7d13",
      "value": " 100/100 [00:01&lt;00:00, 56.56it/s]"
     }
    },
    "c492404a512846b3b83a8c7e1e223024": {
     "model_module": "@jupyter-widgets/base",
     "model_name": "LayoutModel",
     "model_module_version": "1.2.0",
     "state": {
      "_model_module": "@jupyter-widgets/base",
      "_model_module_version": "1.2.0",
      "_model_name": "LayoutModel",
      "_view_count": null,
      "_view_module": "@jupyter-widgets/base",
      "_view_module_version": "1.2.0",
      "_view_name": "LayoutView",
      "align_content": null,
      "align_items": null,
      "align_self": null,
      "border": null,
      "bottom": null,
      "display": null,
      "flex": null,
      "flex_flow": null,
      "grid_area": null,
      "grid_auto_columns": null,
      "grid_auto_flow": null,
      "grid_auto_rows": null,
      "grid_column": null,
      "grid_gap": null,
      "grid_row": null,
      "grid_template_areas": null,
      "grid_template_columns": null,
      "grid_template_rows": null,
      "height": null,
      "justify_content": null,
      "justify_items": null,
      "left": null,
      "margin": null,
      "max_height": null,
      "max_width": null,
      "min_height": null,
      "min_width": null,
      "object_fit": null,
      "object_position": null,
      "order": null,
      "overflow": null,
      "overflow_x": null,
      "overflow_y": null,
      "padding": null,
      "right": null,
      "top": null,
      "visibility": null,
      "width": null
     }
    },
    "3fab1f3dd710475c95f13b289d5dd2cf": {
     "model_module": "@jupyter-widgets/base",
     "model_name": "LayoutModel",
     "model_module_version": "1.2.0",
     "state": {
      "_model_module": "@jupyter-widgets/base",
      "_model_module_version": "1.2.0",
      "_model_name": "LayoutModel",
      "_view_count": null,
      "_view_module": "@jupyter-widgets/base",
      "_view_module_version": "1.2.0",
      "_view_name": "LayoutView",
      "align_content": null,
      "align_items": null,
      "align_self": null,
      "border": null,
      "bottom": null,
      "display": null,
      "flex": null,
      "flex_flow": null,
      "grid_area": null,
      "grid_auto_columns": null,
      "grid_auto_flow": null,
      "grid_auto_rows": null,
      "grid_column": null,
      "grid_gap": null,
      "grid_row": null,
      "grid_template_areas": null,
      "grid_template_columns": null,
      "grid_template_rows": null,
      "height": null,
      "justify_content": null,
      "justify_items": null,
      "left": null,
      "margin": null,
      "max_height": null,
      "max_width": null,
      "min_height": null,
      "min_width": null,
      "object_fit": null,
      "object_position": null,
      "order": null,
      "overflow": null,
      "overflow_x": null,
      "overflow_y": null,
      "padding": null,
      "right": null,
      "top": null,
      "visibility": null,
      "width": null
     }
    },
    "5ee580024747431989ccfe2f30670c3c": {
     "model_module": "@jupyter-widgets/controls",
     "model_name": "DescriptionStyleModel",
     "model_module_version": "1.5.0",
     "state": {
      "_model_module": "@jupyter-widgets/controls",
      "_model_module_version": "1.5.0",
      "_model_name": "DescriptionStyleModel",
      "_view_count": null,
      "_view_module": "@jupyter-widgets/base",
      "_view_module_version": "1.2.0",
      "_view_name": "StyleView",
      "description_width": ""
     }
    },
    "a2f57f2ea52a493fa75de6857a4f729d": {
     "model_module": "@jupyter-widgets/base",
     "model_name": "LayoutModel",
     "model_module_version": "1.2.0",
     "state": {
      "_model_module": "@jupyter-widgets/base",
      "_model_module_version": "1.2.0",
      "_model_name": "LayoutModel",
      "_view_count": null,
      "_view_module": "@jupyter-widgets/base",
      "_view_module_version": "1.2.0",
      "_view_name": "LayoutView",
      "align_content": null,
      "align_items": null,
      "align_self": null,
      "border": null,
      "bottom": null,
      "display": null,
      "flex": null,
      "flex_flow": null,
      "grid_area": null,
      "grid_auto_columns": null,
      "grid_auto_flow": null,
      "grid_auto_rows": null,
      "grid_column": null,
      "grid_gap": null,
      "grid_row": null,
      "grid_template_areas": null,
      "grid_template_columns": null,
      "grid_template_rows": null,
      "height": null,
      "justify_content": null,
      "justify_items": null,
      "left": null,
      "margin": null,
      "max_height": null,
      "max_width": null,
      "min_height": null,
      "min_width": null,
      "object_fit": null,
      "object_position": null,
      "order": null,
      "overflow": null,
      "overflow_x": null,
      "overflow_y": null,
      "padding": null,
      "right": null,
      "top": null,
      "visibility": null,
      "width": null
     }
    },
    "03ac86828f5947dfaf33b9d2205f4908": {
     "model_module": "@jupyter-widgets/controls",
     "model_name": "ProgressStyleModel",
     "model_module_version": "1.5.0",
     "state": {
      "_model_module": "@jupyter-widgets/controls",
      "_model_module_version": "1.5.0",
      "_model_name": "ProgressStyleModel",
      "_view_count": null,
      "_view_module": "@jupyter-widgets/base",
      "_view_module_version": "1.2.0",
      "_view_name": "StyleView",
      "bar_color": null,
      "description_width": ""
     }
    },
    "04fc8029d9b74afdb63d294a88926980": {
     "model_module": "@jupyter-widgets/base",
     "model_name": "LayoutModel",
     "model_module_version": "1.2.0",
     "state": {
      "_model_module": "@jupyter-widgets/base",
      "_model_module_version": "1.2.0",
      "_model_name": "LayoutModel",
      "_view_count": null,
      "_view_module": "@jupyter-widgets/base",
      "_view_module_version": "1.2.0",
      "_view_name": "LayoutView",
      "align_content": null,
      "align_items": null,
      "align_self": null,
      "border": null,
      "bottom": null,
      "display": null,
      "flex": null,
      "flex_flow": null,
      "grid_area": null,
      "grid_auto_columns": null,
      "grid_auto_flow": null,
      "grid_auto_rows": null,
      "grid_column": null,
      "grid_gap": null,
      "grid_row": null,
      "grid_template_areas": null,
      "grid_template_columns": null,
      "grid_template_rows": null,
      "height": null,
      "justify_content": null,
      "justify_items": null,
      "left": null,
      "margin": null,
      "max_height": null,
      "max_width": null,
      "min_height": null,
      "min_width": null,
      "object_fit": null,
      "object_position": null,
      "order": null,
      "overflow": null,
      "overflow_x": null,
      "overflow_y": null,
      "padding": null,
      "right": null,
      "top": null,
      "visibility": null,
      "width": null
     }
    },
    "b2fc1a0ceb1145bf8143efbf094f7d13": {
     "model_module": "@jupyter-widgets/controls",
     "model_name": "DescriptionStyleModel",
     "model_module_version": "1.5.0",
     "state": {
      "_model_module": "@jupyter-widgets/controls",
      "_model_module_version": "1.5.0",
      "_model_name": "DescriptionStyleModel",
      "_view_count": null,
      "_view_module": "@jupyter-widgets/base",
      "_view_module_version": "1.2.0",
      "_view_name": "StyleView",
      "description_width": ""
     }
    },
    "7304efc542254232b0f97e7cc813460f": {
     "model_module": "@jupyter-widgets/controls",
     "model_name": "HBoxModel",
     "model_module_version": "1.5.0",
     "state": {
      "_dom_classes": [],
      "_model_module": "@jupyter-widgets/controls",
      "_model_module_version": "1.5.0",
      "_model_name": "HBoxModel",
      "_view_count": null,
      "_view_module": "@jupyter-widgets/controls",
      "_view_module_version": "1.5.0",
      "_view_name": "HBoxView",
      "box_style": "",
      "children": [
       "IPY_MODEL_1875b69cca554522a0c7481434d8b70b",
       "IPY_MODEL_bf6629f508df4c3e858cdde53b705015",
       "IPY_MODEL_1087b43c03e44f938ca3cad7c4bfdf4e"
      ],
      "layout": "IPY_MODEL_1c60d3f666404c12bf5ef8a12584e444"
     }
    },
    "1875b69cca554522a0c7481434d8b70b": {
     "model_module": "@jupyter-widgets/controls",
     "model_name": "HTMLModel",
     "model_module_version": "1.5.0",
     "state": {
      "_dom_classes": [],
      "_model_module": "@jupyter-widgets/controls",
      "_model_module_version": "1.5.0",
      "_model_name": "HTMLModel",
      "_view_count": null,
      "_view_module": "@jupyter-widgets/controls",
      "_view_module_version": "1.5.0",
      "_view_name": "HTMLView",
      "description": "",
      "description_tooltip": null,
      "layout": "IPY_MODEL_2df779b3495b4b00afbd639a31f49ad6",
      "placeholder": "​",
      "style": "IPY_MODEL_0b21703066ab47f896da2d76c504cc91",
      "value": "100%"
     }
    },
    "bf6629f508df4c3e858cdde53b705015": {
     "model_module": "@jupyter-widgets/controls",
     "model_name": "FloatProgressModel",
     "model_module_version": "1.5.0",
     "state": {
      "_dom_classes": [],
      "_model_module": "@jupyter-widgets/controls",
      "_model_module_version": "1.5.0",
      "_model_name": "FloatProgressModel",
      "_view_count": null,
      "_view_module": "@jupyter-widgets/controls",
      "_view_module_version": "1.5.0",
      "_view_name": "ProgressView",
      "bar_style": "success",
      "description": "",
      "description_tooltip": null,
      "layout": "IPY_MODEL_fc3ba7d8bb554518813c5f1ce88cdf52",
      "max": 100,
      "min": 0,
      "orientation": "horizontal",
      "style": "IPY_MODEL_98a512f953b24152aaee1c85c9714ac0",
      "value": 100
     }
    },
    "1087b43c03e44f938ca3cad7c4bfdf4e": {
     "model_module": "@jupyter-widgets/controls",
     "model_name": "HTMLModel",
     "model_module_version": "1.5.0",
     "state": {
      "_dom_classes": [],
      "_model_module": "@jupyter-widgets/controls",
      "_model_module_version": "1.5.0",
      "_model_name": "HTMLModel",
      "_view_count": null,
      "_view_module": "@jupyter-widgets/controls",
      "_view_module_version": "1.5.0",
      "_view_name": "HTMLView",
      "description": "",
      "description_tooltip": null,
      "layout": "IPY_MODEL_7bc4916ee74044db97efec1bcb6363f6",
      "placeholder": "​",
      "style": "IPY_MODEL_76c3e816ad02458ba6e97986e2540ed6",
      "value": " 100/100 [00:01&lt;00:00, 59.48it/s]"
     }
    },
    "1c60d3f666404c12bf5ef8a12584e444": {
     "model_module": "@jupyter-widgets/base",
     "model_name": "LayoutModel",
     "model_module_version": "1.2.0",
     "state": {
      "_model_module": "@jupyter-widgets/base",
      "_model_module_version": "1.2.0",
      "_model_name": "LayoutModel",
      "_view_count": null,
      "_view_module": "@jupyter-widgets/base",
      "_view_module_version": "1.2.0",
      "_view_name": "LayoutView",
      "align_content": null,
      "align_items": null,
      "align_self": null,
      "border": null,
      "bottom": null,
      "display": null,
      "flex": null,
      "flex_flow": null,
      "grid_area": null,
      "grid_auto_columns": null,
      "grid_auto_flow": null,
      "grid_auto_rows": null,
      "grid_column": null,
      "grid_gap": null,
      "grid_row": null,
      "grid_template_areas": null,
      "grid_template_columns": null,
      "grid_template_rows": null,
      "height": null,
      "justify_content": null,
      "justify_items": null,
      "left": null,
      "margin": null,
      "max_height": null,
      "max_width": null,
      "min_height": null,
      "min_width": null,
      "object_fit": null,
      "object_position": null,
      "order": null,
      "overflow": null,
      "overflow_x": null,
      "overflow_y": null,
      "padding": null,
      "right": null,
      "top": null,
      "visibility": null,
      "width": null
     }
    },
    "2df779b3495b4b00afbd639a31f49ad6": {
     "model_module": "@jupyter-widgets/base",
     "model_name": "LayoutModel",
     "model_module_version": "1.2.0",
     "state": {
      "_model_module": "@jupyter-widgets/base",
      "_model_module_version": "1.2.0",
      "_model_name": "LayoutModel",
      "_view_count": null,
      "_view_module": "@jupyter-widgets/base",
      "_view_module_version": "1.2.0",
      "_view_name": "LayoutView",
      "align_content": null,
      "align_items": null,
      "align_self": null,
      "border": null,
      "bottom": null,
      "display": null,
      "flex": null,
      "flex_flow": null,
      "grid_area": null,
      "grid_auto_columns": null,
      "grid_auto_flow": null,
      "grid_auto_rows": null,
      "grid_column": null,
      "grid_gap": null,
      "grid_row": null,
      "grid_template_areas": null,
      "grid_template_columns": null,
      "grid_template_rows": null,
      "height": null,
      "justify_content": null,
      "justify_items": null,
      "left": null,
      "margin": null,
      "max_height": null,
      "max_width": null,
      "min_height": null,
      "min_width": null,
      "object_fit": null,
      "object_position": null,
      "order": null,
      "overflow": null,
      "overflow_x": null,
      "overflow_y": null,
      "padding": null,
      "right": null,
      "top": null,
      "visibility": null,
      "width": null
     }
    },
    "0b21703066ab47f896da2d76c504cc91": {
     "model_module": "@jupyter-widgets/controls",
     "model_name": "DescriptionStyleModel",
     "model_module_version": "1.5.0",
     "state": {
      "_model_module": "@jupyter-widgets/controls",
      "_model_module_version": "1.5.0",
      "_model_name": "DescriptionStyleModel",
      "_view_count": null,
      "_view_module": "@jupyter-widgets/base",
      "_view_module_version": "1.2.0",
      "_view_name": "StyleView",
      "description_width": ""
     }
    },
    "fc3ba7d8bb554518813c5f1ce88cdf52": {
     "model_module": "@jupyter-widgets/base",
     "model_name": "LayoutModel",
     "model_module_version": "1.2.0",
     "state": {
      "_model_module": "@jupyter-widgets/base",
      "_model_module_version": "1.2.0",
      "_model_name": "LayoutModel",
      "_view_count": null,
      "_view_module": "@jupyter-widgets/base",
      "_view_module_version": "1.2.0",
      "_view_name": "LayoutView",
      "align_content": null,
      "align_items": null,
      "align_self": null,
      "border": null,
      "bottom": null,
      "display": null,
      "flex": null,
      "flex_flow": null,
      "grid_area": null,
      "grid_auto_columns": null,
      "grid_auto_flow": null,
      "grid_auto_rows": null,
      "grid_column": null,
      "grid_gap": null,
      "grid_row": null,
      "grid_template_areas": null,
      "grid_template_columns": null,
      "grid_template_rows": null,
      "height": null,
      "justify_content": null,
      "justify_items": null,
      "left": null,
      "margin": null,
      "max_height": null,
      "max_width": null,
      "min_height": null,
      "min_width": null,
      "object_fit": null,
      "object_position": null,
      "order": null,
      "overflow": null,
      "overflow_x": null,
      "overflow_y": null,
      "padding": null,
      "right": null,
      "top": null,
      "visibility": null,
      "width": null
     }
    },
    "98a512f953b24152aaee1c85c9714ac0": {
     "model_module": "@jupyter-widgets/controls",
     "model_name": "ProgressStyleModel",
     "model_module_version": "1.5.0",
     "state": {
      "_model_module": "@jupyter-widgets/controls",
      "_model_module_version": "1.5.0",
      "_model_name": "ProgressStyleModel",
      "_view_count": null,
      "_view_module": "@jupyter-widgets/base",
      "_view_module_version": "1.2.0",
      "_view_name": "StyleView",
      "bar_color": null,
      "description_width": ""
     }
    },
    "7bc4916ee74044db97efec1bcb6363f6": {
     "model_module": "@jupyter-widgets/base",
     "model_name": "LayoutModel",
     "model_module_version": "1.2.0",
     "state": {
      "_model_module": "@jupyter-widgets/base",
      "_model_module_version": "1.2.0",
      "_model_name": "LayoutModel",
      "_view_count": null,
      "_view_module": "@jupyter-widgets/base",
      "_view_module_version": "1.2.0",
      "_view_name": "LayoutView",
      "align_content": null,
      "align_items": null,
      "align_self": null,
      "border": null,
      "bottom": null,
      "display": null,
      "flex": null,
      "flex_flow": null,
      "grid_area": null,
      "grid_auto_columns": null,
      "grid_auto_flow": null,
      "grid_auto_rows": null,
      "grid_column": null,
      "grid_gap": null,
      "grid_row": null,
      "grid_template_areas": null,
      "grid_template_columns": null,
      "grid_template_rows": null,
      "height": null,
      "justify_content": null,
      "justify_items": null,
      "left": null,
      "margin": null,
      "max_height": null,
      "max_width": null,
      "min_height": null,
      "min_width": null,
      "object_fit": null,
      "object_position": null,
      "order": null,
      "overflow": null,
      "overflow_x": null,
      "overflow_y": null,
      "padding": null,
      "right": null,
      "top": null,
      "visibility": null,
      "width": null
     }
    },
    "76c3e816ad02458ba6e97986e2540ed6": {
     "model_module": "@jupyter-widgets/controls",
     "model_name": "DescriptionStyleModel",
     "model_module_version": "1.5.0",
     "state": {
      "_model_module": "@jupyter-widgets/controls",
      "_model_module_version": "1.5.0",
      "_model_name": "DescriptionStyleModel",
      "_view_count": null,
      "_view_module": "@jupyter-widgets/base",
      "_view_module_version": "1.2.0",
      "_view_name": "StyleView",
      "description_width": ""
     }
    },
    "f24208d6f7cf4dad9b1ab5f012a754e4": {
     "model_module": "@jupyter-widgets/controls",
     "model_name": "HBoxModel",
     "model_module_version": "1.5.0",
     "state": {
      "_dom_classes": [],
      "_model_module": "@jupyter-widgets/controls",
      "_model_module_version": "1.5.0",
      "_model_name": "HBoxModel",
      "_view_count": null,
      "_view_module": "@jupyter-widgets/controls",
      "_view_module_version": "1.5.0",
      "_view_name": "HBoxView",
      "box_style": "",
      "children": [
       "IPY_MODEL_855071ae75684c7faf28e85c4ca7b0e9",
       "IPY_MODEL_9f96d3778a1849e4898e079f1bd9926e",
       "IPY_MODEL_c4cf59cc1fdc43debc3a7f573484d12e"
      ],
      "layout": "IPY_MODEL_5fb7076bbef54dacbb05b65928e102bb"
     }
    },
    "855071ae75684c7faf28e85c4ca7b0e9": {
     "model_module": "@jupyter-widgets/controls",
     "model_name": "HTMLModel",
     "model_module_version": "1.5.0",
     "state": {
      "_dom_classes": [],
      "_model_module": "@jupyter-widgets/controls",
      "_model_module_version": "1.5.0",
      "_model_name": "HTMLModel",
      "_view_count": null,
      "_view_module": "@jupyter-widgets/controls",
      "_view_module_version": "1.5.0",
      "_view_name": "HTMLView",
      "description": "",
      "description_tooltip": null,
      "layout": "IPY_MODEL_f35f95555c0d40a5b5d63c3a946f2182",
      "placeholder": "​",
      "style": "IPY_MODEL_38e09c2cc030430bb8347caa7c30ab06",
      "value": "100%"
     }
    },
    "9f96d3778a1849e4898e079f1bd9926e": {
     "model_module": "@jupyter-widgets/controls",
     "model_name": "FloatProgressModel",
     "model_module_version": "1.5.0",
     "state": {
      "_dom_classes": [],
      "_model_module": "@jupyter-widgets/controls",
      "_model_module_version": "1.5.0",
      "_model_name": "FloatProgressModel",
      "_view_count": null,
      "_view_module": "@jupyter-widgets/controls",
      "_view_module_version": "1.5.0",
      "_view_name": "ProgressView",
      "bar_style": "success",
      "description": "",
      "description_tooltip": null,
      "layout": "IPY_MODEL_9fb6d14bca1c480d8ed7cc30ccfce837",
      "max": 100,
      "min": 0,
      "orientation": "horizontal",
      "style": "IPY_MODEL_52bc665b2e8c4e40a28f12fec5f8f0b3",
      "value": 100
     }
    },
    "c4cf59cc1fdc43debc3a7f573484d12e": {
     "model_module": "@jupyter-widgets/controls",
     "model_name": "HTMLModel",
     "model_module_version": "1.5.0",
     "state": {
      "_dom_classes": [],
      "_model_module": "@jupyter-widgets/controls",
      "_model_module_version": "1.5.0",
      "_model_name": "HTMLModel",
      "_view_count": null,
      "_view_module": "@jupyter-widgets/controls",
      "_view_module_version": "1.5.0",
      "_view_name": "HTMLView",
      "description": "",
      "description_tooltip": null,
      "layout": "IPY_MODEL_d61d8ab156104f4899921e75e7ba2cff",
      "placeholder": "​",
      "style": "IPY_MODEL_c755dc2599494f10b261fb7fa040ab9c",
      "value": " 100/100 [00:03&lt;00:00, 18.49it/s]"
     }
    },
    "5fb7076bbef54dacbb05b65928e102bb": {
     "model_module": "@jupyter-widgets/base",
     "model_name": "LayoutModel",
     "model_module_version": "1.2.0",
     "state": {
      "_model_module": "@jupyter-widgets/base",
      "_model_module_version": "1.2.0",
      "_model_name": "LayoutModel",
      "_view_count": null,
      "_view_module": "@jupyter-widgets/base",
      "_view_module_version": "1.2.0",
      "_view_name": "LayoutView",
      "align_content": null,
      "align_items": null,
      "align_self": null,
      "border": null,
      "bottom": null,
      "display": null,
      "flex": null,
      "flex_flow": null,
      "grid_area": null,
      "grid_auto_columns": null,
      "grid_auto_flow": null,
      "grid_auto_rows": null,
      "grid_column": null,
      "grid_gap": null,
      "grid_row": null,
      "grid_template_areas": null,
      "grid_template_columns": null,
      "grid_template_rows": null,
      "height": null,
      "justify_content": null,
      "justify_items": null,
      "left": null,
      "margin": null,
      "max_height": null,
      "max_width": null,
      "min_height": null,
      "min_width": null,
      "object_fit": null,
      "object_position": null,
      "order": null,
      "overflow": null,
      "overflow_x": null,
      "overflow_y": null,
      "padding": null,
      "right": null,
      "top": null,
      "visibility": null,
      "width": null
     }
    },
    "f35f95555c0d40a5b5d63c3a946f2182": {
     "model_module": "@jupyter-widgets/base",
     "model_name": "LayoutModel",
     "model_module_version": "1.2.0",
     "state": {
      "_model_module": "@jupyter-widgets/base",
      "_model_module_version": "1.2.0",
      "_model_name": "LayoutModel",
      "_view_count": null,
      "_view_module": "@jupyter-widgets/base",
      "_view_module_version": "1.2.0",
      "_view_name": "LayoutView",
      "align_content": null,
      "align_items": null,
      "align_self": null,
      "border": null,
      "bottom": null,
      "display": null,
      "flex": null,
      "flex_flow": null,
      "grid_area": null,
      "grid_auto_columns": null,
      "grid_auto_flow": null,
      "grid_auto_rows": null,
      "grid_column": null,
      "grid_gap": null,
      "grid_row": null,
      "grid_template_areas": null,
      "grid_template_columns": null,
      "grid_template_rows": null,
      "height": null,
      "justify_content": null,
      "justify_items": null,
      "left": null,
      "margin": null,
      "max_height": null,
      "max_width": null,
      "min_height": null,
      "min_width": null,
      "object_fit": null,
      "object_position": null,
      "order": null,
      "overflow": null,
      "overflow_x": null,
      "overflow_y": null,
      "padding": null,
      "right": null,
      "top": null,
      "visibility": null,
      "width": null
     }
    },
    "38e09c2cc030430bb8347caa7c30ab06": {
     "model_module": "@jupyter-widgets/controls",
     "model_name": "DescriptionStyleModel",
     "model_module_version": "1.5.0",
     "state": {
      "_model_module": "@jupyter-widgets/controls",
      "_model_module_version": "1.5.0",
      "_model_name": "DescriptionStyleModel",
      "_view_count": null,
      "_view_module": "@jupyter-widgets/base",
      "_view_module_version": "1.2.0",
      "_view_name": "StyleView",
      "description_width": ""
     }
    },
    "9fb6d14bca1c480d8ed7cc30ccfce837": {
     "model_module": "@jupyter-widgets/base",
     "model_name": "LayoutModel",
     "model_module_version": "1.2.0",
     "state": {
      "_model_module": "@jupyter-widgets/base",
      "_model_module_version": "1.2.0",
      "_model_name": "LayoutModel",
      "_view_count": null,
      "_view_module": "@jupyter-widgets/base",
      "_view_module_version": "1.2.0",
      "_view_name": "LayoutView",
      "align_content": null,
      "align_items": null,
      "align_self": null,
      "border": null,
      "bottom": null,
      "display": null,
      "flex": null,
      "flex_flow": null,
      "grid_area": null,
      "grid_auto_columns": null,
      "grid_auto_flow": null,
      "grid_auto_rows": null,
      "grid_column": null,
      "grid_gap": null,
      "grid_row": null,
      "grid_template_areas": null,
      "grid_template_columns": null,
      "grid_template_rows": null,
      "height": null,
      "justify_content": null,
      "justify_items": null,
      "left": null,
      "margin": null,
      "max_height": null,
      "max_width": null,
      "min_height": null,
      "min_width": null,
      "object_fit": null,
      "object_position": null,
      "order": null,
      "overflow": null,
      "overflow_x": null,
      "overflow_y": null,
      "padding": null,
      "right": null,
      "top": null,
      "visibility": null,
      "width": null
     }
    },
    "52bc665b2e8c4e40a28f12fec5f8f0b3": {
     "model_module": "@jupyter-widgets/controls",
     "model_name": "ProgressStyleModel",
     "model_module_version": "1.5.0",
     "state": {
      "_model_module": "@jupyter-widgets/controls",
      "_model_module_version": "1.5.0",
      "_model_name": "ProgressStyleModel",
      "_view_count": null,
      "_view_module": "@jupyter-widgets/base",
      "_view_module_version": "1.2.0",
      "_view_name": "StyleView",
      "bar_color": null,
      "description_width": ""
     }
    },
    "d61d8ab156104f4899921e75e7ba2cff": {
     "model_module": "@jupyter-widgets/base",
     "model_name": "LayoutModel",
     "model_module_version": "1.2.0",
     "state": {
      "_model_module": "@jupyter-widgets/base",
      "_model_module_version": "1.2.0",
      "_model_name": "LayoutModel",
      "_view_count": null,
      "_view_module": "@jupyter-widgets/base",
      "_view_module_version": "1.2.0",
      "_view_name": "LayoutView",
      "align_content": null,
      "align_items": null,
      "align_self": null,
      "border": null,
      "bottom": null,
      "display": null,
      "flex": null,
      "flex_flow": null,
      "grid_area": null,
      "grid_auto_columns": null,
      "grid_auto_flow": null,
      "grid_auto_rows": null,
      "grid_column": null,
      "grid_gap": null,
      "grid_row": null,
      "grid_template_areas": null,
      "grid_template_columns": null,
      "grid_template_rows": null,
      "height": null,
      "justify_content": null,
      "justify_items": null,
      "left": null,
      "margin": null,
      "max_height": null,
      "max_width": null,
      "min_height": null,
      "min_width": null,
      "object_fit": null,
      "object_position": null,
      "order": null,
      "overflow": null,
      "overflow_x": null,
      "overflow_y": null,
      "padding": null,
      "right": null,
      "top": null,
      "visibility": null,
      "width": null
     }
    },
    "c755dc2599494f10b261fb7fa040ab9c": {
     "model_module": "@jupyter-widgets/controls",
     "model_name": "DescriptionStyleModel",
     "model_module_version": "1.5.0",
     "state": {
      "_model_module": "@jupyter-widgets/controls",
      "_model_module_version": "1.5.0",
      "_model_name": "DescriptionStyleModel",
      "_view_count": null,
      "_view_module": "@jupyter-widgets/base",
      "_view_module_version": "1.2.0",
      "_view_name": "StyleView",
      "description_width": ""
     }
    },
    "edaa139d0a2c4b59a020038cb9bf1824": {
     "model_module": "@jupyter-widgets/controls",
     "model_name": "HBoxModel",
     "model_module_version": "1.5.0",
     "state": {
      "_dom_classes": [],
      "_model_module": "@jupyter-widgets/controls",
      "_model_module_version": "1.5.0",
      "_model_name": "HBoxModel",
      "_view_count": null,
      "_view_module": "@jupyter-widgets/controls",
      "_view_module_version": "1.5.0",
      "_view_name": "HBoxView",
      "box_style": "",
      "children": [
       "IPY_MODEL_0bcb760253f5484b86a111b42a0bc055",
       "IPY_MODEL_8b072c5f9ff7495db203b17d7ce691fa",
       "IPY_MODEL_b2c6f6fb9fdd4a20bf56223faf42d160"
      ],
      "layout": "IPY_MODEL_a0fab488068649e88e751ad6be89e1ac"
     }
    },
    "0bcb760253f5484b86a111b42a0bc055": {
     "model_module": "@jupyter-widgets/controls",
     "model_name": "HTMLModel",
     "model_module_version": "1.5.0",
     "state": {
      "_dom_classes": [],
      "_model_module": "@jupyter-widgets/controls",
      "_model_module_version": "1.5.0",
      "_model_name": "HTMLModel",
      "_view_count": null,
      "_view_module": "@jupyter-widgets/controls",
      "_view_module_version": "1.5.0",
      "_view_name": "HTMLView",
      "description": "",
      "description_tooltip": null,
      "layout": "IPY_MODEL_47416780b74e4b0ab4afc2088b997001",
      "placeholder": "​",
      "style": "IPY_MODEL_d16a588f50f94880a4f62a8bb730d06e",
      "value": "100%"
     }
    },
    "8b072c5f9ff7495db203b17d7ce691fa": {
     "model_module": "@jupyter-widgets/controls",
     "model_name": "FloatProgressModel",
     "model_module_version": "1.5.0",
     "state": {
      "_dom_classes": [],
      "_model_module": "@jupyter-widgets/controls",
      "_model_module_version": "1.5.0",
      "_model_name": "FloatProgressModel",
      "_view_count": null,
      "_view_module": "@jupyter-widgets/controls",
      "_view_module_version": "1.5.0",
      "_view_name": "ProgressView",
      "bar_style": "success",
      "description": "",
      "description_tooltip": null,
      "layout": "IPY_MODEL_564e1a0df0734a608aed11a0c2164329",
      "max": 100,
      "min": 0,
      "orientation": "horizontal",
      "style": "IPY_MODEL_6d8594ced10a432a806af105c0b84cba",
      "value": 100
     }
    },
    "b2c6f6fb9fdd4a20bf56223faf42d160": {
     "model_module": "@jupyter-widgets/controls",
     "model_name": "HTMLModel",
     "model_module_version": "1.5.0",
     "state": {
      "_dom_classes": [],
      "_model_module": "@jupyter-widgets/controls",
      "_model_module_version": "1.5.0",
      "_model_name": "HTMLModel",
      "_view_count": null,
      "_view_module": "@jupyter-widgets/controls",
      "_view_module_version": "1.5.0",
      "_view_name": "HTMLView",
      "description": "",
      "description_tooltip": null,
      "layout": "IPY_MODEL_17f737e401d44f33809b79faef54c014",
      "placeholder": "​",
      "style": "IPY_MODEL_405c6bfec9b44813b6deed4888d8988a",
      "value": " 100/100 [00:02&lt;00:00, 37.51it/s]"
     }
    },
    "a0fab488068649e88e751ad6be89e1ac": {
     "model_module": "@jupyter-widgets/base",
     "model_name": "LayoutModel",
     "model_module_version": "1.2.0",
     "state": {
      "_model_module": "@jupyter-widgets/base",
      "_model_module_version": "1.2.0",
      "_model_name": "LayoutModel",
      "_view_count": null,
      "_view_module": "@jupyter-widgets/base",
      "_view_module_version": "1.2.0",
      "_view_name": "LayoutView",
      "align_content": null,
      "align_items": null,
      "align_self": null,
      "border": null,
      "bottom": null,
      "display": null,
      "flex": null,
      "flex_flow": null,
      "grid_area": null,
      "grid_auto_columns": null,
      "grid_auto_flow": null,
      "grid_auto_rows": null,
      "grid_column": null,
      "grid_gap": null,
      "grid_row": null,
      "grid_template_areas": null,
      "grid_template_columns": null,
      "grid_template_rows": null,
      "height": null,
      "justify_content": null,
      "justify_items": null,
      "left": null,
      "margin": null,
      "max_height": null,
      "max_width": null,
      "min_height": null,
      "min_width": null,
      "object_fit": null,
      "object_position": null,
      "order": null,
      "overflow": null,
      "overflow_x": null,
      "overflow_y": null,
      "padding": null,
      "right": null,
      "top": null,
      "visibility": null,
      "width": null
     }
    },
    "47416780b74e4b0ab4afc2088b997001": {
     "model_module": "@jupyter-widgets/base",
     "model_name": "LayoutModel",
     "model_module_version": "1.2.0",
     "state": {
      "_model_module": "@jupyter-widgets/base",
      "_model_module_version": "1.2.0",
      "_model_name": "LayoutModel",
      "_view_count": null,
      "_view_module": "@jupyter-widgets/base",
      "_view_module_version": "1.2.0",
      "_view_name": "LayoutView",
      "align_content": null,
      "align_items": null,
      "align_self": null,
      "border": null,
      "bottom": null,
      "display": null,
      "flex": null,
      "flex_flow": null,
      "grid_area": null,
      "grid_auto_columns": null,
      "grid_auto_flow": null,
      "grid_auto_rows": null,
      "grid_column": null,
      "grid_gap": null,
      "grid_row": null,
      "grid_template_areas": null,
      "grid_template_columns": null,
      "grid_template_rows": null,
      "height": null,
      "justify_content": null,
      "justify_items": null,
      "left": null,
      "margin": null,
      "max_height": null,
      "max_width": null,
      "min_height": null,
      "min_width": null,
      "object_fit": null,
      "object_position": null,
      "order": null,
      "overflow": null,
      "overflow_x": null,
      "overflow_y": null,
      "padding": null,
      "right": null,
      "top": null,
      "visibility": null,
      "width": null
     }
    },
    "d16a588f50f94880a4f62a8bb730d06e": {
     "model_module": "@jupyter-widgets/controls",
     "model_name": "DescriptionStyleModel",
     "model_module_version": "1.5.0",
     "state": {
      "_model_module": "@jupyter-widgets/controls",
      "_model_module_version": "1.5.0",
      "_model_name": "DescriptionStyleModel",
      "_view_count": null,
      "_view_module": "@jupyter-widgets/base",
      "_view_module_version": "1.2.0",
      "_view_name": "StyleView",
      "description_width": ""
     }
    },
    "564e1a0df0734a608aed11a0c2164329": {
     "model_module": "@jupyter-widgets/base",
     "model_name": "LayoutModel",
     "model_module_version": "1.2.0",
     "state": {
      "_model_module": "@jupyter-widgets/base",
      "_model_module_version": "1.2.0",
      "_model_name": "LayoutModel",
      "_view_count": null,
      "_view_module": "@jupyter-widgets/base",
      "_view_module_version": "1.2.0",
      "_view_name": "LayoutView",
      "align_content": null,
      "align_items": null,
      "align_self": null,
      "border": null,
      "bottom": null,
      "display": null,
      "flex": null,
      "flex_flow": null,
      "grid_area": null,
      "grid_auto_columns": null,
      "grid_auto_flow": null,
      "grid_auto_rows": null,
      "grid_column": null,
      "grid_gap": null,
      "grid_row": null,
      "grid_template_areas": null,
      "grid_template_columns": null,
      "grid_template_rows": null,
      "height": null,
      "justify_content": null,
      "justify_items": null,
      "left": null,
      "margin": null,
      "max_height": null,
      "max_width": null,
      "min_height": null,
      "min_width": null,
      "object_fit": null,
      "object_position": null,
      "order": null,
      "overflow": null,
      "overflow_x": null,
      "overflow_y": null,
      "padding": null,
      "right": null,
      "top": null,
      "visibility": null,
      "width": null
     }
    },
    "6d8594ced10a432a806af105c0b84cba": {
     "model_module": "@jupyter-widgets/controls",
     "model_name": "ProgressStyleModel",
     "model_module_version": "1.5.0",
     "state": {
      "_model_module": "@jupyter-widgets/controls",
      "_model_module_version": "1.5.0",
      "_model_name": "ProgressStyleModel",
      "_view_count": null,
      "_view_module": "@jupyter-widgets/base",
      "_view_module_version": "1.2.0",
      "_view_name": "StyleView",
      "bar_color": null,
      "description_width": ""
     }
    },
    "17f737e401d44f33809b79faef54c014": {
     "model_module": "@jupyter-widgets/base",
     "model_name": "LayoutModel",
     "model_module_version": "1.2.0",
     "state": {
      "_model_module": "@jupyter-widgets/base",
      "_model_module_version": "1.2.0",
      "_model_name": "LayoutModel",
      "_view_count": null,
      "_view_module": "@jupyter-widgets/base",
      "_view_module_version": "1.2.0",
      "_view_name": "LayoutView",
      "align_content": null,
      "align_items": null,
      "align_self": null,
      "border": null,
      "bottom": null,
      "display": null,
      "flex": null,
      "flex_flow": null,
      "grid_area": null,
      "grid_auto_columns": null,
      "grid_auto_flow": null,
      "grid_auto_rows": null,
      "grid_column": null,
      "grid_gap": null,
      "grid_row": null,
      "grid_template_areas": null,
      "grid_template_columns": null,
      "grid_template_rows": null,
      "height": null,
      "justify_content": null,
      "justify_items": null,
      "left": null,
      "margin": null,
      "max_height": null,
      "max_width": null,
      "min_height": null,
      "min_width": null,
      "object_fit": null,
      "object_position": null,
      "order": null,
      "overflow": null,
      "overflow_x": null,
      "overflow_y": null,
      "padding": null,
      "right": null,
      "top": null,
      "visibility": null,
      "width": null
     }
    },
    "405c6bfec9b44813b6deed4888d8988a": {
     "model_module": "@jupyter-widgets/controls",
     "model_name": "DescriptionStyleModel",
     "model_module_version": "1.5.0",
     "state": {
      "_model_module": "@jupyter-widgets/controls",
      "_model_module_version": "1.5.0",
      "_model_name": "DescriptionStyleModel",
      "_view_count": null,
      "_view_module": "@jupyter-widgets/base",
      "_view_module_version": "1.2.0",
      "_view_name": "StyleView",
      "description_width": ""
     }
    },
    "34ceb0a383144849b510d598fceac702": {
     "model_module": "@jupyter-widgets/controls",
     "model_name": "HBoxModel",
     "model_module_version": "1.5.0",
     "state": {
      "_dom_classes": [],
      "_model_module": "@jupyter-widgets/controls",
      "_model_module_version": "1.5.0",
      "_model_name": "HBoxModel",
      "_view_count": null,
      "_view_module": "@jupyter-widgets/controls",
      "_view_module_version": "1.5.0",
      "_view_name": "HBoxView",
      "box_style": "",
      "children": [
       "IPY_MODEL_a0646e5c91a241838c4849ec472e37e3",
       "IPY_MODEL_8c015e388cfc4eeaaef6a4594e04dd0d",
       "IPY_MODEL_3baf4529cd0c4f399aaef823fd8120ae"
      ],
      "layout": "IPY_MODEL_028cffe6199a47019da38ed668367f49"
     }
    },
    "a0646e5c91a241838c4849ec472e37e3": {
     "model_module": "@jupyter-widgets/controls",
     "model_name": "HTMLModel",
     "model_module_version": "1.5.0",
     "state": {
      "_dom_classes": [],
      "_model_module": "@jupyter-widgets/controls",
      "_model_module_version": "1.5.0",
      "_model_name": "HTMLModel",
      "_view_count": null,
      "_view_module": "@jupyter-widgets/controls",
      "_view_module_version": "1.5.0",
      "_view_name": "HTMLView",
      "description": "",
      "description_tooltip": null,
      "layout": "IPY_MODEL_9bea093fabb24a68bbd4941b82d78730",
      "placeholder": "​",
      "style": "IPY_MODEL_2504d02a1b554566892684459893610d",
      "value": "100%"
     }
    },
    "8c015e388cfc4eeaaef6a4594e04dd0d": {
     "model_module": "@jupyter-widgets/controls",
     "model_name": "FloatProgressModel",
     "model_module_version": "1.5.0",
     "state": {
      "_dom_classes": [],
      "_model_module": "@jupyter-widgets/controls",
      "_model_module_version": "1.5.0",
      "_model_name": "FloatProgressModel",
      "_view_count": null,
      "_view_module": "@jupyter-widgets/controls",
      "_view_module_version": "1.5.0",
      "_view_name": "ProgressView",
      "bar_style": "success",
      "description": "",
      "description_tooltip": null,
      "layout": "IPY_MODEL_e21b8d52c2a646eda9189aba0b3a4a60",
      "max": 100,
      "min": 0,
      "orientation": "horizontal",
      "style": "IPY_MODEL_ac8c251c3e244b96a11e69ec19034227",
      "value": 100
     }
    },
    "3baf4529cd0c4f399aaef823fd8120ae": {
     "model_module": "@jupyter-widgets/controls",
     "model_name": "HTMLModel",
     "model_module_version": "1.5.0",
     "state": {
      "_dom_classes": [],
      "_model_module": "@jupyter-widgets/controls",
      "_model_module_version": "1.5.0",
      "_model_name": "HTMLModel",
      "_view_count": null,
      "_view_module": "@jupyter-widgets/controls",
      "_view_module_version": "1.5.0",
      "_view_name": "HTMLView",
      "description": "",
      "description_tooltip": null,
      "layout": "IPY_MODEL_e75ad4b9c1244d7384a86a2d19c811ea",
      "placeholder": "​",
      "style": "IPY_MODEL_7eecb2f6be35435fabb71349be3388a2",
      "value": " 100/100 [00:04&lt;00:00, 13.81it/s]"
     }
    },
    "028cffe6199a47019da38ed668367f49": {
     "model_module": "@jupyter-widgets/base",
     "model_name": "LayoutModel",
     "model_module_version": "1.2.0",
     "state": {
      "_model_module": "@jupyter-widgets/base",
      "_model_module_version": "1.2.0",
      "_model_name": "LayoutModel",
      "_view_count": null,
      "_view_module": "@jupyter-widgets/base",
      "_view_module_version": "1.2.0",
      "_view_name": "LayoutView",
      "align_content": null,
      "align_items": null,
      "align_self": null,
      "border": null,
      "bottom": null,
      "display": null,
      "flex": null,
      "flex_flow": null,
      "grid_area": null,
      "grid_auto_columns": null,
      "grid_auto_flow": null,
      "grid_auto_rows": null,
      "grid_column": null,
      "grid_gap": null,
      "grid_row": null,
      "grid_template_areas": null,
      "grid_template_columns": null,
      "grid_template_rows": null,
      "height": null,
      "justify_content": null,
      "justify_items": null,
      "left": null,
      "margin": null,
      "max_height": null,
      "max_width": null,
      "min_height": null,
      "min_width": null,
      "object_fit": null,
      "object_position": null,
      "order": null,
      "overflow": null,
      "overflow_x": null,
      "overflow_y": null,
      "padding": null,
      "right": null,
      "top": null,
      "visibility": null,
      "width": null
     }
    },
    "9bea093fabb24a68bbd4941b82d78730": {
     "model_module": "@jupyter-widgets/base",
     "model_name": "LayoutModel",
     "model_module_version": "1.2.0",
     "state": {
      "_model_module": "@jupyter-widgets/base",
      "_model_module_version": "1.2.0",
      "_model_name": "LayoutModel",
      "_view_count": null,
      "_view_module": "@jupyter-widgets/base",
      "_view_module_version": "1.2.0",
      "_view_name": "LayoutView",
      "align_content": null,
      "align_items": null,
      "align_self": null,
      "border": null,
      "bottom": null,
      "display": null,
      "flex": null,
      "flex_flow": null,
      "grid_area": null,
      "grid_auto_columns": null,
      "grid_auto_flow": null,
      "grid_auto_rows": null,
      "grid_column": null,
      "grid_gap": null,
      "grid_row": null,
      "grid_template_areas": null,
      "grid_template_columns": null,
      "grid_template_rows": null,
      "height": null,
      "justify_content": null,
      "justify_items": null,
      "left": null,
      "margin": null,
      "max_height": null,
      "max_width": null,
      "min_height": null,
      "min_width": null,
      "object_fit": null,
      "object_position": null,
      "order": null,
      "overflow": null,
      "overflow_x": null,
      "overflow_y": null,
      "padding": null,
      "right": null,
      "top": null,
      "visibility": null,
      "width": null
     }
    },
    "2504d02a1b554566892684459893610d": {
     "model_module": "@jupyter-widgets/controls",
     "model_name": "DescriptionStyleModel",
     "model_module_version": "1.5.0",
     "state": {
      "_model_module": "@jupyter-widgets/controls",
      "_model_module_version": "1.5.0",
      "_model_name": "DescriptionStyleModel",
      "_view_count": null,
      "_view_module": "@jupyter-widgets/base",
      "_view_module_version": "1.2.0",
      "_view_name": "StyleView",
      "description_width": ""
     }
    },
    "e21b8d52c2a646eda9189aba0b3a4a60": {
     "model_module": "@jupyter-widgets/base",
     "model_name": "LayoutModel",
     "model_module_version": "1.2.0",
     "state": {
      "_model_module": "@jupyter-widgets/base",
      "_model_module_version": "1.2.0",
      "_model_name": "LayoutModel",
      "_view_count": null,
      "_view_module": "@jupyter-widgets/base",
      "_view_module_version": "1.2.0",
      "_view_name": "LayoutView",
      "align_content": null,
      "align_items": null,
      "align_self": null,
      "border": null,
      "bottom": null,
      "display": null,
      "flex": null,
      "flex_flow": null,
      "grid_area": null,
      "grid_auto_columns": null,
      "grid_auto_flow": null,
      "grid_auto_rows": null,
      "grid_column": null,
      "grid_gap": null,
      "grid_row": null,
      "grid_template_areas": null,
      "grid_template_columns": null,
      "grid_template_rows": null,
      "height": null,
      "justify_content": null,
      "justify_items": null,
      "left": null,
      "margin": null,
      "max_height": null,
      "max_width": null,
      "min_height": null,
      "min_width": null,
      "object_fit": null,
      "object_position": null,
      "order": null,
      "overflow": null,
      "overflow_x": null,
      "overflow_y": null,
      "padding": null,
      "right": null,
      "top": null,
      "visibility": null,
      "width": null
     }
    },
    "ac8c251c3e244b96a11e69ec19034227": {
     "model_module": "@jupyter-widgets/controls",
     "model_name": "ProgressStyleModel",
     "model_module_version": "1.5.0",
     "state": {
      "_model_module": "@jupyter-widgets/controls",
      "_model_module_version": "1.5.0",
      "_model_name": "ProgressStyleModel",
      "_view_count": null,
      "_view_module": "@jupyter-widgets/base",
      "_view_module_version": "1.2.0",
      "_view_name": "StyleView",
      "bar_color": null,
      "description_width": ""
     }
    },
    "e75ad4b9c1244d7384a86a2d19c811ea": {
     "model_module": "@jupyter-widgets/base",
     "model_name": "LayoutModel",
     "model_module_version": "1.2.0",
     "state": {
      "_model_module": "@jupyter-widgets/base",
      "_model_module_version": "1.2.0",
      "_model_name": "LayoutModel",
      "_view_count": null,
      "_view_module": "@jupyter-widgets/base",
      "_view_module_version": "1.2.0",
      "_view_name": "LayoutView",
      "align_content": null,
      "align_items": null,
      "align_self": null,
      "border": null,
      "bottom": null,
      "display": null,
      "flex": null,
      "flex_flow": null,
      "grid_area": null,
      "grid_auto_columns": null,
      "grid_auto_flow": null,
      "grid_auto_rows": null,
      "grid_column": null,
      "grid_gap": null,
      "grid_row": null,
      "grid_template_areas": null,
      "grid_template_columns": null,
      "grid_template_rows": null,
      "height": null,
      "justify_content": null,
      "justify_items": null,
      "left": null,
      "margin": null,
      "max_height": null,
      "max_width": null,
      "min_height": null,
      "min_width": null,
      "object_fit": null,
      "object_position": null,
      "order": null,
      "overflow": null,
      "overflow_x": null,
      "overflow_y": null,
      "padding": null,
      "right": null,
      "top": null,
      "visibility": null,
      "width": null
     }
    },
    "7eecb2f6be35435fabb71349be3388a2": {
     "model_module": "@jupyter-widgets/controls",
     "model_name": "DescriptionStyleModel",
     "model_module_version": "1.5.0",
     "state": {
      "_model_module": "@jupyter-widgets/controls",
      "_model_module_version": "1.5.0",
      "_model_name": "DescriptionStyleModel",
      "_view_count": null,
      "_view_module": "@jupyter-widgets/base",
      "_view_module_version": "1.2.0",
      "_view_name": "StyleView",
      "description_width": ""
     }
    },
    "fb6ce955f6f443fa9efd0ef74079f8e1": {
     "model_module": "@jupyter-widgets/controls",
     "model_name": "HBoxModel",
     "model_module_version": "1.5.0",
     "state": {
      "_dom_classes": [],
      "_model_module": "@jupyter-widgets/controls",
      "_model_module_version": "1.5.0",
      "_model_name": "HBoxModel",
      "_view_count": null,
      "_view_module": "@jupyter-widgets/controls",
      "_view_module_version": "1.5.0",
      "_view_name": "HBoxView",
      "box_style": "",
      "children": [
       "IPY_MODEL_6f979270cf8746489e63acd3d8f3212b",
       "IPY_MODEL_ae852604f9e148a48c540d336c47c0ab",
       "IPY_MODEL_f8269d2bf5e44079a4971b37fc3bf8b3"
      ],
      "layout": "IPY_MODEL_017cf282fe6a430ab1bb3742096f851e"
     }
    },
    "6f979270cf8746489e63acd3d8f3212b": {
     "model_module": "@jupyter-widgets/controls",
     "model_name": "HTMLModel",
     "model_module_version": "1.5.0",
     "state": {
      "_dom_classes": [],
      "_model_module": "@jupyter-widgets/controls",
      "_model_module_version": "1.5.0",
      "_model_name": "HTMLModel",
      "_view_count": null,
      "_view_module": "@jupyter-widgets/controls",
      "_view_module_version": "1.5.0",
      "_view_name": "HTMLView",
      "description": "",
      "description_tooltip": null,
      "layout": "IPY_MODEL_673a457364bb4439af05f960b155a3c2",
      "placeholder": "​",
      "style": "IPY_MODEL_76f598830d534fb8b53d7215df81abbb",
      "value": "100%"
     }
    },
    "ae852604f9e148a48c540d336c47c0ab": {
     "model_module": "@jupyter-widgets/controls",
     "model_name": "FloatProgressModel",
     "model_module_version": "1.5.0",
     "state": {
      "_dom_classes": [],
      "_model_module": "@jupyter-widgets/controls",
      "_model_module_version": "1.5.0",
      "_model_name": "FloatProgressModel",
      "_view_count": null,
      "_view_module": "@jupyter-widgets/controls",
      "_view_module_version": "1.5.0",
      "_view_name": "ProgressView",
      "bar_style": "success",
      "description": "",
      "description_tooltip": null,
      "layout": "IPY_MODEL_2144e6350dd946ab9779a4d2da99df1c",
      "max": 8,
      "min": 0,
      "orientation": "horizontal",
      "style": "IPY_MODEL_dcee2a7232ec4d7abef7900f614a6159",
      "value": 8
     }
    },
    "f8269d2bf5e44079a4971b37fc3bf8b3": {
     "model_module": "@jupyter-widgets/controls",
     "model_name": "HTMLModel",
     "model_module_version": "1.5.0",
     "state": {
      "_dom_classes": [],
      "_model_module": "@jupyter-widgets/controls",
      "_model_module_version": "1.5.0",
      "_model_name": "HTMLModel",
      "_view_count": null,
      "_view_module": "@jupyter-widgets/controls",
      "_view_module_version": "1.5.0",
      "_view_name": "HTMLView",
      "description": "",
      "description_tooltip": null,
      "layout": "IPY_MODEL_dc5e9925eec348aea5f8a5c9ff486155",
      "placeholder": "​",
      "style": "IPY_MODEL_71c1f6e766f146238984a1629c0b9917",
      "value": " 8/8 [00:01&lt;00:00,  7.09it/s]"
     }
    },
    "017cf282fe6a430ab1bb3742096f851e": {
     "model_module": "@jupyter-widgets/base",
     "model_name": "LayoutModel",
     "model_module_version": "1.2.0",
     "state": {
      "_model_module": "@jupyter-widgets/base",
      "_model_module_version": "1.2.0",
      "_model_name": "LayoutModel",
      "_view_count": null,
      "_view_module": "@jupyter-widgets/base",
      "_view_module_version": "1.2.0",
      "_view_name": "LayoutView",
      "align_content": null,
      "align_items": null,
      "align_self": null,
      "border": null,
      "bottom": null,
      "display": null,
      "flex": null,
      "flex_flow": null,
      "grid_area": null,
      "grid_auto_columns": null,
      "grid_auto_flow": null,
      "grid_auto_rows": null,
      "grid_column": null,
      "grid_gap": null,
      "grid_row": null,
      "grid_template_areas": null,
      "grid_template_columns": null,
      "grid_template_rows": null,
      "height": null,
      "justify_content": null,
      "justify_items": null,
      "left": null,
      "margin": null,
      "max_height": null,
      "max_width": null,
      "min_height": null,
      "min_width": null,
      "object_fit": null,
      "object_position": null,
      "order": null,
      "overflow": null,
      "overflow_x": null,
      "overflow_y": null,
      "padding": null,
      "right": null,
      "top": null,
      "visibility": null,
      "width": null
     }
    },
    "673a457364bb4439af05f960b155a3c2": {
     "model_module": "@jupyter-widgets/base",
     "model_name": "LayoutModel",
     "model_module_version": "1.2.0",
     "state": {
      "_model_module": "@jupyter-widgets/base",
      "_model_module_version": "1.2.0",
      "_model_name": "LayoutModel",
      "_view_count": null,
      "_view_module": "@jupyter-widgets/base",
      "_view_module_version": "1.2.0",
      "_view_name": "LayoutView",
      "align_content": null,
      "align_items": null,
      "align_self": null,
      "border": null,
      "bottom": null,
      "display": null,
      "flex": null,
      "flex_flow": null,
      "grid_area": null,
      "grid_auto_columns": null,
      "grid_auto_flow": null,
      "grid_auto_rows": null,
      "grid_column": null,
      "grid_gap": null,
      "grid_row": null,
      "grid_template_areas": null,
      "grid_template_columns": null,
      "grid_template_rows": null,
      "height": null,
      "justify_content": null,
      "justify_items": null,
      "left": null,
      "margin": null,
      "max_height": null,
      "max_width": null,
      "min_height": null,
      "min_width": null,
      "object_fit": null,
      "object_position": null,
      "order": null,
      "overflow": null,
      "overflow_x": null,
      "overflow_y": null,
      "padding": null,
      "right": null,
      "top": null,
      "visibility": null,
      "width": null
     }
    },
    "76f598830d534fb8b53d7215df81abbb": {
     "model_module": "@jupyter-widgets/controls",
     "model_name": "DescriptionStyleModel",
     "model_module_version": "1.5.0",
     "state": {
      "_model_module": "@jupyter-widgets/controls",
      "_model_module_version": "1.5.0",
      "_model_name": "DescriptionStyleModel",
      "_view_count": null,
      "_view_module": "@jupyter-widgets/base",
      "_view_module_version": "1.2.0",
      "_view_name": "StyleView",
      "description_width": ""
     }
    },
    "2144e6350dd946ab9779a4d2da99df1c": {
     "model_module": "@jupyter-widgets/base",
     "model_name": "LayoutModel",
     "model_module_version": "1.2.0",
     "state": {
      "_model_module": "@jupyter-widgets/base",
      "_model_module_version": "1.2.0",
      "_model_name": "LayoutModel",
      "_view_count": null,
      "_view_module": "@jupyter-widgets/base",
      "_view_module_version": "1.2.0",
      "_view_name": "LayoutView",
      "align_content": null,
      "align_items": null,
      "align_self": null,
      "border": null,
      "bottom": null,
      "display": null,
      "flex": null,
      "flex_flow": null,
      "grid_area": null,
      "grid_auto_columns": null,
      "grid_auto_flow": null,
      "grid_auto_rows": null,
      "grid_column": null,
      "grid_gap": null,
      "grid_row": null,
      "grid_template_areas": null,
      "grid_template_columns": null,
      "grid_template_rows": null,
      "height": null,
      "justify_content": null,
      "justify_items": null,
      "left": null,
      "margin": null,
      "max_height": null,
      "max_width": null,
      "min_height": null,
      "min_width": null,
      "object_fit": null,
      "object_position": null,
      "order": null,
      "overflow": null,
      "overflow_x": null,
      "overflow_y": null,
      "padding": null,
      "right": null,
      "top": null,
      "visibility": null,
      "width": null
     }
    },
    "dcee2a7232ec4d7abef7900f614a6159": {
     "model_module": "@jupyter-widgets/controls",
     "model_name": "ProgressStyleModel",
     "model_module_version": "1.5.0",
     "state": {
      "_model_module": "@jupyter-widgets/controls",
      "_model_module_version": "1.5.0",
      "_model_name": "ProgressStyleModel",
      "_view_count": null,
      "_view_module": "@jupyter-widgets/base",
      "_view_module_version": "1.2.0",
      "_view_name": "StyleView",
      "bar_color": null,
      "description_width": ""
     }
    },
    "dc5e9925eec348aea5f8a5c9ff486155": {
     "model_module": "@jupyter-widgets/base",
     "model_name": "LayoutModel",
     "model_module_version": "1.2.0",
     "state": {
      "_model_module": "@jupyter-widgets/base",
      "_model_module_version": "1.2.0",
      "_model_name": "LayoutModel",
      "_view_count": null,
      "_view_module": "@jupyter-widgets/base",
      "_view_module_version": "1.2.0",
      "_view_name": "LayoutView",
      "align_content": null,
      "align_items": null,
      "align_self": null,
      "border": null,
      "bottom": null,
      "display": null,
      "flex": null,
      "flex_flow": null,
      "grid_area": null,
      "grid_auto_columns": null,
      "grid_auto_flow": null,
      "grid_auto_rows": null,
      "grid_column": null,
      "grid_gap": null,
      "grid_row": null,
      "grid_template_areas": null,
      "grid_template_columns": null,
      "grid_template_rows": null,
      "height": null,
      "justify_content": null,
      "justify_items": null,
      "left": null,
      "margin": null,
      "max_height": null,
      "max_width": null,
      "min_height": null,
      "min_width": null,
      "object_fit": null,
      "object_position": null,
      "order": null,
      "overflow": null,
      "overflow_x": null,
      "overflow_y": null,
      "padding": null,
      "right": null,
      "top": null,
      "visibility": null,
      "width": null
     }
    },
    "71c1f6e766f146238984a1629c0b9917": {
     "model_module": "@jupyter-widgets/controls",
     "model_name": "DescriptionStyleModel",
     "model_module_version": "1.5.0",
     "state": {
      "_model_module": "@jupyter-widgets/controls",
      "_model_module_version": "1.5.0",
      "_model_name": "DescriptionStyleModel",
      "_view_count": null,
      "_view_module": "@jupyter-widgets/base",
      "_view_module_version": "1.2.0",
      "_view_name": "StyleView",
      "description_width": ""
     }
    }
   }
  }
 },
 "cells": [
  {
   "cell_type": "markdown",
   "metadata": {
    "id": "ldHBGHWGon-Y"
   },
   "source": [
    "# Reconocimiento de Patrones\n",
    "[Curso de Reconocimiento de Patrones]\n",
    "\n",
    "Departamento Electrónica\n",
    "\n",
    "Universidad Popular del Cesar\n",
    "\n",
    "José Ramón Iglesias\n",
    "\n",
    "---\n",
    "\n",
    "# Ejemplo: Extracción y Selección de Caracteristicas Geométricas\n",
    "\n",
    "En este ejemplo se muestra cómo extraer y seleccionar características geométricas para separar 5 caracteres (A,B,X,Y,Z).\n",
    "\n",
    "\n"
   ]
  },
  {
   "cell_type": "markdown",
   "metadata": {
    "id": "R5C53BYjpNl7"
   },
   "source": [
    "# Setup inicial\n",
    "\n",
    "Liberías necesarias para que funcione el algoritmo."
   ]
  },
  {
   "cell_type": "markdown",
   "metadata": {
    "id": "X9daVUmmTSBW"
   },
   "source": [
    "## Setup de librerías"
   ]
  },
  {
   "cell_type": "code",
   "metadata": {
    "id": "xUXeMCxoTRH8",
    "colab": {
     "base_uri": "https://localhost:8080/"
    },
    "executionInfo": {
     "status": "ok",
     "timestamp": 1679943024327,
     "user_tz": 180,
     "elapsed": 4001,
     "user": {
      "displayName": "Domingo Mery",
      "userId": "16662745166436806638"
     }
    },
    "outputId": "939bf9c1-68f3-4525-bb9d-b8c8669e500c"
   },
   "source": [
    "import numpy as np\n",
    "import cv2\n",
    "import matplotlib.pyplot as plt\n",
    "from   sklearn.metrics import confusion_matrix, accuracy_score\n",
    "from   seaborn import heatmap\n",
    "from   tqdm.auto import tqdm\n",
    "from   sklearn.neighbors import KNeighborsClassifier\n",
    "\n",
    "from   upcele.fx.geo import fourierdes, hugeo, flusser, gupta,basicgeo\n",
    "from   upcele.fs.sel import sfs,clean\n",
    "from   upcele.ft.norm import minmax\n",
    "from   upcele.fs.sel import jfisher,sfs\n",
    "from   upcele.io.misc import imageload\n",
    "\n",
    "\n",
    "from   scipy.ndimage.morphology import binary_fill_holes\n",
    "from   skimage.morphology import disk,dilation\n"
   ],
   "execution_count": 1,
   "outputs": [
    {
     "name": "stderr",
     "output_type": "stream",
     "text": [
      "C:\\Users\\Public\\Documents\\Wondershare\\CreatorTemp\\ipykernel_142124\\3322555126.py:16: DeprecationWarning: Please use `binary_fill_holes` from the `scipy.ndimage` namespace, the `scipy.ndimage.morphology` namespace is deprecated.\n",
      "  from   scipy.ndimage.morphology import binary_fill_holes\n"
     ]
    }
   ]
  },
  {
   "cell_type": "markdown",
   "metadata": {
    "id": "AeBSN8WX4NCS"
   },
   "source": [
    "# Ejemplo: Reconocimiento de 5 caracteres\n",
    "\n",
    "En este ejemplo se realiza la extracción de características necesarias para realizar un reconocimiento de los caracteres A,B,X,Y,Z con diversos tamaños y diversas orientaciones. \n",
    "\n",
    "\n",
    "Para la solución se utiliza los descriptores ya que son invariantes a la rotación y a la escala. \n",
    "\n",
    "\n"
   ]
  },
  {
   "cell_type": "markdown",
   "metadata": {
    "id": "tAmYt4mBHZgs"
   },
   "source": [
    "![samples.png](data:image/png;base64,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)"
   ]
  },
  {
   "cell_type": "markdown",
   "metadata": {
    "id": "sOcwbiQYYPag"
   },
   "source": [
    "# Carga de base de datos\n",
    "\n",
    "La base de datos consiste en 5 clases y 100 imágenes por clase"
   ]
  },
  {
   "cell_type": "code",
   "metadata": {
    "id": "BMYOlpLpzHQJ",
    "colab": {
     "base_uri": "https://localhost:8080/"
    },
    "executionInfo": {
     "status": "ok",
     "timestamp": 1679943026107,
     "user_tz": 180,
     "elapsed": 1783,
     "user": {
      "displayName": "Domingo Mery",
      "userId": "16662745166436806638"
     }
    },
    "outputId": "7c9402f4-66df-43b2-ed39-20423073ff41"
   },
   "source": [
    "# Carga de base de datos\n",
    "!wget https://www.dropbox.com/s/18poez6tafn01pe/ABXYZ.zip?dl=0\n",
    "!unzip -qq ABXYZ.zip"
   ],
   "execution_count": 3,
   "outputs": [
    {
     "output_type": "stream",
     "name": "stdout",
     "text": [
      "--2023-03-27 18:50:24--  https://www.dropbox.com/s/chu9wdqyzqxb02j/ABXYZ.zip\n",
      "Resolving www.dropbox.com (www.dropbox.com)... 162.125.6.18, 2620:100:601c:18::a27d:612\n",
      "Connecting to www.dropbox.com (www.dropbox.com)|162.125.6.18|:443... connected.\n",
      "HTTP request sent, awaiting response... 302 Found\n",
      "Location: /s/raw/chu9wdqyzqxb02j/ABXYZ.zip [following]\n",
      "--2023-03-27 18:50:24--  https://www.dropbox.com/s/raw/chu9wdqyzqxb02j/ABXYZ.zip\n",
      "Reusing existing connection to www.dropbox.com:443.\n",
      "HTTP request sent, awaiting response... 302 Found\n",
      "Location: https://uce0048971cf3841755bb6a94945.dl.dropboxusercontent.com/cd/0/inline/B5CHPDJFth0n5npVHOufq4VHDxFocvlut0itk4eHMCwq8NnVUmwAkVEt1mcqVdEKqH7bE8pKJkRxDD0mgAuLrtOSzYw2XQcFg63RCLFI5WcQKGA9Wsqz5iLA1JgvFOivuP8KKNeyX0IqsWePfJgOQtollG777iy603NMItDnpLAThA/file# [following]\n",
      "--2023-03-27 18:50:24--  https://uce0048971cf3841755bb6a94945.dl.dropboxusercontent.com/cd/0/inline/B5CHPDJFth0n5npVHOufq4VHDxFocvlut0itk4eHMCwq8NnVUmwAkVEt1mcqVdEKqH7bE8pKJkRxDD0mgAuLrtOSzYw2XQcFg63RCLFI5WcQKGA9Wsqz5iLA1JgvFOivuP8KKNeyX0IqsWePfJgOQtollG777iy603NMItDnpLAThA/file\n",
      "Resolving uce0048971cf3841755bb6a94945.dl.dropboxusercontent.com (uce0048971cf3841755bb6a94945.dl.dropboxusercontent.com)... 162.125.3.15, 2620:100:6019:15::a27d:40f\n",
      "Connecting to uce0048971cf3841755bb6a94945.dl.dropboxusercontent.com (uce0048971cf3841755bb6a94945.dl.dropboxusercontent.com)|162.125.3.15|:443... connected.\n",
      "HTTP request sent, awaiting response... 302 Found\n",
      "Location: /cd/0/inline2/B5AHlP16qx67HoD2TgZMRX7afKy7Z6KCi3l5NqFPVfEHHlSAM57-ew8umuvf64W0TxcSJsQ8pNFGP-KE1_FLoV7-3s-rbzZSmNFQtfPwbcnZ3R9DPRwT4UzOEUydhjFLPoSJK04rFtXzWi8FrRwgrNjwCVPgc6_xCe5x1fKr_5g-ocqKuvKwHFPE7k53csQOcMl88pbwAklkL352Bk89XC6b8xHHtSkWgBGQVJ3BdN6SWwYVn_VWftmRttS122SE81LPGx-plRnU7vAy4g8FfAGt6Zvqw3Ho9FWioTTUrSRv5yWF1i4EuCG629SJ9wZ2SAvpnrHGbseQYd7IIN44Naj-C4LcAlJCQw7ioU9zqsKljWeHsdm95XK3CGiHw_H5wDqpQS9GJBOj3zaAMvXazZ9SVRa4VJdcPNoVSLxQyuz9yg/file [following]\n",
      "--2023-03-27 18:50:25--  https://uce0048971cf3841755bb6a94945.dl.dropboxusercontent.com/cd/0/inline2/B5AHlP16qx67HoD2TgZMRX7afKy7Z6KCi3l5NqFPVfEHHlSAM57-ew8umuvf64W0TxcSJsQ8pNFGP-KE1_FLoV7-3s-rbzZSmNFQtfPwbcnZ3R9DPRwT4UzOEUydhjFLPoSJK04rFtXzWi8FrRwgrNjwCVPgc6_xCe5x1fKr_5g-ocqKuvKwHFPE7k53csQOcMl88pbwAklkL352Bk89XC6b8xHHtSkWgBGQVJ3BdN6SWwYVn_VWftmRttS122SE81LPGx-plRnU7vAy4g8FfAGt6Zvqw3Ho9FWioTTUrSRv5yWF1i4EuCG629SJ9wZ2SAvpnrHGbseQYd7IIN44Naj-C4LcAlJCQw7ioU9zqsKljWeHsdm95XK3CGiHw_H5wDqpQS9GJBOj3zaAMvXazZ9SVRa4VJdcPNoVSLxQyuz9yg/file\n",
      "Reusing existing connection to uce0048971cf3841755bb6a94945.dl.dropboxusercontent.com:443.\n",
      "HTTP request sent, awaiting response... 200 OK\n",
      "Length: 846339 (827K) [application/zip]\n",
      "Saving to: ‘ABXYZ.zip’\n",
      "\n",
      "ABXYZ.zip           100%[===================>] 826.50K  --.-KB/s    in 0.08s   \n",
      "\n",
      "2023-03-27 18:50:25 (9.89 MB/s) - ‘ABXYZ.zip’ saved [846339/846339]\n",
      "\n"
     ]
    }
   ]
  },
  {
   "cell_type": "markdown",
   "metadata": {
    "id": "dYCCyCrTYVYQ"
   },
   "source": [
    "# Funciones necesarias"
   ]
  },
  {
   "cell_type": "code",
   "metadata": {
    "id": "V7PwerxH4rxx",
    "executionInfo": {
     "status": "ok",
     "timestamp": 1679943026107,
     "user_tz": 180,
     "elapsed": 13,
     "user": {
      "displayName": "Domingo Mery",
      "userId": "16662745166436806638"
     }
    }
   },
   "source": [
    "\n",
    "# Separación entre training y testing\n",
    "def SplitTrainTest(X,y,n):\n",
    "\n",
    "  K      = int(np.max(y)+1)      # número de clases\n",
    "  N      = int(X.shape[0]/K)     # numeros de muestras por clase\n",
    "  Ntrain = n*K                      # número de muestras para el training\n",
    "  Ntest  = K*N-Ntrain               # número de muestras para el testing\n",
    "  M      = X.shape[1]               # número de características por muestra\n",
    "  Xtrain = np.zeros((Ntrain,M))     # subset de training\n",
    "  ytrain = np.zeros((Ntrain),int)   # ground truth del training         \n",
    "  Xtest  = np.zeros((Ntest,M))      # subset de testing\n",
    "  ytest  = np.zeros((Ntest),int)    # ground truth del testing  \n",
    "\n",
    "  # contadores\n",
    "  itrain = 0\n",
    "  itest  = 0\n",
    "  t      = 0\n",
    "\n",
    "\n",
    "  for j in range(K):     # para cada clase\n",
    "    for i in range(N):   # para cada imagen de la clase\n",
    "      if i<n: # training\n",
    "        Xtrain[itrain,:] = X[t,:]\n",
    "        ytrain[itrain] = y[t]\n",
    "        itrain = itrain+1\n",
    "      else:  # testing\n",
    "        Xtest[itest,:] = X[t,:]\n",
    "        ytest[itest] = y[t]\n",
    "        itest = itest+1\n",
    "      t = t+1\n",
    "  \n",
    "  return Xtrain,ytrain,Xtest,ytest\n",
    "\n",
    "# Clasificación usando KNN con 1 vecino\n",
    "def ClassifierKNN(Xtrain,ytrain,Xtest,ytest,n_vecinos=1,echo ='on'):\n",
    "  #Xtrain, a, b = normalize(Xtrain)\n",
    "  #Xtest        = Xtest * a + b\n",
    "  knn = KNeighborsClassifier(n_neighbors=n_vecinos)\n",
    "  knn.fit(Xtrain, ytrain)\n",
    "  ypred        = knn.predict(Xtest)\n",
    "  acc          = accuracy_score(ytest,ypred)\n",
    "  C = confusion_matrix(ytest,ypred)\n",
    "  if echo == 'on':\n",
    "    print('Entrenando con '+str(Xtrain.shape[0])+' muestras y probando con '+str(Xtest.shape[0])+' muestras')\n",
    "    print('Los datos tienen '+str(Xtrain.shape[1])+' features')\n",
    "    print('Testing Accuracy = '+str(acc*100)+'%')\n",
    "    print('Matriz de Confusión:')\n",
    "    print(C)\n",
    "  return acc,C"
   ],
   "execution_count": 2,
   "outputs": []
  },
  {
   "cell_type": "markdown",
   "metadata": {
    "id": "yYHxPwnTYhXs"
   },
   "source": [
    "# Extracción de Características Geométricas"
   ]
  },
  {
   "cell_type": "code",
   "metadata": {
    "id": "LMZBAlWG40Rz",
    "colab": {
     "base_uri": "https://localhost:8080/",
     "height": 177,
     "referenced_widgets": [
      "65a93f51350941b3ab8dcdaaa939c62b",
      "32799a990278438780cda3e201719a20",
      "595b543d7ded4a72881e4b81f73f9b43",
      "76b314695f0d4ac89da33e0624f3fab3",
      "c492404a512846b3b83a8c7e1e223024",
      "3fab1f3dd710475c95f13b289d5dd2cf",
      "5ee580024747431989ccfe2f30670c3c",
      "a2f57f2ea52a493fa75de6857a4f729d",
      "03ac86828f5947dfaf33b9d2205f4908",
      "04fc8029d9b74afdb63d294a88926980",
      "b2fc1a0ceb1145bf8143efbf094f7d13",
      "7304efc542254232b0f97e7cc813460f",
      "1875b69cca554522a0c7481434d8b70b",
      "bf6629f508df4c3e858cdde53b705015",
      "1087b43c03e44f938ca3cad7c4bfdf4e",
      "1c60d3f666404c12bf5ef8a12584e444",
      "2df779b3495b4b00afbd639a31f49ad6",
      "0b21703066ab47f896da2d76c504cc91",
      "fc3ba7d8bb554518813c5f1ce88cdf52",
      "98a512f953b24152aaee1c85c9714ac0",
      "7bc4916ee74044db97efec1bcb6363f6",
      "76c3e816ad02458ba6e97986e2540ed6",
      "f24208d6f7cf4dad9b1ab5f012a754e4",
      "855071ae75684c7faf28e85c4ca7b0e9",
      "9f96d3778a1849e4898e079f1bd9926e",
      "c4cf59cc1fdc43debc3a7f573484d12e",
      "5fb7076bbef54dacbb05b65928e102bb",
      "f35f95555c0d40a5b5d63c3a946f2182",
      "38e09c2cc030430bb8347caa7c30ab06",
      "9fb6d14bca1c480d8ed7cc30ccfce837",
      "52bc665b2e8c4e40a28f12fec5f8f0b3",
      "d61d8ab156104f4899921e75e7ba2cff",
      "c755dc2599494f10b261fb7fa040ab9c",
      "edaa139d0a2c4b59a020038cb9bf1824",
      "0bcb760253f5484b86a111b42a0bc055",
      "8b072c5f9ff7495db203b17d7ce691fa",
      "b2c6f6fb9fdd4a20bf56223faf42d160",
      "a0fab488068649e88e751ad6be89e1ac",
      "47416780b74e4b0ab4afc2088b997001",
      "d16a588f50f94880a4f62a8bb730d06e",
      "564e1a0df0734a608aed11a0c2164329",
      "6d8594ced10a432a806af105c0b84cba",
      "17f737e401d44f33809b79faef54c014",
      "405c6bfec9b44813b6deed4888d8988a",
      "34ceb0a383144849b510d598fceac702",
      "a0646e5c91a241838c4849ec472e37e3",
      "8c015e388cfc4eeaaef6a4594e04dd0d",
      "3baf4529cd0c4f399aaef823fd8120ae",
      "028cffe6199a47019da38ed668367f49",
      "9bea093fabb24a68bbd4941b82d78730",
      "2504d02a1b554566892684459893610d",
      "e21b8d52c2a646eda9189aba0b3a4a60",
      "ac8c251c3e244b96a11e69ec19034227",
      "e75ad4b9c1244d7384a86a2d19c811ea",
      "7eecb2f6be35435fabb71349be3388a2"
     ]
    },
    "executionInfo": {
     "status": "ok",
     "timestamp": 1679943040334,
     "user_tz": 180,
     "elapsed": 14239,
     "user": {
      "displayName": "Domingo Mery",
      "userId": "16662745166436806638"
     }
    },
    "outputId": "c9f2cb3b-a8d7-422f-fd02-9a7c79b70d2f"
   },
   "source": [
    "K = 5  # número de clases\n",
    "N = 100 # número de imágenes por clase\n",
    "\n",
    "# Basico geometric features\n",
    "Mbg  = 16                                 # los descriptores son 16\n",
    "Xbg = np.zeros((K*N,Mbg))                 # K x N muestras (filas), y M características (columnas)\n",
    "\n",
    "# Fourier descriptors\n",
    "Mfd  = 16                                  # los descriptores son 16\n",
    "Xfd = np.zeros((K*N,Mfd))                 # K x N muestras (filas), y M características (columnas)\n",
    "\n",
    "# Hu moments\n",
    "Mhu  = 7                                  # los momentos son 7\n",
    "Xhu = np.zeros((K*N,Mhu))                 # K x N muestras (filas), y M características (columnas)\n",
    "\n",
    "# Flusser moments\n",
    "Mfl  = 4                                  # los momentos son 4\n",
    "Xfl = np.zeros((K*N,Mfl))                 # K x N muestras (filas), y M características (columnas)\n",
    "\n",
    "# Gupta moments\n",
    "Mgu  = 3                                  # los momentos son 3\n",
    "Xgu = np.zeros((K*N,Mgu))                 # K x N muestras (filas), y M características (columnas)\n",
    "\n",
    "y = np.zeros((K*N,))                # ground truth (clasificacion ideal)\n",
    "\n",
    "t = 0\n",
    "for j in range(K):                  # para cada clase\n",
    "  for i in tqdm(range(N)):                # para cada imagen de la clase\n",
    "    # Lectura de la imagen\n",
    "    img      = imageload('ABXYZ/char_',j+1,2,i+1,3,echo='off')\n",
    "    img3     = dilation(img,disk(3))# cierra bien el 3 las A\n",
    "    R        = img3 > 0.5\n",
    "    R        = binary_fill_holes(R).astype(int) # imagen con relleno de agujeros\n",
    "    #R = R>0*1\n",
    "    Xfd[t,:] = fourierdes(R)\n",
    "    Xhu[t,:] = hugeo(R)\n",
    "    Xfl[t,:] = flusser(R)\n",
    "    Xgu[t,:] = gupta(R)\n",
    "    Xbg[t,:] = basicgeo(R)\n",
    "\n",
    "    y[t] = j\n",
    "    t = t+1"
   ],
   "execution_count": 3,
   "outputs": [
    {
     "data": {
      "text/plain": "  0%|          | 0/100 [00:00<?, ?it/s]",
      "application/vnd.jupyter.widget-view+json": {
       "version_major": 2,
       "version_minor": 0,
       "model_id": "eaeb667fd1b649439506e3559237b446"
      }
     },
     "metadata": {},
     "output_type": "display_data"
    },
    {
     "data": {
      "text/plain": "  0%|          | 0/100 [00:00<?, ?it/s]",
      "application/vnd.jupyter.widget-view+json": {
       "version_major": 2,
       "version_minor": 0,
       "model_id": "49fb0efdeada46a99575e9e045c0522b"
      }
     },
     "metadata": {},
     "output_type": "display_data"
    },
    {
     "data": {
      "text/plain": "  0%|          | 0/100 [00:00<?, ?it/s]",
      "application/vnd.jupyter.widget-view+json": {
       "version_major": 2,
       "version_minor": 0,
       "model_id": "a1213204e7dd4cd3a02edbf2b58750d8"
      }
     },
     "metadata": {},
     "output_type": "display_data"
    },
    {
     "data": {
      "text/plain": "  0%|          | 0/100 [00:00<?, ?it/s]",
      "application/vnd.jupyter.widget-view+json": {
       "version_major": 2,
       "version_minor": 0,
       "model_id": "1c87f44a254a47ca83f07a858edaa8ad"
      }
     },
     "metadata": {},
     "output_type": "display_data"
    },
    {
     "data": {
      "text/plain": "  0%|          | 0/100 [00:00<?, ?it/s]",
      "application/vnd.jupyter.widget-view+json": {
       "version_major": 2,
       "version_minor": 0,
       "model_id": "2feb8e321eb34eb7a8f505c709fd078a"
      }
     },
     "metadata": {},
     "output_type": "display_data"
    }
   ]
  },
  {
   "cell_type": "markdown",
   "metadata": {
    "id": "W_UK41kgAs61"
   },
   "source": [
    "# Estrategia Básica\n",
    "\n",
    "0. Selección Manual $\\rightarrow$ \n",
    "\n",
    "1. Definición de características Originales $\\rightarrow$ \n",
    "\n",
    "2. Clean $\\rightarrow$ \n",
    "\n",
    "3. Normalización $\\rightarrow$ \n",
    "\n",
    "4. Selección con SFS $\\rightarrow$"
   ]
  },
  {
   "cell_type": "markdown",
   "metadata": {
    "id": "O9-4B2x_cQK3"
   },
   "source": [
    "## 0) Selección Manual\n",
    "Sólo deben procesarse características invariantes a la rotación y traslación, para evitar falsa correlaciones."
   ]
  },
  {
   "cell_type": "code",
   "source": [
    "x,xn = basicgeo(R,names='True')\n",
    "\n",
    "for k in range(16):\n",
    "  print(k,xn[k])"
   ],
   "metadata": {
    "colab": {
     "base_uri": "https://localhost:8080/"
    },
    "id": "O-X_-AKDMujQ",
    "executionInfo": {
     "status": "ok",
     "timestamp": 1679943040557,
     "user_tz": 180,
     "elapsed": 238,
     "user": {
      "displayName": "Domingo Mery",
      "userId": "16662745166436806638"
     }
    },
    "outputId": "c69fd88e-3b2c-4341-f95f-a34cb84dfd0f"
   },
   "execution_count": 4,
   "outputs": [
    {
     "name": "stdout",
     "output_type": "stream",
     "text": [
      "0 i_m\n",
      "1 j_m\n",
      "2 height\n",
      "3 width\n",
      "4 area\n",
      "5 perimeter\n",
      "6 roundness\n",
      "7 euler_number\n",
      "8 equivalent_diameter\n",
      "9 major_axis\n",
      "10 minor_axis\n",
      "11 orientation\n",
      "12 solidity\n",
      "13 extent\n",
      "14 eccentricity\n",
      "15 convex_area_convex\n"
     ]
    }
   ]
  },
  {
   "cell_type": "code",
   "metadata": {
    "id": "d3BF_FwaaPZj",
    "executionInfo": {
     "status": "ok",
     "timestamp": 1679943040558,
     "user_tz": 180,
     "elapsed": 5,
     "user": {
      "displayName": "Domingo Mery",
      "userId": "16662745166436806638"
     }
    }
   },
   "source": [
    "sgeo = [2,3,4,5,6,7,8,9,10,12,13,14,15] \n",
    "Xbg2 = Xbg[:,sgeo]  # <- nuevas características geométricas básicas"
   ],
   "execution_count": 5,
   "outputs": []
  },
  {
   "cell_type": "markdown",
   "metadata": {
    "id": "43AP-HHSJHeC"
   },
   "source": [
    "## 1) Definición de Input, Training y Testing original"
   ]
  },
  {
   "cell_type": "code",
   "metadata": {
    "id": "fPmZjihi6pA-",
    "executionInfo": {
     "status": "ok",
     "timestamp": 1679943040558,
     "user_tz": 180,
     "elapsed": 5,
     "user": {
      "displayName": "Domingo Mery",
      "userId": "16662745166436806638"
     }
    }
   },
   "source": [
    "# Defincion de Input\n",
    "\n",
    "X_original = np.concatenate((Xbg2,Xfd,Xhu,Xfl,Xgu),axis=1)\n",
    "\n",
    "# Defincion de Training/Testing\n",
    "\n",
    "Xtrain_original,ytrain,Xtest_original,ytest = SplitTrainTest(X_original,y,75)"
   ],
   "execution_count": 6,
   "outputs": []
  },
  {
   "cell_type": "code",
   "metadata": {
    "id": "L0HswJUSPHMq",
    "executionInfo": {
     "status": "ok",
     "timestamp": 1679943040558,
     "user_tz": 180,
     "elapsed": 4,
     "user": {
      "displayName": "Domingo Mery",
      "userId": "16662745166436806638"
     }
    }
   },
   "source": [
    "np.save('Letras_X',X_original)\n",
    "np.save('Letras_y',y)\n"
   ],
   "execution_count": 7,
   "outputs": []
  },
  {
   "cell_type": "code",
   "metadata": {
    "colab": {
     "base_uri": "https://localhost:8080/"
    },
    "id": "C-eZfoWc7hcx",
    "executionInfo": {
     "status": "ok",
     "timestamp": 1679943040844,
     "user_tz": 180,
     "elapsed": 290,
     "user": {
      "displayName": "Domingo Mery",
      "userId": "16662745166436806638"
     }
    },
    "outputId": "36594d3e-d5d4-426e-cf75-d591c273275b"
   },
   "source": [
    "# Clasificacion con datos originales\n",
    "\n",
    "acc,C = ClassifierKNN(Xtrain_original,ytrain,Xtest_original,ytest)\n"
   ],
   "execution_count": 8,
   "outputs": [
    {
     "name": "stdout",
     "output_type": "stream",
     "text": [
      "Entrenando con 375 muestras y probando con 125 muestras\n",
      "Los datos tienen 43 features\n",
      "Testing Accuracy = 69.6%\n",
      "Matriz de Confusión:\n",
      "[[17  2  1  1  4]\n",
      " [ 0 20  4  1  0]\n",
      " [ 1  2 17  1  4]\n",
      " [ 6  0  0 14  5]\n",
      " [ 0  5  0  1 19]]\n"
     ]
    },
    {
     "name": "stderr",
     "output_type": "stream",
     "text": [
      "C:\\Users\\ASUS\\anaconda3\\lib\\site-packages\\sklearn\\neighbors\\_classification.py:228: FutureWarning: Unlike other reduction functions (e.g. `skew`, `kurtosis`), the default behavior of `mode` typically preserves the axis it acts along. In SciPy 1.11.0, this behavior will change: the default value of `keepdims` will become False, the `axis` over which the statistic is taken will be eliminated, and the value None will no longer be accepted. Set `keepdims` to True or False to avoid this warning.\n",
      "  mode, _ = stats.mode(_y[neigh_ind, k], axis=1)\n"
     ]
    }
   ]
  },
  {
   "cell_type": "markdown",
   "metadata": {
    "id": "p6QpqMlUJP8o"
   },
   "source": [
    "## 2) Cleaning"
   ]
  },
  {
   "cell_type": "code",
   "metadata": {
    "colab": {
     "base_uri": "https://localhost:8080/"
    },
    "id": "MrdrXIp26tuO",
    "executionInfo": {
     "status": "ok",
     "timestamp": 1679943040844,
     "user_tz": 180,
     "elapsed": 4,
     "user": {
      "displayName": "Domingo Mery",
      "userId": "16662745166436806638"
     }
    },
    "outputId": "e17ec799-8574-42f9-e30a-ff2960bef3fe"
   },
   "source": [
    "# Cleaning\n",
    "\n",
    "sclean = clean(Xtrain_original)            # índice de características seleccionadas\n",
    "Xtrain_clean = Xtrain_original[:,sclean]   # nuevo training\n",
    "Xtest_clean  = Xtest_original[:,sclean]    # nuevo testing\n",
    "\n",
    "print(sclean)\n",
    "print(sclean.shape)\n"
   ],
   "execution_count": 9,
   "outputs": [
    {
     "name": "stdout",
     "output_type": "stream",
     "text": [
      "[ 0  1  2  3  4  7  8  9 10 11 12 13 14 15 16 17 18 19 20 21 22 23 24 25\n",
      " 26 27 28 29 30 31 32 33 34 35 36 37 39 40 41 42]\n",
      "(40,)\n"
     ]
    }
   ]
  },
  {
   "cell_type": "code",
   "metadata": {
    "colab": {
     "base_uri": "https://localhost:8080/"
    },
    "id": "5e0OWNQv8AKW",
    "executionInfo": {
     "status": "ok",
     "timestamp": 1679943041207,
     "user_tz": 180,
     "elapsed": 365,
     "user": {
      "displayName": "Domingo Mery",
      "userId": "16662745166436806638"
     }
    },
    "outputId": "c4e777f5-fa54-41cc-c454-f701bb65b7d3"
   },
   "source": [
    "# Clasificacion con datos \"limpios\"\n",
    "\n",
    "acc,C = ClassifierKNN(Xtrain_clean,ytrain,Xtest_clean,ytest,1)\n"
   ],
   "execution_count": 10,
   "outputs": [
    {
     "name": "stdout",
     "output_type": "stream",
     "text": [
      "Entrenando con 375 muestras y probando con 125 muestras\n",
      "Los datos tienen 40 features\n",
      "Testing Accuracy = 69.6%\n",
      "Matriz de Confusión:\n",
      "[[17  2  1  1  4]\n",
      " [ 0 20  4  1  0]\n",
      " [ 1  2 17  1  4]\n",
      " [ 6  0  0 14  5]\n",
      " [ 0  5  0  1 19]]\n"
     ]
    }
   ]
  },
  {
   "cell_type": "markdown",
   "metadata": {
    "id": "4pGvOgFkJSvP"
   },
   "source": [
    "## 3) Normalización"
   ]
  },
  {
   "cell_type": "code",
   "metadata": {
    "id": "wZKb2SlBIVSk",
    "executionInfo": {
     "status": "ok",
     "timestamp": 1679943041208,
     "user_tz": 180,
     "elapsed": 3,
     "user": {
      "displayName": "Domingo Mery",
      "userId": "16662745166436806638"
     }
    }
   },
   "source": [
    "# Normalización\n",
    "\n",
    "Xtrain_norm, a, b = minmax(Xtrain_clean)\n",
    "Xtest_norm        = Xtest_clean * a + b"
   ],
   "execution_count": 11,
   "outputs": []
  },
  {
   "cell_type": "code",
   "metadata": {
    "colab": {
     "base_uri": "https://localhost:8080/"
    },
    "id": "smZtBAcJ8HED",
    "executionInfo": {
     "status": "ok",
     "timestamp": 1679943041502,
     "user_tz": 180,
     "elapsed": 296,
     "user": {
      "displayName": "Domingo Mery",
      "userId": "16662745166436806638"
     }
    },
    "outputId": "92c304a2-11c0-4323-cb09-ac18769bc923"
   },
   "source": [
    "# Clasificacion con datos normalizados\n",
    "\n",
    "acc,C = ClassifierKNN(Xtrain_norm,ytrain,Xtest_norm,ytest,1)\n"
   ],
   "execution_count": 12,
   "outputs": [
    {
     "name": "stdout",
     "output_type": "stream",
     "text": [
      "Entrenando con 375 muestras y probando con 125 muestras\n",
      "Los datos tienen 40 features\n",
      "Testing Accuracy = 77.60000000000001%\n",
      "Matriz de Confusión:\n",
      "[[17  0  2  6  0]\n",
      " [ 0 25  0  0  0]\n",
      " [ 5  0 20  0  0]\n",
      " [ 5  0  0 16  4]\n",
      " [ 0  0  0  6 19]]\n"
     ]
    }
   ]
  },
  {
   "cell_type": "markdown",
   "metadata": {
    "id": "8Wi-5IFTJW1_"
   },
   "source": [
    "## 4) SFS\n",
    "\n"
   ]
  },
  {
   "cell_type": "code",
   "metadata": {
    "id": "QJC5AM9wB8Od",
    "executionInfo": {
     "status": "ok",
     "timestamp": 1679943041502,
     "user_tz": 180,
     "elapsed": 5,
     "user": {
      "displayName": "Domingo Mery",
      "userId": "16662745166436806638"
     }
    }
   },
   "source": [
    "# Implementacion manual\n",
    "def sfs_fisher(X,y,p):\n",
    "  m = X.shape[1]\n",
    "  disponibles = np.ones((m,))\n",
    "  seleccionadas = -np.ones((p,),int)\n",
    "  Jmax = 0\n",
    "  for j in tqdm(range(p)):\n",
    "    for k in range(m):\n",
    "      if disponibles[k]:\n",
    "        seleccionadas[j] = k\n",
    "        columnas = seleccionadas[0:j+1]\n",
    "        Xsel = X[:,columnas]\n",
    "        J = jfisher(Xsel,y)\n",
    "        if J > Jmax:\n",
    "          Jmax = J\n",
    "          ksel = k\n",
    "          print('> selected: J('+str(columnas)+') = '+str(J/100))\n",
    "    disponibles[ksel] = 0\n",
    "    seleccionadas[j] = ksel\n",
    "  return seleccionadas\n"
   ],
   "execution_count": 13,
   "outputs": []
  },
  {
   "cell_type": "code",
   "metadata": {
    "colab": {
     "base_uri": "https://localhost:8080/",
     "height": 830,
     "referenced_widgets": [
      "fb6ce955f6f443fa9efd0ef74079f8e1",
      "6f979270cf8746489e63acd3d8f3212b",
      "ae852604f9e148a48c540d336c47c0ab",
      "f8269d2bf5e44079a4971b37fc3bf8b3",
      "017cf282fe6a430ab1bb3742096f851e",
      "673a457364bb4439af05f960b155a3c2",
      "76f598830d534fb8b53d7215df81abbb",
      "2144e6350dd946ab9779a4d2da99df1c",
      "dcee2a7232ec4d7abef7900f614a6159",
      "dc5e9925eec348aea5f8a5c9ff486155",
      "71c1f6e766f146238984a1629c0b9917"
     ]
    },
    "id": "sdr7ferNKJaK",
    "executionInfo": {
     "status": "ok",
     "timestamp": 1679943043217,
     "user_tz": 180,
     "elapsed": 1719,
     "user": {
      "displayName": "Domingo Mery",
      "userId": "16662745166436806638"
     }
    },
    "outputId": "d9554afb-336d-4d8f-adf8-bfa1a96aee2e"
   },
   "source": [
    "# Selección con SFS - Fisher\n",
    "p  = 8 # numero de caracteristicas a seleccionar\n",
    "ss = sfs_fisher(Xtrain_norm,ytrain,p)"
   ],
   "execution_count": 14,
   "outputs": [
    {
     "data": {
      "text/plain": "  0%|          | 0/8 [00:00<?, ?it/s]",
      "application/vnd.jupyter.widget-view+json": {
       "version_major": 2,
       "version_minor": 0,
       "model_id": "1e9645c6bbdb4bfaaa934cae43bc7d26"
      }
     },
     "metadata": {},
     "output_type": "display_data"
    },
    {
     "name": "stdout",
     "output_type": "stream",
     "text": [
      "> selected: J([0]) = 4.4453444901265056e-05\n",
      "> selected: J([1]) = 0.0012298941077666195\n",
      "> selected: J([2]) = 0.005908993352206651\n",
      "> selected: J([3]) = 0.0066519533009119555\n",
      "> selected: J([4]) = 0.03811883620597881\n",
      "> selected: J([12]) = 0.06072655506861238\n",
      "> selected: J([13]) = 0.14688281034968878\n",
      "> selected: J([13  0]) = 0.14959306759548144\n",
      "> selected: J([13  1]) = 0.15376574292072565\n",
      "> selected: J([13  3]) = 0.18285210331711213\n",
      "> selected: J([13  4]) = 0.26254982264393695\n",
      "> selected: J([13 12]) = 0.2726467173803431\n",
      "> selected: J([13 12  0]) = 0.2747012119312428\n",
      "> selected: J([13 12  1]) = 0.27958686110805425\n",
      "> selected: J([13 12  2]) = 0.287058697096118\n",
      "> selected: J([13 12  3]) = 0.29183735054272253\n",
      "> selected: J([13 12  4]) = 0.3619395767067882\n",
      "> selected: J([13 12  4  0]) = 0.36480035054251725\n",
      "> selected: J([13 12  4  1]) = 0.3699956681692324\n",
      "> selected: J([13 12  4  2]) = 0.38531030319822746\n",
      "> selected: J([13 12  4 11]) = 0.4061872564936928\n",
      "> selected: J([13 12  4 17]) = 0.41094116563147\n",
      "> selected: J([13 12  4 17  0]) = 0.4143052378165178\n",
      "> selected: J([13 12  4 17  1]) = 0.4204094801872824\n",
      "> selected: J([13 12  4 17  2]) = 0.4338489962010613\n",
      "> selected: J([13 12  4 17 11]) = 0.4531666922942672\n",
      "> selected: J([13 12  4 17 14]) = 0.46075463693070356\n",
      "> selected: J([13 12  4 17 14  0]) = 0.4637694841194627\n",
      "> selected: J([13 12  4 17 14  1]) = 0.46468147728404036\n",
      "> selected: J([13 12  4 17 14  2]) = 0.47283093924513936\n",
      "> selected: J([13 12  4 17 14  5]) = 0.47864382163241254\n",
      "> selected: J([13 12  4 17 14 11]) = 0.5030824830469117\n",
      "> selected: J([13 12  4 17 14 11  0]) = 0.5057936168976441\n",
      "> selected: J([13 12  4 17 14 11  1]) = 0.5075656911260626\n",
      "> selected: J([13 12  4 17 14 11  2]) = 0.5194440421995228\n",
      "> selected: J([13 12  4 17 14 11  5]) = 0.5203864285203706\n",
      "> selected: J([13 12  4 17 14 11  7]) = 0.5221104956279339\n",
      "> selected: J([13 12  4 17 14 11 16]) = 0.5251885904846126\n",
      "> selected: J([13 12  4 17 14 11 18]) = 0.5377669070383048\n",
      "> selected: J([13 12  4 17 14 11 38]) = 0.5399332520652249\n",
      "> selected: J([13 12  4 17 14 11 38  0]) = 0.5447993187625922\n",
      "> selected: J([13 12  4 17 14 11 38  2]) = 0.5581587862463334\n",
      "> selected: J([13 12  4 17 14 11 38 18]) = 0.5731631259280882\n",
      "> selected: J([13 12  4 17 14 11 38 20]) = 0.5749303981631815\n",
      "> selected: J([13 12  4 17 14 11 38 24]) = 0.5922040268360429\n"
     ]
    }
   ]
  },
  {
   "cell_type": "code",
   "source": [
    "# Implementacion con librería upcele\n",
    "ss = sfs(Xtrain_norm,ytrain,p)\n",
    "print(ss)"
   ],
   "metadata": {
    "colab": {
     "base_uri": "https://localhost:8080/"
    },
    "id": "BkgjvDfaXDyK",
    "executionInfo": {
     "status": "ok",
     "timestamp": 1679943044017,
     "user_tz": 180,
     "elapsed": 803,
     "user": {
      "displayName": "Domingo Mery",
      "userId": "16662745166436806638"
     }
    },
    "outputId": "17598d3d-bc2a-4bc4-816c-3a1b99e2b2f1"
   },
   "execution_count": 15,
   "outputs": [
    {
     "name": "stdout",
     "output_type": "stream",
     "text": [
      "[13 12  4 17 14 11 38 24]\n"
     ]
    }
   ]
  },
  {
   "cell_type": "code",
   "source": [
    "Xtrain_sel = Xtrain_norm[:,ss]\n",
    "Xtest_sel  = Xtest_norm[:,ss]"
   ],
   "metadata": {
    "id": "xB0ZWmTZZPgt",
    "executionInfo": {
     "status": "ok",
     "timestamp": 1679943044017,
     "user_tz": 180,
     "elapsed": 6,
     "user": {
      "displayName": "Domingo Mery",
      "userId": "16662745166436806638"
     }
    }
   },
   "execution_count": 16,
   "outputs": []
  },
  {
   "cell_type": "code",
   "metadata": {
    "colab": {
     "base_uri": "https://localhost:8080/"
    },
    "id": "q0Ap9UaG8mPL",
    "executionInfo": {
     "status": "ok",
     "timestamp": 1679943044019,
     "user_tz": 180,
     "elapsed": 8,
     "user": {
      "displayName": "Domingo Mery",
      "userId": "16662745166436806638"
     }
    },
    "outputId": "2521655e-82c4-4228-8b70-b0a3f85f2b8c"
   },
   "source": [
    "# Clasificación con 8 caracteristicas seleccionadas\n",
    "\n",
    "acc,C = ClassifierKNN(Xtrain_sel,ytrain,Xtest_sel,ytest,1)\n"
   ],
   "execution_count": 17,
   "outputs": [
    {
     "name": "stdout",
     "output_type": "stream",
     "text": [
      "Entrenando con 375 muestras y probando con 125 muestras\n",
      "Los datos tienen 8 features\n",
      "Testing Accuracy = 92.0%\n",
      "Matriz de Confusión:\n",
      "[[23  0  2  0  0]\n",
      " [ 0 23  0  2  0]\n",
      " [ 0  0 25  0  0]\n",
      " [ 0  0  0 25  0]\n",
      " [ 0  0  0  6 19]]\n"
     ]
    }
   ]
  },
  {
   "cell_type": "code",
   "execution_count": null,
   "outputs": [],
   "source": [],
   "metadata": {
    "collapsed": false
   }
  }
 ]
}
