{
 "nbformat": 4,
 "nbformat_minor": 0,
 "metadata": {
  "colab": {
   "name": "Numero_Alumnx_Eje06.ipynb",
   "provenance": [],
   "collapsed_sections": []
  },
  "kernelspec": {
   "name": "python3",
   "language": "python",
   "display_name": "Python 3 (ipykernel)"
  },
  "language_info": {
   "name": "python"
  }
 },
 "cells": [
  {
   "cell_type": "markdown",
   "metadata": {
    "id": "ldHBGHWGon-Y"
   },
   "source": [
    "# Ejercicio para desarrollar en Clase\n",
    "# Selección de Características<a class=\"tocSkip\">\n",
    "## Reconocimiento de Patrones <a class=\"tocSkip\">\n",
    "### Ingenieria Electrónica <a class=\"tocSkip\">\n",
    "### Universidad Popular del Cesar <a class=\"tocSkip\">\n",
    "### Prof.: Jose Ramón Iglesias Gamarra - [https://github.com/joseramoniglesias/](https://github.com/joseramoniglesias/) <a class=\"tocSkip\">\n",
    "  **joseiglesias@unicesar.edu.co**\n",
    "\n"
   ]
  },
  {
   "cell_type": "markdown",
   "metadata": {
    "id": "zpYuhv665afE"
   },
   "source": [
    "# IMPORTANTE:\n",
    "\n",
    "En este código por favor:\n",
    "\n",
    "*   No agregar celdas nuevas\n",
    "*   No agregar librerías nuevas\n",
    "*   No usar otro nombre de variables\n",
    "*   No cambiar el clasificador ni el número de vecinos del KNN\n",
    "*   No hacer gráficas\n",
    "\n",
    "\n",
    "<font color='red'>Esta tarea será corregida automáticamente, y si no se cumple alguna de las condiciones anteriores, es posible que la tarea no se corrija correctamente.</font>\n",
    "\n",
    "Si quieres hacer modificaciones y probar estrategias distintas, te invito a hacerlo en otro código (no en éste). <font color='red'>Este código debe modificarse sólo en los lugares indicados.</font>\n",
    "\n",
    "<font color='orange'> Evaluación:</font>\n",
    " Este ejercicio tiene n=16 ítems a evaluar, denotados como Q00, Q01, ... Qn a lo largo del notebook como `<Evaluación Qi>`. En tu evaluación (que recibirás en los próximos días) se indicará cómo han sido cada uno de estos n items. Tu nota en este ejercicio será el número de ítems correctamente hechos dividido por n multiplicado por 100 (en escala de 0 a 100%).\n"
   ]
  },
  {
   "cell_type": "markdown",
   "metadata": {
    "id": "XASTjivuu7cO"
   },
   "source": [
    "# Ejercicio 06: Selección de Características para la Detección de espinas de salmón\n",
    "----\n",
    "ENTREGA: se debe desrrollar en clases, <font color='red'>el nombre del archivo debe coincidir con tu número de alumno/a)</font>.\n",
    "\n",
    "----\n",
    "En este ejercicio se realizará la clasificación entre dos clases de \"parches\" de radiogarfías de filetes de salmón de 100x100 pixeles (en escala de grises):\n",
    "\n",
    "* Clase 0: Espinas (contiene parches de filetes de salmón con espinas). [Ver imágenes](https://www.dropbox.com/s/8bbb7yzyrjkl0qs/fishbones_0.png?dl=00)\n",
    "\n",
    "* Clase 1: No-Espinas (contiene parches de filetes de salmón sin espinas) [Ver imágenes](https://www.dropbox.com/s/tdgp3shvk47213c/fishbones_1.png?dl=0)\n",
    "\n",
    "La base de datos contiene 680 imágenes de 100x100 pixeles (340 imágenes por clase).\n",
    "\n",
    "**ADVERTENCIA:** Este ejercicio tiene fines pedagógicos sólamente, con la idea de que la solución a este problema pueda ejecutarse en un par de minutos. Un buen detector de espinas sigue esta idea pero con miles de radiografías por clase.\n",
    "\n",
    "A continuación, en cada PREGUNTA deberás ingresar alguna(s) líneas de código, o completar donde aparezca '<= COMPLETAR AQUI\".\n",
    "\n",
    "\n"
   ]
  },
  {
   "cell_type": "markdown",
   "metadata": {
    "id": "8wtg8r2L7joU"
   },
   "source": [
    "# Pregunta 0: Cambiar nombre de archivo\n",
    "\n",
    "Este archivo debe llamarse `numero de alumnx.ipynb`, si tu número de alumno/a es '12345678J', este código debe llamarse `12345678J.ipynb`. La correción automática busca cada uno de estos archivos (según la lista de alumno/as inscrito/as), si tu código no es encontrado, no se ejecutará y te quedarás sin evaluación.\n"
   ]
  },
  {
   "cell_type": "code",
   "metadata": {
    "colab": {
     "base_uri": "https://localhost:8080/"
    },
    "id": "iCfrF3TI8XQb",
    "outputId": "81ab61fe-1438-470e-c798-97ceccb3711c"
   },
   "source": [
    "print('Espero que hayas cambiado el nombre del archivo... :)')"
   ],
   "execution_count": null,
   "outputs": [
    {
     "output_type": "stream",
     "text": [
      "Espero que hayas cambiado el nombre del archivo... :)\n"
     ],
     "name": "stdout"
    }
   ]
  },
  {
   "cell_type": "markdown",
   "metadata": {
    "id": "R5C53BYjpNl7"
   },
   "source": [
    "# Setup inicial\n",
    "\n",
    "Liberías necesarias para que funcione el algoritmo."
   ]
  },
  {
   "cell_type": "code",
   "metadata": {
    "id": "XX-Xb2Igk2jQ"
   },
   "source": [
    "#\n",
    "# EJECUTAR ESTA CELDA SIN MODIFICARLA\n",
    "#\n",
    "\n",
    "try: \n",
    "  first_execution\n",
    "  first_execution = 0\n",
    "except:\n",
    "  first_execution = 1\n",
    "\n",
    "if first_execution:\n",
    "  from IPython.display import clear_output\n",
    "  !pip install passlib\n",
    "  clear_output()\n",
    "  print('Librerías instaladas.')"
   ],
   "execution_count": 1,
   "outputs": [
    {
     "name": "stdout",
     "output_type": "stream",
     "text": [
      "Librerías instaladas.\n"
     ]
    }
   ]
  },
  {
   "cell_type": "markdown",
   "metadata": {
    "id": "X9daVUmmTSBW"
   },
   "source": [
    "## Setup de librerías"
   ]
  },
  {
   "cell_type": "code",
   "metadata": {
    "id": "xUXeMCxoTRH8"
   },
   "source": [
    "#\n",
    "# EJECUTAR ESTA CELDA SIN MODIFICARLA\n",
    "#\n",
    "if first_execution:\n",
    "  import numpy as np\n",
    "  import matplotlib.pyplot as plt\n",
    "  import os.path\n",
    "  from   sklearn.metrics import confusion_matrix, accuracy_score\n",
    "  from   sklearn.neighbors import KNeighborsClassifier\n",
    "  from   tqdm.auto import tqdm\n",
    "  from   passlib.context import CryptContext\n",
    "  from   requests import get\n",
    "  import pickle\n",
    "  !wget https://www.dropbox.com/s/e7c3c4w3rnza3h5/crypto_0.bin?dl=0\n",
    "  crypt = CryptContext(\n",
    "        schemes=[\"pbkdf2_sha256\"],\n",
    "        default=\"pbkdf2_sha256\",\n",
    "        pbkdf2_sha256__default_rounds=30000\n",
    "  )\n",
    "  with open(\"crypto_0.bin\", \"rb\") as data:\n",
    "    [idc_list] = pickle.load(data) \n",
    "  !rm crypto_0.bin\n",
    "  clear_output()\n",
    "  print('Librerías cargadas.')\n",
    "\n"
   ],
   "execution_count": 2,
   "outputs": [
    {
     "name": "stdout",
     "output_type": "stream",
     "text": [
      "Librerías cargadas.\n"
     ]
    }
   ]
  },
  {
   "cell_type": "markdown",
   "metadata": {
    "id": "dYCCyCrTYVYQ"
   },
   "source": [
    "## Funciones necesarias"
   ]
  },
  {
   "cell_type": "code",
   "metadata": {
    "id": "V7PwerxH4rxx",
    "ExecuteTime": {
     "end_time": "2023-10-04T15:44:20.913933Z",
     "start_time": "2023-10-04T15:44:20.886598700Z"
    }
   },
   "source": [
    "#\n",
    "# EJECUTAR ESTA CELDA SIN MODIFICARLA\n",
    "#\n",
    "\n",
    "def num2fixstr(x,d):\n",
    "  # example num2fixstr(2,5) returns '00002'\n",
    "  # example num2fixstr(19,3) returns '019'\n",
    "  st = '%0*d' % (d,x)\n",
    "  return st\n",
    "\n",
    "def ImageLoad(prefix,num_char,num_img,echo='off'):\n",
    "  st   = prefix + num2fixstr(num_char,2) + '_' + num2fixstr(num_img,4) + '.png'\n",
    "  if echo == 'on':\n",
    "    print('loading image '+st+'...')\n",
    "  img    = plt.imread(st)\n",
    "  return img\n",
    "\n",
    "def MatrixStats(X):\n",
    "  p = np.zeros((6),'int')\n",
    "  n = len(X.shape)\n",
    "  if n>0:\n",
    "    p[0] = X.shape[0]\n",
    "    if n==2:\n",
    "      p[1] = X.shape[1]\n",
    "  p[2] = X.min()\n",
    "  p[3] = X.max()\n",
    "  p[4] = X.mean()\n",
    "  p[5] = X.std()\n",
    "  return p\n",
    "  \n",
    "def CheckMatrix(st,X,ps):\n",
    "  p = MatrixStats(X)\n",
    "  d = p-ps\n",
    "  t = not(np.sum(d)==0)\n",
    "  if t:\n",
    "    print(st + ': Revisar, esta matriz presenta errores...')\n",
    "  else:\n",
    "    print(st + ': ok')\n",
    "  return t\n",
    "\n",
    "def CheckPrint(Y,st=True): \n",
    "  if np.sum(Y)>0:\n",
    "    if st:\n",
    "      print('Revisar, hay error en al menos uno de estos cálculos, no continuar con las siguientes celdas hasta no corregir este error.')\n",
    "    else:\n",
    "      print('Revisar, hay error en al menos uno de los datos personales (no coinciden con los ingresados en la PREGUNTA 0),')\n",
    "      print('NO SUBIR TAREA ANTES DE CORREGIR ESTE ERROR.')\n",
    "      print('(tu ejercicio corre el riesgo de no ser corregido)')\n",
    "  else:\n",
    "    if st:\n",
    "      print('Felicitaciones! Los cálculos han sido realizados correctamente.')\n",
    "    else:\n",
    "      print('Felicitaciones! Los datos coinciden con los ingresados en la Pregunta 0.')\n",
    "\n",
    "\n",
    "def CheckFile(wclass):\n",
    "  st = 'fish_'+num2fixstr(wclass,2)\n",
    "  sfile = st+'_0340.png'\n",
    "  x = os.path.isfile('fishbones/'+sfile)\n",
    "  if x:\n",
    "      print('Imágenes '+st+'*.png: ok')\n",
    "  else:\n",
    "      print('Carga de imágenes '+st+' presentan errores.')\n",
    "  return not(x)\n",
    "\n",
    "chk = [[680,10,159,3876,1000,609],[680,0,0,100,50,50],[640,10,-3,4,0,1],[40,10,-2,2,0,0],[640,0,0,100,50,50],[40,0,0,100,50,50],[2,2,2,18,10,7],[5,0,1,9,5,3],[640,5,-3,4,0,1],[40,5,-1,2,0,0],[2,2,2,18,10,8]]\n",
    "\n",
    "# Separación entre training y testing\n",
    "def SplitTrainTest(X,y,n):\n",
    "\n",
    "  K      = np.max(y)+1              # número de clases\n",
    "  N      = np.int(X.shape[0]/K)     # numeros de muestras por clase\n",
    "  Ntrain = n*K                      # número de muestras para el training\n",
    "  Ntest  = K*N-Ntrain               # número de muestras para el testing\n",
    "  M      = X.shape[1]               # número de características por muestra\n",
    "  Xtrain = np.zeros((Ntrain,M))     # subset de training\n",
    "  ytrain = np.zeros((Ntrain),'int') # ground truth del training         \n",
    "  Xtest  = np.zeros((Ntest,M))      # subset de testing\n",
    "  ytest  = np.zeros((Ntest),'int')  # ground truth del testing  \n",
    "\n",
    "  # contadores\n",
    "  itrain = 0\n",
    "  itest  = 0\n",
    "  t      = 0\n",
    "\n",
    "  for j in range(K):     # para cada clase\n",
    "    for i in range(N):   # para cada imagen de la clase\n",
    "      if i<n: # training\n",
    "        Xtrain[itrain,:] = X[t,:]\n",
    "        ytrain[itrain] = y[t]\n",
    "        itrain = itrain+1\n",
    "      else:  # testing\n",
    "        Xtest[itest,:] = X[t,:]\n",
    "        ytest[itest] = y[t]\n",
    "        itest = itest+1\n",
    "      t = t+1\n",
    "  \n",
    "  return Xtrain,ytrain,Xtest,ytest\n",
    "\n",
    "# Clasificación usando KNN con 1 vecino\n",
    "def ClassifierKNN(Xtrain,ytrain,Xtest,ytest,echo ='on'):\n",
    "  #Xtrain, a, b = normalize(Xtrain)\n",
    "  #Xtest        = Xtest * a + b\n",
    "  knn = KNeighborsClassifier(n_neighbors=1)\n",
    "  knn.fit(Xtrain, ytrain)\n",
    "  ypred        = knn.predict(Xtest)\n",
    "  acc          = accuracy_score(ytest,ypred)\n",
    "  C = confusion_matrix(ytest,ypred)\n",
    "  if echo == 'on':\n",
    "    print('Entrenando con '+str(Xtrain.shape[0])+' muestras y probando con '+str(Xtest.shape[0])+' muestras')\n",
    "    print('Los datos tienen '+str(Xtrain.shape[1])+' features')\n",
    "    print('Testing Accuracy = '+str(acc*100)+'%')\n",
    "    print('Matriz de Confusión:')\n",
    "    print(C)\n",
    "  return acc,C\n",
    "\n",
    "def file_verify(idt):\n",
    "  k = -1\n",
    "  idt_file = idt+'.ipynb'\n",
    "  my_filename = get('http://172.28.0.2:9000/api/sessions').json()[0]['name']\n",
    "  if idt_file==my_filename:\n",
    "    print('Bien! nombre de archivo coincide con tu número de alumnx.')\n",
    "    k = 0\n",
    "  else:\n",
    "    print('ADVERTENCIA: El nombre de archivo de este código no coincide con la variable NumeroID (número de alumnx). Esta tarea no podrá ser corregida.')\n",
    "    print('Nombre de archivo: '+my_filename)\n",
    "    print('  Nombre esperado: '+idt_file)\n",
    "\n",
    "  return k\n",
    "\n",
    "def id_verify(idt,idc_list):\n",
    "  ok = False\n",
    "  idt = idt.upper()\n",
    "  k = -1\n",
    "  n = len(idc_list)\n",
    "  for i in range(n):\n",
    "    oki = crypt.verify(idt,idc_list[i])\n",
    "    ok = ok or oki\n",
    "    if oki:\n",
    "      k = i\n",
    "  if k==-1:\n",
    "    print('ADVERTENCIA: Este ID no se encuentra registrado, contacte al profesor del curso.')\n",
    "  else:\n",
    "    print('Bien! ID '+idt+' registrado en la lista del curso.')\n",
    "  return k\n",
    "\n",
    "def verify(idt):\n",
    "  kID   = id_verify(NumeroID,idc_list)\n",
    "  kFile = file_verify(NumeroID)\n",
    "  if kID == -1 or kFile == -1:\n",
    "    k = 1\n",
    "  else:\n",
    "    k = 0\n",
    "  return k\n",
    "\n",
    "def FinalCheck(T):\n",
    "  n = len(T)\n",
    "  for i in range(n):\n",
    "    if T[i]==1:\n",
    "      print('Error: El código presenta error en la evaluación de Q'+num2fixstr(i,2))\n",
    "  if sum(T)>0:\n",
    "    print('Este código presenta errores. Es recomendable revisarlo antes de subirlo a Google Classroom.')\n",
    "  else:\n",
    "    print('FELICITACIONES!!! El código no presenta errores. Puedes subirlo a Google Classroom.')\n",
    "\n",
    "print('Funciones necesarias ejecutadas.')"
   ],
   "execution_count": 3,
   "outputs": [
    {
     "name": "stdout",
     "output_type": "stream",
     "text": [
      "Funciones necesarias ejecutadas.\n"
     ]
    }
   ]
  },
  {
   "cell_type": "markdown",
   "source": [
    "# Otras Funciones"
   ],
   "metadata": {
    "collapsed": false
   }
  },
  {
   "cell_type": "code",
   "execution_count": 4,
   "outputs": [],
   "source": [
    "def jfisher(features, ypred, p=None):\n",
    "  m = features.shape[1]\n",
    "\n",
    "  norm = ypred.ravel() - ypred.min()\n",
    "  max_class = norm.max() + 1\n",
    "\n",
    "  if p is None:\n",
    "    p = np.ones(shape=(max_class, 1)) / max_class\n",
    "\n",
    "  # Centroid of all samples\n",
    "  features_mean = features.mean(0)\n",
    "\n",
    "  # covariance within class \n",
    "  cov_w = np.zeros(shape=(m, m))\n",
    "\n",
    "  # covariance between classes\n",
    "  cov_b = np.zeros(shape=(m, m))\n",
    "\n",
    "  for k in range(max_class):\n",
    "    ii = (norm == k)                                   # indices from class k\n",
    "    class_features = features[ii,:]                    # samples of class k\n",
    "    class_mean = class_features.mean(0)                # centroid of class k \n",
    "    class_cov = np.cov(class_features, rowvar=False)   # covariance of class k\n",
    "\n",
    "    cov_w += p[k] * class_cov                          # within-class covariance\n",
    "\n",
    "    dif = (class_mean - features_mean).reshape((m, 1))\n",
    "    cov_b += p[k] * dif @ dif.T                        # between-class covariance\n",
    "  try:\n",
    "    return np.trace(np.linalg.inv(cov_w) @ cov_b)\n",
    "  except np.linalg.LinAlgError:\n",
    "    return - np.inf\n",
    "\n",
    "def lbp(img,hdiv=1, vdiv=1, mapping='nri_uniform',norm=False,names=False):\n",
    "  if mapping == 'nri_uniform':\n",
    "    n_bins = 59\n",
    "    st     = 'LBP'\n",
    "  else:\n",
    "    n_bins = 10\n",
    "    st     = 'LBPri'\n",
    "  (nv,nh) = (vdiv,hdiv)\n",
    "  nn  = int(np.fix(img.shape[0]/nv))\n",
    "  mm  = int(np.fix(img.shape[1]/nh))\n",
    "  k = 0\n",
    "  for r in range(0,img.shape[0] - nn+1, nn):\n",
    "    for c in range(0,img.shape[1] - mm+1, mm):\n",
    "      w = img[r:r+nn,c:c+mm]\n",
    "      lbp = local_binary_pattern(w,8,1,mapping)\n",
    "      (xrc, _) = np.histogram(lbp.ravel(), bins=n_bins,range=(0, n_bins))\n",
    "      if k==0:\n",
    "        X = xrc\n",
    "        k = 1\n",
    "      else:\n",
    "        X = np.concatenate((X,xrc))\n",
    "  if norm:\n",
    "    X = X/np.linalg.norm(X)\n",
    "  if names==True:\n",
    "    Xn = []\n",
    "    for i in range(vdiv):\n",
    "      for j in range(hdiv):\n",
    "        for k in range(n_bins):\n",
    "          Xn.append(st+'('+str(i)+','+str(j)+')-'+str(k))\n",
    "    return X,Xn\n",
    "  else:\n",
    "    return X\n",
    "\n",
    "def minmax(X):\n",
    "  ma = X.max(0)\n",
    "  mi = X.min(0)\n",
    "  md    = ma-mi\n",
    "  a     = 1/ md\n",
    "  b     = -mi/md\n",
    "  return X * a + b, a, b\n",
    "\n",
    "def mean0(X):\n",
    "  mf = X.mean(0)\n",
    "  sf = X.std(0)\n",
    "  a  = 1/sf;\n",
    "  b  = -mf/sf;\n",
    "  return X * a + b, a, b  "
   ],
   "metadata": {
    "collapsed": false,
    "ExecuteTime": {
     "end_time": "2023-10-04T15:44:26.384736200Z",
     "start_time": "2023-10-04T15:44:26.365466900Z"
    }
   }
  },
  {
   "cell_type": "markdown",
   "metadata": {
    "id": "BDp6KJgkIryf"
   },
   "source": [
    "# PREGUNTA 0: Datos personales\n",
    "\n",
    "Ingresa tus datos para poder evaluarte, \n",
    "<font color='red'>si tus datos son incorrectos, este ejercicio no podrá ser corregido y por lo tanto no tendrás nota en esta actividad.</font>"
   ]
  },
  {
   "cell_type": "code",
   "metadata": {
    "id": "A1SQFdnJJitN"
   },
   "source": [
    "NumeroID         = '???'   # <= COMPLETAR AQUI NUMERO DE ALUMNO/A ENTRE APOSTROFES\n",
    "PrimerNombre     = '???'   # <= COMPLETAR AQUI TU PRIMER NOMBRE\n",
    "PrimerApellido   = '???'   # <= COMPLETAR AQUI TU PRIMER APELLIDO\n",
    "Correo           = '???'   # <= COMPLETAR AQUI TU CORREO ELECTRONICO\n",
    "\n",
    "stid             = PrimerNombre+' '+PrimerApellido+' (ID:'+NumeroID+', email:'+Correo+'):'\n",
    "print('Registro: '+stid)\n"
   ],
   "execution_count": null,
   "outputs": []
  },
  {
   "cell_type": "code",
   "metadata": {
    "id": "xZQ6-HJ7sz6X"
   },
   "source": [
    "#\n",
    "# EJECUTAR ESTA CELDA PARA EVALUAR EL INGRESO DE DATOS PERSONALES\n",
    "#\n",
    "\n",
    "T = np.ones((17),'int')\n",
    "T[0] = verify(NumeroID) # <Evaluación Q00>\n"
   ],
   "execution_count": null,
   "outputs": []
  },
  {
   "cell_type": "markdown",
   "metadata": {
    "id": "sOcwbiQYYPag"
   },
   "source": [
    "# PREGUNTA 1: Carga de base de datos\n",
    "\n",
    "La base de datos consiste en 2 clases con 340 imágenes por clase. Se almacenan en la carpeta `fishbones` con el formato `fish_xx_nnnn.png`, donde `xx` es el ID de la clase (00 para espinas, 02 para no-espinas) y `nnnn` es el número de la foto de la clase (0001, 0002, ... 0340). Las radiografías son de 100x100 pixeles en escala de grises.\n",
    "\n",
    "\n",
    "En esta celda debes cargar la base de datos a este ambiente de trabajo, descargando el archivo fishbones.zip que se encuentra en este link: `https://www.dropbox.com/s/0pjl68wbxxoghsw/fishbones.zip`. Una vez descargado el archivo zip, debes descomprimirlo.\n",
    "\n",
    "AYUDA: usar comando `!wget <url archivo zip>` para descargar el archivo, y el comando `!unzip <archivo zip>` para descomprimirlo.\n",
    "\n"
   ]
  },
  {
   "cell_type": "code",
   "metadata": {
    "id": "BMYOlpLpzHQJ",
    "colab": {
     "base_uri": "https://localhost:8080/"
    },
    "outputId": "35148531-f2cf-4d4b-cc52-f8ae40ed0899"
   },
   "source": [
    "# Carga de base de datos\n",
    "\n",
    "# COMPLETAR AQUI DOS LINEAS DE CODIGO\n",
    "# Linea 1: comando para bajar archivo zip desde dropbox\n",
    "# Linea 2: comando para descomprimir el archivo zip bajado en la linea 1\n",
    "# Al final de la ejecucion debe haberse creado la carpeta fishbones con 680 imágenes\n",
    "\n",
    "\n",
    "??? # <- COMPLETAR AQUI LINEA 1\n",
    "??? # <- COMPLETAR AQUI LINEA 2\n",
    "\n",
    "\n",
    "!rm fishbones.zip\n",
    "clear_output()\n",
    "print('Base de datos fishbones cargada.')"
   ],
   "execution_count": null,
   "outputs": [
    {
     "output_type": "stream",
     "text": [
      "Base de datos fishbones cargada.\n"
     ],
     "name": "stdout"
    }
   ]
  },
  {
   "cell_type": "code",
   "metadata": {
    "id": "zVLMo65Dcjec"
   },
   "source": [
    "#\n",
    "# EJECUTAR ESTA CELDA PARA EVALUAR LA CARGA DE LA BASE DE DATOS\n",
    "#\n",
    "\n",
    "T[1] = CheckFile(0) # <Evaluación Q01>\n",
    "T[2] = CheckFile(1) # <Evaluación Q02>\n",
    "CheckPrint(T[1:3])"
   ],
   "execution_count": null,
   "outputs": []
  },
  {
   "cell_type": "markdown",
   "metadata": {
    "id": "yYHxPwnTYhXs"
   },
   "source": [
    "# PREGUNTA 2: Extracción de características\n",
    "\n",
    "En esta pregunta se debe realizar la extracción de características de la imagen `img`. Las características a extraer son las basadas en LBP y se extraen usando los siguientes comandos de la librería PyBalu:\n",
    "\n",
    "## Cómo extraer características LBP rotación-invairiante:\n",
    "\n",
    "Con el comando\n",
    "\n",
    "`f  = lbp(img, hdiv=a, vdiv=b, mapping='uniform')`\n",
    "\n",
    "se divide la imagen `img` en `a x b` particiones y en cada una de ellas se extrae el descriptor LBP (vector de 10 elementos). En este caso `f` es un vector de `10*a*b` elementos. En este ejercicio trabajaremos con `a = b = 1`, es decir sólo una partición por imagen.\n",
    "\n"
   ]
  },
  {
   "cell_type": "code",
   "metadata": {
    "id": "ASGRTqKTLYNa"
   },
   "source": [
    "print('Ejecución de '+stid)\n",
    "\n",
    "K    = ???    # <= COMPLETAR AQUI EL NUMERO DE CLASES\n",
    "N    = ???    # <= COMPLETAR AQUI EL NUMERO DE IMAGENES POR CLASE\n",
    "Mlbp = ???    # <= COMPLETAR AQUI EL NUMERO DE ELEMENTOS DEL VECTOR LBP (INVARIANTE A LA ROTACION)\n",
    "\n",
    "Xlbp  = np.zeros((K*N,Mlbp))    # K*N muestras (filas), y Mlbp características (columnas)\n",
    "\n",
    "y     = np.zeros((K*N),'int')   # ground truth (clasificacion ideal)\n",
    "\n",
    "t = 0\n",
    "print('Cargando imagenes y extrayendo características...')\n",
    "for j in range(K):            # para cada clase\n",
    "  print('Extrayendo características: batch '+str(j+1)+'/'+str(K))\n",
    "  for i in tqdm(range(N)):                # para cada imagen de la clase\n",
    "    # Lectura de la imagen\n",
    "    img    = 255*ImageLoad('fishbones/fish_',j,i+1,echo='off')\n",
    "\n",
    "    # Extracción de LBP invariante a la rotación  de 1x1 particiones\n",
    "    Xlbp[t,:] = ??? # <= COMPLETAR AQUI PARA EXTRAER LBP (VER HELP MAS ARRIBA)\n",
    "\n",
    "    y[t] = j # la muestra t pertenece a la clase j\n",
    "    t = t+1\n",
    "\n"
   ],
   "execution_count": null,
   "outputs": []
  },
  {
   "cell_type": "code",
   "metadata": {
    "id": "sBWnDAZRwypQ"
   },
   "source": [
    "#\n",
    "# EJECUTAR ESTA CELDA PARA EVALUAR LA EXTRACCiÓN DE CARACTERÍSTICAS\n",
    "#\n",
    "\n",
    "T[3] = CheckMatrix('Xlbp',Xlbp,chk[0])     # <Evaluación Q03>\n",
    "T[4] = CheckMatrix('y   ',y*100,chk[1])    # <Evaluación Q04>\n",
    "CheckPrint(T[3:5])"
   ],
   "execution_count": null,
   "outputs": []
  },
  {
   "cell_type": "markdown",
   "metadata": {
    "id": "Xd5riXIEhUgS"
   },
   "source": [
    "# Pregunta 3: Clasificación con todas las características\n",
    "\n",
    "En todos los experimentos usaremos 320 muestras por clase para training y el resto (20) para testing.\n",
    "\n",
    "Como primer experimento clasificaremos usando todas las características extraídas, es decir con 10 características. Para la separación train/test usaremos la función `SplitTrainTest`. Para la clasificación usaremos la función `ClassifierKNN`.\n",
    "\n",
    "<font color='orange'>Se recomienda estudiar bien las dos líneas de código que hacen la normalización.</font>\n",
    "\n",
    "\n",
    "\n"
   ]
  },
  {
   "cell_type": "code",
   "metadata": {
    "id": "IpghwJ6MOoz2"
   },
   "source": [
    "# Definición de datos de entrada\n",
    "X = ???                         # <= COMPLETAR AQUI LA MATRIZ DE LAS CARACTERISTICAS LBP EXTRAIDAS\n",
    "\n",
    "# Separación de datos de Training/Testing\n",
    "ntrain = ???                    # <= COMPLETAR AQUI EL NUMERO DE MUESTRAS POR CLASE PARA EL TRAINING\n",
    "Xtrain,ytrain,Xtest,ytest = ??? # <= COMPLETAR AQUI LA SEPARACIÓN TRAINING/TESTING\n",
    "\n",
    "# Normalización (paso 1): cada columna del training es escalada a numeros entre 0 y 1\n",
    "Xtrain, a, b = normalize(Xtrain)\n",
    "\n",
    "# Normalización (paso 2): cada columna del testing es escalda usando el escalamiento del training\n",
    "# Observar que los factores de escalamiento (a,b) dependen de los datos del training y no del testing.\n",
    "Xtest        = Xtest * a + b\n",
    "\n",
    "# Clasificación y evaluación\n",
    "acc,C_all = ???                 # <= COMPLETAR AQUI LA LÍNEA DE CÓDIGO QUE REALIZA LA CLASIFICACIÓN\n"
   ],
   "execution_count": null,
   "outputs": []
  },
  {
   "cell_type": "code",
   "metadata": {
    "id": "qA_TkfahVc3m"
   },
   "source": [
    "#\n",
    "# EJECUTAR ESTA CELDA PARA EVALUAR LA SEPARACIÓN TRAIN/TEST Y SU CLASIFICACIÓN\n",
    "#\n",
    "\n",
    "T[5]  = CheckMatrix('X     ',X,chk[0])          # <Evaluación Q05>\n",
    "T[6]  = CheckMatrix('Xtrain',Xtrain,chk[2])     # <Evaluación Q06>\n",
    "T[7]  = CheckMatrix('Xtest ',Xtest,chk[3])      # <Evaluación Q07>\n",
    "T[8]  = CheckMatrix('ytrain',ytrain*100,chk[4]) # <Evaluación Q08>\n",
    "T[9]  = CheckMatrix('ytest ',ytest*100,chk[5])  # <Evaluación Q09>\n",
    "T[10] = CheckMatrix('C_all' ,C_all,chk[6])      # <Evaluación Q10>\n",
    "CheckPrint(T[5:11])"
   ],
   "execution_count": null,
   "outputs": []
  },
  {
   "cell_type": "markdown",
   "metadata": {
    "id": "lR0Y6PEKxL8s"
   },
   "source": [
    "# PREGUNTA 4: Selección de características usando \"Búsqueda Exhaustiva\"\n",
    "\n",
    "En este ejemplo buscaremos las q=5 mejores características de las m=10 extraídas. La búsqueda exhaustiva -en este caso- evalúa todas las combinaciones de 5 características (sin repetición), es decir, evalúa las siguientes m!/(q! x (m-q!) = 10!/(5! x (10-5)!) = 252 combinaciones:\n",
    "\n",
    "* Combinación 1: (0,1,2,3,<font color='orange'> 4 </font> )\n",
    "\n",
    "* Combinación 2: (0,1,2,3,<font color='orange'> 5 </font>)\n",
    "\n",
    "* Combinación 3: (0,1,2,3,<font color='orange'> 6 </font>)\n",
    "\n",
    "* Combinación 4: (0,1,2,3,<font color='orange'> 7 </font>)\n",
    "\n",
    "* Combinación 5: (0,1,2,3,<font color='orange'> 8 </font>)\n",
    "\n",
    "* Combinación 6: (0,1,2,3,<font color='orange'> 9 </font>)\n",
    "\n",
    "* Combinación 7: (0,1,2,<font color='magenta'> 4 </font>,<font color='cyan'> 5 </font>) -> la combinación (0,1,2,3,4,0) no se evalúa porque se repite el 0, además la combinación (0,1,2,4,3) tampoco se evalúa porque ya fue evaluada en la combinación 1 (en otro orden).\n",
    "\n",
    "* Combinación 8: (0,1,2,<font color='magenta'> 4 </font>,<font color='cyan'> 6 </font>)\n",
    "\n",
    "* Combinación 9: (0,1,2,<font color='magenta'> 4 </font>,<font color='cyan'> 7 </font>)\n",
    "\n",
    "* :\n",
    "\n",
    "* Combinación 252: (5,6,7,8,9)\n",
    "\n",
    "La búsqueda exhaustiva escoge la \"mejor\" de estas 252 combinaciones. La mejor combinación será aquella que tenga la mayor \"separabilidad\" entre las clases. Para obtener un \"score\" de la separabilidad de las características podemos usar la función de Fisher que mide qué tan compactas están cada una de las clases, y qué tan separadas están entre ellas. Una buena separabilidad (un buen \"score\") se obtiene si en el espacio de características, las clases son compactas y la separación entre ellas es grande. Este \"score\" está implementado en la función `jfisher`. Entre más grande el \"score\" mayor es la separabilidad. En la búsqueda exhaustiva buscamos aquella combinación que maximiza el score entregado por `jfisher`.\n",
    "\n",
    "## Ejemplo de cómo usar `jfisher`:\n",
    "\n",
    "A manera de ejemplo, vamos a suponer que hemos almacenado en `Z` la extracción de 20 características de 1000 muestras, es decir el tamaño de esta matriz `Z` es de 1000x20. Adicionalmente, la clasificación ideal de estas 1000 muestras se encuentra almacenada en la variable `d` de 1000 elementos. En este ejemplo, los elementos de `d` toman los valores 0, 1, 2 ó 3 (porque hay 4 clases).\n",
    "\n",
    "En este ejemplo, deseamos evaluar el \"score\" de las características (3,15,17). Para evaluar el desempeño de estas tres características seguimos estos cuatro pasos:\n",
    "\n",
    "* Definimos `i1=3`, `i2=15`, y `i3=17`.\n",
    "\n",
    "* Definimos `ii = (i1,i2,i3)`.\n",
    "\n",
    "* Escogemos de `Z` las columnas indexadas por `ii` usando `Z_sel = Z[:,ii]`. Ahora `Z_sel` tiene 1000 muestras y 3 columnas. \n",
    "\n",
    "* Para obtener el \"score\" de estas características seleccionadas, usamos el comando: `score = jfisher(Z_sel,d)`\n",
    "\n",
    "En este ejemplo, en la variable `score` hemos almacenado la evaluación de la función de Fisher de la separabilidad para la selección de las columas (3,15,17).\n",
    "\n",
    "En el siguiente código es necesario implementar la búsqueda exhaustiva. El input de este código es la matriz `Xtrain` de 640x10 elementos, y el vector `ytrain` de 640 elementos, la salida debe ser el vector `best_indices` de 5 números distintos entre 0 y 9 (ya que existen 10 características en `Xtrain` y se escogen 5), que corresponde a la mejor combinación de características. En este código se hacen 252 evaluaciones de la función de Fisher, una para cada combinación, y se selecciona aquella combinación que maximiza la función de Fisher.\n",
    "\n",
    "La búsqueda exhaustiva se realiza con cinco contadores `(i1,i2,i3,i4,i5)` para cada una de las 5 características. Como nuestros datos tienen 10 características, es necesario observar que \n",
    "\n",
    "* `i1` debe contar de 0 a 5\n",
    "\n",
    "* `i2` debe contar de `i1+1` a 6\n",
    "\n",
    "* `i3` debe contar de `i2+1` a 7\n",
    "\n",
    "* `i4` debe contar de `i3+1` a 8\n",
    "\n",
    "* `i5` debe contar de `i4+1` a 9\n",
    "\n",
    "En esta implemantación, `i1 < i2 < i3 < i4 < i5`, de esta manera 1) se recorren todos los índices sin repetirse, es decir la combinación (1,1,2,3,4) no debe evaluarse, y 2) no se evalúan combinaciones que ya han sido evaluadas anteriormente, es decir si evaluó (1,2,3,4,5), no se evalúa (3,2,1,4,5) ya que ambas combinaciones tienen el mismo \"score\".\n",
    "\n",
    "\n",
    "<font color='red'> IMPORTANTE: La ejecución de este algoritmo se aborta si se intenta evaluar la función de Fisher más de 252 veces.\n",
    "\n"
   ]
  },
  {
   "cell_type": "code",
   "metadata": {
    "id": "cCs0G7aCx9qE"
   },
   "source": [
    "#######################################################################\n",
    "# AYUDA: Hay que leer y entender el texto anterior (de la Pregunta 4) #\n",
    "#######################################################################\n",
    "\n",
    "\n",
    "m = X.shape[???]              # <= COMPLETAR AQUI EL NÚMERO DE CARACTERÍSTICAS DE X, NO PONER m = 10 \n",
    "score_max = 0                 # Inicialización del score máximo\n",
    "best_indices = (-1,-1,-1)     # Inicialización de las columnas seleccionadas\n",
    "p = 0                         # Contador de evaluaciones\n",
    "for i1 in range(???):         # <= COMPLETAR AQUI EL RANGO DE LA VARIABLE i1 (PRIMERA COLUMNA SELECCIONADA)\n",
    "  for i2 in range(???):       # <= COMPLETAR AQUI EL RANGO DE LA VARIABLE i2 (SEGUNDA COLUMNA SELECCIONADA)\n",
    "    for i3 in range(???):     # <= COMPLETAR AQUI EL RANGO DE LA VARIABLE i3 (TERCERA COLUMNA SELECCIONADA)\n",
    "      for i4 in range(???):   # <= COMPLETAR AQUI EL RANGO DE LA VARIABLE i4 (CUARTA COLUMNA SELECCIONADA)\n",
    "        for i5 in range(???): # <= COMPLETAR AQUI EL RANGO DE LA VARIABLE i5 (QUINTA COLUMNA SELECCIONADA) \n",
    "          if p>252:\n",
    "            break\n",
    "          p = p+1\n",
    "          ii = (i1,i2,i3,i4,i5)\n",
    "          Xtrain_sel = ???    # <= COMPLETAR AQUI CON LAS 5 COLUMNAS DE Xtrain INDICADAS POR ii\n",
    "          score = ???         # <= COMPLETAR AQUI CON LA FUNCIÓN DE FISHER PARA OBTENER EL SCORE DE Xtrain_sel\n",
    "          if score > score_max:\n",
    "            score_max = score\n",
    "            best_indices = ii\n",
    "            print('nuevo máximo encontrado: score = '+\"{:.4f}\".format(score_max)+' para la combinación '+str(ii))\n",
    "if p==252:\n",
    "  print('Se evaluaron '+str(p)+' combinaciones.')\n",
    "  print('Las 5 características seleccionadas son: '+str(best_indices))\n",
    "else:\n",
    "  print('*** ADVERTENCIA ***')\n",
    "  print('El código se ha interrumpido porque ha intentado evaluar más 252 combinaciones.')\n",
    "  print('Es necesario optimzar este código antes de continuar.')\n"
   ],
   "execution_count": null,
   "outputs": []
  },
  {
   "cell_type": "code",
   "metadata": {
    "id": "vEow_ylpmrmK"
   },
   "source": [
    "#\n",
    "# EJECUTAR ESTA CELDA PARA EVALUAR LA BÚSQUEDA EXHAUSTIVA\n",
    "#\n",
    "\n",
    "T[11] = CheckMatrix('best_indices',np.array(best_indices),chk[7])          # <Evaluación Q11>\n",
    "CheckPrint(T[11])"
   ],
   "execution_count": null,
   "outputs": []
  },
  {
   "cell_type": "markdown",
   "metadata": {
    "id": "JLO9YK1BnZc8"
   },
   "source": [
    "# PREGUNTA 5: Clasificación con características seleccionadas\n",
    "\n",
    "A continuación se definen las matrices `Xtrain_sel` (de 640x5 elementos) y `Xtest_sel` (de 40x5) elementos, tomando las columnas seleccionadas de `Xtrain` y `Xtest` respectivamente usando los índices encontrados en `best_indices`.\n",
    "\n",
    "Finalmente, entrenamos y probamos el clasificador con estos nuevos datos. No es necesario definir `ytrain_sel` y `ytest_sel` porque son iguales a `ytrain` y `ytest` respectivamente"
   ]
  },
  {
   "cell_type": "code",
   "metadata": {
    "id": "YXXuDNFlK1BM"
   },
   "source": [
    "Xtrain_sel = ??? # <= COMPLETAR AQUI: SELECCIONAR LAS COLUMNAS DE Xtrain\n",
    "Xtest_sel  = ??? # <= COMPLETAR AQUI: SELECCIONAR LAS COLUMNAS DE Xttest\n",
    "acc,C_sel  = ??? # <= COMPLETAR AQUI LA LÍNEA DE CÓDIGO QUE REALIZA LA CLASIFICACIÓN\n"
   ],
   "execution_count": null,
   "outputs": []
  },
  {
   "cell_type": "markdown",
   "metadata": {
    "id": "4jPRGF19lVSd"
   },
   "source": [
    "<font color='orange'> APRENDIZAJE: Si has hecho los pasos correctamente, observarás que con 5 características se obtienen en este problema un mejor desempeño que con 10 características. En esta solución, con selección de características, hemos subido el accuracy en 5%.\n"
   ]
  },
  {
   "cell_type": "code",
   "metadata": {
    "id": "XMBrIJtBnVHK"
   },
   "source": [
    "#\n",
    "# EJECUTAR ESTA CELDA PARA EVALUAR LA EXTRACCiÓN DE CARACTERÍSTICAS\n",
    "#\n",
    "\n",
    "T[12] = CheckMatrix('Xtrain_sel',Xtrain_sel,chk[8])     # <Evaluación Q12>\n",
    "T[13] = CheckMatrix('Xtest_sel ',Xtest_sel,chk[9])      # <Evaluación Q13>\n",
    "T[14] = CheckMatrix('C_sel     ',C_sel,chk[10])      # <Evaluación Q14>\n",
    "CheckPrint(T[12:15])"
   ],
   "execution_count": null,
   "outputs": []
  },
  {
   "cell_type": "markdown",
   "metadata": {
    "id": "UMiYVLNzti_q"
   },
   "source": [
    "# PREGUNTA 6: Verificar datos personales\n",
    "\n",
    "<font color='red'> **ADVERTENCIA:** En este ejercicio en necesario que revises bien tus datos personales. Si no son correctos, no tendrás nota en este ejercicio."
   ]
  },
  {
   "cell_type": "code",
   "metadata": {
    "id": "WnFyXDtsuFOj"
   },
   "source": [
    "# POR FAVOR VUELVE A DIGITAR ESTOS DATOS PARA VERIFICAR QUE NO HAYA ERRORES DE TIPEO\n",
    "NumeroID_2       = '???' # <= COMPLETAR AQUI NUMERO DE ALUMNO/A ENTRE APOSTROFES\n",
    "Correo_2         = '???' # <= COMPLETAR AQUI TU CORRECO ELECTRONICO"
   ],
   "execution_count": null,
   "outputs": []
  },
  {
   "cell_type": "code",
   "metadata": {
    "id": "NWTNp7TXubNc"
   },
   "source": [
    "#\n",
    "# EJECUTAR ESTA CELDA PARA VERIFICAR SI LOS DATOS COINCIDEN CON LOS YA INGRESADOS\n",
    "#\n",
    "\n",
    "T[15] = NumeroID != NumeroID_2  # <Evaluación Q15>\n",
    "T[16] = Correo   != Correo_2    # <Evaluación Q16>\n",
    "CheckPrint(T[15:17],0)"
   ],
   "execution_count": null,
   "outputs": []
  },
  {
   "cell_type": "markdown",
   "metadata": {
    "id": "RIffHnis4bIp"
   },
   "source": [
    "# PASO FINAL: Verificar todas las respuestas y mostar la tarea\n",
    "\n"
   ]
  },
  {
   "cell_type": "code",
   "metadata": {
    "id": "tjzQrA3Oq6PA"
   },
   "source": [
    "# CHEQUEO FINAL DE TODOS LAS PREGUNTAS\n",
    "T = np.ones((17),'int')\n",
    "print('Verificación de ID y nombre de archivo:')\n",
    "T[0]  = verify(NumeroID)                                                     # <Evaluación Q00>\n",
    "print('--------------------------------------------------- ')\n",
    "T[1]  = CheckFile(0)                                                         # <Evaluación Q01>\n",
    "T[2]  = CheckFile(1)                                                         # <Evaluación Q02>\n",
    "T[3]  = CheckMatrix('Xlbp                 ',Xlbp,chk[0])                     # <Evaluación Q03>\n",
    "T[4]  = CheckMatrix('y                    ',y*100,chk[1])                    # <Evaluación Q04>\n",
    "T[5]  = CheckMatrix('X                    ',X,chk[0])                        # <Evaluación Q05>\n",
    "T[6]  = CheckMatrix('Xtrain               ',Xtrain,chk[2])                   # <Evaluación Q06>\n",
    "T[7]  = CheckMatrix('Xtest                ',Xtest,chk[3])                    # <Evaluación Q07>\n",
    "T[8]  = CheckMatrix('ytrain               ',ytrain*100,chk[4])               # <Evaluación Q08>\n",
    "T[9]  = CheckMatrix('ytest                ',ytest*100,chk[5])                # <Evaluación Q09>\n",
    "T[10] = CheckMatrix('C_all                ' ,C_all,chk[6])                   # <Evaluación Q10>\n",
    "T[11] = CheckMatrix('best_indices         ',np.array(best_indices),chk[7])   # <Evaluación Q11>\n",
    "T[12] = CheckMatrix('Xtrain_sel           ',Xtrain_sel,chk[8])               # <Evaluación Q12>\n",
    "T[13] = CheckMatrix('Xtest_sel            ',Xtest_sel,chk[9])                # <Evaluación Q13>\n",
    "T[14] = CheckMatrix('C_sel                ',C_sel,chk[10])                   # <Evaluación Q14>\n",
    "T[15] = NumeroID != NumeroID_2                                               # <Evaluación Q15>\n",
    "T[16] = Correo   != Correo_2                                                 # <Evaluación Q16>\n",
    "print('--------------------------------------------------- ')\n",
    "FinalCheck(T)\n",
    "print('--------------------------------------------------- ')\n"
   ],
   "execution_count": null,
   "outputs": []
  },
  {
   "cell_type": "markdown",
   "metadata": {
    "id": "pKf9Yt3C-POh"
   },
   "source": [
    "<font color='red'> **ADVERTENCIA FINAL:** Debes verificar que todas las celdas de este código hayan sido ejecutadas sin error. Si durante la evaluación automática tu código \"se cae\" en una celda, las siguientes celdas no serán ejecutadas (ni evaludas). \n",
    "\n",
    "<font color='orange'> Este archivo, que debe llamarse [tu NumeroID].ipynb, debe mostrarsele al profesor en la actividad Ejercicio 06.\n"
   ]
  },
  {
   "cell_type": "code",
   "execution_count": null,
   "outputs": [],
   "source": [],
   "metadata": {
    "collapsed": false
   }
  }
 ]
}
