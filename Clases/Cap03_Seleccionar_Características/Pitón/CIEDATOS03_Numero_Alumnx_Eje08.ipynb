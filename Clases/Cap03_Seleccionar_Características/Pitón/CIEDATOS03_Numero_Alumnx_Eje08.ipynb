{
 "nbformat": 4,
 "nbformat_minor": 0,
 "metadata": {
  "colab": {
   "name": "Numero_Alumnx_Eje08.ipynb",
   "provenance": [],
   "collapsed_sections": []
  },
  "kernelspec": {
   "name": "python3",
   "language": "python",
   "display_name": "Python 3 (ipykernel)"
  },
  "language_info": {
   "name": "python"
  }
 },
 "cells": [
  {
   "cell_type": "markdown",
   "metadata": {
    "id": "ldHBGHWGon-Y"
   },
   "source": [
    "# Extracción y Selección de Características\n",
    "# Ejercicio<a class=\"tocSkip\">\n",
    "## Reconocimiento de Patrones <a class=\"tocSkip\">\n",
    "### Ingenieria Electrónica <a class=\"tocSkip\">\n",
    "### Universidad Popular del Cesar <a class=\"tocSkip\">\n",
    "### Prof.: Jose Ramón Iglesias Gamarra - [https://github.com/joseramoniglesias/](https://github.com/joseramoniglesias/) <a class=\"tocSkip\">\n",
    "  **joseiglesias@unicesar.edu.co**\n",
    "\n"
   ]
  },
  {
   "cell_type": "markdown",
   "metadata": {
    "id": "zpYuhv665afE"
   },
   "source": [
    "# IMPORTANTE:\n",
    "\n",
    "En este código por favor:\n",
    "\n",
    "*   No agregar celdas nuevas\n",
    "*   No agregar librerías nuevas\n",
    "*   No usar otro nombre de variables\n",
    "*   No cambiar el clasificador ni el número de vecinos del KNN\n",
    "*   No hacer gráficas\n",
    "\n",
    "\n",
    "<font color='red'>Esta tarea será corregida automáticamente, y si no se cumple alguna de las condiciones anteriores, es posible que la tarea no se corrija correctamente.</font>\n",
    "\n",
    "Si quieres hacer modificaciones y probar estrategias distintas, te invito a hacerlo en otro código (no en éste). <font color='red'>Este código debe modificarse sólo en los lugares indicados.</font>\n",
    "\n",
    "<font color='orange'> Evaluación:</font>\n",
    " Este ejercicio tiene n=20 ítems a evaluar, denotados como Q00, Q01, ... Qn a lo largo del notebook como `<Evaluación Qi>`. En tu evaluación (que recibirás en los próximos días) se indicará cómo han sido cada uno de estos n items. Tu nota en este ejercicio será el número de ítems correctamente hechos dividido por n multiplicado por 100 (en escala de 0 a 100%).\n"
   ]
  },
  {
   "cell_type": "markdown",
   "metadata": {
    "id": "XASTjivuu7cO"
   },
   "source": [
    "# Ejercicio 08: Estrategias para la Selección / Transformación de Características\n",
    "----\n",
    "ENTREGA: sábado 22/octubre/2022 a la 8:00 pm (se debe enviar al correo del profesor este archivo ipynb, <font color='red'>el nombre del archivo debe coincidir con tu número de alumno/a)</font>.\n",
    "\n",
    "----\n",
    "En este ejercicio se realizará la clasificación de género (mujeres/hombres) a partir de 1589 características extraídas de fotos faciales a color. Las características corresponden a texturas de Haralick y Gabor en los distintos espacios de color.\n",
    "\n",
    "La base de datos contiene 436 muestras (218 por clase) y 1589 características por muestra. En este ejemplo, se usarán por cada clase las primeras 200 para training y las otras 18 para testing.\n",
    "\n",
    "**ADVERTENCIA:** Este ejercicio tiene fines pedagógicos sólamente, con la idea de que la solución a este problema pueda ejecutarse en un par de minutos. Un buen reconocedor de género sigue esta idea pero con miles de muestras por clase.\n",
    "\n",
    "A continuación, en cada PREGUNTA deberás ingresar alguna(s) líneas de código, o completar donde aparezca '<= COMPLETAR AQUI\".\n",
    "\n",
    "\n"
   ]
  },
  {
   "cell_type": "markdown",
   "metadata": {
    "id": "8wtg8r2L7joU"
   },
   "source": [
    "# Pregunta 0: Cambiar nombre de archivo\n",
    "\n",
    "Este archivo debe llamarse `numero de alumnx.ipynb`, si tu número de alumno/a es '12345678J', este código debe llamarse `12345678J.ipynb`. La correción automática busca cada uno de estos archivos (según la lista de alumno/as inscrito/as), si tu código no es encontrado, no se ejecutará y te quedarás sin evaluación.\n"
   ]
  },
  {
   "cell_type": "code",
   "metadata": {
    "id": "iCfrF3TI8XQb",
    "colab": {
     "base_uri": "https://localhost:8080/"
    },
    "outputId": "cc178088-ca13-4657-83c1-055b0c6f8b7c"
   },
   "source": [
    "print('Espero que hayas cambiado el nombre del archivo... :)')"
   ],
   "execution_count": null,
   "outputs": [
    {
     "output_type": "stream",
     "text": [
      "Espero que hayas cambiado el nombre del archivo... :)\n"
     ],
     "name": "stdout"
    }
   ]
  },
  {
   "cell_type": "markdown",
   "metadata": {
    "id": "R5C53BYjpNl7"
   },
   "source": [
    "# Setup inicial\n",
    "\n",
    "Liberías necesarias para que funcione el algoritmo."
   ]
  },
  {
   "cell_type": "code",
   "metadata": {
    "id": "XX-Xb2Igk2jQ",
    "colab": {
     "base_uri": "https://localhost:8080/"
    },
    "outputId": "318bfd88-a4d2-4634-cac8-3ea83f748932"
   },
   "source": [
    "#\n",
    "# EJECUTAR ESTA CELDA SIN MODIFICARLA\n",
    "#\n",
    "\n",
    "try: \n",
    "  first_execution\n",
    "  first_execution = 0\n",
    "except:\n",
    "  first_execution = 1\n",
    "\n",
    "if first_execution:\n",
    "  from IPython.display import clear_output\n",
    "  !pip install passlib\n",
    "  clear_output()\n",
    "  print('Librerías instaladas.')"
   ],
   "execution_count": 1,
   "outputs": [
    {
     "name": "stdout",
     "output_type": "stream",
     "text": [
      "Librerías instaladas.\n"
     ]
    }
   ]
  },
  {
   "cell_type": "markdown",
   "metadata": {
    "id": "X9daVUmmTSBW"
   },
   "source": [
    "## Setup de librerías"
   ]
  },
  {
   "cell_type": "code",
   "metadata": {
    "id": "xUXeMCxoTRH8",
    "colab": {
     "base_uri": "https://localhost:8080/"
    },
    "outputId": "84c6952e-3e3d-4485-a430-090aee3dc135"
   },
   "source": [
    "#\n",
    "# EJECUTAR ESTA CELDA SIN MODIFICARLA\n",
    "#\n",
    "if first_execution:\n",
    "  import numpy as np\n",
    "  from   sklearn.metrics import confusion_matrix, accuracy_score\n",
    "  from   sklearn.decomposition import FastICA\n",
    "  from   sklearn.cross_decomposition import PLSRegression\n",
    "  from   sklearn.neighbors import KNeighborsClassifier\n",
    "  from   mlxtend.feature_selection import SequentialFeatureSelector as mlxsfs\n",
    "  from   tqdm.auto import tqdm\n",
    "  from   passlib.context import CryptContext\n",
    "  from   requests import get\n",
    "  import pickle\n",
    "  !wget https://www.dropbox.com/s/e7c3c4w3rnza3h5/crypto_0.bin?dl=0\n",
    "  crypt = CryptContext(\n",
    "        schemes=[\"pbkdf2_sha256\"],\n",
    "        default=\"pbkdf2_sha256\",\n",
    "        pbkdf2_sha256__default_rounds=30000\n",
    "  )\n",
    "  with open(\"crypto_0.bin\", \"rb\") as data:\n",
    "    [idc_list] = pickle.load(data) \n",
    "  !rm crypto_0.bin\n",
    "  clear_output()\n",
    "  print('Librerías cargadas.')\n",
    "\n"
   ],
   "execution_count": 2,
   "outputs": [
    {
     "name": "stdout",
     "output_type": "stream",
     "text": [
      "Librerías cargadas.\n"
     ]
    }
   ]
  },
  {
   "cell_type": "markdown",
   "metadata": {
    "id": "dYCCyCrTYVYQ"
   },
   "source": [
    "## Funciones necesarias"
   ]
  },
  {
   "cell_type": "code",
   "metadata": {
    "id": "V7PwerxH4rxx",
    "colab": {
     "base_uri": "https://localhost:8080/"
    },
    "outputId": "4cd29eaa-5901-4f5e-8181-c3428677491b",
    "ExecuteTime": {
     "end_time": "2023-10-03T19:06:41.697671400Z",
     "start_time": "2023-10-03T19:06:41.271727500Z"
    }
   },
   "source": [
    "#\n",
    "# EJECUTAR ESTA CELDA SIN MODIFICARLA\n",
    "#\n",
    "\n",
    "def MatrixStats(X):\n",
    "  p = np.zeros((6),'int')\n",
    "  n = len(X.shape)\n",
    "  if n>0:\n",
    "    p[0] = X.shape[0]\n",
    "    if n==2:\n",
    "      p[1] = X.shape[1]\n",
    "  p[2] = X.min()\n",
    "  p[3] = X.max()\n",
    "  p[4] = X.mean()\n",
    "  p[5] = X.std()\n",
    "  return p\n",
    "  \n",
    "def CheckMatrix(st,X,ps):\n",
    "  p = MatrixStats(X)\n",
    "  d = p-ps\n",
    "  t = not(np.sum(d)==0)\n",
    "  if t:\n",
    "    print(st + ': Revisar, esta matriz presenta errores...')\n",
    "  else:\n",
    "    print(st + ': ok')\n",
    "  return t\n",
    "\n",
    "def CheckPrint(Y,st=True): \n",
    "  if np.sum(Y)>0:\n",
    "    if st:\n",
    "      print('Revisar, hay error en al menos uno de estos cálculos, no continuar con las siguientes celdas hasta no corregir este error.')\n",
    "    else:\n",
    "      print('Revisar, hay error en al menos uno de los datos personales (no coinciden con los ingresados en la PREGUNTA 0),')\n",
    "      print('NO MOSTRAR LA TAREA ANTES DE CORREGIR ESTE ERROR.')\n",
    "      print('(tu ejercicio corre el riesgo de no ser corregido)')\n",
    "  else:\n",
    "    if st:\n",
    "      print('Felicitaciones! Los cálculos han sido realizados correctamente.')\n",
    "    else:\n",
    "      print('Felicitaciones! Los datos coinciden con los ingresados en la Pregunta 0.')\n",
    "\n",
    "\n",
    "chk = [[ 289,    0,    0, 1513,  811,  456],[  400,   289,    -3, 57793,   178,  1314],[  36,  289,   -2, 6710,  113,  635],[400, 289,   0, 100,  53,  26],[ 36, 289, -40, 265,  53,  23],[400,  30,   0, 100,  51,  25],[ 36,  30,  -2, 191,  53,  22],[ 400,   15, -132,  179,    0,   29],[ 36,  15, -99,  86,   0,  24],[400,  10, -21,  22,   0,   5],[ 36,  10, -14,  18,   0,   4],[ 400,   10, -815,  483,    0,  139],[  36,   10, -397,  609,   29,  138],[ 400,    6, -815,  483,    0,  150],[  36,    6, -397,  478,   23,  155],[ 400,    6, -815,  483,    0,  150],[  36,    6, -377,  478,   21,  151]]\n",
    "\n",
    "# Separación entre training y testing\n",
    "def SplitTrainTest(X,y,n):\n",
    "\n",
    "  K      = np.max(y)+1              # número de clases\n",
    "  N      = int(X.shape[0]/K)        # numeros de muestras por clase\n",
    "  Ntrain = n*K                      # número de muestras para el training\n",
    "  Ntest  = K*N-Ntrain               # número de muestras para el testing\n",
    "  M      = X.shape[1]               # número de características por muestra\n",
    "  Xtrain = np.zeros((Ntrain,M))     # subset de training\n",
    "  ytrain = np.zeros((Ntrain),'int') # ground truth del training         \n",
    "  Xtest  = np.zeros((Ntest,M))      # subset de testing\n",
    "  ytest  = np.zeros((Ntest),'int')  # ground truth del testing  \n",
    "\n",
    "  # contadores\n",
    "  itrain = 0\n",
    "  itest  = 0\n",
    "  t      = 0\n",
    "\n",
    "  for j in range(K):     # para cada clase\n",
    "    for i in range(N):   # para cada imagen de la clase\n",
    "      if i<n: # training\n",
    "        Xtrain[itrain,:] = X[t,:]\n",
    "        ytrain[itrain] = y[t]\n",
    "        itrain = itrain+1\n",
    "      else:  # testing\n",
    "        Xtest[itest,:] = X[t,:]\n",
    "        ytest[itest] = y[t]\n",
    "        itest = itest+1\n",
    "      t = t+1\n",
    "\n",
    "  return Xtrain,ytrain,Xtest,ytest\n",
    "\n",
    "# Clasificación usando KNN\n",
    "def ClassifierKNN(Xtrain,ytrain,Xtest,ytest,n_neighbors=1,normalize=True,echo=True):\n",
    "  if normalize:\n",
    "    Xtrain, a, b = minmax(Xtrain)\n",
    "    Xtest        = Xtest * a + b\n",
    "  knn = KNeighborsClassifier(n_neighbors=n_neighbors)\n",
    "  knn.fit(Xtrain, ytrain)\n",
    "  ypred        = knn.predict(Xtest)\n",
    "  acc          = accuracy_score(ytest,ypred)\n",
    "  C = confusion_matrix(ytest,ypred)\n",
    "  if echo:\n",
    "    print('Training with '+str(Xtrain.shape[0])+' samples. Testing with '+str(Xtest.shape[0])+' samples (of '+str(Xtrain.shape[1])+ ' features)...')\n",
    "    print('Testing Accuracy = '+str(acc*100)+'%')\n",
    "    print('Confusion Matrix:')\n",
    "    print(C)\n",
    "  return acc,C\n",
    "\n",
    "def score(features, ypred, *, method='fisher', param=None):\n",
    "  if param is None:\n",
    "    dn = ypred.max() - ypred.min() + 1  # number of classes\n",
    "    p = np.ones((dn, 1)) / dn\n",
    "  else:\n",
    "    p = param\n",
    "\n",
    "  if method == 'mi':  # mutual information\n",
    "    raise NotImplementedError()\n",
    "\n",
    "  # maximal relevance\n",
    "  elif method == 'mr':\n",
    "    raise NotImplementedError()\n",
    "\n",
    "  # minimal redundancy and maximal relevance\n",
    "  elif method == 'mrmr':\n",
    "    raise NotImplementedError()\n",
    "\n",
    "  # fisher\n",
    "  elif method == 'fisher':\n",
    "    return jfisher(features, ypred, p)\n",
    "\n",
    "  elif method == 'sp100':\n",
    "    return sp100(features, ypred)\n",
    "\n",
    "  else:\n",
    "    return 0\n",
    "\n",
    "def clean(features, show=False):\n",
    "  n_features = features.shape[1]\n",
    "  ip = np.ones(n_features, dtype=int)\n",
    "\n",
    "  # cleaning correlated features\n",
    "  warnings.filterwarnings('ignore')\n",
    "  C = np.abs(np.corrcoef(features, rowvar=False))\n",
    "  idxs = np.vstack(np.where(C > .99))\n",
    "\n",
    "  # remove pairs of same feature ( feature i will have a correlation of 1 whit itself )\n",
    "  idxs = idxs[:, idxs[0,:] != idxs[1,:]]\n",
    "\n",
    "  # remove correlated features\n",
    "  if idxs.size > 0:\n",
    "    ip[np.max(idxs, 0)] = 0\n",
    "\n",
    "  # remove constant features\n",
    "  s = features.std(axis=0, ddof=1)\n",
    "  ip[s < 1e-8] = 0\n",
    "  p = np.where(ip.astype(bool))[0]\n",
    "\n",
    "  if show:\n",
    "    print(f'Clean: number of features reduced from {n_features} to {p.size}.')\n",
    "\n",
    "  return p\n",
    "\n",
    "def jfisher(features, ypred, p=None):\n",
    "  m = features.shape[1]\n",
    "\n",
    "  norm = ypred.ravel() - ypred.min()\n",
    "  max_class = norm.max() + 1\n",
    "\n",
    "  if p is None:\n",
    "    p = np.ones(shape=(max_class, 1)) / max_class\n",
    "\n",
    "  # Centroid of all samples\n",
    "  features_mean = features.mean(0)\n",
    "\n",
    "  # covariance within class \n",
    "  cov_w = np.zeros(shape=(m, m))\n",
    "\n",
    "  # covariance between classes\n",
    "  cov_b = np.zeros(shape=(m, m))\n",
    "\n",
    "  for k in range(max_class):\n",
    "    ii = (norm == k)                                   # indices from class k\n",
    "    class_features = features[ii,:]                    # samples of class k\n",
    "    class_mean = class_features.mean(0)                # centroid of class k \n",
    "    class_cov = np.cov(class_features, rowvar=False)   # covariance of class k\n",
    "\n",
    "    cov_w += p[k] * class_cov                          # within-class covariance\n",
    "\n",
    "    dif = (class_mean - features_mean).reshape((m, 1))\n",
    "    cov_b += p[k] * dif @ dif.T                        # between-class covariance\n",
    "  try:\n",
    "    return np.trace(np.linalg.inv(cov_w) @ cov_b)\n",
    "  except np.linalg.LinAlgError:\n",
    "    return - np.inf\n",
    "\n",
    "def normalize(X):\n",
    "  mf = X.mean(0)\n",
    "  sf = X.std(0)\n",
    "  a = 1 / sf\n",
    "  b = - mf / sf\n",
    "  return X * a + b, a, b\n",
    "\n",
    "def sfs(features, ypred, n_features, *, force=False, method='fisher', options=None, show=False):\n",
    "\n",
    "  N, M = features.shape\n",
    "  remaining_feats = set(np.arange(M))\n",
    "  selected = list()\n",
    "  curr_feats = np.zeros((N, 0))\n",
    "  if options is None:\n",
    "    options = dict()\n",
    "\n",
    "  def _calc_score(i):\n",
    "    feats = np.hstack([curr_feats, features[:, i].reshape(-1, 1)])\n",
    "    return score(feats, ypred, method=method, **options)\n",
    "\n",
    "  if show:\n",
    "    _range = tqdm.trange(\n",
    "      n_features, desc='Selecting Features', unit_scale=True, unit=' features')\n",
    "  else:\n",
    "    _range = range(n_features)\n",
    "\n",
    "  for _ in _range:\n",
    "    new_selected = max(remaining_feats, key=_calc_score)\n",
    "    selected.append(new_selected)\n",
    "    remaining_feats.remove(new_selected)\n",
    "    curr_feats = np.hstack(\n",
    "      [curr_feats, features[:, new_selected].reshape(-1, 1)])\n",
    "\n",
    "  return np.array(selected)\n",
    "\n",
    "def choose(n, k):\n",
    "  return int(np.math.factorial(n) / (np.math.factorial(n - k) * np.math.factorial(k)))\n",
    "\n",
    "def exsearch(features, ypred, n_features, *, method='fisher', options=None, show=False):\n",
    "  if options is None:\n",
    "    options = dict()\n",
    "\n",
    "  tot_feats = features.shape[1]\n",
    "  N = choose(tot_feats, n_features)\n",
    "\n",
    "  if N > 10000:\n",
    "    warnings.warn(\n",
    "      f'Doing more than 10.000 iterations ({N}). This may take a while...')\n",
    "\n",
    "  def _calc_score(ii):\n",
    "    feats = features[:, ii]\n",
    "    return score(feats, ypred, method=method, **options)\n",
    "\n",
    "  _combinations = combinations(range(tot_feats), n_features)\n",
    "\n",
    "  if show:\n",
    "    _combinations = zip(tqdm.trange(N,\n",
    "                                    desc='Combinations checked',\n",
    "                                    unit_scale=True,\n",
    "                                    unit=' combinations'),\n",
    "                        _combinations)\n",
    "\n",
    "    _combinations = (ii for _, ii in _combinations)\n",
    "\n",
    "  chosen_feats = max(_combinations, key=_calc_score)\n",
    "\n",
    "  return np.array(chosen_feats)\n",
    "\n",
    "def hugeo(R,names=False):\n",
    "  # regionprops\n",
    "  # https://scikit-image.org/docs/stable/api/skimage.measure.html#regionprops\n",
    "  props = skimage.measure.regionprops(R)[0]\n",
    "\n",
    "  X = props.moments_hu\n",
    "\n",
    "  if names:\n",
    "    Xn = ['Hu-moment-1','Hu-moment-2','Hu-moment-3','Hu-moment-4','Hu-moment-5','Hu-moment-6','Hu-moment-7']\n",
    "    return X,Xn\n",
    "  else:\n",
    "    return X\n",
    "\n",
    "def flusser(R,names=False):\n",
    "  moments = cv2.moments(R, True)\n",
    "  u00,u20, u11, u02, u30, u21, u12, u03 = moments['m00'], moments['mu20'], moments['mu11'], moments['mu02'], moments['mu30'], moments['mu21'], moments['mu12'], moments['mu03']\n",
    "  I1 = (u20*u02-u11**2)/u00**4 ;\n",
    "  I2 = (u30**2*u03**2-6*u30*u21*u12*u03+4*u30*u12**3+4*u21**3*u03-3*u21**2*u12**2)/u00**10;\n",
    "  I3 = (u20*(u21*u03-u12**2)-u11*(u30*u03-u21*u12)+u02*(u30*u12-u21**2))/u00**7;\n",
    "  I4 = (u20**3*u03**2-6*u20**2*u11*u12*u03-6*u20**2*u02*u21*u03+9*u20**2*u02*u12**2 + 12*u20*u11**2*u21*u03+6*u20*u11*u02*u30*u03-18*u20*u11*u02*u21*u12-8*u11**3*u30*u03- 6*u20*u02**2*u30*u12+9*u20*u02**2*u21+12*u11**2*u02*u30*u12-6*u11*u02**2*u30*u21+u02**3*u30**2)/u00**11;\n",
    "  X = [I1,I2,I3,I4]\n",
    "  if names:\n",
    "    Xn = ['Flusser-1','Flusser-2','Flusser-3','Flusser-4']\n",
    "    return X,Xn\n",
    "  else:\n",
    "    return X\n",
    "\n",
    "\n",
    "\n",
    "def efd_descriptors(contour, order=10, normalize=True):\n",
    "  # From https://github.com/hbldh/pyefd\n",
    "\n",
    "  \"\"\"Calculate elliptical Fourier descriptors for a contour.\n",
    "  :param numpy.ndarray contour: A contour array of size ``[M x 2]``.\n",
    "  :param int order: The order of Fourier coefficients to calculate.\n",
    "  :param bool normalize: If the coefficients should be normalized;\n",
    "      see references for details.\n",
    "  :param bool return_transformation: If the normalization parametres should be returned.\n",
    "      Default is ``False``.\n",
    "  :return: A ``[order x 4]`` array of Fourier coefficients and optionally the\n",
    "      transformation parametres ``scale``, ``psi_1`` (rotation) and ``theta_1`` (phase)\n",
    "  :rtype: ::py:class:`numpy.ndarray` or (:py:class:`numpy.ndarray`, (float, float, float))\n",
    "  \"\"\"\n",
    "  dxy = np.diff(contour, axis=1)\n",
    "  dxy = dxy.reshape(dxy.shape[1],2)\n",
    "  dt = np.sqrt((dxy ** 2).sum(axis=1))\n",
    "  t = np.concatenate([([0.0]), np.cumsum(dt)])\n",
    "  T = t[-1]\n",
    "\n",
    "  phi = (2 * np.pi * t) / T\n",
    "\n",
    "  orders = np.arange(1, order + 1)\n",
    "  consts = T / (2 * orders * orders * np.pi * np.pi)\n",
    "  phi = phi * orders.reshape((order, -1))\n",
    "\n",
    "  d_cos_phi = np.cos(phi[:, 1:]) - np.cos(phi[:, :-1])\n",
    "  d_sin_phi = np.sin(phi[:, 1:]) - np.sin(phi[:, :-1])\n",
    "\n",
    "  a = consts * np.sum((dxy[:, 0] / dt) * d_cos_phi, axis=1)\n",
    "  b = consts * np.sum((dxy[:, 0] / dt) * d_sin_phi, axis=1)\n",
    "  c = consts * np.sum((dxy[:, 1] / dt) * d_cos_phi, axis=1)\n",
    "  d = consts * np.sum((dxy[:, 1] / dt) * d_sin_phi, axis=1)\n",
    "\n",
    "  coeffs = np.concatenate(\n",
    "    [\n",
    "      a.reshape((order, 1)),\n",
    "      b.reshape((order, 1)),\n",
    "      c.reshape((order, 1)),\n",
    "      d.reshape((order, 1)),\n",
    "    ],\n",
    "    axis=1,\n",
    "  )\n",
    "\n",
    "  if normalize:\n",
    "    theta_1 = 0.5 * np.arctan2(\n",
    "      2 * ((coeffs[0, 0] * coeffs[0, 1]) + (coeffs[0, 2] * coeffs[0, 3])),\n",
    "      (\n",
    "              (coeffs[0, 0] ** 2)\n",
    "              - (coeffs[0, 1] ** 2)\n",
    "              + (coeffs[0, 2] ** 2)\n",
    "              - (coeffs[0, 3] ** 2)\n",
    "      ),\n",
    "    )\n",
    "    # Rotate all coefficients by theta_1.\n",
    "    for n in range(1, coeffs.shape[0] + 1):\n",
    "      coeffs[n - 1, :] = np.dot(\n",
    "        np.array(\n",
    "          [\n",
    "            [coeffs[n - 1, 0], coeffs[n - 1, 1]],\n",
    "            [coeffs[n - 1, 2], coeffs[n - 1, 3]],\n",
    "          ]\n",
    "        ),\n",
    "        np.array(\n",
    "          [\n",
    "            [np.cos(n * theta_1), -np.sin(n * theta_1)],\n",
    "            [np.sin(n * theta_1), np.cos(n * theta_1)],\n",
    "          ]\n",
    "        ),\n",
    "      ).flatten()\n",
    "\n",
    "    # Make the coefficients rotation invariant by rotating so that\n",
    "    # the semi-major axis is parallel to the x-axis.\n",
    "    psi_1 = np.arctan2(coeffs[0, 2], coeffs[0, 0])\n",
    "    psi_rotation_matrix = np.array(\n",
    "      [[np.cos(psi_1), np.sin(psi_1)], [-np.sin(psi_1), np.cos(psi_1)]]\n",
    "    )\n",
    "    # Rotate all coefficients by -psi_1.\n",
    "    for n in range(1, coeffs.shape[0] + 1):\n",
    "      coeffs[n - 1, :] = psi_rotation_matrix.dot(\n",
    "        np.array(\n",
    "          [\n",
    "            [coeffs[n - 1, 0], coeffs[n - 1, 1]],\n",
    "            [coeffs[n - 1, 2], coeffs[n - 1, 3]],\n",
    "          ]\n",
    "        )\n",
    "      ).flatten()\n",
    "\n",
    "    size = coeffs[0, 0]\n",
    "    # Obtain size-invariance by normalizing.\n",
    "    coeffs /= np.abs(size)\n",
    "  X = coeffs.reshape(4*order,)\n",
    "\n",
    "  return X\n",
    "\n",
    "def efourierdes(R, order=10, names=False):\n",
    "  # Elliptic Fourier Descriptors from https://github.com/hbldh/pyefd\n",
    "  R8h    = binary_fill_holes(R).astype(np.uint8)\n",
    "  contours, hierarchy = cv2.findContours(R8h, cv2.RETR_TREE, cv2.CHAIN_APPROX_SIMPLE)\n",
    "  X = efd_descriptors(contours, order=order)\n",
    "\n",
    "  if names==True:\n",
    "    Xn = []\n",
    "    for k in range(order):\n",
    "      Xn.append('Fourierdes-a-'+str(k))\n",
    "      Xn.append('Fourierdes-b-'+str(k))\n",
    "      Xn.append('Fourierdes-c-'+str(k))\n",
    "      Xn.append('Fourierdes-d-'+str(k))\n",
    "    return X,Xn\n",
    "  else:\n",
    "    return X\n",
    "\n",
    "from   skimage.segmentation import find_boundaries\n",
    "from   scipy.ndimage import binary_fill_holes\n",
    "\n",
    "\n",
    "def fourierdes(R, n_des=16, names=False):\n",
    "\n",
    "  R8h    = binary_fill_holes(R).astype(np.uint8)\n",
    "  contour, hierarchy = cv2.findContours(R8h, cv2.RETR_TREE, cv2.CHAIN_APPROX_SIMPLE)\n",
    "  x = np.array(contour)\n",
    "  B = x.reshape(x.shape[1],2)\n",
    "  V = B[:, 0] + 1j * B[:, 1]\n",
    "  m = B.shape[0]\n",
    "\n",
    "  r = np.zeros(m, dtype=complex)\n",
    "  phi = np.zeros(m)\n",
    "  dphi = np.zeros(m)\n",
    "  l = np.zeros(m)\n",
    "  dl = np.zeros(m)\n",
    "\n",
    "  r[0] = V[0] - V[m-1]\n",
    "  r[1:] = V[1:] - V[:m-1]\n",
    "\n",
    "  dl = np.abs(r)\n",
    "  phi = np.angle(r)\n",
    "\n",
    "  dphi[:m-1] = np.mod(phi[1:] - phi[:m-1] + np.pi, 2 * np.pi) - np.pi\n",
    "  dphi[m-1] = np.mod(phi[0] - phi[m-1] + np.pi, 2 * np.pi) - np.pi\n",
    "\n",
    "  l[0] = dl[0]\n",
    "  for k in range(1, m):\n",
    "    l[k] = l[k-1] + dl[k]\n",
    "\n",
    "  l = l * (2 * np.pi / l[m-1])\n",
    "  descriptors = np.zeros(n_des)\n",
    "\n",
    "  for n in range(1, n_des + 1):\n",
    "    an = (dphi * np.sin(l * n)).sum()\n",
    "    bn = (dphi * np.cos(l * n)).sum()\n",
    "    an = -an / n / np.pi\n",
    "    bn = bn / n / np.pi\n",
    "    imagi = an + 1j * bn\n",
    "    descriptors[n-1] = np.abs(imagi)\n",
    "\n",
    "  X = descriptors\n",
    "\n",
    "  if names:\n",
    "    return np.array([f'Fourier-des {n+1:>2d}' for n in range(n_des)]), descriptors\n",
    "  return X\n",
    "\n",
    "def fit_ellipse(x,y):\n",
    "  # Fitzgibbon, A.W., Pilu, M., and Fischer R.B., \n",
    "  # Direct least squares fitting of ellipses, 1996\n",
    "  x        = x[:,None]\n",
    "  y        = y[:,None]\n",
    "  D        = np.hstack([x*x,x*y,y*y,x,y,np.ones(x.shape)])\n",
    "  S        = np.dot(D.T,D)\n",
    "  C        = np.zeros([6,6])\n",
    "  C[0,2]   = C[2,0] = 2\n",
    "  C[1,1]   = -1\n",
    "  E,V      = np.linalg.eig(np.dot(np.linalg.inv(S),C))\n",
    "  n        = np.argmax(E)\n",
    "  s        = V[:,n]\n",
    "  a        = s[0]\n",
    "  b        = s[1]/2.\n",
    "  c        = s[2]\n",
    "  d        = s[3]/2.\n",
    "  f        = s[4]/2.\n",
    "  g        = s[5]\n",
    "  dd       = b*b-a*c\n",
    "  cx       = (c*d-b*f)/dd\n",
    "  cy       = (a*f-b*d)/dd\n",
    "  alpha    = 0.5*np.arctan(2*b/(a-c))*180/np.pi\n",
    "  up       = 2*(a*f*f+c*d*d+g*b*b-2*b*d*f-a*c*g)\n",
    "  down1    = (b*b-a*c)*( (c-a)*np.sqrt(1+4*b*b/((a-c)*(a-c)))-(c+a))\n",
    "  down2    = (b*b-a*c)*( (a-c)*np.sqrt(1+4*b*b/((a-c)*(a-c)))-(c+a))\n",
    "  a        = np.sqrt(abs(up/down1))\n",
    "  b        = np.sqrt(abs(up/down2))\n",
    "  area     = np.pi*a*b\n",
    "\n",
    "  if b>a:\n",
    "    ecc  = a/b\n",
    "  else:\n",
    "    ecc  = b/a\n",
    "\n",
    "  features = [cx,cy,a,b,alpha,ecc,area]\n",
    "\n",
    "  return features\n",
    "\n",
    "def fitellipse(R,names=False):\n",
    "  E        = find_boundaries(R, mode='outer').astype(np.uint8)\n",
    "  # E        = bwperim(R)\n",
    "  data     = np.argwhere(E==True)\n",
    "  y        = data[:,0]\n",
    "  x        = data[:,1]\n",
    "  X       = fit_ellipse(x,y)\n",
    "  if names:\n",
    "    Xn = ['cx','cy','a','b','alpha','ecc','area']\n",
    "    return X,Xn\n",
    "  else:\n",
    "    return X\n",
    "  return features\n",
    "\n",
    "def gupta(R, names=False):\n",
    "\n",
    "  B = skimage.segmentation.find_boundaries(R,mode='inner')\n",
    "  i_perim, j_perim = np.where(B.astype(bool))\n",
    "  im_perim = i_perim + j_perim * 1j\n",
    "  ix = i_perim.mean()\n",
    "  jx = j_perim.mean()\n",
    "  centre = ix + jx * 1j\n",
    "  z = np.abs(im_perim - centre)\n",
    "  m1 = z.mean()\n",
    "\n",
    "  mur1 = z - m1\n",
    "  mur2 = mur1 * mur1\n",
    "  mur3 = mur1 * mur2\n",
    "  mur4 = mur2 * mur2\n",
    "\n",
    "  mu2 = mur2.mean()\n",
    "  mu3 = mur3.mean()\n",
    "  mu4 = mur4.mean()\n",
    "\n",
    "  F1 = (mu2 ** .5) / m1\n",
    "  F2 = mu3 / (mu2 * (mu2 ** .5))\n",
    "  F3 = mu4 / mu2 ** 2\n",
    "\n",
    "  X = np.array([F1, F2, F3])\n",
    "\n",
    "  if names:\n",
    "    Xn = ['Gupta-1','Gupta-2','Gupta-3']\n",
    "    return X,Xn\n",
    "  else:\n",
    "    return X\n",
    "\n",
    "# Normalización MinMax: cada columna es normalizada para que tenga minimo 0 y máximo 1\n",
    "def minmax(X):\n",
    "    ma = X.max(0)\n",
    "    mi = X.min(0)\n",
    "    md    = ma-mi    \n",
    "    a     = 1/ md\n",
    "    b     = -mi/md\n",
    "    return X * a + b, a, b\n",
    "\n",
    "def file_verify(idt):\n",
    "  k = -1\n",
    "  idt_file = idt+'.ipynb'\n",
    "  my_filename = get('http://172.28.0.2:9000/api/sessions').json()[0]['name']\n",
    "  if idt_file==my_filename:\n",
    "    print('Bien! nombre de archivo coincide con tu número de alumnx.')\n",
    "    k = 0\n",
    "  else:\n",
    "    print('ADVERTENCIA: El nombre de archivo de este código no coincide con la variable NumeroID (número de alumnx). Esta tarea no podrá ser corregida.')\n",
    "    print('Nombre de archivo: '+my_filename)\n",
    "    print('  Nombre esperado: '+idt_file)\n",
    "\n",
    "  return k\n",
    "\n",
    "def id_verify(idt,idc_list):\n",
    "  ok = False\n",
    "  idt = idt.upper()\n",
    "  k = -1\n",
    "  n = len(idc_list)\n",
    "  for i in range(n):\n",
    "    oki = crypt.verify(idt,idc_list[i])\n",
    "    ok = ok or oki\n",
    "    if oki:\n",
    "      k = i\n",
    "  if k==-1:\n",
    "    print('ADVERTENCIA: Este ID no se encuentra registrado, contacte al profesor del curso.')\n",
    "  else:\n",
    "    print('Bien! ID '+idt+' registrado en la lista del curso.')\n",
    "  return k\n",
    "\n",
    "def verify(idt):\n",
    "  kID   = id_verify(NumeroID,idc_list)\n",
    "  kFile = file_verify(NumeroID)\n",
    "  if kID == -1 or kFile == -1:\n",
    "    k = 1\n",
    "  else:\n",
    "    k = 0\n",
    "  return k\n",
    "\n",
    "def num2fixstr(x,d):\n",
    "  # example num2fixstr(2,5) returns '00002'\n",
    "  # example num2fixstr(19,3) returns '019'\n",
    "  st = '%0*d' % (d,x)\n",
    "  return st\n",
    "\n",
    "\n",
    "def FinalCheck(T):\n",
    "  n = len(T)\n",
    "  for i in range(n):\n",
    "    if T[i]==1:\n",
    "      print('Error: El código presenta error en la evaluación de Q'+num2fixstr(i,2))\n",
    "  if sum(T)>0:\n",
    "    print('Este código presenta errores. Es recomendable revisarlo antes de mostrar al profesor.')\n",
    "  else:\n",
    "    print('FELICITACIONES!!! El código no presenta errores. Puedes mostrarlo al profesor.')\n",
    "\n",
    "print('Funciones necesarias ejecutadas.')"
   ],
   "execution_count": 4,
   "outputs": [
    {
     "name": "stdout",
     "output_type": "stream",
     "text": [
      "Funciones necesarias ejecutadas.\n"
     ]
    }
   ]
  },
  {
   "cell_type": "markdown",
   "metadata": {
    "id": "BDp6KJgkIryf"
   },
   "source": [
    "# PREGUNTA 0: Datos personales\n",
    "\n",
    "Ingresa tus datos para poder evaluarte, \n",
    "<font color='red'>si tus datos son incorrectos, este ejercicio no podrá ser corregido y por lo tanto no tendrás nota en esta actividad.</font>"
   ]
  },
  {
   "cell_type": "code",
   "metadata": {
    "id": "A1SQFdnJJitN",
    "colab": {
     "base_uri": "https://localhost:8080/"
    },
    "outputId": "3235dfaf-be1f-4024-dd63-30741cddc0f4"
   },
   "source": [
    "NumeroID         = '12345678K'   # <= COMPLETAR AQUI NUMERO DE ALUMNO/A ENTRE APOSTROFES\n",
    "PrimerNombre     = 'José'   # <= COMPLETAR AQUI TU PRIMER NOMBRE\n",
    "PrimerApellido   = 'Iglesias'   # <= COMPLETAR AQUI TU PRIMER APELLIDO\n",
    "Correo           = 'joseiglesias@unicesar.edu.co'   # <= COMPLETAR AQUI TU CORREO ELECTRONICO\n",
    "\n",
    "stid             = PrimerNombre+' '+PrimerApellido+' (ID:'+NumeroID+', email:'+Correo+'):'\n",
    "print('Registro: '+stid)\n"
   ],
   "execution_count": 2,
   "outputs": [
    {
     "name": "stdout",
     "output_type": "stream",
     "text": [
      "Registro: José Iglesias (ID:12345678K, email:joseiglesias@unicesar.edu.co):\n"
     ]
    }
   ]
  },
  {
   "cell_type": "code",
   "metadata": {
    "id": "xZQ6-HJ7sz6X",
    "colab": {
     "base_uri": "https://localhost:8080/"
    },
    "outputId": "6bd5362b-2c2d-44d8-af7c-a413113a0247"
   },
   "source": [
    "#\n",
    "# EJECUTAR ESTA CELDA PARA EVALUAR EL INGRESO DE DATOS PERSONALES\n",
    "#\n",
    "\n",
    "T = np.ones((20),'int')\n",
    "T[0] = verify(NumeroID) # <Evaluación Q00>\n"
   ],
   "execution_count": null,
   "outputs": [
    {
     "output_type": "stream",
     "text": [
      "Bien! ID 12345678K registrado en la lista del curso.\n",
      "ADVERTENCIA: El nombre de archivo de este código no coincide con la variable NumeroID (número de alumnx). Esta tarea no podrá ser corregida.\n",
      "Nombre de archivo: Numero_Alumnx_Eje08.ipynb\n",
      "  Nombre esperado: 12345678K.ipynb\n"
     ],
     "name": "stdout"
    }
   ]
  },
  {
   "cell_type": "markdown",
   "metadata": {
    "id": "sOcwbiQYYPag"
   },
   "source": [
    "# Carga de base de datos\n",
    "\n",
    "La base de datos consiste en 2 clases con 218 muestras por clase. Las 1589 características por muestras se encuentran almacenadas en el archivo `X_gender.npy` como una matriz de 436 x 1589 elementos. Los labels se encuentren almacenados en el archivo `y_gender` como un vector de 436 eelementos (218 ceros y 218 unos)."
   ]
  },
  {
   "cell_type": "code",
   "metadata": {
    "id": "BMYOlpLpzHQJ",
    "colab": {
     "base_uri": "https://localhost:8080/"
    },
    "outputId": "a5b63c37-7c91-4323-909b-49a5cf4c9265"
   },
   "source": [
    "#\n",
    "# EJECUTAR ESTA CELDA SIN MODIFICARLA\n",
    "#\n",
    "\n",
    "if first_execution:\n",
    "  !wget https://www.dropbox.com/s/kuykz2cctcfdhc0/X_gender.npy?dl=0\n",
    "  !wget https://www.dropbox.com/s/jlxitl2a0tb939k/y_gender.npy?dl=0\n",
    "  clear_output()\n",
    "  print('Base de datos cargada.')"
   ],
   "execution_count": null,
   "outputs": [
    {
     "output_type": "stream",
     "text": [
      "Base de datos cargada.\n"
     ],
     "name": "stdout"
    }
   ]
  },
  {
   "cell_type": "markdown",
   "metadata": {
    "id": "8RFrjQx7flu8"
   },
   "source": [
    "Los datos cargados se almacenan en la matriz `X` de 436x1589 elementos y en el vector `y` de 436 elementos:"
   ]
  },
  {
   "cell_type": "code",
   "metadata": {
    "id": "1KzzqZueWyrB",
    "colab": {
     "base_uri": "https://localhost:8080/"
    },
    "outputId": "23914904-f8f8-4a5d-94c9-8868dd5bde6b"
   },
   "source": [
    "#\n",
    "# EJECUTAR ESTA CELDA SIN MODIFICARLA\n",
    "#\n",
    "\n",
    "X = np.load('X_gender.npy')\n",
    "y = np.load('y_gender.npy')\n",
    "print('Características X: '+ str(X.shape)+ ' elementos.')\n",
    "print('         Labels y: '+ str(y.shape)+ ' elementos.')\n"
   ],
   "execution_count": null,
   "outputs": [
    {
     "output_type": "stream",
     "text": [
      "Características X: (436, 1589) elementos.\n",
      "         Labels y: (436, 1) elementos.\n"
     ],
     "name": "stdout"
    }
   ]
  },
  {
   "cell_type": "markdown",
   "metadata": {
    "id": "WyziFOOwgt1P"
   },
   "source": [
    "# Definición de Training y Testing\n",
    "\n",
    "En todos los experimentos usaremos 200 muestras por clase para training y el resto (18) para testing. Para la separación train/test usaremos la función `SplitTrainTest`."
   ]
  },
  {
   "cell_type": "code",
   "metadata": {
    "id": "gEZE_hBNg09O",
    "colab": {
     "base_uri": "https://localhost:8080/"
    },
    "outputId": "68455ea4-60e2-4ad5-8d87-2a4466b305cf"
   },
   "source": [
    "#\n",
    "# EJECUTAR ESTA CELDA SIN MODIFICARLA\n",
    "#\n",
    "\n",
    "ntrain = 200\n",
    "Xtrain,ytrain,Xtest,ytest = SplitTrainTest(X,y,ntrain)\n",
    "print('muestras x características:')\n",
    "print('Training: '+ str(Xtrain.shape))\n",
    "print(' Testing: '+ str(Xtest.shape))\n"
   ],
   "execution_count": null,
   "outputs": [
    {
     "output_type": "stream",
     "text": [
      "muestras x características:\n",
      "Training: (400, 1589)\n",
      " Testing: (36, 1589)\n"
     ],
     "name": "stdout"
    }
   ]
  },
  {
   "cell_type": "markdown",
   "metadata": {
    "id": "e4dapo5Rh5cz"
   },
   "source": [
    "# Clasificación con los datos originales (sin selección)\n",
    "\n",
    "Para la clasificación usaremos siempre en todo el ejercicio la función `ClassifierKNN` con 5 vecinos (valor por defecto en este código).\n"
   ]
  },
  {
   "cell_type": "code",
   "metadata": {
    "id": "v3J4ZKGTiHSV",
    "colab": {
     "base_uri": "https://localhost:8080/"
    },
    "outputId": "e100773b-9623-4162-e9cd-e100f8b045e6"
   },
   "source": [
    "#\n",
    "# EJECUTAR ESTA CELDA SIN MODIFICARLA\n",
    "#\n",
    "\n",
    "acc,C = ClassifierKNN(Xtrain,ytrain,Xtest,ytest)"
   ],
   "execution_count": null,
   "outputs": [
    {
     "output_type": "stream",
     "text": [
      "Entrenando con 400 muestras y probando con 36 muestras\n",
      "Los datos tienen 1589 features\n",
      "Testing Accuracy = 52.78%\n",
      "\n",
      "Matriz de Confusión:\n",
      "[[11  7]\n",
      " [10  8]]\n"
     ],
     "name": "stdout"
    }
   ]
  },
  {
   "cell_type": "markdown",
   "metadata": {
    "id": "J5PzJ599XPGa"
   },
   "source": [
    "# ESTRATEGIA DEL EJERCICIO\n",
    "\n",
    "En este ejercicio se seguirá la estrategia mostrada en este diagrama. Por simplificación, se muestra solo el nombre de las variables de training (obviamente en paralelo van los bloques del testing). En azul se indica el número de características (columnas) de cada variable. Cada bloque, numerado como 'Pj', es definido en la 'Pregunta j' del ejercicio.\n",
    "\n",
    "ADVERTENCIA: Esta estrategia tiene sólo fines pedagógicos, probablemente una estrategia mucho más simple obtendría resultados similares.\n",
    "\n",
    "<font color='orange'>Un ejemplo del uso de cada uno de estos bloques se encuentra en el Colab del ejemplo anterior. Para realizar este ejercicio se recomienda tener el ejemplo anterior abierto en otra ventana o pestaña. </font>\n",
    "\n",
    "Ver ejemplo: [CIEDATOS03_SeleccionGeneral.ipynb]"
   ]
  },
  {
   "cell_type": "markdown",
   "metadata": {
    "id": "S9Uy5tPhfEdG"
   },
   "source": [
    "![Screen Shot 2021-05-05 at 1.03.29 pm.png](data:image/png;base64,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)"
   ]
  },
  {
   "cell_type": "markdown",
   "metadata": {
    "id": "Xd5riXIEhUgS"
   },
   "source": [
    "# Pregunta 1: Clean\n",
    "\n",
    "Como primer experimento seleccionaremos las características con `clean`.\n",
    "\n",
    "<font color='orange'>Si tienes dudas de cómo se usa la función `clean' te recomiendo ver la sección \"Pasos iniciales (sin selección)\" del ejemplo anterior visto en clases: </font>\n",
    "\n",
    "Ver ejemplo: [CIEDATOS03_SeleccionGeneral.ipynb]\n",
    "\n",
    "\n",
    "\n"
   ]
  },
  {
   "cell_type": "code",
   "metadata": {
    "id": "gHf-MFIijrhu",
    "colab": {
     "base_uri": "https://localhost:8080/"
    },
    "outputId": "28c6e364-e3c8-47b1-fc10-6dd84e11c997"
   },
   "source": [
    "# En ese código:\n",
    "#    INPUT: Xtrain,Xtest\n",
    "#    OUTPUT: Xtrain_clean,Xtest_clean\n",
    "\n",
    "sclean       = clean(Xtrain)   # <= COMPLETAR AQUI índice de características seleccionadas\n",
    "Xtrain_clean = Xtrain[:,sclean]   # <= COMPLETAR AQUI datos de training \"limpios\"\n",
    "Xtest_clean  = Xtest[:,sclean]   # <= COMPLETAR AQUI datos de testing \"limpios\"\n",
    "\n",
    "print('Seleccionadas '+str(len(sclean))+' de '+str(X.shape[1])+' características')\n",
    "acc,C = ClassifierKNN(Xtrain_clean,ytrain,Xtest_clean,ytest)\n"
   ],
   "execution_count": null,
   "outputs": [
    {
     "output_type": "stream",
     "text": [
      "Seleccionadas 289 de 1589 características\n",
      "Entrenando con 400 muestras y probando con 36 muestras\n",
      "Los datos tienen 289 features\n",
      "Testing Accuracy = 55.56%\n",
      "\n",
      "Matriz de Confusión:\n",
      "[[16  2]\n",
      " [14  4]]\n"
     ],
     "name": "stdout"
    }
   ]
  },
  {
   "cell_type": "code",
   "metadata": {
    "id": "IC8B1QO6k5c0",
    "colab": {
     "base_uri": "https://localhost:8080/"
    },
    "outputId": "3d8bdc80-9392-4415-c3a1-941eba38d42a"
   },
   "source": [
    "#\n",
    "# EJECUTAR ESTA CELDA PARA EVALUAR LA PREGUNTA ANTERIOR\n",
    "#\n",
    "\n",
    "T[1]  = CheckMatrix('      sclean',sclean,chk[0])        # <Evaluación Q01>\n",
    "T[2]  = CheckMatrix('Xtrain_clean',Xtrain_clean,chk[1])  # <Evaluación Q02>\n",
    "T[3]  = CheckMatrix(' Xtest_clean',Xtest_clean,chk[2])   # <Evaluación Q03>\n",
    "CheckPrint(T[1:4])"
   ],
   "execution_count": null,
   "outputs": [
    {
     "output_type": "stream",
     "text": [
      "      sclean: ok\n",
      "Xtrain_clean: ok\n",
      " Xtest_clean: ok\n",
      "Felicitaciones! Los cálculos han sido realizados correctamente.\n"
     ],
     "name": "stdout"
    }
   ]
  },
  {
   "cell_type": "markdown",
   "metadata": {
    "id": "CXFALNaQlsyH"
   },
   "source": [
    "# Pregunta 2: Normalización MinMax\n",
    "\n",
    "Ahora usaremos la normalización `minmax`. Usa este ejemplo en el que se muestra como se normalizan los datos de training (`Ztraining`) y testing (`Ztesting`):\n",
    "\n",
    "`Ztraining_norm, a, b = minmax(Ztraining)`\n",
    "\n",
    "`Ztesting_norm        = Ztesting * a + b`\n",
    "\n",
    "<font color='orange'>Si tienes dudas de cómo se usa la función `minmax' te recomiendo ver la sección \"Pasos iniciales (sin selección)\" del ejemplo anterior visto en clases: </font>\n",
    "\n",
    "Ver ejemplo: [CIEDATOS03_SeleccionGeneral.ipynb]\n",
    "\n",
    "\n",
    "\n"
   ]
  },
  {
   "cell_type": "code",
   "metadata": {
    "id": "IpghwJ6MOoz2",
    "colab": {
     "base_uri": "https://localhost:8080/"
    },
    "outputId": "f715ca8f-b7e4-4515-dd82-7b79fc94cc60"
   },
   "source": [
    "# En ese código:\n",
    "#    INPUT: Xtrain_clean,Xtest_clean\n",
    "#    OUTPUT: Xtrain_norm,Xtest_norm\n",
    "\n",
    "Xtrain_norm, a, b = minmax(Xtrain_clean) # <= COMPLETAR AQUI normalización minmax de Xtrain_clean\n",
    "Xtest_norm        = Xtest_clean*a+b # <= COMPLETAR AQUI normalización para X_test_clean\n",
    "\n",
    "acc,C = ClassifierKNN(Xtrain_norm,ytrain,Xtest_norm,ytest)\n"
   ],
   "execution_count": null,
   "outputs": [
    {
     "output_type": "stream",
     "text": [
      "Entrenando con 400 muestras y probando con 36 muestras\n",
      "Los datos tienen 289 features\n",
      "Testing Accuracy = 72.22%\n",
      "\n",
      "Matriz de Confusión:\n",
      "[[12  6]\n",
      " [ 4 14]]\n"
     ],
     "name": "stdout"
    }
   ]
  },
  {
   "cell_type": "code",
   "metadata": {
    "id": "zVLMo65Dcjec",
    "colab": {
     "base_uri": "https://localhost:8080/"
    },
    "outputId": "b96e8afa-2d50-4bca-b818-dfea3af9b6c4"
   },
   "source": [
    "#\n",
    "# EJECUTAR ESTA CELDA PARA EVALUAR LA PREGUNTA ANTERIOR\n",
    "#\n",
    "\n",
    "T[4]  = CheckMatrix('Xtrain_norm',Xtrain_norm*100,chk[3])  # <Evaluación Q04>\n",
    "T[5]  = CheckMatrix(' Xtest_norm',Xtest_norm*100,chk[4])   # <Evaluación Q05>\n",
    "CheckPrint(T[5:6])"
   ],
   "execution_count": null,
   "outputs": [
    {
     "output_type": "stream",
     "text": [
      "Xtrain_norm: ok\n",
      " Xtest_norm: ok\n",
      "Felicitaciones! Los cálculos han sido realizados correctamente.\n"
     ],
     "name": "stdout"
    }
   ]
  },
  {
   "cell_type": "markdown",
   "metadata": {
    "id": "4sO1-Y0ooGjM"
   },
   "source": [
    "# Pregunta 3: Selección con SFS\n",
    "\n",
    "A continuación realiza la selección de características usando `sfs` para seleccionar 30 características de `Xtrain_norm`.\n",
    "\n",
    "<font color='orange'>Si tienes dudas de cómo se usa esta función te recomiendo ver la sección \"SFS\" del ejemplo anterior visto en clases: </font>\n",
    "\n",
    "Ver ejemplo: [CIEDATOS03_SeleccionGeneral.ipynb]"
   ]
  },
  {
   "cell_type": "code",
   "metadata": {
    "id": "uBOUSF-qdtPb",
    "colab": {
     "base_uri": "https://localhost:8080/"
    },
    "outputId": "b4afef2f-a2f7-4223-a8fe-02beee5f4b7a"
   },
   "source": [
    "# En ese código:\n",
    "#    INPUT: Xtrain_norm, Xtest_norm\n",
    "#    OUTPUT: Xtrain_sfs,Xtest_sfs\n",
    "\n",
    "sel = sfs(Xtrain_norm,ytrain,30,show=True)        # <= COMPLETAR AQUI  los índices de 30 características seleccionadas con sfs de Xtrain_norm\n",
    "Xtrain_sfs = Xtrain_norm[:,sel] # <= COMPLETAR AQUI las 30 columnas seccionadas de Xtrain_norm\n",
    "Xtest_sfs  = Xtest_norm[:,sel] # <= COMPLETAR AQUI las 30 columnas seccionadas de Xtest_norm\n",
    "acc,C = ClassifierKNN(Xtrain_sfs,ytrain,Xtest_sfs,ytest)\n"
   ],
   "execution_count": null,
   "outputs": [
    {
     "output_type": "stream",
     "text": [
      "Selecting Features: 100%|██████████| 30.0/30.0 [00:07<00:00, 4.25 features/s]"
     ],
     "name": "stderr"
    },
    {
     "output_type": "stream",
     "text": [
      "Entrenando con 400 muestras y probando con 36 muestras\n",
      "Los datos tienen 30 features\n",
      "Testing Accuracy = 83.33%\n",
      "\n",
      "Matriz de Confusión:\n",
      "[[12  6]\n",
      " [ 0 18]]\n"
     ],
     "name": "stdout"
    },
    {
     "output_type": "stream",
     "text": [
      "\n"
     ],
     "name": "stderr"
    }
   ]
  },
  {
   "cell_type": "code",
   "metadata": {
    "id": "ODP-IncxoFE9",
    "colab": {
     "base_uri": "https://localhost:8080/"
    },
    "outputId": "151e3fbd-ece1-440e-bc39-9bb643a3b5c0"
   },
   "source": [
    "#\n",
    "# EJECUTAR ESTA CELDA PARA EVALUAR LA PREGUNTA ANTERIOR\n",
    "#\n",
    "\n",
    "T[6]  = CheckMatrix('Xtrain_sfs',Xtrain_sfs*100,chk[5])  # <Evaluación Q06>\n",
    "T[7]  = CheckMatrix(' Xtest_sfs',Xtest_sfs*100,chk[6])   # <Evaluación Q07>\n",
    "CheckPrint(T[7:8])"
   ],
   "execution_count": null,
   "outputs": [
    {
     "output_type": "stream",
     "text": [
      "Xtrain_sfs: ok\n",
      " Xtest_sfs: ok\n",
      "Felicitaciones! Los cálculos han sido realizados correctamente.\n"
     ],
     "name": "stdout"
    }
   ]
  },
  {
   "cell_type": "markdown",
   "metadata": {
    "id": "l__oz_gcqhSb"
   },
   "source": [
    "# Pregunta 4: Transformación con PCA\n",
    "\n",
    "A continuación realiza la transformación de características usando `pca` de `PyBalu` para quedaron con primeros 15 componentes de `Xtrain_sfs`.\n",
    "\n",
    "<font color='orange'>Si tienes dudas de cómo se usa esta función te recomiendo ver la sección \"PCA\" del ejemplo anterior visto en clases: </font>\n",
    "\n",
    "Ver ejemplo: [CIEDATOS03_SeleccionGeneral.ipynb]"
   ]
  },
  {
   "cell_type": "code",
   "metadata": {
    "id": "S3lzvjIrd8is",
    "colab": {
     "base_uri": "https://localhost:8080/"
    },
    "outputId": "a0940a78-ae22-40e1-cfab-d4c959dcf166"
   },
   "source": [
    "# En ese código:\n",
    "#    INPUT: Xtrain_sfs, Xtest_sfs\n",
    "#    OUTPUT: Xtrain_pca,Xtest_pca\n",
    "\n",
    "Xtrain_pca, _, A, Xm, _ = pca(Xtrain_sfs,n_components=15)   # <= COMPLETAR AQUI las 5 componentes principales de PCA de Xtrain_sfs\n",
    "Xtest_pca =             np.matmul(Xtest_sfs-Xm,A)   # <= COMPLETAR AQUI la transformación lineal de Xtest_sfs usando el PCA calculado\n",
    "\n",
    "acc,C = ClassifierKNN(Xtrain_pca,ytrain,Xtest_pca,ytest,1)"
   ],
   "execution_count": null,
   "outputs": [
    {
     "output_type": "stream",
     "text": [
      "Entrenando con 400 muestras y probando con 36 muestras\n",
      "Los datos tienen 15 features\n",
      "Testing Accuracy = 91.67%\n",
      "\n",
      "Matriz de Confusión:\n",
      "[[15  3]\n",
      " [ 0 18]]\n"
     ],
     "name": "stdout"
    }
   ]
  },
  {
   "cell_type": "code",
   "metadata": {
    "id": "sxCzTDHsqdRZ",
    "colab": {
     "base_uri": "https://localhost:8080/"
    },
    "outputId": "4a80ed7d-6e78-481a-ea73-4f582ada0847"
   },
   "source": [
    "#\n",
    "# EJECUTAR ESTA CELDA PARA EVALUAR LA PREGUNTA ANTERIOR\n",
    "#\n",
    "\n",
    "T[8]  = CheckMatrix('Xtrain_pca',Xtrain_pca*100,chk[7])  # <Evaluación Q08>\n",
    "T[9]  = CheckMatrix(' Xtest_pca',Xtest_pca*100,chk[8])   # <Evaluación Q09>\n",
    "CheckPrint(T[8:10])"
   ],
   "execution_count": null,
   "outputs": [
    {
     "output_type": "stream",
     "text": [
      "Xtrain_pca: ok\n",
      " Xtest_pca: ok\n",
      "Felicitaciones! Los cálculos han sido realizados correctamente.\n"
     ],
     "name": "stdout"
    }
   ]
  },
  {
   "cell_type": "markdown",
   "metadata": {
    "id": "CWXepKtL_exK"
   },
   "source": [
    "# Pregunta 5: Transformación con ICA\n",
    "\n",
    "A continuación realiza la transformación de características usando `ica` de `sklearn` para quedaron con primeros 10 componentes de `Xtrain_sfs`.\n",
    "\n",
    "<font color='orange'>Si tienes dudas de cómo se usa esta función te recomiendo ver la sección \"ICA (Librería sklearn)\" del ejemplo anterior visto en clases: </font>\n",
    "\n",
    "Ver ejemplo: [CIEDATOS03_SeleccionGeneral.ipynb]"
   ]
  },
  {
   "cell_type": "code",
   "metadata": {
    "id": "wBsmBwlpeMmH",
    "colab": {
     "base_uri": "https://localhost:8080/"
    },
    "outputId": "67df305c-f948-4356-e22f-e51a7bc30387"
   },
   "source": [
    "# En ese código:\n",
    "#    INPUT: Xtrain_sfs, Xtest_sfs\n",
    "#    OUTPUT: Xtrain_ica,Xtest_ica\n",
    "\n",
    "ica = FastICA(n_components=10, random_state=0) # <= COMPLETAR AQUI la definición de ICA para 10 componentes\n",
    "ica.fit(Xtrain_sfs, ytrain)  # <= COMPLETAR AQUI para calcular el ICA de Xtrain_sfs   \n",
    "\n",
    "Xtrain_ica = ica.transform(Xtrain_sfs) # <= COMPLETAR AQUI la transformación ICA de Xtrain_sfs\n",
    "Xtest_ica  = ica.transform(Xtest_sfs) # <= COMPLETAR AQUI la transformación ICA de Xtest_sfs\n",
    "\n",
    "acc,C = ClassifierKNN(Xtrain_ica,ytrain,Xtest_ica,ytest)\n"
   ],
   "execution_count": 1,
   "outputs": [
    {
     "ename": "NameError",
     "evalue": "name 'FastICA' is not defined",
     "output_type": "error",
     "traceback": [
      "\u001B[1;31m---------------------------------------------------------------------------\u001B[0m",
      "\u001B[1;31mNameError\u001B[0m                                 Traceback (most recent call last)",
      "\u001B[1;32mC:\\Users\\Public\\Documents\\Wondershare\\CreatorTemp/ipykernel_15284/3569896010.py\u001B[0m in \u001B[0;36m<module>\u001B[1;34m\u001B[0m\n\u001B[0;32m      3\u001B[0m \u001B[1;31m#    OUTPUT: Xtrain_ica,Xtest_ica\u001B[0m\u001B[1;33m\u001B[0m\u001B[1;33m\u001B[0m\u001B[0m\n\u001B[0;32m      4\u001B[0m \u001B[1;33m\u001B[0m\u001B[0m\n\u001B[1;32m----> 5\u001B[1;33m \u001B[0mica\u001B[0m \u001B[1;33m=\u001B[0m \u001B[0mFastICA\u001B[0m\u001B[1;33m(\u001B[0m\u001B[0mn_components\u001B[0m\u001B[1;33m=\u001B[0m\u001B[1;36m10\u001B[0m\u001B[1;33m,\u001B[0m \u001B[0mrandom_state\u001B[0m\u001B[1;33m=\u001B[0m\u001B[1;36m0\u001B[0m\u001B[1;33m)\u001B[0m \u001B[1;31m# <= COMPLETAR AQUI la definición de ICA para 10 componentes\u001B[0m\u001B[1;33m\u001B[0m\u001B[1;33m\u001B[0m\u001B[0m\n\u001B[0m\u001B[0;32m      6\u001B[0m \u001B[0mica\u001B[0m\u001B[1;33m.\u001B[0m\u001B[0mfit\u001B[0m\u001B[1;33m(\u001B[0m\u001B[0mXtrain_sfs\u001B[0m\u001B[1;33m,\u001B[0m \u001B[0mytrain\u001B[0m\u001B[1;33m)\u001B[0m  \u001B[1;31m# <= COMPLETAR AQUI para calcular el ICA de Xtrain_sfs\u001B[0m\u001B[1;33m\u001B[0m\u001B[1;33m\u001B[0m\u001B[0m\n\u001B[0;32m      7\u001B[0m \u001B[1;33m\u001B[0m\u001B[0m\n",
      "\u001B[1;31mNameError\u001B[0m: name 'FastICA' is not defined"
     ]
    }
   ]
  },
  {
   "cell_type": "code",
   "metadata": {
    "id": "fh5_lolVALxQ",
    "colab": {
     "base_uri": "https://localhost:8080/"
    },
    "outputId": "4d102a5d-6ab6-4b05-cc46-3d8a04a4e57f"
   },
   "source": [
    "#\n",
    "# EJECUTAR ESTA CELDA PARA EVALUAR LA PREGUNTA ANTERIOR\n",
    "#\n",
    "\n",
    "T[10]  = CheckMatrix('Xtrain_ica',Xtrain_ica*100,chk[9])   # <Evaluación Q10>\n",
    "T[11]  = CheckMatrix(' Xtest_ica',Xtest_ica*100,chk[10])   # <Evaluación Q11>\n",
    "CheckPrint(T[10:12])"
   ],
   "execution_count": null,
   "outputs": [
    {
     "output_type": "stream",
     "text": [
      "Xtrain_ica: ok\n",
      " Xtest_ica: ok\n",
      "Felicitaciones! Los cálculos han sido realizados correctamente.\n"
     ],
     "name": "stdout"
    }
   ]
  },
  {
   "cell_type": "markdown",
   "metadata": {
    "id": "ta3n2SaMAyZa"
   },
   "source": [
    "# Pregunta 6: Transformación con PLSR\n",
    "\n",
    "A continuación realiza la transformación de características usando `plsr` de `sklearn` para quedaron con primeros 10 componentes de `Xtrain_sfs`.\n",
    "\n",
    "<font color='orange'>Si tienes dudas de cómo se usa esta función te recomiendo ver la sección \"PLSR (Librería sklearn)\" del ejemplo anterior visto en clases: </font>\n",
    "\n",
    "Ver ejemplo: [CIEDATOS03_SeleccionGeneral.ipynb]"
   ]
  },
  {
   "cell_type": "code",
   "metadata": {
    "id": "xOGyHmK3eXy_",
    "colab": {
     "base_uri": "https://localhost:8080/"
    },
    "outputId": "cdb995db-694e-42d1-c1ae-823655946e97"
   },
   "source": [
    "# En ese código:\n",
    "#    INPUT: Xtrain_sfs, Xtest_sfs\n",
    "#    OUTPUT: Xtrain_plsr,Xtest_plsr\n",
    "\n",
    "plsr = PLSRegression(n_components=10)   # <= COMPLETAR AQUI para definir PLSR con 10 componentes \n",
    "\n",
    "plsr.fit(Xtrain_sfs, ytrain)  # <= COMPLETAR AQUI para calcular el PLSR de Xtrain_sfs  \n",
    "\n",
    "Xtrain_plsr = plsr.transform(Xtrain_sfs) # <= COMPLETAR AQUI la transformación PLSR de Xtrain_sfs\n",
    "Xtest_plsr  = plsr.transform(Xtest_sfs)  # <= COMPLETAR AQUI la transformación PLSR de Xtest_sfs\n",
    "\n",
    "acc,C = ClassifierKNN(Xtrain_plsr,ytrain,Xtest_plsr,ytest)\n"
   ],
   "execution_count": null,
   "outputs": [
    {
     "output_type": "stream",
     "text": [
      "Entrenando con 400 muestras y probando con 36 muestras\n",
      "Los datos tienen 10 features\n",
      "Testing Accuracy = 91.67%\n",
      "\n",
      "Matriz de Confusión:\n",
      "[[15  3]\n",
      " [ 0 18]]\n"
     ],
     "name": "stdout"
    }
   ]
  },
  {
   "cell_type": "code",
   "metadata": {
    "colab": {
     "base_uri": "https://localhost:8080/"
    },
    "id": "yI_Hv1rvAtHR",
    "outputId": "0eec0ce4-b243-4ed1-88ff-7b6db5867ed8"
   },
   "source": [
    "#\n",
    "# EJECUTAR ESTA CELDA PARA EVALUAR LA PREGUNTA ANTERIOR\n",
    "#\n",
    "\n",
    "T[12]  = CheckMatrix('Xtrain_plsr',Xtrain_plsr*100,chk[11])  # <Evaluación Q12>\n",
    "T[13]  = CheckMatrix(' Xtest_plsr',Xtest_plsr*100,chk[12])   # <Evaluación Q13>\n",
    "CheckPrint(T[12:14])"
   ],
   "execution_count": null,
   "outputs": [
    {
     "output_type": "stream",
     "text": [
      "Xtrain_plsr: ok\n",
      " Xtest_plsr: ok\n",
      "Felicitaciones! Los cálculos han sido realizados correctamente.\n"
     ],
     "name": "stdout"
    }
   ]
  },
  {
   "cell_type": "markdown",
   "metadata": {
    "id": "AaB_UTtJB_yj"
   },
   "source": [
    "# PREGUNTA 7: Selección con SBS\n",
    "\n",
    "A continuación realiza la transformación de características usando `sbs` de `mlxtend` para seleccionar 6 características de `Xtrain_plsr`. \n",
    "\n",
    "<font color='orange'>IMPORTANTE: En este código usaremos exactamente los mismos parámetros que se usan en la sección \"SBS (Librería mlxtend)\" del ejemplo anterior visto en clases: </font>\n",
    "\n",
    "Ver ejemplo: [CIEDATOS03_SeleccionGeneral.ipynb]"
   ]
  },
  {
   "cell_type": "code",
   "metadata": {
    "id": "YZzwuFtHCD8z",
    "colab": {
     "base_uri": "https://localhost:8080/"
    },
    "outputId": "302057b3-7a0f-4772-f32e-81f051b532fa"
   },
   "source": [
    "# En ese código:\n",
    "#    INPUT: Xtrain_plsr, Xtest_plsr\n",
    "#    OUTPUT: Xtrain_sbs,Xtest_sbs\n",
    "\n",
    "estimator = KNeighborsClassifier(n_neighbors=5)\n",
    "p = 6  # <= COMPLETAR AQUI el número de características a seleccionar\n",
    "forward = False # <= COMPLETAR AQUI True para SFS y False para SBS\n",
    "sbs =   mlxsfs(estimator, k_features=p,forward=forward,floating=False,verbose=2,scoring='accuracy',cv=10)\n",
    "\n",
    "sbs = sbs.fit(Xtrain_plsr, ytrain) # <= COMPLETAR AQUI para seleccionar las características de Xtrain_plsr \n",
    "sel = list(sbs.k_feature_idx_)   # <= COMPLETAR AQUI índice de características seleccionadas \n",
    "\n",
    "Xtrain_sbs = Xtrain_plsr[:,sel]# <= COMPLETAR AQUI características seleccionadas de Xtrain_plsr\n",
    "Xtest_sbs  = Xtest_plsr[:,sel] # <= COMPLETAR AQUI características seleccionadas de Xtest_plsr\n",
    "acc,C = ClassifierKNN(Xtrain_sbs,ytrain,Xtest_sbs,ytest)\n"
   ],
   "execution_count": null,
   "outputs": [
    {
     "output_type": "stream",
     "text": [
      "[Parallel(n_jobs=1)]: Using backend SequentialBackend with 1 concurrent workers.\n",
      "[Parallel(n_jobs=1)]: Done   1 out of   1 | elapsed:    0.0s remaining:    0.0s\n",
      "[Parallel(n_jobs=1)]: Done  10 out of  10 | elapsed:    0.3s finished\n",
      "\n",
      "[2021-05-05 21:35:40] Features: 9/6 -- score: 0.85[Parallel(n_jobs=1)]: Using backend SequentialBackend with 1 concurrent workers.\n",
      "[Parallel(n_jobs=1)]: Done   1 out of   1 | elapsed:    0.0s remaining:    0.0s\n",
      "[Parallel(n_jobs=1)]: Done   9 out of   9 | elapsed:    0.3s finished\n",
      "\n",
      "[2021-05-05 21:35:40] Features: 8/6 -- score: 0.8574999999999999[Parallel(n_jobs=1)]: Using backend SequentialBackend with 1 concurrent workers.\n",
      "[Parallel(n_jobs=1)]: Done   1 out of   1 | elapsed:    0.0s remaining:    0.0s\n",
      "[Parallel(n_jobs=1)]: Done   8 out of   8 | elapsed:    0.2s finished\n",
      "\n",
      "[2021-05-05 21:35:40] Features: 7/6 -- score: 0.8400000000000001[Parallel(n_jobs=1)]: Using backend SequentialBackend with 1 concurrent workers.\n",
      "[Parallel(n_jobs=1)]: Done   1 out of   1 | elapsed:    0.0s remaining:    0.0s\n"
     ],
     "name": "stderr"
    },
    {
     "output_type": "stream",
     "text": [
      "Entrenando con 400 muestras y probando con 36 muestras\n",
      "Los datos tienen 6 features\n",
      "Testing Accuracy = 94.44%\n",
      "\n",
      "Matriz de Confusión:\n",
      "[[16  2]\n",
      " [ 0 18]]\n"
     ],
     "name": "stdout"
    },
    {
     "output_type": "stream",
     "text": [
      "[Parallel(n_jobs=1)]: Done   7 out of   7 | elapsed:    0.2s finished\n",
      "\n",
      "[2021-05-05 21:35:40] Features: 6/6 -- score: 0.8574999999999999"
     ],
     "name": "stderr"
    }
   ]
  },
  {
   "cell_type": "code",
   "metadata": {
    "id": "753X3udGE2Ai",
    "colab": {
     "base_uri": "https://localhost:8080/"
    },
    "outputId": "38d77f5d-1c7d-48ad-bf7c-cd64e393bbe9"
   },
   "source": [
    "#\n",
    "# EJECUTAR ESTA CELDA PARA EVALUAR LA PREGUNTA ANTERIOR\n",
    "#\n",
    "\n",
    "T[14]  = CheckMatrix('Xtrain_sbs',Xtrain_sbs*100,chk[13])  # <Evaluación Q14>\n",
    "T[15]  = CheckMatrix(' Xtest_sbs',Xtest_sbs*100,chk[14])   # <Evaluación Q15>\n",
    "CheckPrint(T[14:16])"
   ],
   "execution_count": null,
   "outputs": [
    {
     "output_type": "stream",
     "text": [
      "Xtrain_sbs: ok\n",
      " Xtest_sbs: ok\n",
      "Felicitaciones! Los cálculos han sido realizados correctamente.\n"
     ],
     "name": "stdout"
    }
   ]
  },
  {
   "cell_type": "markdown",
   "metadata": {
    "id": "vooNzlVHFNWR"
   },
   "source": [
    "# PREGUNTA 8: Concatenación PCA y SBS\n",
    "\n",
    "A continuación concatena el output de PCA con el output de SBS y selecciona las mejores 6 características usando `sfs`. \n",
    "\n",
    "<font color='orange'>Si tienes dudas de cómo se usa esta función te recomiendo ver la Pregunta 3 de este ejercicio. "
   ]
  },
  {
   "cell_type": "code",
   "metadata": {
    "id": "j9NOpcJyeuaG",
    "colab": {
     "base_uri": "https://localhost:8080/"
    },
    "outputId": "219715c3-031a-4fb6-83a5-f27a1a9a90f6"
   },
   "source": [
    "# En ese código:\n",
    "#    INPUT: Xtrain_pca,Xtest_pca,Xtrain_sbs,Xtest_sbs\n",
    "#    OUTPUT: Xtrain_final,Xtest_final\n",
    "\n",
    "Xtrain_con = np.concatenate((Xtrain_pca,Xtrain_ica,Xtrain_sbs),axis=1)\n",
    "Xtest_con  = np.concatenate((Xtest_pca ,Xtest_ica ,Xtest_sbs),axis=1)\n",
    "\n",
    "sel = sfs(Xtrain_con,ytrain,6) # <= COMPLETAR AQUI  los índices de 6 características seleccionadas con sfs de Xtrain_con\n",
    "Xtrain_fin = Xtrain_con[:,sel] # <= COMPLETAR AQUI las 30 columnas seccionadas de Xtrain_con\n",
    "Xtest_fin  = Xtest_con[:,sel] # <= COMPLETAR AQUI las 30 columnas seccionadas de Xtest_con\n",
    "  \n",
    "acc,C = ClassifierKNN(Xtrain_fin,ytrain,Xtest_fin,ytest)\n"
   ],
   "execution_count": null,
   "outputs": [
    {
     "output_type": "stream",
     "text": [
      "Entrenando con 400 muestras y probando con 36 muestras\n",
      "Los datos tienen 6 features\n",
      "Testing Accuracy = 100.00%\n",
      "\n",
      "Matriz de Confusión:\n",
      "[[18  0]\n",
      " [ 0 18]]\n"
     ],
     "name": "stdout"
    }
   ]
  },
  {
   "cell_type": "code",
   "metadata": {
    "id": "ITzzIqe1HWvO",
    "colab": {
     "base_uri": "https://localhost:8080/"
    },
    "outputId": "bb39d125-16e3-4054-bb5a-495d243fcb4d"
   },
   "source": [
    "#\n",
    "# EJECUTAR ESTA CELDA PARA EVALUAR LA PREGUNTA ANTERIOR\n",
    "#\n",
    "\n",
    "T[16]  = CheckMatrix('Xtrain_fin',Xtrain_fin*100,chk[15])  # <Evaluación Q16>\n",
    "T[17]  = CheckMatrix(' Xtest_fin',Xtest_fin*100,chk[16])   # <Evaluación Q17>\n",
    "CheckPrint(T[16:18])"
   ],
   "execution_count": null,
   "outputs": [
    {
     "output_type": "stream",
     "text": [
      "Xtrain_fin: ok\n",
      " Xtest_fin: ok\n",
      "Felicitaciones! Los cálculos han sido realizados correctamente.\n"
     ],
     "name": "stdout"
    }
   ]
  },
  {
   "cell_type": "markdown",
   "metadata": {
    "id": "UMiYVLNzti_q"
   },
   "source": [
    "# PREGUNTA 9: Verificar datos personales\n",
    "\n",
    "<font color='red'> **ADVERTENCIA:** En este ejercicio en necesario que revises bien tus datos personales. Si no son correctos, no tendrás nota en este ejercicio."
   ]
  },
  {
   "cell_type": "code",
   "metadata": {
    "id": "WnFyXDtsuFOj"
   },
   "source": [
    "# POR FAVOR VUELVE A DIGITAR ESTOS DATOS PARA VERIFICAR QUE NO HAYA ERRORES DE TIPEO\n",
    "NumeroID_2       = '12345678K' # <= COMPLETAR AQUI NUMERO DE ALUMNO/A ENTRE APOSTROFES\n",
    "Correo_2         = 'joseiglesias@unicesar.edu.co' # <= COMPLETAR AQUI TU CORRECO ELECTRONICO"
   ],
   "execution_count": null,
   "outputs": []
  },
  {
   "cell_type": "code",
   "metadata": {
    "id": "NWTNp7TXubNc",
    "colab": {
     "base_uri": "https://localhost:8080/"
    },
    "outputId": "b715bbf6-2b7f-4776-d66e-a62f19607113"
   },
   "source": [
    "#\n",
    "# EJECUTAR ESTA CELDA PARA VERIFICAR SI LOS DATOS COINCIDEN CON LOS YA INGRESADOS\n",
    "#\n",
    "\n",
    "T[18] = NumeroID != NumeroID_2  # <Evaluación Q18>\n",
    "T[19] = Correo   != Correo_2    # <Evaluación Q19>\n",
    "CheckPrint(T[18:20],0)"
   ],
   "execution_count": null,
   "outputs": [
    {
     "output_type": "stream",
     "text": [
      "Felicitaciones! Los datos coinciden con los ingresados en la Pregunta 0.\n"
     ],
     "name": "stdout"
    }
   ]
  },
  {
   "cell_type": "markdown",
   "metadata": {
    "id": "RIffHnis4bIp"
   },
   "source": [
    "# PASO FINAL: Verificar todas las respuestas y subir tarea\n",
    "\n"
   ]
  },
  {
   "cell_type": "code",
   "metadata": {
    "id": "tjzQrA3Oq6PA",
    "colab": {
     "base_uri": "https://localhost:8080/"
    },
    "outputId": "15d24fa0-b675-450d-978f-233ebe51827d"
   },
   "source": [
    "# CHEQUEO FINAL DE TODOS LAS PREGUNTAS\n",
    "T = np.ones((20),'int')\n",
    "print('Verificación de ID y nombre de archivo:')\n",
    "T[0]  = verify(NumeroID)                                                     # <Evaluación Q00>\n",
    "print('--------------------------------------------------- ')\n",
    "T[1]   = CheckMatrix('      sclean',sclean,chk[0])           # <Evaluación Q01>\n",
    "T[2]   = CheckMatrix('Xtrain_clean',Xtrain_clean,chk[1])     # <Evaluación Q02>\n",
    "T[3]   = CheckMatrix(' Xtest_clean',Xtest_clean,chk[2])      # <Evaluación Q03>\n",
    "T[4]   = CheckMatrix(' Xtrain_norm',Xtrain_norm*100,chk[3])  # <Evaluación Q04>\n",
    "T[5]   = CheckMatrix('  Xtest_norm',Xtest_norm*100,chk[4])   # <Evaluación Q05>\n",
    "T[6]   = CheckMatrix('  Xtrain_sfs',Xtrain_sfs*100,chk[5])   # <Evaluación Q06>\n",
    "T[7]   = CheckMatrix('   Xtest_sfs',Xtest_sfs*100,chk[6])    # <Evaluación Q07>\n",
    "T[8]   = CheckMatrix('  Xtrain_pca',Xtrain_pca*100,chk[7])   # <Evaluación Q08>\n",
    "T[9]   = CheckMatrix('   Xtest_pca',Xtest_pca*100,chk[8])    # <Evaluación Q09>\n",
    "T[10]  = CheckMatrix('  Xtrain_ica',Xtrain_ica*100,chk[9])   # <Evaluación Q10>\n",
    "T[11]  = CheckMatrix('   Xtest_ica',Xtest_ica*100,chk[10])   # <Evaluación Q11>\n",
    "T[12]  = CheckMatrix(' Xtrain_plsr',Xtrain_plsr*100,chk[11]) # <Evaluación Q12>\n",
    "T[13]  = CheckMatrix('  Xtest_plsr',Xtest_plsr*100,chk[12])  # <Evaluación Q13>\n",
    "T[14]  = CheckMatrix('  Xtrain_sbs',Xtrain_sbs*100,chk[13])  # <Evaluación Q14>\n",
    "T[15]  = CheckMatrix('   Xtest_sbs',Xtest_sbs*100,chk[14])   # <Evaluación Q15>\n",
    "T[16]  = CheckMatrix('  Xtrain_fin',Xtrain_fin*100,chk[15])  # <Evaluación Q16>\n",
    "T[17]  = CheckMatrix('   Xtest_fin',Xtest_fin*100,chk[16])   # <Evaluación Q17>\n",
    "T[18]  = NumeroID != NumeroID_2  # <Evaluación Q18>\n",
    "T[19]  = Correo   != Correo_2    # <Evaluación Q19>\n",
    "\n",
    "print('--------------------------------------------------- ')\n",
    "FinalCheck(T)\n",
    "print('--------------------------------------------------- ')\n"
   ],
   "execution_count": null,
   "outputs": [
    {
     "output_type": "stream",
     "text": [
      "Verificación de ID y nombre de archivo:\n",
      "Bien! ID 12345678K registrado en la lista del curso.\n",
      "ADVERTENCIA: El nombre de archivo de este código no coincide con la variable NumeroID (número de alumnx). Esta tarea no podrá ser corregida.\n",
      "Nombre de archivo: Numero_Alumnx_Eje08.ipynb\n",
      "  Nombre esperado: 12345678K.ipynb\n",
      "--------------------------------------------------- \n",
      "      sclean: ok\n",
      "Xtrain_clean: ok\n",
      " Xtest_clean: ok\n",
      " Xtrain_norm: ok\n",
      "  Xtest_norm: ok\n",
      "  Xtrain_sfs: ok\n",
      "   Xtest_sfs: ok\n",
      "  Xtrain_pca: ok\n",
      "   Xtest_pca: ok\n",
      "  Xtrain_ica: ok\n",
      "   Xtest_ica: ok\n",
      " Xtrain_plsr: ok\n",
      "  Xtest_plsr: ok\n",
      "  Xtrain_sbs: ok\n",
      "   Xtest_sbs: ok\n",
      "  Xtrain_fin: ok\n",
      "   Xtest_fin: ok\n",
      "--------------------------------------------------- \n",
      "Error: El código presenta error en la evaluación de Q00\n",
      "Este código presenta errores. Es recomendable revisarlo antes de subirlo a Google Classroom.\n",
      "--------------------------------------------------- \n"
     ],
     "name": "stdout"
    }
   ]
  },
  {
   "cell_type": "markdown",
   "metadata": {
    "id": "pKf9Yt3C-POh"
   },
   "source": [
    "<font color='red'> **ADVERTENCIA FINAL:** Debes verificar que todas las celdas de este código hayan sido ejecutadas sin error. Si durante la evaluación automática tu código \"se cae\" en una celda, las siguientes celdas no serán ejecutadas (ni evaludas). \n",
    "\n",
    "<font color='orange'> Este archivo, que debe llamarse [tu NumeroID].ipynb, debe ser revisdo por  el profesor.\n"
   ]
  },
  {
   "cell_type": "code",
   "execution_count": null,
   "outputs": [],
   "source": [],
   "metadata": {
    "collapsed": false
   }
  }
 ]
}
