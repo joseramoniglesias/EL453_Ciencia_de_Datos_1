{
 "nbformat": 4,
 "nbformat_minor": 0,
 "metadata": {
  "colab": {
   "name": "PAT03_SeleccionGeneral.ipynb",
   "provenance": [],
   "collapsed_sections": []
  },
  "kernelspec": {
   "name": "python3",
   "display_name": "Python 3"
  },
  "language_info": {
   "name": "python"
  }
 },
 "cells": [
  {
   "cell_type": "markdown",
   "metadata": {
    "id": "ldHBGHWGon-Y"
   },
   "source": [
    "# Reconocimiento de Patrones\n",
    "[Curso de Reconocimiento de Patrones]\n",
    "\n",
    "Departamento Electrónica\n",
    "\n",
    "Universidad Popular del Cesar\n",
    "\n",
    "José Ramón Iglesias\n",
    "\n",
    "---\n",
    "\n",
    "# Ejemplos: Soluciones Generales en Selección de Características\n",
    "\n",
    "En este ejemplo se muestra distintas estrategias e implementaciones para la selección de características\n",
    "\n",
    "\n"
   ]
  },
  {
   "cell_type": "markdown",
   "metadata": {
    "id": "R5C53BYjpNl7"
   },
   "source": [
    "# Setup inicial\n",
    "\n",
    "Liberías necesarias para que funcione el algoritmo."
   ]
  },
  {
   "cell_type": "markdown",
   "metadata": {
    "id": "x-r9zRXMdBOM"
   },
   "source": [
    "## Instalación de PyBalu\n",
    "\n",
    "En los ejemplos de este notebook, se utiliza esta librería sólo para la extracción de características geométricas."
   ]
  },
  {
   "cell_type": "code",
   "metadata": {
    "id": "XX-Xb2Igk2jQ"
   },
   "source": [
    "# Instalación de PyBalu\n",
    "\n",
    "!pip install scipy==1.2\n",
    "!pip3 install pybalu==0.2.5\n",
    "\n",
    "print('PyBalu library installed.')\n"
   ],
   "execution_count": null,
   "outputs": []
  },
  {
   "cell_type": "markdown",
   "metadata": {
    "id": "X9daVUmmTSBW"
   },
   "source": [
    "## Setup de librerías"
   ]
  },
  {
   "cell_type": "code",
   "metadata": {
    "id": "xUXeMCxoTRH8"
   },
   "source": [
    "import numpy as np\n",
    "import cv2\n",
    "import matplotlib.pyplot as plt\n",
    "from   sklearn.metrics import confusion_matrix, accuracy_score\n",
    "from   seaborn import heatmap\n",
    "from   tqdm.auto import tqdm\n",
    "from   sklearn.neighbors import KNeighborsClassifier\n",
    "from   pybalu.feature_selection import clean\n",
    "from   pybalu.feature_transformation import normalize\n",
    "from   IPython.display import clear_output\n"
   ],
   "execution_count": null,
   "outputs": []
  },
  {
   "cell_type": "markdown",
   "metadata": {
    "id": "sOcwbiQYYPag"
   },
   "source": [
    "## Carga de base de datos\n",
    "\n",
    "En este ejemplo, usaremos las características ya extraidas en el ejemplo que realiza el reconocimiento de los caracteres A,B,X,Y,Z con diversos tamaños y diversas orientaciones. Para la solución se utiliza los descriptores ya que son invariantes a la rotación y a la escala. [Ver más...](https://colab.research.google.com/drive/14bwzAfN3QVSPGNKjLvrhr7zl02SkRu08?usp=sharing)\n",
    "\n",
    "\n",
    "La base de datos consiste en 5 clases y 100 imágenes por clase"
   ]
  },
  {
   "cell_type": "code",
   "metadata": {
    "colab": {
     "base_uri": "https://localhost:8080/"
    },
    "id": "rxUKBrAXPy18",
    "outputId": "71f34d20-886b-41d2-fb96-cd37908fa6e5"
   },
   "source": [
    "!wget https://www.dropbox.com/s/y71lwhzppw3woe4/Features_Letras.zip?dl=0\n",
    "!unzip Features_Letras"
   ],
   "execution_count": null,
   "outputs": [
    {
     "output_type": "stream",
     "text": [
      "--2021-05-06 15:28:52--  https://www.dropbox.com/s/knq4187tuj2vwsn/Features_Letras.zip\n",
      "Resolving www.dropbox.com (www.dropbox.com)... 162.125.6.18, 2620:100:601c:18::a27d:612\n",
      "Connecting to www.dropbox.com (www.dropbox.com)|162.125.6.18|:443... connected.\n",
      "HTTP request sent, awaiting response... 301 Moved Permanently\n",
      "Location: /s/raw/knq4187tuj2vwsn/Features_Letras.zip [following]\n",
      "--2021-05-06 15:28:52--  https://www.dropbox.com/s/raw/knq4187tuj2vwsn/Features_Letras.zip\n",
      "Reusing existing connection to www.dropbox.com:443.\n",
      "HTTP request sent, awaiting response... 302 Found\n",
      "Location: https://uc483fca307492ae4a7cfde5482b.dl.dropboxusercontent.com/cd/0/inline/BN-ukLfmpdfW16gsTnpj9ELvAXuKg4J3I_0XFB7JrrIizQNx0gwK2R_gZZ4n00eyvteu7dC6XIHfQNfAPrxYFaLPX1uIek7DSuSVzboxOTPQ5g93KcFRGY7r6HKYCP6siijcjNBKJUFc922uTXelpsT0/file# [following]\n",
      "--2021-05-06 15:28:52--  https://uc483fca307492ae4a7cfde5482b.dl.dropboxusercontent.com/cd/0/inline/BN-ukLfmpdfW16gsTnpj9ELvAXuKg4J3I_0XFB7JrrIizQNx0gwK2R_gZZ4n00eyvteu7dC6XIHfQNfAPrxYFaLPX1uIek7DSuSVzboxOTPQ5g93KcFRGY7r6HKYCP6siijcjNBKJUFc922uTXelpsT0/file\n",
      "Resolving uc483fca307492ae4a7cfde5482b.dl.dropboxusercontent.com (uc483fca307492ae4a7cfde5482b.dl.dropboxusercontent.com)... 162.125.6.15, 2620:100:6019:15::a27d:40f\n",
      "Connecting to uc483fca307492ae4a7cfde5482b.dl.dropboxusercontent.com (uc483fca307492ae4a7cfde5482b.dl.dropboxusercontent.com)|162.125.6.15|:443... connected.\n",
      "HTTP request sent, awaiting response... 302 Found\n",
      "Location: /cd/0/inline2/BN98s-0gsss3i6lot_TLxwHZ5_5644cZql_YTFsWKZg31VYDl_gSdHErGJ_6rJUzkIcCKB78uxEzXNeNHyeHi4Lyn3kgrgmSPd7-Oz7SQZQ3Dk7UGE232VXYO9rWxlbXJBXT9OGXSGRIFadJpr7w250Tfl3nLV-p7NodFhh9BBI7ZWLhctj1Jxe1_ml0uLCbc4BOSE7NLgatYVd1QRF2WFyfgeU5BJYJ0f5vzafN26sc_uWAHXTifxwwTkpEr0LAIzpw9lkxJ9B1EeXtRA6e7EkaFjUjyxBZVxefQXLF0c8welT6Pza-fo_Heg4W9QbEgGaB2mN4o7KrfAHguBQlzIrc7XXB4e_Rt6QC1QhYMUoapYdV5iDFl8xeQ5CnCgPzhnQ/file [following]\n",
      "--2021-05-06 15:28:52--  https://uc483fca307492ae4a7cfde5482b.dl.dropboxusercontent.com/cd/0/inline2/BN98s-0gsss3i6lot_TLxwHZ5_5644cZql_YTFsWKZg31VYDl_gSdHErGJ_6rJUzkIcCKB78uxEzXNeNHyeHi4Lyn3kgrgmSPd7-Oz7SQZQ3Dk7UGE232VXYO9rWxlbXJBXT9OGXSGRIFadJpr7w250Tfl3nLV-p7NodFhh9BBI7ZWLhctj1Jxe1_ml0uLCbc4BOSE7NLgatYVd1QRF2WFyfgeU5BJYJ0f5vzafN26sc_uWAHXTifxwwTkpEr0LAIzpw9lkxJ9B1EeXtRA6e7EkaFjUjyxBZVxefQXLF0c8welT6Pza-fo_Heg4W9QbEgGaB2mN4o7KrfAHguBQlzIrc7XXB4e_Rt6QC1QhYMUoapYdV5iDFl8xeQ5CnCgPzhnQ/file\n",
      "Reusing existing connection to uc483fca307492ae4a7cfde5482b.dl.dropboxusercontent.com:443.\n",
      "HTTP request sent, awaiting response... 200 OK\n",
      "Length: 128173 (125K) [application/zip]\n",
      "Saving to: ‘Features_Letras.zip’\n",
      "\n",
      "Features_Letras.zip 100%[===================>] 125.17K  --.-KB/s    in 0.003s  \n",
      "\n",
      "2021-05-06 15:28:53 (40.5 MB/s) - ‘Features_Letras.zip’ saved [128173/128173]\n",
      "\n",
      "Archive:  Features_Letras.zip\n",
      "  inflating: Letras_y.npy            \n",
      "  inflating: __MACOSX/._Letras_y.npy  \n",
      "  inflating: Letras_X.npy            \n",
      "  inflating: __MACOSX/._Letras_X.npy  \n"
     ],
     "name": "stdout"
    }
   ]
  },
  {
   "cell_type": "markdown",
   "metadata": {
    "id": "dYCCyCrTYVYQ"
   },
   "source": [
    "## Funciones necesarias"
   ]
  },
  {
   "cell_type": "code",
   "metadata": {
    "id": "V7PwerxH4rxx"
   },
   "source": [
    "def load_features(prefix):\n",
    "    X = np.load(prefix+'_X.npy')            # features\n",
    "    y = np.load(prefix+'_y.npy')            # labels\n",
    "    print('Features: '+str(X.shape[0]) +' samples with '+str(X.shape[1]) +' features')\n",
    "    print(' Classes: '+str(int(np.min(y)))+'...'+str(int(np.max(y))))\n",
    "    return X,y\n",
    "\n",
    "# Separación entre training y testing\n",
    "def SplitTrainTest(X,y,n):\n",
    "\n",
    "  K      = np.int(np.max(y)+1)      # número de clases\n",
    "  N      = np.int(X.shape[0]/K)     # numeros de muestras por clase\n",
    "  Ntrain = n*K                      # número de muestras para el training\n",
    "  Ntest  = K*N-Ntrain               # número de muestras para el testing\n",
    "  M      = X.shape[1]               # número de características por muestra\n",
    "  Xtrain = np.zeros((Ntrain,M))     # subset de training\n",
    "  ytrain = np.zeros((Ntrain),'int') # ground truth del training         \n",
    "  Xtest  = np.zeros((Ntest,M))      # subset de testing\n",
    "  ytest  = np.zeros((Ntest),'int')  # ground truth del testing  \n",
    "\n",
    "  # contadores\n",
    "  itrain = 0\n",
    "  itest  = 0\n",
    "  t      = 0\n",
    "\n",
    "  for j in range(K):     # para cada clase\n",
    "    for i in range(N):   # para cada imagen de la clase\n",
    "      if i<n: # training\n",
    "        Xtrain[itrain,:] = X[t,:]\n",
    "        ytrain[itrain] = y[t]\n",
    "        itrain = itrain+1\n",
    "      else:  # testing\n",
    "        Xtest[itest,:] = X[t,:]\n",
    "        ytest[itest] = y[t]\n",
    "        itest = itest+1\n",
    "      t = t+1\n",
    "  \n",
    "  return Xtrain,ytrain,Xtest,ytest\n",
    "\n",
    "\n",
    "# Clasificación usando KNN con n_vecinos\n",
    "def ClassifierKNN(Xtrain,ytrain,Xtest,ytest,n_vecinos=1,echo ='on'):\n",
    "  knn = KNeighborsClassifier(n_neighbors=n_vecinos)\n",
    "  knn.fit(Xtrain, ytrain)\n",
    "  ypred        = knn.predict(Xtest)\n",
    "  acc          = accuracy_score(ytest,ypred)\n",
    "  C = confusion_matrix(ytest,ypred)\n",
    "\n",
    "\n",
    "\n",
    "  if echo == 'on':\n",
    "    print('Entrenando con '+str(Xtrain.shape[0])+' muestras y probando con '+str(Xtest.shape[0])+' muestras')\n",
    "    print('Los datos tienen '+str(Xtrain.shape[1])+' features')\n",
    "\n",
    "    acc_st = \"{:.2f}\".format(acc*100)\n",
    "\n",
    "    print('Testing Accuracy = '+acc_st+'%')\n",
    "    print()\n",
    "    #print('Matriz de Confusión:')\n",
    "    #print(C)\n",
    "    heatmap(C, annot=True, cbar=None, cmap=\"Blues\")\n",
    "    plt.title(\"Confusion Matrix\"), plt.tight_layout()\n",
    "    plt.ylabel(\"True Class\"), plt.xlabel(\"Predicted Class\")\n",
    "    plt.show()\n",
    "  return acc,C\n",
    "\n",
    "\n",
    "# Normalización MinMax: cada columna es normalizada para que tenga minimo 0 y máximo 1\n",
    "def minmax(X):\n",
    "    ma = X.max(0)\n",
    "    mi = X.min(0)\n",
    "    md    = ma-mi    \n",
    "    a     = 1/ md\n",
    "    b     = -mi/md\n",
    "    return X * a + b, a, b\n"
   ],
   "execution_count": null,
   "outputs": []
  },
  {
   "cell_type": "markdown",
   "metadata": {
    "id": "yYHxPwnTYhXs"
   },
   "source": [
    "# Pasos iniciales (sin selección)"
   ]
  },
  {
   "cell_type": "code",
   "metadata": {
    "id": "B1kRMNxvLyI9",
    "colab": {
     "base_uri": "https://localhost:8080/",
     "height": 958
    },
    "outputId": "706d0c7d-783f-4623-9c91-081494a2e820"
   },
   "source": [
    "# 1. Caracteristicas\n",
    "X,y = load_features('Letras')\n",
    "\n",
    "# 2. Definicion Training/Testing\n",
    "ntrain = 75\n",
    "Xtrain,ytrain,Xtest,ytest = SplitTrainTest(X,y,ntrain)\n",
    "\n",
    "# Clasificacion con datos originales\n",
    "print()\n",
    "print('Evaluación con datos Originales:')\n",
    "print('================================')\n",
    "\n",
    "acc,C = ClassifierKNN(Xtrain,ytrain,Xtest,ytest)\n",
    "\n",
    "# 3. Cleaning\n",
    "sclean = clean(Xtrain)            # índice de características seleccionadas\n",
    "Xtrain_clean = Xtrain[:,sclean]   # nuevo training\n",
    "Xtest_clean  = Xtest[:,sclean]    # nuevo testing\n",
    "print()\n",
    "print('Cleaning:')\n",
    "print('=========')\n",
    "print('Seleccionadas '+str(len(sclean))+'/'+str(X.shape[1])+' features: '+str(sclean))\n",
    "\n",
    "# 4. Normalización MinMax\n",
    "Xtrain_norm, a, b = minmax(Xtrain_clean)\n",
    "Xtest_norm        = Xtest_clean * a + b\n",
    "\n",
    "# Clasificacion con datos normalizados\n",
    "print()\n",
    "print('Evaluación con datos después de  Clean y Normalización:')\n",
    "print('=======================================================')\n",
    "acc,C = ClassifierKNN(Xtrain_norm,ytrain,Xtest_norm,ytest,1)\n",
    "\n"
   ],
   "execution_count": null,
   "outputs": [
    {
     "output_type": "stream",
     "text": [
      "Features: 500 samples with 45 features\n",
      " Classes: 0...4\n",
      "\n",
      "Evaluación con datos Originales:\n",
      "================================\n",
      "Entrenando con 375 muestras y probando con 125 muestras\n",
      "Los datos tienen 45 features\n",
      "Testing Accuracy = 70.40%\n",
      "\n"
     ],
     "name": "stdout"
    },
    {
     "output_type": "display_data",
     "data": {
      "image/png": "[encoded data removed]",
      "text/plain": [
       "<Figure size 432x288 with 1 Axes>"
      ]
     },
     "metadata": {
      "tags": [],
      "needs_background": "light"
     }
    },
    {
     "output_type": "stream",
     "text": [
      "\n",
      "Cleaning:\n",
      "=========\n",
      "Seleccionadas 41/45 features: [ 0  1  2  3  4  5  8  9 10 11 12 13 15 16 17 18 19 20 21 22 23 24 25 26\n",
      " 27 28 29 30 31 32 33 34 35 36 37 38 39 41 42 43 44]\n",
      "\n",
      "Evaluación con datos después de  Clean y Normalización:\n",
      "=======================================================\n",
      "Entrenando con 375 muestras y probando con 125 muestras\n",
      "Los datos tienen 41 features\n",
      "Testing Accuracy = 79.20%\n",
      "\n"
     ],
     "name": "stdout"
    },
    {
     "output_type": "display_data",
     "data": {
      "image/png": "[encoded data removed]",
      "text/plain": [
       "<Figure size 432x288 with 1 Axes>"
      ]
     },
     "metadata": {
      "tags": [],
      "needs_background": "light"
     }
    }
   ]
  },
  {
   "cell_type": "markdown",
   "metadata": {
    "id": "4T95kePcd_1N"
   },
   "source": [
    "# Selección de Características"
   ]
  },
  {
   "cell_type": "markdown",
   "metadata": {
    "id": "fYyqqqDlF7Ku"
   },
   "source": [
    "## SFS (Librería PyBalu)"
   ]
  },
  {
   "cell_type": "code",
   "metadata": {
    "id": "orCI_DHMJ7Un"
   },
   "source": [
    "from   pybalu.feature_selection import sfs\n",
    "\n",
    "# 5. Selección con SFS - Fisher\n",
    "sel = sfs(Xtrain_norm,ytrain,8,show=True)\n",
    "Xtrain_sel = Xtrain_norm[:,sel]\n",
    "Xtest_sel  = Xtest_norm[:,sel]\n",
    "\n",
    "# 6, 7, 8. Clasificación con caracteristicas seleccionadas\n",
    "print()\n",
    "print('Datos con SFS:')\n",
    "print('==============')\n",
    "acc,C = ClassifierKNN(Xtrain_sel,ytrain,Xtest_sel,ytest,1)\n",
    "\n"
   ],
   "execution_count": null,
   "outputs": []
  },
  {
   "cell_type": "markdown",
   "metadata": {
    "id": "jz15IEAIHPIg"
   },
   "source": [
    "## Búsqueda Exhaustiva (Librería PyBalu)"
   ]
  },
  {
   "cell_type": "code",
   "metadata": {
    "id": "HP47gSOXHVVf"
   },
   "source": [
    "from   pybalu.feature_selection import exsearch\n",
    "\n",
    "# 5. Selección con Búsqueda Exhaustiva - Fisher\n",
    "\n",
    "# Primero hacemos una preselección para reducir el espacio de búsqueda\n",
    "sel_1 = sfs(Xtrain_norm,ytrain,16,show=True)\n",
    "Xtrain_sel_1 = Xtrain_norm[:,sel_1]\n",
    "Xtest_sel_1  = Xtest_norm[:,sel_1]\n",
    "\n",
    "# Luego hacemos búsqueda exhaustiva\n",
    "sel_2 = exsearch(Xtrain_sel,ytrain,6,show=True)\n",
    "Xtrain_sel_2 = Xtrain_sel_1[:,sel_2]\n",
    "Xtest_sel_2  = Xtest_sel_1[:,sel_2]\n",
    "\n",
    "\n",
    "# 6, 7, 8. Clasificación con caracteristicas seleccionadas\n",
    "print()\n",
    "print('Datos con SFS + Búsqueda Exhaustiva:')\n",
    "print('====================================')\n",
    "acc,C = ClassifierKNN(Xtrain_sel_2,ytrain,Xtest_sel_2,ytest,1)\n"
   ],
   "execution_count": null,
   "outputs": []
  },
  {
   "cell_type": "markdown",
   "metadata": {
    "id": "3PgkN-aJXVFN"
   },
   "source": [
    "## RFECV (Librería sklearn)"
   ]
  },
  {
   "cell_type": "code",
   "metadata": {
    "id": "bNPMvWg9N-ZQ"
   },
   "source": [
    "from sklearn.feature_selection import RFECV\n",
    "from sklearn.svm import SVC\n",
    "\n",
    "estimator = SVC(kernel=\"linear\")\n",
    "\n",
    "\n",
    "selector  = RFECV(estimator, step=1,cv=5)\n",
    "selector  = selector.fit(Xtrain_norm, ytrain)\n",
    "sel       = np.nonzero(selector.support_)[0]\n",
    "\n",
    "Xtrain_sel = Xtrain_norm[:,sel]\n",
    "Xtest_sel  = Xtest_norm[:,sel]\n",
    "acc,C = ClassifierKNN(Xtrain_sel,ytrain,Xtest_sel,ytest,1)\n"
   ],
   "execution_count": null,
   "outputs": []
  },
  {
   "cell_type": "markdown",
   "metadata": {
    "id": "oqoMtUuvXHpz"
   },
   "source": [
    "## RFE (Librería sklearn)"
   ]
  },
  {
   "cell_type": "code",
   "metadata": {
    "id": "OV7fJtRFXQc8"
   },
   "source": [
    "from sklearn.feature_selection import RFE\n",
    "from sklearn.svm import SVC\n",
    "\n",
    "estimator = SVC(kernel=\"linear\")\n",
    "\n",
    "p = 8\n",
    "selector  = RFE(estimator, p, step=1)\n",
    "selector  = selector.fit(Xtrain_norm, ytrain)\n",
    "sel       = np.nonzero(selector.support_)[0]\n",
    "\n",
    "Xtrain_sel = Xtrain_norm[:,sel]\n",
    "Xtest_sel  = Xtest_norm[:,sel]\n",
    "acc,C = ClassifierKNN(Xtrain_sel,ytrain,Xtest_sel,ytest,1)\n"
   ],
   "execution_count": null,
   "outputs": []
  },
  {
   "cell_type": "markdown",
   "metadata": {
    "id": "yLq9YGY1Y9md"
   },
   "source": [
    "## SFS (Librería mlxtend)"
   ]
  },
  {
   "cell_type": "code",
   "metadata": {
    "id": "UmAhipceYaks"
   },
   "source": [
    "from mlxtend.feature_selection import SequentialFeatureSelector as mlxsfs\n",
    "\n",
    "estimator = KNeighborsClassifier(n_neighbors=5)\n",
    "p = 12\n",
    "forward = True\n",
    "sfs = mlxsfs(estimator, k_features=p,forward=forward,floating=False,verbose=2,scoring='accuracy',cv=10)\n",
    "\n",
    "sfs = sfs.fit(Xtrain_norm, ytrain)\n",
    "sel = list(sfs.k_feature_idx_)\n",
    "\n",
    "Xtrain_sel = Xtrain_norm[:,sel]\n",
    "Xtest_sel  = Xtest_norm[:,sel]\n",
    "acc,C = ClassifierKNN(Xtrain_sel,ytrain,Xtest_sel,ytest,1)\n"
   ],
   "execution_count": null,
   "outputs": []
  },
  {
   "cell_type": "markdown",
   "metadata": {
    "id": "3XUrDCY7ZrcP"
   },
   "source": [
    "## SBS (Librería mlxtend)"
   ]
  },
  {
   "cell_type": "code",
   "metadata": {
    "id": "MGW9DxmgZom1",
    "colab": {
     "base_uri": "https://localhost:8080/",
     "height": 1000
    },
    "outputId": "b52764e9-ddd7-4d0c-f723-7059f3f45fa5"
   },
   "source": [
    "from mlxtend.feature_selection import SequentialFeatureSelector as mlxsfs\n",
    "\n",
    "estimator = KNeighborsClassifier(n_neighbors=5)\n",
    "p = 12\n",
    "forward = False\n",
    "sfs = mlxsfs(estimator, k_features=p,forward=forward,floating=False,verbose=2,scoring='accuracy',cv=10)\n",
    "\n",
    "sfs = sfs.fit(Xtrain_norm, ytrain)\n",
    "sel = list(sfs.k_feature_idx_)\n",
    "\n",
    "Xtrain_sel = Xtrain_norm[:,sel]\n",
    "Xtest_sel  = Xtest_norm[:,sel]\n",
    "acc,C = ClassifierKNN(Xtrain_sel,ytrain,Xtest_sel,ytest,1)\n"
   ],
   "execution_count": null,
   "outputs": [
    {
     "output_type": "stream",
     "text": [
      "[Parallel(n_jobs=1)]: Using backend SequentialBackend with 1 concurrent workers.\n",
      "[Parallel(n_jobs=1)]: Done   1 out of   1 | elapsed:    0.0s remaining:    0.0s\n",
      "[Parallel(n_jobs=1)]: Done  41 out of  41 | elapsed:    2.0s finished\n",
      "\n",
      "[2021-05-06 15:51:47] Features: 40/12 -- score: 0.9702702702702704[Parallel(n_jobs=1)]: Using backend SequentialBackend with 1 concurrent workers.\n",
      "[Parallel(n_jobs=1)]: Done   1 out of   1 | elapsed:    0.0s remaining:    0.0s\n",
      "[Parallel(n_jobs=1)]: Done  40 out of  40 | elapsed:    1.8s finished\n",
      "\n",
      "[2021-05-06 15:51:49] Features: 39/12 -- score: 0.972972972972973[Parallel(n_jobs=1)]: Using backend SequentialBackend with 1 concurrent workers.\n",
      "[Parallel(n_jobs=1)]: Done   1 out of   1 | elapsed:    0.0s remaining:    0.0s\n",
      "[Parallel(n_jobs=1)]: Done  39 out of  39 | elapsed:    1.7s finished\n",
      "\n",
      "[2021-05-06 15:51:50] Features: 38/12 -- score: 0.9756756756756756[Parallel(n_jobs=1)]: Using backend SequentialBackend with 1 concurrent workers.\n",
      "[Parallel(n_jobs=1)]: Done   1 out of   1 | elapsed:    0.0s remaining:    0.0s\n",
      "[Parallel(n_jobs=1)]: Done  38 out of  38 | elapsed:    1.7s finished\n",
      "\n",
      "[2021-05-06 15:51:52] Features: 37/12 -- score: 0.9864864864864865[Parallel(n_jobs=1)]: Using backend SequentialBackend with 1 concurrent workers.\n",
      "[Parallel(n_jobs=1)]: Done   1 out of   1 | elapsed:    0.0s remaining:    0.0s\n",
      "[Parallel(n_jobs=1)]: Done  37 out of  37 | elapsed:    1.6s finished\n",
      "\n",
      "[2021-05-06 15:51:54] Features: 36/12 -- score: 0.9864864864864865[Parallel(n_jobs=1)]: Using backend SequentialBackend with 1 concurrent workers.\n",
      "[Parallel(n_jobs=1)]: Done   1 out of   1 | elapsed:    0.0s remaining:    0.0s\n",
      "[Parallel(n_jobs=1)]: Done  36 out of  36 | elapsed:    1.6s finished\n",
      "\n",
      "[2021-05-06 15:51:55] Features: 35/12 -- score: 0.9864864864864865[Parallel(n_jobs=1)]: Using backend SequentialBackend with 1 concurrent workers.\n",
      "[Parallel(n_jobs=1)]: Done   1 out of   1 | elapsed:    0.0s remaining:    0.0s\n",
      "[Parallel(n_jobs=1)]: Done  35 out of  35 | elapsed:    1.5s finished\n",
      "\n",
      "[2021-05-06 15:51:57] Features: 34/12 -- score: 0.9864864864864865[Parallel(n_jobs=1)]: Using backend SequentialBackend with 1 concurrent workers.\n",
      "[Parallel(n_jobs=1)]: Done   1 out of   1 | elapsed:    0.0s remaining:    0.0s\n",
      "[Parallel(n_jobs=1)]: Done  34 out of  34 | elapsed:    1.4s finished\n",
      "\n",
      "[2021-05-06 15:51:58] Features: 33/12 -- score: 0.9864864864864865[Parallel(n_jobs=1)]: Using backend SequentialBackend with 1 concurrent workers.\n",
      "[Parallel(n_jobs=1)]: Done   1 out of   1 | elapsed:    0.0s remaining:    0.0s\n",
      "[Parallel(n_jobs=1)]: Done  33 out of  33 | elapsed:    1.4s finished\n",
      "\n",
      "[2021-05-06 15:52:00] Features: 32/12 -- score: 0.9891891891891891[Parallel(n_jobs=1)]: Using backend SequentialBackend with 1 concurrent workers.\n",
      "[Parallel(n_jobs=1)]: Done   1 out of   1 | elapsed:    0.1s remaining:    0.0s\n",
      "[Parallel(n_jobs=1)]: Done  32 out of  32 | elapsed:    1.4s finished\n",
      "\n",
      "[2021-05-06 15:52:01] Features: 31/12 -- score: 0.9972972972972973[Parallel(n_jobs=1)]: Using backend SequentialBackend with 1 concurrent workers.\n",
      "[Parallel(n_jobs=1)]: Done   1 out of   1 | elapsed:    0.0s remaining:    0.0s\n",
      "[Parallel(n_jobs=1)]: Done  31 out of  31 | elapsed:    1.3s finished\n",
      "\n",
      "[2021-05-06 15:52:02] Features: 30/12 -- score: 0.9972972972972973[Parallel(n_jobs=1)]: Using backend SequentialBackend with 1 concurrent workers.\n",
      "[Parallel(n_jobs=1)]: Done   1 out of   1 | elapsed:    0.0s remaining:    0.0s\n",
      "[Parallel(n_jobs=1)]: Done  30 out of  30 | elapsed:    1.3s finished\n",
      "\n",
      "[2021-05-06 15:52:04] Features: 29/12 -- score: 0.9972972972972973[Parallel(n_jobs=1)]: Using backend SequentialBackend with 1 concurrent workers.\n",
      "[Parallel(n_jobs=1)]: Done   1 out of   1 | elapsed:    0.0s remaining:    0.0s\n",
      "[Parallel(n_jobs=1)]: Done  29 out of  29 | elapsed:    1.2s finished\n",
      "\n",
      "[2021-05-06 15:52:05] Features: 28/12 -- score: 0.9972972972972973[Parallel(n_jobs=1)]: Using backend SequentialBackend with 1 concurrent workers.\n",
      "[Parallel(n_jobs=1)]: Done   1 out of   1 | elapsed:    0.0s remaining:    0.0s\n",
      "[Parallel(n_jobs=1)]: Done  28 out of  28 | elapsed:    1.1s finished\n",
      "\n",
      "[2021-05-06 15:52:06] Features: 27/12 -- score: 0.9972972972972973[Parallel(n_jobs=1)]: Using backend SequentialBackend with 1 concurrent workers.\n",
      "[Parallel(n_jobs=1)]: Done   1 out of   1 | elapsed:    0.0s remaining:    0.0s\n",
      "[Parallel(n_jobs=1)]: Done  27 out of  27 | elapsed:    1.1s finished\n",
      "\n",
      "[2021-05-06 15:52:07] Features: 26/12 -- score: 0.9972972972972973[Parallel(n_jobs=1)]: Using backend SequentialBackend with 1 concurrent workers.\n",
      "[Parallel(n_jobs=1)]: Done   1 out of   1 | elapsed:    0.0s remaining:    0.0s\n",
      "[Parallel(n_jobs=1)]: Done  26 out of  26 | elapsed:    1.0s finished\n",
      "\n",
      "[2021-05-06 15:52:08] Features: 25/12 -- score: 0.9972972972972973[Parallel(n_jobs=1)]: Using backend SequentialBackend with 1 concurrent workers.\n",
      "[Parallel(n_jobs=1)]: Done   1 out of   1 | elapsed:    0.0s remaining:    0.0s\n",
      "[Parallel(n_jobs=1)]: Done  25 out of  25 | elapsed:    1.0s finished\n",
      "\n",
      "[2021-05-06 15:52:09] Features: 24/12 -- score: 0.9972972972972973[Parallel(n_jobs=1)]: Using backend SequentialBackend with 1 concurrent workers.\n",
      "[Parallel(n_jobs=1)]: Done   1 out of   1 | elapsed:    0.0s remaining:    0.0s\n",
      "[Parallel(n_jobs=1)]: Done  24 out of  24 | elapsed:    0.9s finished\n",
      "\n",
      "[2021-05-06 15:52:10] Features: 23/12 -- score: 0.9972972972972973[Parallel(n_jobs=1)]: Using backend SequentialBackend with 1 concurrent workers.\n",
      "[Parallel(n_jobs=1)]: Done   1 out of   1 | elapsed:    0.0s remaining:    0.0s\n",
      "[Parallel(n_jobs=1)]: Done  23 out of  23 | elapsed:    0.9s finished\n",
      "\n",
      "[2021-05-06 15:52:11] Features: 22/12 -- score: 0.9972972972972973[Parallel(n_jobs=1)]: Using backend SequentialBackend with 1 concurrent workers.\n",
      "[Parallel(n_jobs=1)]: Done   1 out of   1 | elapsed:    0.0s remaining:    0.0s\n",
      "[Parallel(n_jobs=1)]: Done  22 out of  22 | elapsed:    0.8s finished\n",
      "\n",
      "[2021-05-06 15:52:12] Features: 21/12 -- score: 1.0[Parallel(n_jobs=1)]: Using backend SequentialBackend with 1 concurrent workers.\n",
      "[Parallel(n_jobs=1)]: Done   1 out of   1 | elapsed:    0.0s remaining:    0.0s\n",
      "[Parallel(n_jobs=1)]: Done  21 out of  21 | elapsed:    0.8s finished\n",
      "\n",
      "[2021-05-06 15:52:12] Features: 20/12 -- score: 1.0[Parallel(n_jobs=1)]: Using backend SequentialBackend with 1 concurrent workers.\n",
      "[Parallel(n_jobs=1)]: Done   1 out of   1 | elapsed:    0.0s remaining:    0.0s\n",
      "[Parallel(n_jobs=1)]: Done  20 out of  20 | elapsed:    0.8s finished\n",
      "\n",
      "[2021-05-06 15:52:13] Features: 19/12 -- score: 1.0[Parallel(n_jobs=1)]: Using backend SequentialBackend with 1 concurrent workers.\n",
      "[Parallel(n_jobs=1)]: Done   1 out of   1 | elapsed:    0.0s remaining:    0.0s\n",
      "[Parallel(n_jobs=1)]: Done  19 out of  19 | elapsed:    0.7s finished\n",
      "\n",
      "[2021-05-06 15:52:14] Features: 18/12 -- score: 1.0[Parallel(n_jobs=1)]: Using backend SequentialBackend with 1 concurrent workers.\n",
      "[Parallel(n_jobs=1)]: Done   1 out of   1 | elapsed:    0.0s remaining:    0.0s\n",
      "[Parallel(n_jobs=1)]: Done  18 out of  18 | elapsed:    0.7s finished\n",
      "\n",
      "[2021-05-06 15:52:15] Features: 17/12 -- score: 1.0[Parallel(n_jobs=1)]: Using backend SequentialBackend with 1 concurrent workers.\n",
      "[Parallel(n_jobs=1)]: Done   1 out of   1 | elapsed:    0.0s remaining:    0.0s\n",
      "[Parallel(n_jobs=1)]: Done  17 out of  17 | elapsed:    0.6s finished\n",
      "\n",
      "[2021-05-06 15:52:15] Features: 16/12 -- score: 1.0[Parallel(n_jobs=1)]: Using backend SequentialBackend with 1 concurrent workers.\n",
      "[Parallel(n_jobs=1)]: Done   1 out of   1 | elapsed:    0.0s remaining:    0.0s\n",
      "[Parallel(n_jobs=1)]: Done  16 out of  16 | elapsed:    0.6s finished\n",
      "\n",
      "[2021-05-06 15:52:16] Features: 15/12 -- score: 1.0[Parallel(n_jobs=1)]: Using backend SequentialBackend with 1 concurrent workers.\n",
      "[Parallel(n_jobs=1)]: Done   1 out of   1 | elapsed:    0.0s remaining:    0.0s\n",
      "[Parallel(n_jobs=1)]: Done  15 out of  15 | elapsed:    0.6s finished\n",
      "\n",
      "[2021-05-06 15:52:16] Features: 14/12 -- score: 1.0[Parallel(n_jobs=1)]: Using backend SequentialBackend with 1 concurrent workers.\n",
      "[Parallel(n_jobs=1)]: Done   1 out of   1 | elapsed:    0.0s remaining:    0.0s\n",
      "[Parallel(n_jobs=1)]: Done  14 out of  14 | elapsed:    0.5s finished\n",
      "\n",
      "[2021-05-06 15:52:17] Features: 13/12 -- score: 0.9945945945945945[Parallel(n_jobs=1)]: Using backend SequentialBackend with 1 concurrent workers.\n",
      "[Parallel(n_jobs=1)]: Done   1 out of   1 | elapsed:    0.0s remaining:    0.0s\n",
      "[Parallel(n_jobs=1)]: Done  13 out of  13 | elapsed:    0.5s finished\n",
      "\n",
      "[2021-05-06 15:52:17] Features: 12/12 -- score: 0.9945945945945945"
     ],
     "name": "stderr"
    },
    {
     "output_type": "stream",
     "text": [
      "Entrenando con 375 muestras y probando con 125 muestras\n",
      "Los datos tienen 12 features\n",
      "Testing Accuracy = 91.20%\n",
      "\n"
     ],
     "name": "stdout"
    },
    {
     "output_type": "display_data",
     "data": {
      "image/png": "[encoded data removed]",
      "text/plain": [
       "<Figure size 432x288 with 1 Axes>"
      ]
     },
     "metadata": {
      "tags": [],
      "needs_background": "light"
     }
    }
   ]
  },
  {
   "cell_type": "markdown",
   "metadata": {
    "id": "aDcE1EggYVaU"
   },
   "source": [
    "## SelectKBest (Librería sklearn)"
   ]
  },
  {
   "cell_type": "code",
   "metadata": {
    "id": "yUwbsTMIO6-b"
   },
   "source": [
    "from sklearn.feature_selection import SelectKBest, chi2\n",
    "\n",
    "p = 8\n",
    "model =  SelectKBest(chi2,k=p)\n",
    "\n",
    "eps = 1e-8\n",
    "model.fit(Xtrain_norm+eps, ytrain)  \n",
    "\n",
    "sel        = np.nonzero(model.get_support())[0]\n",
    "\n",
    "Xtrain_sel = Xtrain_norm[:,sel]\n",
    "Xtest_sel  = Xtest_norm[:,sel]\n",
    "\n",
    "acc,C = ClassifierKNN(Xtrain_sel,ytrain,Xtest_sel,ytest,1)\n"
   ],
   "execution_count": null,
   "outputs": []
  },
  {
   "cell_type": "markdown",
   "metadata": {
    "id": "hUaTcAlRvOpp"
   },
   "source": [
    "## Basados en árboles (Librería sklearn)"
   ]
  },
  {
   "cell_type": "code",
   "metadata": {
    "id": "SCz-VAuItw9A"
   },
   "source": [
    "\n",
    "from sklearn.feature_selection import SelectFromModel\n",
    "from lightgbm import LGBMClassifier\n",
    "\n",
    "p = 10\n",
    "\n",
    "lgbc=LGBMClassifier(n_estimators=500, learning_rate=0.05, num_leaves=32, colsample_bytree=0.2,\n",
    "            reg_alpha=3, reg_lambda=1, min_split_gain=0.01, min_child_weight=40)\n",
    "\n",
    "model = SelectFromModel(lgbc, max_features=p)\n",
    "model.fit(Xtrain_norm, ytrain)\n",
    "\n",
    "sel        = np.nonzero(model.get_support())[0]\n",
    "\n",
    "Xtrain_sel = Xtrain_norm[:,sel]\n",
    "Xtest_sel  = Xtest_norm[:,sel]\n",
    "\n",
    "acc,C = ClassifierKNN(Xtrain_sel,ytrain,Xtest_sel,ytest,1)\n"
   ],
   "execution_count": null,
   "outputs": []
  },
  {
   "cell_type": "code",
   "metadata": {
    "id": "XY3c29gzuoGI"
   },
   "source": [
    "\n",
    "from sklearn.feature_selection import SelectFromModel\n",
    "from sklearn.ensemble import RandomForestClassifier\n",
    "\n",
    "p = 8\n",
    "\n",
    "model = SelectFromModel(RandomForestClassifier(n_estimators=100), max_features=p)\n",
    "model.fit(Xtrain_norm, ytrain)\n",
    "\n",
    "sel        = np.nonzero(model.get_support())[0]\n",
    "\n",
    "Xtrain_sel = Xtrain_norm[:,sel]\n",
    "Xtest_sel  = Xtest_norm[:,sel]\n",
    "\n",
    "acc,C = ClassifierKNN(Xtrain_sel,ytrain,Xtest_sel,ytest,1)\n"
   ],
   "execution_count": null,
   "outputs": []
  },
  {
   "cell_type": "code",
   "metadata": {
    "id": "CgYh12cMwF8e"
   },
   "source": [
    "\n",
    "from sklearn.feature_selection import SelectFromModel\n",
    "from sklearn.linear_model import LogisticRegression\n",
    "\n",
    "p = 10\n",
    "model = SelectFromModel(LogisticRegression(penalty=\"l2\"), max_features=p)\n",
    "model.fit(Xtrain_norm, ytrain)\n",
    "\n",
    "sel        = np.nonzero(model.get_support())[0]\n",
    "\n",
    "Xtrain_sel = Xtrain_norm[:,sel]\n",
    "Xtest_sel  = Xtest_norm[:,sel]\n",
    "\n",
    "acc,C = ClassifierKNN(Xtrain_sel,ytrain,Xtest_sel,ytest,1)\n"
   ],
   "execution_count": null,
   "outputs": []
  },
  {
   "cell_type": "markdown",
   "metadata": {
    "id": "8Fzu_XqsgUBo"
   },
   "source": [
    "# Transformación de Características"
   ]
  },
  {
   "cell_type": "markdown",
   "metadata": {
    "id": "IZQNXntyKQO7"
   },
   "source": [
    "## PCA (Librería PyBalu)"
   ]
  },
  {
   "cell_type": "code",
   "metadata": {
    "id": "BCcFD5-TKSHz",
    "colab": {
     "base_uri": "https://localhost:8080/",
     "height": 378
    },
    "outputId": "36d4b06a-d4ea-4b3e-c6c4-3315d8065293"
   },
   "source": [
    "from   pybalu.feature_selection import sfs\n",
    "from   pybalu.feature_transformation import pca\n",
    "\n",
    "# Primero hacemos una preselección para reducir el espacio de búsqueda\n",
    "sel = sfs(Xtrain_norm,ytrain,20)\n",
    "Xtrain_sel = Xtrain_norm[:,sel]\n",
    "Xtest_sel  = Xtest_norm[:,sel]\n",
    "\n",
    "# Luego hacemos PCA\n",
    "Xtrain_pca, _, A, Xm, _ = pca(Xtrain_sel, n_components=10)\n",
    "Xtest_pca = np.matmul(Xtest_sel - Xm, A) # Paso 5: PCA\n",
    "\n",
    "acc,C = ClassifierKNN(Xtrain_pca,ytrain,Xtest_pca,ytest,1)"
   ],
   "execution_count": null,
   "outputs": [
    {
     "output_type": "stream",
     "text": [
      "Entrenando con 375 muestras y probando con 125 muestras\n",
      "Los datos tienen 10 features\n",
      "Testing Accuracy = 89.60%\n",
      "\n"
     ],
     "name": "stdout"
    },
    {
     "output_type": "display_data",
     "data": {
      "image/png": "[encoded data removed]",
      "text/plain": [
       "<Figure size 432x288 with 1 Axes>"
      ]
     },
     "metadata": {
      "tags": [],
      "needs_background": "light"
     }
    }
   ]
  },
  {
   "cell_type": "markdown",
   "metadata": {
    "id": "l-yzcj2eUN6V"
   },
   "source": [
    "## ICA (Librería sklearn)"
   ]
  },
  {
   "cell_type": "code",
   "metadata": {
    "id": "B8-cqAQ9Tcj7",
    "colab": {
     "base_uri": "https://localhost:8080/",
     "height": 378
    },
    "outputId": "283fdec2-cc7b-49c5-9cae-779a2ad44292"
   },
   "source": [
    "from pybalu.feature_selection import sfs\n",
    "from sklearn.decomposition import FastICA\n",
    "\n",
    "# Primero hacemos una preselección para reducir el espacio de búsqueda\n",
    "sel = sfs(Xtrain_norm,ytrain,30)\n",
    "Xtrain_sel = Xtrain_norm[:,sel]\n",
    "Xtest_sel  = Xtest_norm[:,sel]\n",
    "\n",
    "# Luego hacemos ICA\n",
    "ica = FastICA(n_components=8, random_state=0)\n",
    "ica.fit(Xtrain_sel, ytrain)    \n",
    "\n",
    "Xtrain_ica = ica.transform(Xtrain_sel)\n",
    "Xtest_ica  = ica.transform(Xtest_sel)\n",
    "\n",
    "acc,C = ClassifierKNN(Xtrain_ica,ytrain,Xtest_ica,ytest,1)\n"
   ],
   "execution_count": null,
   "outputs": [
    {
     "output_type": "stream",
     "text": [
      "Entrenando con 375 muestras y probando con 125 muestras\n",
      "Los datos tienen 8 features\n",
      "Testing Accuracy = 91.20%\n",
      "\n"
     ],
     "name": "stdout"
    },
    {
     "output_type": "display_data",
     "data": {
      "image/png": "[encoded data removed]",
      "text/plain": [
       "<Figure size 432x288 with 1 Axes>"
      ]
     },
     "metadata": {
      "tags": [],
      "needs_background": "light"
     }
    }
   ]
  },
  {
   "cell_type": "markdown",
   "metadata": {
    "id": "3LoaeavtTIIq"
   },
   "source": [
    "## PLSR (Librería sklearn)"
   ]
  },
  {
   "cell_type": "code",
   "metadata": {
    "id": "Jb4sw8RJQy5J",
    "colab": {
     "base_uri": "https://localhost:8080/",
     "height": 378
    },
    "outputId": "6136c1aa-8702-4f36-c5b4-7139358426c9"
   },
   "source": [
    "from sklearn.cross_decomposition import PLSRegression  \n",
    "\n",
    "plsr = PLSRegression(n_components=10)    \n",
    "\n",
    "plsr.fit(Xtrain_norm, ytrain)    \n",
    "\n",
    "Xtrain_plsr = plsr.transform(Xtrain_norm)\n",
    "Xtest_plsr  = plsr.transform(Xtest_norm)\n",
    "\n",
    "acc,C = ClassifierKNN(Xtrain_plsr,ytrain,Xtest_plsr,ytest,1)\n",
    "\n",
    "\n"
   ],
   "execution_count": null,
   "outputs": [
    {
     "output_type": "stream",
     "text": [
      "Entrenando con 375 muestras y probando con 125 muestras\n",
      "Los datos tienen 10 features\n",
      "Testing Accuracy = 94.40%\n",
      "\n"
     ],
     "name": "stdout"
    },
    {
     "output_type": "display_data",
     "data": {
      "image/png": "[encoded data removed]",
      "text/plain": [
       "<Figure size 432x288 with 1 Axes>"
      ]
     },
     "metadata": {
      "tags": [],
      "needs_background": "light"
     }
    }
   ]
  },
  {
   "cell_type": "markdown",
   "metadata": {
    "id": "5iPjGTGTgr4w"
   },
   "source": [
    "# Transformación y Selección de Características"
   ]
  },
  {
   "cell_type": "markdown",
   "metadata": {
    "id": "NY1YXipfMx-c"
   },
   "source": [
    "## PCA y SFS (Librería PyBalu)"
   ]
  },
  {
   "cell_type": "code",
   "metadata": {
    "id": "clRtLGdaLl1X",
    "colab": {
     "base_uri": "https://localhost:8080/",
     "height": 378
    },
    "outputId": "a97599a3-e089-409a-a7de-3f97200deaf4"
   },
   "source": [
    "# Primero hacemos una preselección para escoger buenas características\n",
    "sel_1 = sfs(Xtrain_norm,ytrain,12)\n",
    "Xtrain_sel_1 = Xtrain_norm[:,sel_1]\n",
    "Xtest_sel_1  = Xtest_norm[:,sel_1]\n",
    "\n",
    "# Luego hacemos PCA\n",
    "Xtrain_pca, _, A, Xm, _ = pca(Xtrain_sel_1, n_components=4)\n",
    "Xtest_pca = np.matmul(Xtest_sel_1 - Xm, A) # Paso 5: PCA\n",
    "\n",
    "# Luego concatenamos y hacemos un nuevo SFS\n",
    "Xtrain_sfspca = np.concatenate((Xtrain_sel_1,Xtrain_pca),axis=1)\n",
    "Xtest_sfspca  = np.concatenate((Xtest_sel_1,Xtest_pca),axis=1)\n",
    "\n",
    "sel_2 = sfs(Xtrain_sfspca,ytrain,8)\n",
    "Xtrain_sel_2 = Xtrain_sfspca[:,sel_2]\n",
    "Xtest_sel_2  = Xtest_sfspca[:,sel_2]\n",
    "\n",
    "\n",
    "acc,C = ClassifierKNN(Xtrain_sel_2,ytrain,Xtest_sel_2,ytest,1)"
   ],
   "execution_count": null,
   "outputs": [
    {
     "output_type": "stream",
     "text": [
      "Entrenando con 375 muestras y probando con 125 muestras\n",
      "Los datos tienen 8 features\n",
      "Testing Accuracy = 95.20%\n",
      "\n"
     ],
     "name": "stdout"
    },
    {
     "output_type": "display_data",
     "data": {
      "image/png": "[encoded data removed]",
      "text/plain": [
       "<Figure size 432x288 with 1 Axes>"
      ]
     },
     "metadata": {
      "tags": [],
      "needs_background": "light"
     }
    }
   ]
  },
  {
   "cell_type": "markdown",
   "metadata": {
    "id": "AbYw86xNa1qE"
   },
   "source": [
    "## ICA y SFS (Librería sklearn)"
   ]
  },
  {
   "cell_type": "code",
   "metadata": {
    "id": "Ijt-sO52a8Le",
    "colab": {
     "base_uri": "https://localhost:8080/",
     "height": 378
    },
    "outputId": "811706f8-aa72-45d2-b71d-863d82128c46"
   },
   "source": [
    "# Primero hacemos una preselección para escoger buenas características\n",
    "sel_1 = sfs(Xtrain_norm,ytrain,12)\n",
    "Xtrain_sel_1 = Xtrain_norm[:,sel_1]\n",
    "Xtest_sel_1  = Xtest_norm[:,sel_1]\n",
    "\n",
    "# Luego hacemos ICA\n",
    "ica = FastICA(n_components=8, random_state=0)\n",
    "ica.fit(Xtrain_sel, ytrain)    \n",
    "\n",
    "Xtrain_ica = ica.transform(Xtrain_sel)\n",
    "Xtest_ica  = ica.transform(Xtest_sel)\n",
    "\n",
    "# Luego concatenamos y hacemos un nuevo SFS\n",
    "Xtrain_sfsica = np.concatenate((Xtrain_sel_1,Xtrain_ica),axis=1)\n",
    "Xtest_sfsica  = np.concatenate((Xtest_sel_1,Xtest_ica),axis=1)\n",
    "\n",
    "sel_2 = sfs(Xtrain_sfsica,ytrain,8)\n",
    "Xtrain_sel_2 = Xtrain_sfsica[:,sel_2]\n",
    "Xtest_sel_2  = Xtest_sfsica[:,sel_2]\n",
    "\n",
    "\n",
    "acc,C = ClassifierKNN(Xtrain_sel_2,ytrain,Xtest_sel_2,ytest,1)"
   ],
   "execution_count": null,
   "outputs": [
    {
     "output_type": "stream",
     "text": [
      "Entrenando con 375 muestras y probando con 125 muestras\n",
      "Los datos tienen 8 features\n",
      "Testing Accuracy = 95.20%\n",
      "\n"
     ],
     "name": "stdout"
    },
    {
     "output_type": "display_data",
     "data": {
      "image/png": "[encoded data removed]",
      "text/plain": [
       "<Figure size 432x288 with 1 Axes>"
      ]
     },
     "metadata": {
      "tags": [],
      "needs_background": "light"
     }
    }
   ]
  }
 ]
}
