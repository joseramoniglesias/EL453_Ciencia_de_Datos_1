{
 "nbformat": 4,
 "nbformat_minor": 0,
 "metadata": {
  "accelerator": "GPU",
  "colab": {
   "name": "CV03_CNN_PyTorch_CatsDogs.ipynb",
   "provenance": [],
   "machine_shape": "hm"
  },
  "kernelspec": {
   "display_name": "Python 3",
   "name": "python3"
  },
  "language_info": {
   "name": "python"
  }
 },
 "cells": [
  {
   "cell_type": "markdown",
   "metadata": {
    "id": "8YJlRz3MiAZz"
   },
   "source": [
    "# Gatos vs. Perros\n",
    "\n",
    "En este problema hay solo dos clases: gatos y perros. El ejemplo presenta dos bases de datos y es necesario escoger uno de ellos:.\n",
    "\n",
    "\n",
    "* Reduced dataset: con algunas imágenes de gatos y perros para realizar un entrenamiento más rápido (pero menos efectivo). Para este conjunto se recomienda una CNN simple (de pocas capas, ver modelo para \"reduced dataset\").\n",
    "\n",
    "* Full dataset: con un conjunto mayor de imágenes de gatos y perros que se usa para entrenar un modelo más efectivo (con mejor accuracy) pero con un entrenamiento más lento. Para este conjunto se recomienda una CNN compleja (de más capas, ver modelo para \"large dataset\").\n",
    "\n",
    "Interesante en este ejemplo es que los conjuntos de datos de training y testing están pre-definidos y no se escogen de manera aleatoria. Sin embargo, el conjunto de validación es escogido aleatoriamente del conjunto de training. Esta información es definida con la función `ImageLoader`."
   ]
  },
  {
   "cell_type": "markdown",
   "metadata": {
    "id": "Y3_tYcRBM9G3"
   },
   "source": [
    "Referencia: [CNN Model With PyTorch For Image Classification](https://medium.com/thecyphy/train-cnn-model-with-pytorch-21dafb918f48), by Pranjal Soni (Medium)"
   ]
  },
  {
   "cell_type": "code",
   "metadata": {
    "colab": {
     "base_uri": "https://localhost:8080/"
    },
    "id": "iGS4e5v-6Nif",
    "outputId": "c96d9bd5-9d0e-452c-87f6-f180db814510"
   },
   "source": [
    "# Reduced dataset\n",
    "!wget https://www.dropbox.com/s/kugbkmznlyb4krv/catdog_reduced.zip?dl=0\n",
    "!unzip -qq catdog_reduced.zip"
   ],
   "execution_count": null,
   "outputs": []
  },
  {
   "cell_type": "code",
   "metadata": {
    "colab": {
     "base_uri": "https://localhost:8080/"
    },
    "id": "zd35NnIcxe3a",
    "outputId": "82173333-2641-465a-86a7-efea6fa24a22"
   },
   "source": [
    "# Full dataset\n",
    "!wget https://www.dropbox.com/s/rk2vrsow7yk7651/test_set.zip?dl=0\n",
    "!wget https://www.dropbox.com/s/6sgiquis94t1r9t/training_set.zip?dl=0\n",
    "\n",
    "!unzip -qq test_set.zip \n",
    "!unzip -qq training_set.zip "
   ],
   "execution_count": null,
   "outputs": []
  },
  {
   "cell_type": "code",
   "metadata": {
    "id": "98hYE_NmCDTF",
    "colab": {
     "base_uri": "https://localhost:8080/"
    },
    "outputId": "9238969d-a495-44b0-922a-c0f8fbabc5b4"
   },
   "source": [
    "import torch\n",
    "import torchvision\n",
    "from   torchvision import transforms\n",
    "from   torchvision.datasets import ImageFolder\n",
    "from   torch.utils.data.dataloader import DataLoader\n",
    "from   torch.utils.data import random_split\n",
    "from   sklearn.metrics import confusion_matrix, accuracy_score\n",
    "\n",
    "#train and test data directory\n",
    "#full dataset\n",
    "#train_dir = \"training_set/\"\n",
    "#test_dir  = \"test_set/\"\n",
    "#reduced dataset\n",
    "train_dir = \"catdog/train/\"\n",
    "test_dir  = \"catdog/test/\"\n",
    "\n",
    "#load the train and test data\n",
    "train_set = ImageFolder(train_dir,transform = transforms.Compose([\n",
    "    transforms.Resize((64,64)),transforms.RandomHorizontalFlip(),transforms.ToTensor()]))\n",
    "\n",
    "test_set = ImageFolder(test_dir,transforms.Compose([\n",
    "    transforms.Resize((64,64)),transforms.ToTensor()]))\n",
    "\n",
    "img,_ = train_set[0]\n",
    "print('Size image: '+ str(img.shape))\n",
    "print('   Classes: ',train_set.classes)"
   ],
   "execution_count": null,
   "outputs": []
  },
  {
   "cell_type": "code",
   "metadata": {
    "colab": {
     "base_uri": "https://localhost:8080/"
    },
    "id": "T9ohs1YfC4CI",
    "outputId": "2fd1dea0-93a8-4faa-c480-0954f2ef7443"
   },
   "source": [
    "!wget https://www.dropbox.com/s/caz30t81td7zxgl/cnn_utils.py?dl=0\n",
    "from cnn_utils import *\n",
    "print('cnn_utils module has been loaded')"
   ],
   "execution_count": null,
   "outputs": []
  },
  {
   "cell_type": "code",
   "metadata": {
    "colab": {
     "base_uri": "https://localhost:8080/",
     "height": 286
    },
    "id": "M2S2VaexDPY0",
    "outputId": "2b84d038-55d7-4401-e8f6-2312cadb9e42"
   },
   "source": [
    "#display an image in the training dataset\n",
    "display_img(train_set,5)"
   ],
   "execution_count": null,
   "outputs": []
  },
  {
   "cell_type": "code",
   "metadata": {
    "colab": {
     "base_uri": "https://localhost:8080/"
    },
    "id": "pp_BUB8gDqXj",
    "outputId": "1038b96d-9e34-4d7a-fe75-81476c971925"
   },
   "source": [
    "#load the train and validation into batches.\n",
    "\n",
    "batch_size = 100 \n",
    "val_size   = 800 \n",
    "train_size = len(train_set) - val_size \n",
    "\n",
    "train_data,val_data = random_split(train_set,[train_size,val_size])\n",
    "print(f\"Length of Train Data : {len(train_data)}\")\n",
    "print(f\"Length of Validation Data : {len(val_data)}\")\n",
    "\n",
    "train_dl = DataLoader(train_data, batch_size, shuffle = True, num_workers = 2, pin_memory = True)\n",
    "val_dl = DataLoader(val_data, batch_size, num_workers = 2, pin_memory = True)\n"
   ],
   "execution_count": null,
   "outputs": []
  },
  {
   "cell_type": "code",
   "metadata": {
    "colab": {
     "base_uri": "https://localhost:8080/",
     "height": 687
    },
    "id": "IcSyugp838HW",
    "outputId": "4e75eda6-7573-4fc0-f003-b268b58ed04e"
   },
   "source": [
    "show_batch(train_dl,nrow=10)"
   ],
   "execution_count": null,
   "outputs": []
  },
  {
   "cell_type": "code",
   "metadata": {
    "id": "NR0Hb2PbBWwc"
   },
   "source": [
    "# for reduced dataset\n",
    "class CNN_Classification(ImageClassificationBase):\n",
    "    def __init__(self):\n",
    "        super().__init__()\n",
    "        self.network = nn.Sequential(\n",
    "            \n",
    "            nn.Conv2d(3, 4, kernel_size = 5, stride = 1, padding = 0),\n",
    "            nn.ReLU(),\n",
    "            nn.Conv2d(4,8, kernel_size = 5, stride = 4, padding = 0),\n",
    "            nn.ReLU(),\n",
    "            nn.MaxPool2d(2,2),            \n",
    "\n",
    "            nn.Flatten(),\n",
    "            nn.Linear(392,32),\n",
    "            nn.Linear(32,2)\n",
    "        )\n",
    "    \n",
    "    def forward(self, xb):\n",
    "        return self.network(xb)\n"
   ],
   "execution_count": null,
   "outputs": []
  },
  {
   "cell_type": "code",
   "metadata": {
    "id": "-3vIsxnoEfkx"
   },
   "source": [
    "# for full dataset\n",
    "class CNN_Classification(ImageClassificationBase):\n",
    "    def __init__(self):\n",
    "        super().__init__()\n",
    "        self.network = nn.Sequential(\n",
    "            \n",
    "            nn.Conv2d(3, 8, kernel_size = 3, stride = 1, padding = 1),\n",
    "            nn.ReLU(),\n",
    "            nn.Conv2d(8,16, kernel_size = 3, stride = 2, padding = 1),\n",
    "            nn.ReLU(),\n",
    "            nn.MaxPool2d(2,2),            \n",
    "\n",
    "            nn.Conv2d(16, 32, kernel_size = 3, stride = 1, padding = 1),\n",
    "            nn.ReLU(),\n",
    "            nn.Conv2d(32,32, kernel_size = 3, stride = 1, padding = 1),\n",
    "            nn.ReLU(),\n",
    "            nn.MaxPool2d(2,2),            \n",
    "\n",
    "            nn.Flatten(),\n",
    "            nn.Linear(2048,1024),\n",
    "            nn.Linear(1024,128),\n",
    "            nn.Linear(128,2),\n",
    "            nn.Dropout(0.25)\n",
    "        )\n",
    "    \n",
    "    def forward(self, xb):\n",
    "        return self.network(xb)\n"
   ],
   "execution_count": null,
   "outputs": []
  },
  {
   "cell_type": "code",
   "metadata": {
    "colab": {
     "base_uri": "https://localhost:8080/"
    },
    "id": "0C_j7vcm4AdF",
    "outputId": "a384f7c1-ed83-43c0-d46c-281222a49fbc"
   },
   "source": [
    "model =  CNN_Classification()\n",
    "print(model)"
   ],
   "execution_count": null,
   "outputs": []
  },
  {
   "cell_type": "code",
   "metadata": {
    "colab": {
     "base_uri": "https://localhost:8080/",
     "height": 433
    },
    "id": "Yh_ldAFZEPzK",
    "outputId": "e436ff1c-ada8-4c5b-dd6b-030a741320ce"
   },
   "source": [
    "#fitting the model on training data and record the result after each epoch\n",
    "num_epochs = 50\n",
    "opt_func   = torch.optim.Adam\n",
    "lr         = 0.0005\n",
    "history    = fit(num_epochs, lr, model, train_dl, val_dl, opt_func)"
   ],
   "execution_count": null,
   "outputs": []
  },
  {
   "cell_type": "code",
   "metadata": {
    "id": "yb1yz2pLK0Wh",
    "colab": {
     "base_uri": "https://localhost:8080/",
     "height": 295
    },
    "outputId": "da4f73e0-bb28-48e1-af2d-1ca129d12296"
   },
   "source": [
    "plot_accuracies(history)"
   ],
   "execution_count": null,
   "outputs": []
  },
  {
   "cell_type": "code",
   "metadata": {
    "id": "nkrderixFB7R",
    "colab": {
     "base_uri": "https://localhost:8080/",
     "height": 295
    },
    "outputId": "5b9bb057-7455-4fdd-94e7-ddf8e9a387da"
   },
   "source": [
    "plot_losses(history)"
   ],
   "execution_count": null,
   "outputs": []
  },
  {
   "cell_type": "code",
   "metadata": {
    "colab": {
     "base_uri": "https://localhost:8080/"
    },
    "id": "lgu30Lhk_bfc",
    "outputId": "4f503d58-f44f-4f58-e542-d7163ea199d2"
   },
   "source": [
    "model = load_model(CNN_Classification,'best_model.pt')"
   ],
   "execution_count": null,
   "outputs": []
  },
  {
   "cell_type": "code",
   "metadata": {
    "colab": {
     "base_uri": "https://localhost:8080/"
    },
    "id": "o_JLuspc4Owh",
    "outputId": "d08e2b1c-bf1f-4bd8-a7af-0ceaaf123a63"
   },
   "source": [
    "ytest = get_labels(model,test_set)\n",
    "ypred = get_prediction(model,test_set)\n",
    "\n",
    "acc   = accuracy_score(ytest,ypred) \n",
    "C     = confusion_matrix(ytest,ypred)\n",
    "\n",
    "print('Performance on Testing subset:')\n",
    "print('Accuracy:')\n",
    "print(acc)\n",
    "print(' ')\n",
    "print('Confusion Matrix = ')\n",
    "print(C)"
   ],
   "execution_count": null,
   "outputs": []
  },
  {
   "cell_type": "code",
   "metadata": {
    "colab": {
     "base_uri": "https://localhost:8080/"
    },
    "id": "xc3Glqvp4RDE",
    "outputId": "e0ac5e95-9856-4dc7-b5cd-d3f6d9c51066"
   },
   "source": [
    "C1,acc1 = performance(model,train_data,'Training')\n",
    "C2,acc2 = performance(model,val_data,'Validation')\n",
    "C3,acc3 = performance(model,test_set,'Testing')"
   ],
   "execution_count": null,
   "outputs": []
  }
 ]
}
