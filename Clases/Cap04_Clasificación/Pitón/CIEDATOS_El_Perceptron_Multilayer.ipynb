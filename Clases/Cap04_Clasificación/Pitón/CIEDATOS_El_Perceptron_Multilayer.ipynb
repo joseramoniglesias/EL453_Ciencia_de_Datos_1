{
 "cells": [
  {
   "cell_type": "markdown",
   "source": [
    "## Deep Learning<a class=\"tocSkip\">\n",
    "## EL460 ELECTIVA I - CIENCIA DE DATOS II <a class=\"tocSkip\">\n",
    "### Ingenieria Electrónica <a class=\"tocSkip\">\n",
    "### Universidad Popular del Cesar <a class=\"tocSkip\">\n",
    "### Prof.: Jose Ramón Iglesias Gamarra - [https://github.com/joseramoniglesias/](https://github.com/joseramoniglesias/) <a class=\"tocSkip\">\n",
    "**joseiglesias@unicesar.edu.co**"
   ],
   "metadata": {
    "collapsed": false
   }
  },
  {
   "cell_type": "markdown",
   "source": [
    "# 2.2 - El Perceptron Multicapas"
   ],
   "metadata": {
    "collapsed": false
   }
  },
  {
   "cell_type": "markdown",
   "metadata": {},
   "source": [
    "## Classifying Fashion-MNIST\n",
    "\n",
    "You will have to create a classification model for the [Fashion-MNIST dataset](https://github.com/zalandoresearch/fashion-mnist) dataset, a drop-in replacement for the MNIST dataset. MNIST is actually quite trivial with neural networks where you can easily achieve better than 97% accuracy. Fashion-MNIST is a set of 28x28 greyscale images of clothes. It's more complex than MNIST, so it's a better representation of the actual performance of your network."
   ]
  },
  {
   "cell_type": "code",
   "execution_count": 1,
   "metadata": {
    "ExecuteTime": {
     "end_time": "2023-10-19T15:01:19.722104700Z",
     "start_time": "2023-10-19T15:01:15.974427700Z"
    }
   },
   "outputs": [],
   "source": [
    "import os\n",
    "import gzip\n",
    "import numpy as np\n",
    "import matplotlib.pyplot as plt\n",
    "import warnings; warnings.simplefilter('ignore')\n",
    "import tensorflow as tf"
   ]
  },
  {
   "cell_type": "code",
   "execution_count": 2,
   "metadata": {
    "ExecuteTime": {
     "end_time": "2023-10-19T15:01:28.615155Z",
     "start_time": "2023-10-19T15:01:21.177241800Z"
    }
   },
   "outputs": [
    {
     "name": "stdout",
     "output_type": "stream",
     "text": [
      "Downloading data from https://storage.googleapis.com/tensorflow/tf-keras-datasets/train-labels-idx1-ubyte.gz\n",
      "29515/29515 [==============================] - 0s 1us/step\n",
      "Downloading data from https://storage.googleapis.com/tensorflow/tf-keras-datasets/train-images-idx3-ubyte.gz\n",
      "26421880/26421880 [==============================] - 5s 0us/step\n",
      "Downloading data from https://storage.googleapis.com/tensorflow/tf-keras-datasets/t10k-labels-idx1-ubyte.gz\n",
      "5148/5148 [==============================] - 0s 0s/step\n",
      "Downloading data from https://storage.googleapis.com/tensorflow/tf-keras-datasets/t10k-images-idx3-ubyte.gz\n",
      "4422102/4422102 [==============================] - 1s 0us/step\n"
     ]
    }
   ],
   "source": [
    "from tensorflow.keras import datasets\n",
    "(x_train, y_train), (x_test, y_test) = datasets.fashion_mnist.load_data()\n",
    "X_train = x_train.reshape(x_train.shape[0],x_train.shape[1]*x_train.shape[2])\n",
    "X_test = x_test.reshape(x_test.shape[0],x_test.shape[1]*x_test.shape[2])"
   ]
  },
  {
   "cell_type": "code",
   "execution_count": 3,
   "metadata": {
    "ExecuteTime": {
     "end_time": "2023-10-19T15:01:31.704109100Z",
     "start_time": "2023-10-19T15:01:31.665811600Z"
    }
   },
   "outputs": [
    {
     "name": "stdout",
     "output_type": "stream",
     "text": [
      "(60000, 784)\n",
      "(60000,)\n",
      "(10000, 784)\n",
      "(10000,)\n"
     ]
    }
   ],
   "source": [
    "print(X_train.shape)\n",
    "print(y_train.shape)\n",
    "print(X_test.shape)\n",
    "print(y_test.shape)"
   ]
  },
  {
   "cell_type": "markdown",
   "metadata": {},
   "source": [
    "Let's see a random sample"
   ]
  },
  {
   "cell_type": "code",
   "execution_count": 4,
   "metadata": {
    "ExecuteTime": {
     "end_time": "2023-10-19T15:01:36.730664300Z",
     "start_time": "2023-10-19T15:01:36.492436Z"
    }
   },
   "outputs": [
    {
     "data": {
      "text/plain": "<Figure size 640x480 with 1 Axes>",
      "image/png": "[encoded data removed]"
     },
     "metadata": {},
     "output_type": "display_data"
    }
   ],
   "source": [
    "ind = np.random.permutation(X_train.shape[0])\n",
    "plt.imshow(x_train[ind[0],:,:], cmap='gray');"
   ]
  },
  {
   "cell_type": "markdown",
   "metadata": {},
   "source": [
    "Preparing the data for a training process..."
   ]
  },
  {
   "cell_type": "code",
   "execution_count": 5,
   "metadata": {
    "ExecuteTime": {
     "end_time": "2023-10-19T15:01:46.679471100Z",
     "start_time": "2023-10-19T15:01:45.246066100Z"
    }
   },
   "outputs": [],
   "source": [
    "from tensorflow.keras import utils \n",
    "from sklearn.preprocessing import StandardScaler\n",
    "\n",
    "input_dim = X_train.shape[1]\n",
    "\n",
    "scaler = StandardScaler()\n",
    "X_trainN = scaler.fit_transform(X_train)\n",
    "X_testN = scaler.transform(X_test)\n",
    "\n",
    "# convert list of labels to binary class matrix\n",
    "y_trainOHE = utils.to_categorical(y_train)\n",
    "nb_classes = y_trainOHE.shape[1]"
   ]
  },
  {
   "cell_type": "markdown",
   "metadata": {},
   "source": [
    "## Define the network architecture using keras\n",
    "\n",
    "### Sequential models"
   ]
  },
  {
   "cell_type": "code",
   "execution_count": 6,
   "metadata": {
    "ExecuteTime": {
     "end_time": "2023-10-19T15:01:52.543401500Z",
     "start_time": "2023-10-19T15:01:52.396024Z"
    }
   },
   "outputs": [],
   "source": [
    "from tensorflow.keras.models import Sequential\n",
    "from tensorflow.keras.layers import Dense, Activation\n",
    "\n",
    "model = Sequential([\n",
    "    Dense(32, input_shape=(input_dim,)),\n",
    "    Activation('tanh'),\n",
    "    Dense(nb_classes),\n",
    "    Activation('softmax'),\n",
    "])"
   ]
  },
  {
   "cell_type": "markdown",
   "metadata": {},
   "source": [
    "or"
   ]
  },
  {
   "cell_type": "code",
   "execution_count": 7,
   "metadata": {
    "ExecuteTime": {
     "end_time": "2023-10-19T15:02:01.523791800Z",
     "start_time": "2023-10-19T15:02:01.476921800Z"
    }
   },
   "outputs": [],
   "source": [
    "del model\n",
    "model = Sequential()\n",
    "model.add(Dense(64, input_dim=input_dim))\n",
    "model.add(Activation('tanh'))\n",
    "model.add(Dense(32))\n",
    "model.add(Activation('tanh'))\n",
    "model.add(Dense(nb_classes, activation='softmax'))"
   ]
  },
  {
   "cell_type": "markdown",
   "metadata": {},
   "source": [
    "**Assignment**: Take a look to the core layers in keras: https://keras.io/layers/core/ and the set of basic parameters https://keras.io/layers/about-keras-layers/"
   ]
  },
  {
   "cell_type": "code",
   "execution_count": 8,
   "metadata": {
    "ExecuteTime": {
     "end_time": "2023-10-19T15:02:13.948588200Z",
     "start_time": "2023-10-19T15:02:13.911016400Z"
    }
   },
   "outputs": [
    {
     "name": "stdout",
     "output_type": "stream",
     "text": [
      "Model: \"sequential_1\"\n",
      "_________________________________________________________________\n",
      " Layer (type)                Output Shape              Param #   \n",
      "=================================================================\n",
      " dense_2 (Dense)             (None, 64)                50240     \n",
      "                                                                 \n",
      " activation_2 (Activation)   (None, 64)                0         \n",
      "                                                                 \n",
      " dense_3 (Dense)             (None, 32)                2080      \n",
      "                                                                 \n",
      " activation_3 (Activation)   (None, 32)                0         \n",
      "                                                                 \n",
      " dense_4 (Dense)             (None, 10)                330       \n",
      "                                                                 \n",
      "=================================================================\n",
      "Total params: 52,650\n",
      "Trainable params: 52,650\n",
      "Non-trainable params: 0\n",
      "_________________________________________________________________\n"
     ]
    }
   ],
   "source": [
    "model.summary()"
   ]
  },
  {
   "cell_type": "markdown",
   "metadata": {},
   "source": [
    "Once the arquictecture of model has been defined, the next step is to set the loss function and optimizer"
   ]
  },
  {
   "cell_type": "code",
   "execution_count": 9,
   "metadata": {
    "ExecuteTime": {
     "end_time": "2023-10-19T15:02:16.619484500Z",
     "start_time": "2023-10-19T15:02:16.585319100Z"
    }
   },
   "outputs": [],
   "source": [
    "# pass optimizer by name: default parameters will be used\n",
    "model.compile(loss='categorical_crossentropy', optimizer='sgd')\n",
    "\n",
    "from tensorflow.keras import optimizers\n",
    "# or instantiate an optimizer before passing it to model.compile\n",
    "sgd = optimizers.SGD(lr=0.01, decay=1e-6, momentum=0.9, nesterov=True)\n",
    "model.compile(loss='categorical_crossentropy', optimizer=sgd)"
   ]
  },
  {
   "cell_type": "markdown",
   "metadata": {},
   "source": [
    "Remember the definition of cross entropy:\n",
    "\n",
    "$$\\mathcal{L}({\\bf{\\hat{y}}},{\\bf{y}}) = -\\frac{1}{N}\\sum_{i=1}^N y_i\\log(\\hat{y}_i) + (1-y_i)\\log(1-\\hat{y}_i)$$\n",
    "\n",
    "The categorical cross entropy can be defined as:\n",
    "\n",
    "$$\\mathcal{L}({\\bf{\\hat{y}}},{\\bf{y}}) = -\\frac{1}{N}\\sum_{i=1}^N \\sum_{j=1}^C {\\bf{1}}_{y_i \\in C_j} \\log p_{model}[y_i \\in C_j]$$\n",
    "\n",
    "The term ${\\bf{1}}_{y_i \\in C_j}$ is the indicator function of the $i$-th observation belonging to the $j$-th category. The $p_{model}[y_i \\in C_j]$ is the probability predicted by the model for the $i$-th observation to belong to the $j$-th category. When there are more than two categories, the neural network outputs a vector of $C$ probabilities, each giving the probability that the network input should be classified as belonging to the respective category. When the number of categories is just two, the neural network outputs a single probability $\\hat{y}_i$, with the other one being $1$ minus the output. This is why the binary cross entropy looks a bit different from categorical cross entropy, despite being a special case of it. "
   ]
  },
  {
   "cell_type": "markdown",
   "metadata": {},
   "source": [
    "**Note**. If insteat of a multi-class problem we would be facing a multi-label classification problem, the activation function of the last layer must be a **sigmoid** and the loss function **binary_crossentropy**."
   ]
  },
  {
   "cell_type": "markdown",
   "metadata": {},
   "source": [
    "Take a look to compile and fit parameters https://keras.io/models/model/#compile"
   ]
  },
  {
   "cell_type": "code",
   "execution_count": 10,
   "metadata": {
    "ExecuteTime": {
     "end_time": "2023-10-19T15:02:20.362999700Z",
     "start_time": "2023-10-19T15:02:19.326685600Z"
    }
   },
   "outputs": [
    {
     "name": "stdout",
     "output_type": "stream",
     "text": [
      "Training...\n",
      "Generating test predictions...\n"
     ]
    }
   ],
   "source": [
    "print(\"Training...\")\n",
    "model.train_on_batch(X_trainN, y_trainOHE)\n",
    "\n",
    "print(\"Generating test predictions...\")\n",
    "preds = model.predict(X_testN[0,:].reshape(1,input_dim), verbose=0)"
   ]
  },
  {
   "cell_type": "code",
   "execution_count": 11,
   "metadata": {
    "ExecuteTime": {
     "end_time": "2023-10-19T15:02:26.716116900Z",
     "start_time": "2023-10-19T15:02:26.531143200Z"
    }
   },
   "outputs": [
    {
     "name": "stdout",
     "output_type": "stream",
     "text": [
      "real class\n",
      "9\n"
     ]
    },
    {
     "data": {
      "text/plain": "<Figure size 640x480 with 2 Axes>",
      "image/png": "[encoded data removed]"
     },
     "metadata": {},
     "output_type": "display_data"
    }
   ],
   "source": [
    "print('real class')\n",
    "print(y_test[0])\n",
    "\n",
    "objects = ('Ankle Boot', 'Bag', 'Sneaker', 'Shirt', 'Sandal', 'Coat', 'Dress', 'Pullover', 'Trouser', 'T-shirt/top')\n",
    "y_pos = np.arange(nb_classes)\n",
    "performance = preds.flatten()\n",
    "plt.subplot(121)\n",
    "plt.imshow(X_test[0,:].reshape(28,28), cmap='gray');\n",
    "plt.subplot(122) \n",
    "plt.barh(y_pos[::-1], performance, align='center', alpha=0.5)\n",
    "plt.yticks(y_pos, objects)\n",
    "plt.xlabel('Probability')\n",
    "plt.title('Network outputs')\n",
    "plt.subplots_adjust(wspace = 1)\n",
    "plt.show()"
   ]
  },
  {
   "cell_type": "code",
   "execution_count": 12,
   "metadata": {
    "ExecuteTime": {
     "end_time": "2023-10-19T15:03:25.519258200Z",
     "start_time": "2023-10-19T15:02:31.304516400Z"
    }
   },
   "outputs": [
    {
     "name": "stdout",
     "output_type": "stream",
     "text": [
      "Training...\n",
      "Epoch 1/10\n",
      "3375/3375 - 6s - loss: 0.4590 - val_loss: 0.4067 - 6s/epoch - 2ms/step\n",
      "Epoch 2/10\n",
      "3375/3375 - 5s - loss: 0.3723 - val_loss: 0.3824 - 5s/epoch - 2ms/step\n",
      "Epoch 3/10\n",
      "3375/3375 - 5s - loss: 0.3392 - val_loss: 0.3708 - 5s/epoch - 2ms/step\n",
      "Epoch 4/10\n",
      "3375/3375 - 5s - loss: 0.3185 - val_loss: 0.3576 - 5s/epoch - 1ms/step\n",
      "Epoch 5/10\n",
      "3375/3375 - 5s - loss: 0.3008 - val_loss: 0.3540 - 5s/epoch - 2ms/step\n",
      "Epoch 6/10\n",
      "3375/3375 - 5s - loss: 0.2872 - val_loss: 0.3588 - 5s/epoch - 2ms/step\n",
      "Epoch 7/10\n",
      "3375/3375 - 5s - loss: 0.2748 - val_loss: 0.3558 - 5s/epoch - 2ms/step\n",
      "Epoch 8/10\n",
      "3375/3375 - 6s - loss: 0.2659 - val_loss: 0.3566 - 6s/epoch - 2ms/step\n",
      "Epoch 9/10\n",
      "3375/3375 - 6s - loss: 0.2567 - val_loss: 0.3607 - 6s/epoch - 2ms/step\n",
      "Epoch 10/10\n",
      "3375/3375 - 5s - loss: 0.2468 - val_loss: 0.3597 - 5s/epoch - 2ms/step\n"
     ]
    },
    {
     "data": {
      "text/plain": "<keras.callbacks.History at 0x27467ffad00>"
     },
     "execution_count": 12,
     "metadata": {},
     "output_type": "execute_result"
    }
   ],
   "source": [
    "print(\"Training...\")\n",
    "model.fit(X_trainN, y_trainOHE, epochs=10, batch_size=16, validation_split=0.1, verbose=2)"
   ]
  },
  {
   "cell_type": "code",
   "execution_count": 13,
   "metadata": {
    "ExecuteTime": {
     "end_time": "2023-10-19T15:03:41.122420700Z",
     "start_time": "2023-10-19T15:03:40.722009100Z"
    }
   },
   "outputs": [
    {
     "name": "stdout",
     "output_type": "stream",
     "text": [
      "Generating test predictions...\n"
     ]
    },
    {
     "data": {
      "text/plain": "<Figure size 640x480 with 1 Axes>",
      "image/png": "[encoded data removed]"
     },
     "metadata": {},
     "output_type": "display_data"
    }
   ],
   "source": [
    "print(\"Generating test predictions...\")\n",
    "preds = model.predict(X_testN[0,:].reshape(1,input_dim), verbose=0)\n",
    "performance = preds.flatten()\n",
    " \n",
    "plt.barh(y_pos[::-1], performance, align='center', alpha=0.5)\n",
    "plt.yticks(y_pos, objects)\n",
    "plt.xlabel('Probability')\n",
    "plt.title('Network outputs')\n",
    " \n",
    "plt.show()"
   ]
  },
  {
   "cell_type": "code",
   "execution_count": 14,
   "metadata": {
    "ExecuteTime": {
     "end_time": "2023-10-19T15:03:45.418896900Z",
     "start_time": "2023-10-19T15:03:44.866736500Z"
    }
   },
   "outputs": [
    {
     "name": "stdout",
     "output_type": "stream",
     "text": [
      "313/313 [==============================] - 0s 1ms/step\n",
      "Accuracy =  86.9 %\n"
     ]
    }
   ],
   "source": [
    "preds = np.argmax(model.predict(X_testN), axis=-1)\n",
    "Accuracy = np.mean(preds == y_test)\n",
    "print('Accuracy = ', Accuracy*100, '%')"
   ]
  },
  {
   "cell_type": "code",
   "execution_count": 15,
   "metadata": {
    "ExecuteTime": {
     "end_time": "2023-10-19T15:03:47.429413500Z",
     "start_time": "2023-10-19T15:03:46.568151200Z"
    }
   },
   "outputs": [
    {
     "data": {
      "text/plain": "<Figure size 1000x1000 with 2 Axes>",
      "image/png": "[encoded data removed]"
     },
     "metadata": {},
     "output_type": "display_data"
    }
   ],
   "source": [
    "from sklearn.metrics import confusion_matrix\n",
    "cm = confusion_matrix(y_test, preds)\n",
    "cm = cm/np.sum(cm,axis=0)\n",
    "cmap = plt.cm.Blues\n",
    "tick_marks = np.arange(nb_classes)\n",
    "fig, ax = plt.subplots(figsize=(10,10))\n",
    "im = ax.imshow(cm, interpolation='nearest', cmap=cmap)\n",
    "for i in range(cm.shape[0]):\n",
    "    for j in range(cm.shape[1]):\n",
    "        text = ax.text(j, i, np.around(cm[i, j],decimals=2),\n",
    "                       ha=\"center\", va=\"center\", color=\"w\")\n",
    "plt.title('Normalized confusion matrix')\n",
    "fig.colorbar(im)\n",
    "plt.xticks(tick_marks, objects, rotation=45)\n",
    "plt.yticks(tick_marks, objects);"
   ]
  },
  {
   "cell_type": "markdown",
   "metadata": {},
   "source": [
    "### Functional models"
   ]
  },
  {
   "cell_type": "markdown",
   "metadata": {},
   "source": [
    "The Keras functional API provides a more flexible way for defining models.\n",
    "\n",
    "It allows you to define multiple input or output models as well as models that share layers. More than that, it allows you to define ad hoc acyclic network graphs.\n",
    "\n",
    "Models are defined by creating instances of layers and connecting them directly to each other in pairs, then defining a Model that specifies the layers to act as the input and output to the model."
   ]
  },
  {
   "cell_type": "code",
   "execution_count": 16,
   "metadata": {
    "ExecuteTime": {
     "end_time": "2023-10-19T15:03:50.873891600Z",
     "start_time": "2023-10-19T15:03:50.842652200Z"
    }
   },
   "outputs": [],
   "source": [
    "from tensorflow.keras.layers import Input, Dense\n",
    "from tensorflow.keras.models import Model\n",
    "\n",
    "\n",
    "# This returns a tensor\n",
    "inputs = Input(shape=(784,))\n",
    "\n",
    "# a layer instance is callable on a tensor, and returns a tensor\n",
    "x = Dense(64, activation='tanh')(inputs)\n",
    "x = Dense(32, activation='tanh')(x)\n",
    "predictions = Dense(nb_classes, activation='softmax')(x)\n",
    "\n",
    "# This creates a model that includes\n",
    "# the Input layer and three Dense layers\n",
    "model = Model(inputs=inputs, outputs=predictions)\n",
    "model.compile(optimizer='sgd',\n",
    "              loss='categorical_crossentropy',\n",
    "              metrics=['accuracy'])"
   ]
  },
  {
   "cell_type": "code",
   "execution_count": 17,
   "metadata": {
    "ExecuteTime": {
     "end_time": "2023-10-19T15:03:53.216328900Z",
     "start_time": "2023-10-19T15:03:53.194142900Z"
    }
   },
   "outputs": [
    {
     "name": "stdout",
     "output_type": "stream",
     "text": [
      "Model: \"model\"\n",
      "_________________________________________________________________\n",
      " Layer (type)                Output Shape              Param #   \n",
      "=================================================================\n",
      " input_1 (InputLayer)        [(None, 784)]             0         \n",
      "                                                                 \n",
      " dense_5 (Dense)             (None, 64)                50240     \n",
      "                                                                 \n",
      " dense_6 (Dense)             (None, 32)                2080      \n",
      "                                                                 \n",
      " dense_7 (Dense)             (None, 10)                330       \n",
      "                                                                 \n",
      "=================================================================\n",
      "Total params: 52,650\n",
      "Trainable params: 52,650\n",
      "Non-trainable params: 0\n",
      "_________________________________________________________________\n"
     ]
    }
   ],
   "source": [
    "model.summary()"
   ]
  },
  {
   "cell_type": "code",
   "execution_count": 18,
   "metadata": {
    "ExecuteTime": {
     "end_time": "2023-10-19T15:04:41.189047200Z",
     "start_time": "2023-10-19T15:03:55.560709900Z"
    }
   },
   "outputs": [
    {
     "name": "stdout",
     "output_type": "stream",
     "text": [
      "Epoch 1/10\n",
      "3375/3375 - 6s - loss: 0.5482 - accuracy: 0.8171 - val_loss: 0.4235 - val_accuracy: 0.8433 - 6s/epoch - 2ms/step\n",
      "Epoch 2/10\n",
      "3375/3375 - 4s - loss: 0.3902 - accuracy: 0.8636 - val_loss: 0.3801 - val_accuracy: 0.8650 - 4s/epoch - 1ms/step\n",
      "Epoch 3/10\n",
      "3375/3375 - 4s - loss: 0.3507 - accuracy: 0.8760 - val_loss: 0.3536 - val_accuracy: 0.8725 - 4s/epoch - 1ms/step\n",
      "Epoch 4/10\n",
      "3375/3375 - 4s - loss: 0.3244 - accuracy: 0.8848 - val_loss: 0.3504 - val_accuracy: 0.8685 - 4s/epoch - 1ms/step\n",
      "Epoch 5/10\n",
      "3375/3375 - 4s - loss: 0.3042 - accuracy: 0.8920 - val_loss: 0.3392 - val_accuracy: 0.8788 - 4s/epoch - 1ms/step\n",
      "Epoch 6/10\n",
      "3375/3375 - 4s - loss: 0.2874 - accuracy: 0.8988 - val_loss: 0.3341 - val_accuracy: 0.8785 - 4s/epoch - 1ms/step\n",
      "Epoch 7/10\n",
      "3375/3375 - 5s - loss: 0.2729 - accuracy: 0.9040 - val_loss: 0.3366 - val_accuracy: 0.8775 - 5s/epoch - 1ms/step\n",
      "Epoch 8/10\n",
      "3375/3375 - 4s - loss: 0.2607 - accuracy: 0.9063 - val_loss: 0.3290 - val_accuracy: 0.8823 - 4s/epoch - 1ms/step\n",
      "Epoch 9/10\n",
      "3375/3375 - 4s - loss: 0.2493 - accuracy: 0.9114 - val_loss: 0.3273 - val_accuracy: 0.8853 - 4s/epoch - 1ms/step\n",
      "Epoch 10/10\n",
      "3375/3375 - 4s - loss: 0.2379 - accuracy: 0.9149 - val_loss: 0.3405 - val_accuracy: 0.8822 - 4s/epoch - 1ms/step\n"
     ]
    },
    {
     "data": {
      "text/plain": "<keras.callbacks.History at 0x2746858b250>"
     },
     "execution_count": 18,
     "metadata": {},
     "output_type": "execute_result"
    }
   ],
   "source": [
    "model.fit(X_trainN, y_trainOHE, epochs=10, batch_size=16, validation_split=0.1, verbose=2)"
   ]
  },
  {
   "cell_type": "code",
   "execution_count": 19,
   "metadata": {
    "ExecuteTime": {
     "end_time": "2023-10-19T15:04:46.464138300Z",
     "start_time": "2023-10-19T15:04:45.871076200Z"
    }
   },
   "outputs": [
    {
     "name": "stdout",
     "output_type": "stream",
     "text": [
      "313/313 [==============================] - 0s 1ms/step\n",
      "Accuracy =  86.92999999999999 %\n"
     ]
    }
   ],
   "source": [
    "preds = np.argmax(model.predict(X_testN), axis=-1)\n",
    "Accuracy = np.mean(preds == y_test)\n",
    "print('Accuracy = ', Accuracy*100, '%')"
   ]
  },
  {
   "cell_type": "markdown",
   "metadata": {},
   "source": [
    "**Note**. Take a look to the keras functional API available on https://keras.io/getting-started/functional-api-guide/"
   ]
  },
  {
   "cell_type": "markdown",
   "metadata": {},
   "source": [
    "### Defining a model by subclassing the Model class\n",
    "In this way we use inherintance from class Model to define the nwe model. It requires two methods the constructor init, where you should define your layers, and the forward pass in call."
   ]
  },
  {
   "cell_type": "code",
   "execution_count": 20,
   "metadata": {
    "ExecuteTime": {
     "end_time": "2023-10-19T15:04:49.017381300Z",
     "start_time": "2023-10-19T15:04:49.001758700Z"
    }
   },
   "outputs": [],
   "source": [
    "class MyModel(tf.keras.Model):\n",
    "    def __init__(self):\n",
    "        super(MyModel, self).__init__()\n",
    "        self.dense1 = tf.keras.layers.Dense(64, activation=tf.nn.tanh)\n",
    "        self.dense2 = tf.keras.layers.Dense(32, activation=tf.nn.tanh)\n",
    "        self.dense3 = tf.keras.layers.Dense(nb_classes, activation=tf.nn.softmax)\n",
    "        \n",
    "    def call(self, inputs):\n",
    "        x = self.dense1(inputs)\n",
    "        x = self.dense2(x)\n",
    "        return self.dense3(x)\n",
    "\n",
    "model = MyModel()"
   ]
  },
  {
   "cell_type": "code",
   "execution_count": 21,
   "metadata": {
    "ExecuteTime": {
     "end_time": "2023-10-19T15:04:50.220481400Z",
     "start_time": "2023-10-19T15:04:50.189174400Z"
    }
   },
   "outputs": [],
   "source": [
    "import tensorflow as tf\n",
    "\n",
    "class MyModel2(tf.keras.Model):\n",
    "    def __init__(self):\n",
    "        super(MyModel2, self).__init__()\n",
    "        self.dense1 = tf.keras.layers.Dense(64, activation=tf.nn.tanh)\n",
    "        self.dense2 = tf.keras.layers.Dense(32, activation=tf.nn.tanh)\n",
    "        self.dense3 = tf.keras.layers.Dense(nb_classes, activation=tf.nn.softmax)\n",
    "        self.dropout = tf.keras.layers.Dropout(0.5)\n",
    "        \n",
    "    def call(self, inputs, training=False):\n",
    "        x = self.dense1(inputs)\n",
    "        x = self.dense2(x)\n",
    "        if training:\n",
    "            x = self.dropout(x, training=training)\n",
    "        return self.dense3(x)\n",
    "\n",
    "model2 = MyModel2()"
   ]
  },
  {
   "cell_type": "code",
   "execution_count": 22,
   "metadata": {
    "ExecuteTime": {
     "end_time": "2023-10-19T15:04:52.697786300Z",
     "start_time": "2023-10-19T15:04:52.681921200Z"
    }
   },
   "outputs": [],
   "source": [
    "model.compile(optimizer='sgd',\n",
    "              loss='categorical_crossentropy',\n",
    "              metrics=['accuracy'])\n"
   ]
  },
  {
   "cell_type": "code",
   "execution_count": 23,
   "metadata": {
    "ExecuteTime": {
     "end_time": "2023-10-19T15:05:43.282016400Z",
     "start_time": "2023-10-19T15:04:55.820525100Z"
    }
   },
   "outputs": [
    {
     "name": "stdout",
     "output_type": "stream",
     "text": [
      "Epoch 1/10\n",
      "3375/3375 - 6s - loss: 0.5691 - accuracy: 0.8115 - val_loss: 0.4263 - val_accuracy: 0.8480 - 6s/epoch - 2ms/step\n",
      "Epoch 2/10\n",
      "3375/3375 - 4s - loss: 0.3944 - accuracy: 0.8609 - val_loss: 0.3808 - val_accuracy: 0.8642 - 4s/epoch - 1ms/step\n",
      "Epoch 3/10\n",
      "3375/3375 - 4s - loss: 0.3505 - accuracy: 0.8772 - val_loss: 0.3619 - val_accuracy: 0.8680 - 4s/epoch - 1ms/step\n",
      "Epoch 4/10\n",
      "3375/3375 - 4s - loss: 0.3229 - accuracy: 0.8863 - val_loss: 0.3552 - val_accuracy: 0.8683 - 4s/epoch - 1ms/step\n",
      "Epoch 5/10\n",
      "3375/3375 - 5s - loss: 0.3028 - accuracy: 0.8928 - val_loss: 0.3436 - val_accuracy: 0.8728 - 5s/epoch - 2ms/step\n",
      "Epoch 6/10\n",
      "3375/3375 - 5s - loss: 0.2860 - accuracy: 0.8994 - val_loss: 0.3418 - val_accuracy: 0.8760 - 5s/epoch - 1ms/step\n",
      "Epoch 7/10\n",
      "3375/3375 - 5s - loss: 0.2718 - accuracy: 0.9029 - val_loss: 0.3396 - val_accuracy: 0.8778 - 5s/epoch - 1ms/step\n",
      "Epoch 8/10\n",
      "3375/3375 - 5s - loss: 0.2591 - accuracy: 0.9077 - val_loss: 0.3410 - val_accuracy: 0.8777 - 5s/epoch - 1ms/step\n",
      "Epoch 9/10\n",
      "3375/3375 - 4s - loss: 0.2478 - accuracy: 0.9112 - val_loss: 0.3395 - val_accuracy: 0.8768 - 4s/epoch - 1ms/step\n",
      "Epoch 10/10\n",
      "3375/3375 - 5s - loss: 0.2370 - accuracy: 0.9166 - val_loss: 0.3432 - val_accuracy: 0.8762 - 5s/epoch - 1ms/step\n"
     ]
    },
    {
     "data": {
      "text/plain": "<keras.callbacks.History at 0x27469a4ad90>"
     },
     "execution_count": 23,
     "metadata": {},
     "output_type": "execute_result"
    }
   ],
   "source": [
    "tf.keras.backend.set_floatx('float32')\n",
    "model.fit(X_trainN, y_trainOHE, epochs=10, batch_size=16, validation_split=0.1, verbose=2)"
   ]
  },
  {
   "cell_type": "markdown",
   "source": [
    "**Copyright**\n",
    "\n",
    "The notebooks are provided as [Open Educational Resource](https://de.wikipedia.org/wiki/Open_Educational_Resources). Feel free to use the notebooks for your own educational purposes. The text is licensed under [Creative Commons Attribution 4.0](https://creativecommons.org/licenses/by/4.0/), the code of the IPython examples under the [MIT license](https://opensource.org/licenses/MIT)."
   ],
   "metadata": {
    "collapsed": false
   }
  },
  {
   "cell_type": "code",
   "execution_count": null,
   "outputs": [],
   "source": [],
   "metadata": {
    "collapsed": false
   }
  }
 ],
 "metadata": {
  "kernelspec": {
   "display_name": "Python 3",
   "language": "python",
   "name": "python3"
  },
  "language_info": {
   "codemirror_mode": {
    "name": "ipython",
    "version": 3
   },
   "file_extension": ".py",
   "mimetype": "text/x-python",
   "name": "python",
   "nbconvert_exporter": "python",
   "pygments_lexer": "ipython3",
   "version": "3.7.6"
  },
  "varInspector": {
   "cols": {
    "lenName": 16,
    "lenType": 16,
    "lenVar": 40
   },
   "kernels_config": {
    "python": {
     "delete_cmd_postfix": "",
     "delete_cmd_prefix": "del ",
     "library": "var_list.py",
     "varRefreshCmd": "print(var_dic_list())"
    },
    "r": {
     "delete_cmd_postfix": ") ",
     "delete_cmd_prefix": "rm(",
     "library": "var_list.r",
     "varRefreshCmd": "cat(var_dic_list()) "
    }
   },
   "types_to_exclude": [
    "module",
    "function",
    "builtin_function_or_method",
    "instance",
    "_Feature"
   ],
   "window_display": false
  }
 },
 "nbformat": 4,
 "nbformat_minor": 2
}
