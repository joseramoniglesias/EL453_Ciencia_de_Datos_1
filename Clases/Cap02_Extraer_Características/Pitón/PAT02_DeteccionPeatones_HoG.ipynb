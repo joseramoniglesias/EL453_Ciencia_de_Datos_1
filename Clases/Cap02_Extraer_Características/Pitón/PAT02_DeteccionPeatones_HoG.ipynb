{
  "nbformat": 4,
  "nbformat_minor": 0,
  "metadata": {
    "colab": {
      "name": "PAT02_DeteccionPeatones_HoG.ipynb",
      "provenance": []
    },
    "kernelspec": {
      "name": "python3",
      "display_name": "Python 3"
    },
    "language_info": {
      "name": "python"
    },
    "widgets": {
      "application/vnd.jupyter.widget-state+json": {
        "f3f2ce771e15438085a4427381e1d3dd": {
          "model_module": "@jupyter-widgets/controls",
          "model_name": "HBoxModel",
          "model_module_version": "1.5.0",
          "state": {
            "_view_name": "HBoxView",
            "_dom_classes": [],
            "_model_name": "HBoxModel",
            "_view_module": "@jupyter-widgets/controls",
            "_model_module_version": "1.5.0",
            "_view_count": null,
            "_view_module_version": "1.5.0",
            "box_style": "",
            "layout": "IPY_MODEL_dd55285f5969439f84039659c3ddf83c",
            "_model_module": "@jupyter-widgets/controls",
            "children": [
              "IPY_MODEL_598c9547b97147c49eb3d4529753b24e",
              "IPY_MODEL_2c5d98e39c7b4dc98e7a08c9f9bc4ddd"
            ]
          }
        },
        "dd55285f5969439f84039659c3ddf83c": {
          "model_module": "@jupyter-widgets/base",
          "model_name": "LayoutModel",
          "model_module_version": "1.2.0",
          "state": {
            "_view_name": "LayoutView",
            "grid_template_rows": null,
            "right": null,
            "justify_content": null,
            "_view_module": "@jupyter-widgets/base",
            "overflow": null,
            "_model_module_version": "1.2.0",
            "_view_count": null,
            "flex_flow": null,
            "width": null,
            "min_width": null,
            "border": null,
            "align_items": null,
            "bottom": null,
            "_model_module": "@jupyter-widgets/base",
            "top": null,
            "grid_column": null,
            "overflow_y": null,
            "overflow_x": null,
            "grid_auto_flow": null,
            "grid_area": null,
            "grid_template_columns": null,
            "flex": null,
            "_model_name": "LayoutModel",
            "justify_items": null,
            "grid_row": null,
            "max_height": null,
            "align_content": null,
            "visibility": null,
            "align_self": null,
            "height": null,
            "min_height": null,
            "padding": null,
            "grid_auto_rows": null,
            "grid_gap": null,
            "max_width": null,
            "order": null,
            "_view_module_version": "1.2.0",
            "grid_template_areas": null,
            "object_position": null,
            "object_fit": null,
            "grid_auto_columns": null,
            "margin": null,
            "display": null,
            "left": null
          }
        },
        "598c9547b97147c49eb3d4529753b24e": {
          "model_module": "@jupyter-widgets/controls",
          "model_name": "FloatProgressModel",
          "model_module_version": "1.5.0",
          "state": {
            "_view_name": "ProgressView",
            "style": "IPY_MODEL_298bb571304e45d59040b4d1b3ab3eaa",
            "_dom_classes": [],
            "description": "100%",
            "_model_name": "FloatProgressModel",
            "bar_style": "success",
            "max": 680,
            "_view_module": "@jupyter-widgets/controls",
            "_model_module_version": "1.5.0",
            "value": 680,
            "_view_count": null,
            "_view_module_version": "1.5.0",
            "orientation": "horizontal",
            "min": 0,
            "description_tooltip": null,
            "_model_module": "@jupyter-widgets/controls",
            "layout": "IPY_MODEL_2f54440c603d4ba1956712a1d88f6751"
          }
        },
        "2c5d98e39c7b4dc98e7a08c9f9bc4ddd": {
          "model_module": "@jupyter-widgets/controls",
          "model_name": "HTMLModel",
          "model_module_version": "1.5.0",
          "state": {
            "_view_name": "HTMLView",
            "style": "IPY_MODEL_99de2876d4b9424a9dcf8655325a6cb0",
            "_dom_classes": [],
            "description": "",
            "_model_name": "HTMLModel",
            "placeholder": "​",
            "_view_module": "@jupyter-widgets/controls",
            "_model_module_version": "1.5.0",
            "value": " 680/680 [00:05&lt;00:00, 122.91it/s]",
            "_view_count": null,
            "_view_module_version": "1.5.0",
            "description_tooltip": null,
            "_model_module": "@jupyter-widgets/controls",
            "layout": "IPY_MODEL_e4622b5339b84909b8a32ad88036fa3d"
          }
        },
        "298bb571304e45d59040b4d1b3ab3eaa": {
          "model_module": "@jupyter-widgets/controls",
          "model_name": "ProgressStyleModel",
          "model_module_version": "1.5.0",
          "state": {
            "_view_name": "StyleView",
            "_model_name": "ProgressStyleModel",
            "description_width": "initial",
            "_view_module": "@jupyter-widgets/base",
            "_model_module_version": "1.5.0",
            "_view_count": null,
            "_view_module_version": "1.2.0",
            "bar_color": null,
            "_model_module": "@jupyter-widgets/controls"
          }
        },
        "2f54440c603d4ba1956712a1d88f6751": {
          "model_module": "@jupyter-widgets/base",
          "model_name": "LayoutModel",
          "model_module_version": "1.2.0",
          "state": {
            "_view_name": "LayoutView",
            "grid_template_rows": null,
            "right": null,
            "justify_content": null,
            "_view_module": "@jupyter-widgets/base",
            "overflow": null,
            "_model_module_version": "1.2.0",
            "_view_count": null,
            "flex_flow": null,
            "width": null,
            "min_width": null,
            "border": null,
            "align_items": null,
            "bottom": null,
            "_model_module": "@jupyter-widgets/base",
            "top": null,
            "grid_column": null,
            "overflow_y": null,
            "overflow_x": null,
            "grid_auto_flow": null,
            "grid_area": null,
            "grid_template_columns": null,
            "flex": null,
            "_model_name": "LayoutModel",
            "justify_items": null,
            "grid_row": null,
            "max_height": null,
            "align_content": null,
            "visibility": null,
            "align_self": null,
            "height": null,
            "min_height": null,
            "padding": null,
            "grid_auto_rows": null,
            "grid_gap": null,
            "max_width": null,
            "order": null,
            "_view_module_version": "1.2.0",
            "grid_template_areas": null,
            "object_position": null,
            "object_fit": null,
            "grid_auto_columns": null,
            "margin": null,
            "display": null,
            "left": null
          }
        },
        "99de2876d4b9424a9dcf8655325a6cb0": {
          "model_module": "@jupyter-widgets/controls",
          "model_name": "DescriptionStyleModel",
          "model_module_version": "1.5.0",
          "state": {
            "_view_name": "StyleView",
            "_model_name": "DescriptionStyleModel",
            "description_width": "",
            "_view_module": "@jupyter-widgets/base",
            "_model_module_version": "1.5.0",
            "_view_count": null,
            "_view_module_version": "1.2.0",
            "_model_module": "@jupyter-widgets/controls"
          }
        },
        "e4622b5339b84909b8a32ad88036fa3d": {
          "model_module": "@jupyter-widgets/base",
          "model_name": "LayoutModel",
          "model_module_version": "1.2.0",
          "state": {
            "_view_name": "LayoutView",
            "grid_template_rows": null,
            "right": null,
            "justify_content": null,
            "_view_module": "@jupyter-widgets/base",
            "overflow": null,
            "_model_module_version": "1.2.0",
            "_view_count": null,
            "flex_flow": null,
            "width": null,
            "min_width": null,
            "border": null,
            "align_items": null,
            "bottom": null,
            "_model_module": "@jupyter-widgets/base",
            "top": null,
            "grid_column": null,
            "overflow_y": null,
            "overflow_x": null,
            "grid_auto_flow": null,
            "grid_area": null,
            "grid_template_columns": null,
            "flex": null,
            "_model_name": "LayoutModel",
            "justify_items": null,
            "grid_row": null,
            "max_height": null,
            "align_content": null,
            "visibility": null,
            "align_self": null,
            "height": null,
            "min_height": null,
            "padding": null,
            "grid_auto_rows": null,
            "grid_gap": null,
            "max_width": null,
            "order": null,
            "_view_module_version": "1.2.0",
            "grid_template_areas": null,
            "object_position": null,
            "object_fit": null,
            "grid_auto_columns": null,
            "margin": null,
            "display": null,
            "left": null
          }
        },
        "c2d8231dba334dd29f6d236a005aba86": {
          "model_module": "@jupyter-widgets/controls",
          "model_name": "HBoxModel",
          "model_module_version": "1.5.0",
          "state": {
            "_view_name": "HBoxView",
            "_dom_classes": [],
            "_model_name": "HBoxModel",
            "_view_module": "@jupyter-widgets/controls",
            "_model_module_version": "1.5.0",
            "_view_count": null,
            "_view_module_version": "1.5.0",
            "box_style": "",
            "layout": "IPY_MODEL_9c84842425bd483082f506901f166d64",
            "_model_module": "@jupyter-widgets/controls",
            "children": [
              "IPY_MODEL_8319c3d3f1804146a29c3ff5c222592f",
              "IPY_MODEL_aadbdc3d83864da3b5acd9cb59d8bfec"
            ]
          }
        },
        "9c84842425bd483082f506901f166d64": {
          "model_module": "@jupyter-widgets/base",
          "model_name": "LayoutModel",
          "model_module_version": "1.2.0",
          "state": {
            "_view_name": "LayoutView",
            "grid_template_rows": null,
            "right": null,
            "justify_content": null,
            "_view_module": "@jupyter-widgets/base",
            "overflow": null,
            "_model_module_version": "1.2.0",
            "_view_count": null,
            "flex_flow": null,
            "width": null,
            "min_width": null,
            "border": null,
            "align_items": null,
            "bottom": null,
            "_model_module": "@jupyter-widgets/base",
            "top": null,
            "grid_column": null,
            "overflow_y": null,
            "overflow_x": null,
            "grid_auto_flow": null,
            "grid_area": null,
            "grid_template_columns": null,
            "flex": null,
            "_model_name": "LayoutModel",
            "justify_items": null,
            "grid_row": null,
            "max_height": null,
            "align_content": null,
            "visibility": null,
            "align_self": null,
            "height": null,
            "min_height": null,
            "padding": null,
            "grid_auto_rows": null,
            "grid_gap": null,
            "max_width": null,
            "order": null,
            "_view_module_version": "1.2.0",
            "grid_template_areas": null,
            "object_position": null,
            "object_fit": null,
            "grid_auto_columns": null,
            "margin": null,
            "display": null,
            "left": null
          }
        },
        "8319c3d3f1804146a29c3ff5c222592f": {
          "model_module": "@jupyter-widgets/controls",
          "model_name": "FloatProgressModel",
          "model_module_version": "1.5.0",
          "state": {
            "_view_name": "ProgressView",
            "style": "IPY_MODEL_7a64997579e44ad8b33f122e109fe572",
            "_dom_classes": [],
            "description": "100%",
            "_model_name": "FloatProgressModel",
            "bar_style": "success",
            "max": 680,
            "_view_module": "@jupyter-widgets/controls",
            "_model_module_version": "1.5.0",
            "value": 680,
            "_view_count": null,
            "_view_module_version": "1.5.0",
            "orientation": "horizontal",
            "min": 0,
            "description_tooltip": null,
            "_model_module": "@jupyter-widgets/controls",
            "layout": "IPY_MODEL_2f82d4295aae4cfc8f8c2d037866b0aa"
          }
        },
        "aadbdc3d83864da3b5acd9cb59d8bfec": {
          "model_module": "@jupyter-widgets/controls",
          "model_name": "HTMLModel",
          "model_module_version": "1.5.0",
          "state": {
            "_view_name": "HTMLView",
            "style": "IPY_MODEL_c7b90005fdf94f81b4ae56cf8905ec2b",
            "_dom_classes": [],
            "description": "",
            "_model_name": "HTMLModel",
            "placeholder": "​",
            "_view_module": "@jupyter-widgets/controls",
            "_model_module_version": "1.5.0",
            "value": " 680/680 [02:24&lt;00:00,  4.72it/s]",
            "_view_count": null,
            "_view_module_version": "1.5.0",
            "description_tooltip": null,
            "_model_module": "@jupyter-widgets/controls",
            "layout": "IPY_MODEL_80ae84b70c594db7b0761b4270a8d964"
          }
        },
        "7a64997579e44ad8b33f122e109fe572": {
          "model_module": "@jupyter-widgets/controls",
          "model_name": "ProgressStyleModel",
          "model_module_version": "1.5.0",
          "state": {
            "_view_name": "StyleView",
            "_model_name": "ProgressStyleModel",
            "description_width": "initial",
            "_view_module": "@jupyter-widgets/base",
            "_model_module_version": "1.5.0",
            "_view_count": null,
            "_view_module_version": "1.2.0",
            "bar_color": null,
            "_model_module": "@jupyter-widgets/controls"
          }
        },
        "2f82d4295aae4cfc8f8c2d037866b0aa": {
          "model_module": "@jupyter-widgets/base",
          "model_name": "LayoutModel",
          "model_module_version": "1.2.0",
          "state": {
            "_view_name": "LayoutView",
            "grid_template_rows": null,
            "right": null,
            "justify_content": null,
            "_view_module": "@jupyter-widgets/base",
            "overflow": null,
            "_model_module_version": "1.2.0",
            "_view_count": null,
            "flex_flow": null,
            "width": null,
            "min_width": null,
            "border": null,
            "align_items": null,
            "bottom": null,
            "_model_module": "@jupyter-widgets/base",
            "top": null,
            "grid_column": null,
            "overflow_y": null,
            "overflow_x": null,
            "grid_auto_flow": null,
            "grid_area": null,
            "grid_template_columns": null,
            "flex": null,
            "_model_name": "LayoutModel",
            "justify_items": null,
            "grid_row": null,
            "max_height": null,
            "align_content": null,
            "visibility": null,
            "align_self": null,
            "height": null,
            "min_height": null,
            "padding": null,
            "grid_auto_rows": null,
            "grid_gap": null,
            "max_width": null,
            "order": null,
            "_view_module_version": "1.2.0",
            "grid_template_areas": null,
            "object_position": null,
            "object_fit": null,
            "grid_auto_columns": null,
            "margin": null,
            "display": null,
            "left": null
          }
        },
        "c7b90005fdf94f81b4ae56cf8905ec2b": {
          "model_module": "@jupyter-widgets/controls",
          "model_name": "DescriptionStyleModel",
          "model_module_version": "1.5.0",
          "state": {
            "_view_name": "StyleView",
            "_model_name": "DescriptionStyleModel",
            "description_width": "",
            "_view_module": "@jupyter-widgets/base",
            "_model_module_version": "1.5.0",
            "_view_count": null,
            "_view_module_version": "1.2.0",
            "_model_module": "@jupyter-widgets/controls"
          }
        },
        "80ae84b70c594db7b0761b4270a8d964": {
          "model_module": "@jupyter-widgets/base",
          "model_name": "LayoutModel",
          "model_module_version": "1.2.0",
          "state": {
            "_view_name": "LayoutView",
            "grid_template_rows": null,
            "right": null,
            "justify_content": null,
            "_view_module": "@jupyter-widgets/base",
            "overflow": null,
            "_model_module_version": "1.2.0",
            "_view_count": null,
            "flex_flow": null,
            "width": null,
            "min_width": null,
            "border": null,
            "align_items": null,
            "bottom": null,
            "_model_module": "@jupyter-widgets/base",
            "top": null,
            "grid_column": null,
            "overflow_y": null,
            "overflow_x": null,
            "grid_auto_flow": null,
            "grid_area": null,
            "grid_template_columns": null,
            "flex": null,
            "_model_name": "LayoutModel",
            "justify_items": null,
            "grid_row": null,
            "max_height": null,
            "align_content": null,
            "visibility": null,
            "align_self": null,
            "height": null,
            "min_height": null,
            "padding": null,
            "grid_auto_rows": null,
            "grid_gap": null,
            "max_width": null,
            "order": null,
            "_view_module_version": "1.2.0",
            "grid_template_areas": null,
            "object_position": null,
            "object_fit": null,
            "grid_auto_columns": null,
            "margin": null,
            "display": null,
            "left": null
          }
        },
        "f9c2609da1894a9bab23bebcd6a7b028": {
          "model_module": "@jupyter-widgets/controls",
          "model_name": "HBoxModel",
          "model_module_version": "1.5.0",
          "state": {
            "_view_name": "HBoxView",
            "_dom_classes": [],
            "_model_name": "HBoxModel",
            "_view_module": "@jupyter-widgets/controls",
            "_model_module_version": "1.5.0",
            "_view_count": null,
            "_view_module_version": "1.5.0",
            "box_style": "",
            "layout": "IPY_MODEL_077ff9dcf81a474d9fefb3526b20a7da",
            "_model_module": "@jupyter-widgets/controls",
            "children": [
              "IPY_MODEL_1f6228e2164c4a66b4c5331ace0ed3d2",
              "IPY_MODEL_3075090c6aa1435da7a6a3757407216d"
            ]
          }
        },
        "077ff9dcf81a474d9fefb3526b20a7da": {
          "model_module": "@jupyter-widgets/base",
          "model_name": "LayoutModel",
          "model_module_version": "1.2.0",
          "state": {
            "_view_name": "LayoutView",
            "grid_template_rows": null,
            "right": null,
            "justify_content": null,
            "_view_module": "@jupyter-widgets/base",
            "overflow": null,
            "_model_module_version": "1.2.0",
            "_view_count": null,
            "flex_flow": null,
            "width": null,
            "min_width": null,
            "border": null,
            "align_items": null,
            "bottom": null,
            "_model_module": "@jupyter-widgets/base",
            "top": null,
            "grid_column": null,
            "overflow_y": null,
            "overflow_x": null,
            "grid_auto_flow": null,
            "grid_area": null,
            "grid_template_columns": null,
            "flex": null,
            "_model_name": "LayoutModel",
            "justify_items": null,
            "grid_row": null,
            "max_height": null,
            "align_content": null,
            "visibility": null,
            "align_self": null,
            "height": null,
            "min_height": null,
            "padding": null,
            "grid_auto_rows": null,
            "grid_gap": null,
            "max_width": null,
            "order": null,
            "_view_module_version": "1.2.0",
            "grid_template_areas": null,
            "object_position": null,
            "object_fit": null,
            "grid_auto_columns": null,
            "margin": null,
            "display": null,
            "left": null
          }
        },
        "1f6228e2164c4a66b4c5331ace0ed3d2": {
          "model_module": "@jupyter-widgets/controls",
          "model_name": "FloatProgressModel",
          "model_module_version": "1.5.0",
          "state": {
            "_view_name": "ProgressView",
            "style": "IPY_MODEL_c3447a8ca0584c0eaa0e3bc0af8f92ad",
            "_dom_classes": [],
            "description": "100%",
            "_model_name": "FloatProgressModel",
            "bar_style": "success",
            "max": 254,
            "_view_module": "@jupyter-widgets/controls",
            "_model_module_version": "1.5.0",
            "value": 254,
            "_view_count": null,
            "_view_module_version": "1.5.0",
            "orientation": "horizontal",
            "min": 0,
            "description_tooltip": null,
            "_model_module": "@jupyter-widgets/controls",
            "layout": "IPY_MODEL_6e94c09b2e7343ddaa8cbc6ff58f499b"
          }
        },
        "3075090c6aa1435da7a6a3757407216d": {
          "model_module": "@jupyter-widgets/controls",
          "model_name": "HTMLModel",
          "model_module_version": "1.5.0",
          "state": {
            "_view_name": "HTMLView",
            "style": "IPY_MODEL_d6687b2c91264eab837b21326ce4c8d2",
            "_dom_classes": [],
            "description": "",
            "_model_name": "HTMLModel",
            "placeholder": "​",
            "_view_module": "@jupyter-widgets/controls",
            "_model_module_version": "1.5.0",
            "value": " 254/254 [00:04&lt;00:00, 61.05it/s]",
            "_view_count": null,
            "_view_module_version": "1.5.0",
            "description_tooltip": null,
            "_model_module": "@jupyter-widgets/controls",
            "layout": "IPY_MODEL_e2bcd8800b68455597c3fe5d81f6cf87"
          }
        },
        "c3447a8ca0584c0eaa0e3bc0af8f92ad": {
          "model_module": "@jupyter-widgets/controls",
          "model_name": "ProgressStyleModel",
          "model_module_version": "1.5.0",
          "state": {
            "_view_name": "StyleView",
            "_model_name": "ProgressStyleModel",
            "description_width": "initial",
            "_view_module": "@jupyter-widgets/base",
            "_model_module_version": "1.5.0",
            "_view_count": null,
            "_view_module_version": "1.2.0",
            "bar_color": null,
            "_model_module": "@jupyter-widgets/controls"
          }
        },
        "6e94c09b2e7343ddaa8cbc6ff58f499b": {
          "model_module": "@jupyter-widgets/base",
          "model_name": "LayoutModel",
          "model_module_version": "1.2.0",
          "state": {
            "_view_name": "LayoutView",
            "grid_template_rows": null,
            "right": null,
            "justify_content": null,
            "_view_module": "@jupyter-widgets/base",
            "overflow": null,
            "_model_module_version": "1.2.0",
            "_view_count": null,
            "flex_flow": null,
            "width": null,
            "min_width": null,
            "border": null,
            "align_items": null,
            "bottom": null,
            "_model_module": "@jupyter-widgets/base",
            "top": null,
            "grid_column": null,
            "overflow_y": null,
            "overflow_x": null,
            "grid_auto_flow": null,
            "grid_area": null,
            "grid_template_columns": null,
            "flex": null,
            "_model_name": "LayoutModel",
            "justify_items": null,
            "grid_row": null,
            "max_height": null,
            "align_content": null,
            "visibility": null,
            "align_self": null,
            "height": null,
            "min_height": null,
            "padding": null,
            "grid_auto_rows": null,
            "grid_gap": null,
            "max_width": null,
            "order": null,
            "_view_module_version": "1.2.0",
            "grid_template_areas": null,
            "object_position": null,
            "object_fit": null,
            "grid_auto_columns": null,
            "margin": null,
            "display": null,
            "left": null
          }
        },
        "d6687b2c91264eab837b21326ce4c8d2": {
          "model_module": "@jupyter-widgets/controls",
          "model_name": "DescriptionStyleModel",
          "model_module_version": "1.5.0",
          "state": {
            "_view_name": "StyleView",
            "_model_name": "DescriptionStyleModel",
            "description_width": "",
            "_view_module": "@jupyter-widgets/base",
            "_model_module_version": "1.5.0",
            "_view_count": null,
            "_view_module_version": "1.2.0",
            "_model_module": "@jupyter-widgets/controls"
          }
        },
        "e2bcd8800b68455597c3fe5d81f6cf87": {
          "model_module": "@jupyter-widgets/base",
          "model_name": "LayoutModel",
          "model_module_version": "1.2.0",
          "state": {
            "_view_name": "LayoutView",
            "grid_template_rows": null,
            "right": null,
            "justify_content": null,
            "_view_module": "@jupyter-widgets/base",
            "overflow": null,
            "_model_module_version": "1.2.0",
            "_view_count": null,
            "flex_flow": null,
            "width": null,
            "min_width": null,
            "border": null,
            "align_items": null,
            "bottom": null,
            "_model_module": "@jupyter-widgets/base",
            "top": null,
            "grid_column": null,
            "overflow_y": null,
            "overflow_x": null,
            "grid_auto_flow": null,
            "grid_area": null,
            "grid_template_columns": null,
            "flex": null,
            "_model_name": "LayoutModel",
            "justify_items": null,
            "grid_row": null,
            "max_height": null,
            "align_content": null,
            "visibility": null,
            "align_self": null,
            "height": null,
            "min_height": null,
            "padding": null,
            "grid_auto_rows": null,
            "grid_gap": null,
            "max_width": null,
            "order": null,
            "_view_module_version": "1.2.0",
            "grid_template_areas": null,
            "object_position": null,
            "object_fit": null,
            "grid_auto_columns": null,
            "margin": null,
            "display": null,
            "left": null
          }
        },
        "cde18c2f60454391a2ee730de14fa551": {
          "model_module": "@jupyter-widgets/controls",
          "model_name": "HBoxModel",
          "model_module_version": "1.5.0",
          "state": {
            "_view_name": "HBoxView",
            "_dom_classes": [],
            "_model_name": "HBoxModel",
            "_view_module": "@jupyter-widgets/controls",
            "_model_module_version": "1.5.0",
            "_view_count": null,
            "_view_module_version": "1.5.0",
            "box_style": "",
            "layout": "IPY_MODEL_c4eb726750364480b5f3761e069aa263",
            "_model_module": "@jupyter-widgets/controls",
            "children": [
              "IPY_MODEL_3d165b014a934c5d98696a93bbfe753c",
              "IPY_MODEL_273b48efd2ef4787b35b86df061643d3"
            ]
          }
        },
        "c4eb726750364480b5f3761e069aa263": {
          "model_module": "@jupyter-widgets/base",
          "model_name": "LayoutModel",
          "model_module_version": "1.2.0",
          "state": {
            "_view_name": "LayoutView",
            "grid_template_rows": null,
            "right": null,
            "justify_content": null,
            "_view_module": "@jupyter-widgets/base",
            "overflow": null,
            "_model_module_version": "1.2.0",
            "_view_count": null,
            "flex_flow": null,
            "width": null,
            "min_width": null,
            "border": null,
            "align_items": null,
            "bottom": null,
            "_model_module": "@jupyter-widgets/base",
            "top": null,
            "grid_column": null,
            "overflow_y": null,
            "overflow_x": null,
            "grid_auto_flow": null,
            "grid_area": null,
            "grid_template_columns": null,
            "flex": null,
            "_model_name": "LayoutModel",
            "justify_items": null,
            "grid_row": null,
            "max_height": null,
            "align_content": null,
            "visibility": null,
            "align_self": null,
            "height": null,
            "min_height": null,
            "padding": null,
            "grid_auto_rows": null,
            "grid_gap": null,
            "max_width": null,
            "order": null,
            "_view_module_version": "1.2.0",
            "grid_template_areas": null,
            "object_position": null,
            "object_fit": null,
            "grid_auto_columns": null,
            "margin": null,
            "display": null,
            "left": null
          }
        },
        "3d165b014a934c5d98696a93bbfe753c": {
          "model_module": "@jupyter-widgets/controls",
          "model_name": "FloatProgressModel",
          "model_module_version": "1.5.0",
          "state": {
            "_view_name": "ProgressView",
            "style": "IPY_MODEL_600893fda77e4482bff7854f7686cbab",
            "_dom_classes": [],
            "description": "100%",
            "_model_name": "FloatProgressModel",
            "bar_style": "success",
            "max": 254,
            "_view_module": "@jupyter-widgets/controls",
            "_model_module_version": "1.5.0",
            "value": 254,
            "_view_count": null,
            "_view_module_version": "1.5.0",
            "orientation": "horizontal",
            "min": 0,
            "description_tooltip": null,
            "_model_module": "@jupyter-widgets/controls",
            "layout": "IPY_MODEL_3951ed192f0f4cf0a60ec89ecac86ab2"
          }
        },
        "273b48efd2ef4787b35b86df061643d3": {
          "model_module": "@jupyter-widgets/controls",
          "model_name": "HTMLModel",
          "model_module_version": "1.5.0",
          "state": {
            "_view_name": "HTMLView",
            "style": "IPY_MODEL_e956c9fdbcc84f8789f3d76cffd298b9",
            "_dom_classes": [],
            "description": "",
            "_model_name": "HTMLModel",
            "placeholder": "​",
            "_view_module": "@jupyter-widgets/controls",
            "_model_module_version": "1.5.0",
            "value": " 254/254 [00:02&lt;00:00, 120.52it/s]",
            "_view_count": null,
            "_view_module_version": "1.5.0",
            "description_tooltip": null,
            "_model_module": "@jupyter-widgets/controls",
            "layout": "IPY_MODEL_49813500f1ca4ee5a64635c8543b6189"
          }
        },
        "600893fda77e4482bff7854f7686cbab": {
          "model_module": "@jupyter-widgets/controls",
          "model_name": "ProgressStyleModel",
          "model_module_version": "1.5.0",
          "state": {
            "_view_name": "StyleView",
            "_model_name": "ProgressStyleModel",
            "description_width": "initial",
            "_view_module": "@jupyter-widgets/base",
            "_model_module_version": "1.5.0",
            "_view_count": null,
            "_view_module_version": "1.2.0",
            "bar_color": null,
            "_model_module": "@jupyter-widgets/controls"
          }
        },
        "3951ed192f0f4cf0a60ec89ecac86ab2": {
          "model_module": "@jupyter-widgets/base",
          "model_name": "LayoutModel",
          "model_module_version": "1.2.0",
          "state": {
            "_view_name": "LayoutView",
            "grid_template_rows": null,
            "right": null,
            "justify_content": null,
            "_view_module": "@jupyter-widgets/base",
            "overflow": null,
            "_model_module_version": "1.2.0",
            "_view_count": null,
            "flex_flow": null,
            "width": null,
            "min_width": null,
            "border": null,
            "align_items": null,
            "bottom": null,
            "_model_module": "@jupyter-widgets/base",
            "top": null,
            "grid_column": null,
            "overflow_y": null,
            "overflow_x": null,
            "grid_auto_flow": null,
            "grid_area": null,
            "grid_template_columns": null,
            "flex": null,
            "_model_name": "LayoutModel",
            "justify_items": null,
            "grid_row": null,
            "max_height": null,
            "align_content": null,
            "visibility": null,
            "align_self": null,
            "height": null,
            "min_height": null,
            "padding": null,
            "grid_auto_rows": null,
            "grid_gap": null,
            "max_width": null,
            "order": null,
            "_view_module_version": "1.2.0",
            "grid_template_areas": null,
            "object_position": null,
            "object_fit": null,
            "grid_auto_columns": null,
            "margin": null,
            "display": null,
            "left": null
          }
        },
        "e956c9fdbcc84f8789f3d76cffd298b9": {
          "model_module": "@jupyter-widgets/controls",
          "model_name": "DescriptionStyleModel",
          "model_module_version": "1.5.0",
          "state": {
            "_view_name": "StyleView",
            "_model_name": "DescriptionStyleModel",
            "description_width": "",
            "_view_module": "@jupyter-widgets/base",
            "_model_module_version": "1.5.0",
            "_view_count": null,
            "_view_module_version": "1.2.0",
            "_model_module": "@jupyter-widgets/controls"
          }
        },
        "49813500f1ca4ee5a64635c8543b6189": {
          "model_module": "@jupyter-widgets/base",
          "model_name": "LayoutModel",
          "model_module_version": "1.2.0",
          "state": {
            "_view_name": "LayoutView",
            "grid_template_rows": null,
            "right": null,
            "justify_content": null,
            "_view_module": "@jupyter-widgets/base",
            "overflow": null,
            "_model_module_version": "1.2.0",
            "_view_count": null,
            "flex_flow": null,
            "width": null,
            "min_width": null,
            "border": null,
            "align_items": null,
            "bottom": null,
            "_model_module": "@jupyter-widgets/base",
            "top": null,
            "grid_column": null,
            "overflow_y": null,
            "overflow_x": null,
            "grid_auto_flow": null,
            "grid_area": null,
            "grid_template_columns": null,
            "flex": null,
            "_model_name": "LayoutModel",
            "justify_items": null,
            "grid_row": null,
            "max_height": null,
            "align_content": null,
            "visibility": null,
            "align_self": null,
            "height": null,
            "min_height": null,
            "padding": null,
            "grid_auto_rows": null,
            "grid_gap": null,
            "max_width": null,
            "order": null,
            "_view_module_version": "1.2.0",
            "grid_template_areas": null,
            "object_position": null,
            "object_fit": null,
            "grid_auto_columns": null,
            "margin": null,
            "display": null,
            "left": null
          }
        },
        "2dcd22fb9a2244e19cbdc0bc543d16e1": {
          "model_module": "@jupyter-widgets/controls",
          "model_name": "HBoxModel",
          "model_module_version": "1.5.0",
          "state": {
            "_view_name": "HBoxView",
            "_dom_classes": [],
            "_model_name": "HBoxModel",
            "_view_module": "@jupyter-widgets/controls",
            "_model_module_version": "1.5.0",
            "_view_count": null,
            "_view_module_version": "1.5.0",
            "box_style": "",
            "layout": "IPY_MODEL_0709ff45b98846cf8730f45fd6409827",
            "_model_module": "@jupyter-widgets/controls",
            "children": [
              "IPY_MODEL_190c050cd6de44bfbb3dd79365fa15c5",
              "IPY_MODEL_042382b262ec44daa02d358523a19e55"
            ]
          }
        },
        "0709ff45b98846cf8730f45fd6409827": {
          "model_module": "@jupyter-widgets/base",
          "model_name": "LayoutModel",
          "model_module_version": "1.2.0",
          "state": {
            "_view_name": "LayoutView",
            "grid_template_rows": null,
            "right": null,
            "justify_content": null,
            "_view_module": "@jupyter-widgets/base",
            "overflow": null,
            "_model_module_version": "1.2.0",
            "_view_count": null,
            "flex_flow": null,
            "width": null,
            "min_width": null,
            "border": null,
            "align_items": null,
            "bottom": null,
            "_model_module": "@jupyter-widgets/base",
            "top": null,
            "grid_column": null,
            "overflow_y": null,
            "overflow_x": null,
            "grid_auto_flow": null,
            "grid_area": null,
            "grid_template_columns": null,
            "flex": null,
            "_model_name": "LayoutModel",
            "justify_items": null,
            "grid_row": null,
            "max_height": null,
            "align_content": null,
            "visibility": null,
            "align_self": null,
            "height": null,
            "min_height": null,
            "padding": null,
            "grid_auto_rows": null,
            "grid_gap": null,
            "max_width": null,
            "order": null,
            "_view_module_version": "1.2.0",
            "grid_template_areas": null,
            "object_position": null,
            "object_fit": null,
            "grid_auto_columns": null,
            "margin": null,
            "display": null,
            "left": null
          }
        },
        "190c050cd6de44bfbb3dd79365fa15c5": {
          "model_module": "@jupyter-widgets/controls",
          "model_name": "FloatProgressModel",
          "model_module_version": "1.5.0",
          "state": {
            "_view_name": "ProgressView",
            "style": "IPY_MODEL_fe620b28756143edb3f61541539e6095",
            "_dom_classes": [],
            "description": "100%",
            "_model_name": "FloatProgressModel",
            "bar_style": "success",
            "max": 254,
            "_view_module": "@jupyter-widgets/controls",
            "_model_module_version": "1.5.0",
            "value": 254,
            "_view_count": null,
            "_view_module_version": "1.5.0",
            "orientation": "horizontal",
            "min": 0,
            "description_tooltip": null,
            "_model_module": "@jupyter-widgets/controls",
            "layout": "IPY_MODEL_d516c3348b9a4b61b9e1773b562322dd"
          }
        },
        "042382b262ec44daa02d358523a19e55": {
          "model_module": "@jupyter-widgets/controls",
          "model_name": "HTMLModel",
          "model_module_version": "1.5.0",
          "state": {
            "_view_name": "HTMLView",
            "style": "IPY_MODEL_a30e6db80d4545319e872be550136390",
            "_dom_classes": [],
            "description": "",
            "_model_name": "HTMLModel",
            "placeholder": "​",
            "_view_module": "@jupyter-widgets/controls",
            "_model_module_version": "1.5.0",
            "value": " 254/254 [00:02&lt;00:00, 124.00it/s]",
            "_view_count": null,
            "_view_module_version": "1.5.0",
            "description_tooltip": null,
            "_model_module": "@jupyter-widgets/controls",
            "layout": "IPY_MODEL_1de4f7dde8284a78bee1c9d6751e1def"
          }
        },
        "fe620b28756143edb3f61541539e6095": {
          "model_module": "@jupyter-widgets/controls",
          "model_name": "ProgressStyleModel",
          "model_module_version": "1.5.0",
          "state": {
            "_view_name": "StyleView",
            "_model_name": "ProgressStyleModel",
            "description_width": "initial",
            "_view_module": "@jupyter-widgets/base",
            "_model_module_version": "1.5.0",
            "_view_count": null,
            "_view_module_version": "1.2.0",
            "bar_color": null,
            "_model_module": "@jupyter-widgets/controls"
          }
        },
        "d516c3348b9a4b61b9e1773b562322dd": {
          "model_module": "@jupyter-widgets/base",
          "model_name": "LayoutModel",
          "model_module_version": "1.2.0",
          "state": {
            "_view_name": "LayoutView",
            "grid_template_rows": null,
            "right": null,
            "justify_content": null,
            "_view_module": "@jupyter-widgets/base",
            "overflow": null,
            "_model_module_version": "1.2.0",
            "_view_count": null,
            "flex_flow": null,
            "width": null,
            "min_width": null,
            "border": null,
            "align_items": null,
            "bottom": null,
            "_model_module": "@jupyter-widgets/base",
            "top": null,
            "grid_column": null,
            "overflow_y": null,
            "overflow_x": null,
            "grid_auto_flow": null,
            "grid_area": null,
            "grid_template_columns": null,
            "flex": null,
            "_model_name": "LayoutModel",
            "justify_items": null,
            "grid_row": null,
            "max_height": null,
            "align_content": null,
            "visibility": null,
            "align_self": null,
            "height": null,
            "min_height": null,
            "padding": null,
            "grid_auto_rows": null,
            "grid_gap": null,
            "max_width": null,
            "order": null,
            "_view_module_version": "1.2.0",
            "grid_template_areas": null,
            "object_position": null,
            "object_fit": null,
            "grid_auto_columns": null,
            "margin": null,
            "display": null,
            "left": null
          }
        },
        "a30e6db80d4545319e872be550136390": {
          "model_module": "@jupyter-widgets/controls",
          "model_name": "DescriptionStyleModel",
          "model_module_version": "1.5.0",
          "state": {
            "_view_name": "StyleView",
            "_model_name": "DescriptionStyleModel",
            "description_width": "",
            "_view_module": "@jupyter-widgets/base",
            "_model_module_version": "1.5.0",
            "_view_count": null,
            "_view_module_version": "1.2.0",
            "_model_module": "@jupyter-widgets/controls"
          }
        },
        "1de4f7dde8284a78bee1c9d6751e1def": {
          "model_module": "@jupyter-widgets/base",
          "model_name": "LayoutModel",
          "model_module_version": "1.2.0",
          "state": {
            "_view_name": "LayoutView",
            "grid_template_rows": null,
            "right": null,
            "justify_content": null,
            "_view_module": "@jupyter-widgets/base",
            "overflow": null,
            "_model_module_version": "1.2.0",
            "_view_count": null,
            "flex_flow": null,
            "width": null,
            "min_width": null,
            "border": null,
            "align_items": null,
            "bottom": null,
            "_model_module": "@jupyter-widgets/base",
            "top": null,
            "grid_column": null,
            "overflow_y": null,
            "overflow_x": null,
            "grid_auto_flow": null,
            "grid_area": null,
            "grid_template_columns": null,
            "flex": null,
            "_model_name": "LayoutModel",
            "justify_items": null,
            "grid_row": null,
            "max_height": null,
            "align_content": null,
            "visibility": null,
            "align_self": null,
            "height": null,
            "min_height": null,
            "padding": null,
            "grid_auto_rows": null,
            "grid_gap": null,
            "max_width": null,
            "order": null,
            "_view_module_version": "1.2.0",
            "grid_template_areas": null,
            "object_position": null,
            "object_fit": null,
            "grid_auto_columns": null,
            "margin": null,
            "display": null,
            "left": null
          }
        }
      }
    }
  },
  "cells": [
    {
      "cell_type": "markdown",
      "metadata": {
        "id": "ldHBGHWGon-Y"
      },
      "source": [
        "# Reconocimiento de Patrones\n",
        "[Curso de Reconocimiento de Patrones]\n",
        "\n",
        "Departamento Electrónica\n",
        "\n",
        "Universidad Popular del Cesar\n",
        "\n",
        "José Ramón Iglesias\n",
        "\n"
      ]
    },
    {
      "cell_type": "markdown",
      "metadata": {
        "id": "XASTjivuu7cO"
      },
      "source": [
        "# Ejemplo: Detección de Personas\n",
        "\n",
        "En este ejercicio se realizará la detección de peatones usando HoG y un clasificador simple KNN.\n",
        "\n",
        "\n",
        "**ADVERTENCIA:** Este ejercicio tiene fines pedagógicos sólamente, con la idea de que la solución a este problema pueda ejecutarse en un par de minutos. Un buen detector de personas sigue esta idea pero con miles de imágenes por clase.\n",
        "\n",
        "\n"
      ]
    },
    {
      "cell_type": "markdown",
      "metadata": {
        "id": "R5C53BYjpNl7"
      },
      "source": [
        "# Setup inicial\n",
        "\n",
        "Liberías necesarias para que funcione el algoritmo."
      ]
    },
    {
      "cell_type": "markdown",
      "metadata": {
        "id": "x-r9zRXMdBOM"
      },
      "source": [
        "## Instalación de PyBalu\n",
        "\n",
        "[PyBalu](https://github.com/mbucchi/pybalu) es una librería creada para extraer características. "
      ]
    },
    {
      "cell_type": "code",
      "metadata": {
        "id": "XX-Xb2Igk2jQ",
        "colab": {
          "base_uri": "https://localhost:8080/"
        },
        "outputId": "dfa354b4-7e10-4610-b9e4-03490a74031a"
      },
      "source": [
        "from IPython.display import clear_output\n",
        "!pip install scipy==1.2\n",
        "!pip3 install pybalu==0.2.5\n",
        "clear_output()\n",
        "print('Librería PyBalu instalada.')"
      ],
      "execution_count": null,
      "outputs": [
        {
          "output_type": "stream",
          "text": [
            "Librería PyBalu instalada.\n"
          ],
          "name": "stdout"
        }
      ]
    },
    {
      "cell_type": "markdown",
      "metadata": {
        "id": "X9daVUmmTSBW"
      },
      "source": [
        "## Setup de librerías"
      ]
    },
    {
      "cell_type": "code",
      "metadata": {
        "id": "xUXeMCxoTRH8",
        "colab": {
          "base_uri": "https://localhost:8080/"
        },
        "outputId": "0ef37b70-e54c-4a73-9e1a-0c1685284e7c"
      },
      "source": [
        "import numpy as np\n",
        "import matplotlib.pyplot as plt\n",
        "from   sklearn.metrics import confusion_matrix, accuracy_score\n",
        "from   sklearn.neighbors import KNeighborsClassifier\n",
        "from   tqdm.auto import tqdm\n",
        "from   seaborn import heatmap\n",
        "from   google.colab.patches import cv2_imshow \n",
        "from   pybalu.feature_extraction import hog_features, lbp_features\n",
        "from   pybalu.feature_transformation import normalize\n",
        "\n",
        "print('Librerías cargadas.')\n"
      ],
      "execution_count": null,
      "outputs": [
        {
          "output_type": "stream",
          "text": [
            "Librerías cargadas.\n"
          ],
          "name": "stdout"
        }
      ]
    },
    {
      "cell_type": "markdown",
      "metadata": {
        "id": "dYCCyCrTYVYQ"
      },
      "source": [
        "## Funciones necesarias"
      ]
    },
    {
      "cell_type": "code",
      "metadata": {
        "id": "V7PwerxH4rxx"
      },
      "source": [
        "def num2fixstr(x,d):\n",
        "  # example num2fixstr(2,5) returns '00002'\n",
        "  # example num2fixstr(19,3) returns '019'\n",
        "  st = '%0*d' % (d,x)\n",
        "  return st\n",
        "\n",
        "def ImageLoad(prefix,num_char,num_img,echo='off'):\n",
        "  st   = prefix + num2fixstr(num_char,2) + '_' + num2fixstr(num_img,4) + '.png'\n",
        "  if echo == 'on':\n",
        "    print('loading image '+st+'...')\n",
        "  img    = plt.imread(st)\n",
        "  return img\n",
        "\n",
        "\n",
        "# Separación entre training y testing\n",
        "def SplitTrainTest(X,y,n):\n",
        "\n",
        "  K      = np.max(y)+1              # número de clases\n",
        "  N      = np.int(X.shape[0]/K)     # numeros de muestras por clase\n",
        "  Ntrain = n*K                      # número de muestras para el training\n",
        "  Ntest  = K*N-Ntrain               # número de muestras para el testing\n",
        "  M      = X.shape[1]               # número de características por muestra\n",
        "  Xtrain = np.zeros((Ntrain,M))     # subset de training\n",
        "  ytrain = np.zeros((Ntrain),'int') # ground truth del training         \n",
        "  Xtest  = np.zeros((Ntest,M))      # subset de testing\n",
        "  ytest  = np.zeros((Ntest),'int')  # ground truth del testing  \n",
        "\n",
        "  # contadores\n",
        "  itrain = 0\n",
        "  itest  = 0\n",
        "  t      = 0\n",
        "\n",
        "  for j in range(K):     # para cada clase\n",
        "    for i in range(N):   # para cada imagen de la clase\n",
        "      if i<n: # training\n",
        "        Xtrain[itrain,:] = X[t,:]\n",
        "        ytrain[itrain] = y[t]\n",
        "        itrain = itrain+1\n",
        "      else:  # testing\n",
        "        Xtest[itest,:] = X[t,:]\n",
        "        ytest[itest] = y[t]\n",
        "        itest = itest+1\n",
        "      t = t+1\n",
        "  \n",
        "  return Xtrain,ytrain,Xtest,ytest\n",
        "\n",
        "# Clasificación usando KNN con n_vecinos\n",
        "def ClassifierKNN(Xtrain,ytrain,Xtest,ytest,n_vecinos=3):\n",
        "  Xtrain, a, b = normalize(Xtrain)\n",
        "  Xtest        = Xtest * a + b\n",
        "  knn = KNeighborsClassifier(n_neighbors=n_vecinos)\n",
        "  knn.fit(Xtrain, ytrain)\n",
        "  ypred        = knn.predict(Xtest)\n",
        "  acc          = accuracy_score(ytest,ypred)\n",
        "  print('Entrenando con '+str(Xtrain.shape[0])+' muestras y probando con '+str(Xtest.shape[0])+' muestras')\n",
        "  print('Testing Accuracy = '+str(acc*100)+'%')\n",
        "  C = confusion_matrix(ytest,ypred)\n",
        "  print('Matriz de Confusión:')\n",
        "  print(C)\n",
        "  return acc,C"
      ],
      "execution_count": null,
      "outputs": []
    },
    {
      "cell_type": "markdown",
      "metadata": {
        "id": "vYJO6v6PGiwW"
      },
      "source": [
        "# Ejemplo 1: Reconocimiento peatón vs no-peatón\n",
        "\n",
        "* Clase 0: Personas (peatones)\n",
        "\n",
        "* Clase 1: No-Personas (fotos de la partes de la ciudad sin personas)\n",
        "\n",
        "La base de datos contiene 680 imágenes por clase de 160x96 pixeles en escala de grises.\n"
      ]
    },
    {
      "cell_type": "markdown",
      "metadata": {
        "id": "Kbs1ltE_Jk4B"
      },
      "source": [
        ""
      ]
    },
    {
      "cell_type": "markdown",
      "metadata": {
        "id": "sOcwbiQYYPag"
      },
      "source": [
        "## Carga de base de datos\n",
        "\n",
        "La base de datos consiste en 2 clases y 120 imágenes por clase. Se almacenan en la carpeta facedetection con el formato face_xx_nnn.png, donde xx es el ID de la clase (01 para caras, 02 para no caras) y nnn es el número de la foto de la clase (01, 02, ... 120). Las fotos son de 160x96 pixeles."
      ]
    },
    {
      "cell_type": "code",
      "metadata": {
        "id": "BMYOlpLpzHQJ",
        "colab": {
          "base_uri": "https://localhost:8080/"
        },
        "outputId": "dc593b98-4969-4869-b4f8-eb98b697c432"
      },
      "source": [
        "!wget https://www.dropbox.com/s/zh2en25w9q3jaih/persons.zip\n",
        "!unzip persons.zip\n",
        "clear_output()\n",
        "print('Base de datos personas/no-personas cargada.')"
      ],
      "execution_count": null,
      "outputs": [
        {
          "output_type": "stream",
          "text": [
            "Base de datos personas/no-personas cargada.\n"
          ],
          "name": "stdout"
        }
      ]
    },
    {
      "cell_type": "code",
      "metadata": {
        "id": "X6hUIqj9IG--",
        "colab": {
          "base_uri": "https://localhost:8080/",
          "height": 387
        },
        "outputId": "5f40b1c7-7edb-4d26-988b-c7db0cda6d95"
      },
      "source": [
        "print('Clase Peatón:')\n",
        "I1    = 255*ImageLoad('persons/person_',1,10,echo='off')\n",
        "I2    = 255*ImageLoad('persons/person_',1,15,echo='off')\n",
        "I3    = 255*ImageLoad('persons/person_',1,25,echo='off')\n",
        "I4    = 255*ImageLoad('persons/person_',1,35,echo='off')\n",
        "I = np.concatenate((I1,I2,I3,I4),axis=1)\n",
        "cv2_imshow(I)\n",
        "\n",
        "print('')\n",
        "print('Clase No-Peatón:')\n",
        "I1    = 255*ImageLoad('persons/person_',2,10,echo='off')\n",
        "I2    = 255*ImageLoad('persons/person_',2,15,echo='off')\n",
        "I3    = 255*ImageLoad('persons/person_',2,25,echo='off')\n",
        "I4    = 255*ImageLoad('persons/person_',2,35,echo='off')\n",
        "I = np.concatenate((I1,I2,I3,I4),axis=1)\n",
        "cv2_imshow(I)\n"
      ],
      "execution_count": null,
      "outputs": [
        {
          "output_type": "stream",
          "text": [
            "Clase Peatón:\n"
          ],
          "name": "stdout"
        },
        {
          "output_type": "display_data",
          "data": {
            "image/png": "[encoded data removed]",
            "text/plain": [
              "<PIL.Image.Image image mode=L size=384x160 at 0x7F9972720B90>"
            ]
          },
          "metadata": {
            "tags": []
          }
        },
        {
          "output_type": "stream",
          "text": [
            "\n",
            "Clase No-Peatón:\n"
          ],
          "name": "stdout"
        },
        {
          "output_type": "display_data",
          "data": {
            "image/png": "[encoded data removed]",
            "text/plain": [
              "<PIL.Image.Image image mode=L size=384x160 at 0x7F9972720B50>"
            ]
          },
          "metadata": {
            "tags": []
          }
        }
      ]
    },
    {
      "cell_type": "markdown",
      "metadata": {
        "id": "yYHxPwnTYhXs"
      },
      "source": [
        "## Extracción de características HoG\n",
        "\n",
        "\n",
        "Con el comando\n",
        "\n",
        "`f  = hog_features(image, v_windows=v, h_windows=h, n_bins=b)`\n",
        "\n",
        "se divide la imagen en `v` x `h` celdas, y a cada una de se le extrae un descriptor HoG de `b` bins. El descriptor f tiene `v*h*b` elementos.\n",
        "\n"
      ]
    },
    {
      "cell_type": "code",
      "metadata": {
        "id": "LMZBAlWG40Rz",
        "colab": {
          "base_uri": "https://localhost:8080/",
          "height": 165,
          "referenced_widgets": [
            "f3f2ce771e15438085a4427381e1d3dd",
            "dd55285f5969439f84039659c3ddf83c",
            "598c9547b97147c49eb3d4529753b24e",
            "2c5d98e39c7b4dc98e7a08c9f9bc4ddd",
            "298bb571304e45d59040b4d1b3ab3eaa",
            "2f54440c603d4ba1956712a1d88f6751",
            "99de2876d4b9424a9dcf8655325a6cb0",
            "e4622b5339b84909b8a32ad88036fa3d",
            "c2d8231dba334dd29f6d236a005aba86",
            "9c84842425bd483082f506901f166d64",
            "8319c3d3f1804146a29c3ff5c222592f",
            "aadbdc3d83864da3b5acd9cb59d8bfec",
            "7a64997579e44ad8b33f122e109fe572",
            "2f82d4295aae4cfc8f8c2d037866b0aa",
            "c7b90005fdf94f81b4ae56cf8905ec2b",
            "80ae84b70c594db7b0761b4270a8d964"
          ]
        },
        "outputId": "7d960b8f-0b03-487e-9cdd-95e993a625f5"
      },
      "source": [
        "K    = 2     # Numero de clases\n",
        "N    = 680   # Numero de imagenes por clase\n",
        "Mhog = 1440  # Numero de elementos del vector HoG\n",
        "\n",
        "Xhog  = np.zeros((K*N,Mhog))    # K*N muestras (filas), y Mlbp características (columnas)\n",
        "\n",
        "y     = np.zeros((K*N),'int')   # ground truth (clasificacion ideal)\n",
        "\n",
        "t = 0\n",
        "print('Cargando imagenes y extrayendo características...')\n",
        "for j in range(K):            # para cada clase\n",
        "  print('Extrayendo características: batch '+str(j+1)+'/'+str(K))\n",
        "  for i in tqdm(range(N)):                # para cada imagen de la clase\n",
        "    # Lectura de la imagen\n",
        "    img    = 255*ImageLoad('persons/person_',j+1,i+1,echo='off')\n",
        "\n",
        "    # Extracción de HoG\n",
        "    Xhog[t,:] = hog_features(img, v_windows=16, h_windows=10, n_bins=9) \n",
        "    y[t] = j # la muestra t pertenece a la clase j\n",
        "    t = t+1"
      ],
      "execution_count": null,
      "outputs": [
        {
          "output_type": "stream",
          "text": [
            "Cargando imagenes y extrayendo características...\n",
            "Extrayendo características: batch 1/2\n"
          ],
          "name": "stdout"
        },
        {
          "output_type": "display_data",
          "data": {
            "application/vnd.jupyter.widget-view+json": {
              "model_id": "f3f2ce771e15438085a4427381e1d3dd",
              "version_minor": 0,
              "version_major": 2
            },
            "text/plain": [
              "HBox(children=(FloatProgress(value=0.0, max=680.0), HTML(value='')))"
            ]
          },
          "metadata": {
            "tags": []
          }
        },
        {
          "output_type": "stream",
          "text": [
            "\n",
            "Extrayendo características: batch 2/2\n"
          ],
          "name": "stdout"
        },
        {
          "output_type": "display_data",
          "data": {
            "application/vnd.jupyter.widget-view+json": {
              "model_id": "c2d8231dba334dd29f6d236a005aba86",
              "version_minor": 0,
              "version_major": 2
            },
            "text/plain": [
              "HBox(children=(FloatProgress(value=0.0, max=680.0), HTML(value='')))"
            ]
          },
          "metadata": {
            "tags": []
          }
        },
        {
          "output_type": "stream",
          "text": [
            "\n"
          ],
          "name": "stdout"
        }
      ]
    },
    {
      "cell_type": "markdown",
      "metadata": {
        "id": "J88eVidHdI6P"
      },
      "source": [
        "## Clasificación usando HoG\n",
        "\n",
        "600 imágenes por clase para training y 80 imágenes por clase para testing."
      ]
    },
    {
      "cell_type": "code",
      "metadata": {
        "id": "X2j5_4sOh2ua",
        "colab": {
          "base_uri": "https://localhost:8080/",
          "height": 366
        },
        "outputId": "ce0bce52-9a44-4b44-feb8-a0de42b5ad32"
      },
      "source": [
        "# Paso 1: definir X\n",
        "X = Xhog\n",
        "\n",
        "# Paso 2: separar training/testing\n",
        "ntrain = 600 \n",
        "Xtrain,ytrain,Xtest,ytest = SplitTrainTest(X,y,ntrain) \n",
        "\n",
        "# Paso 3: clasificar y evaluar desempeño\n",
        "acc,C = ClassifierKNN(Xtrain,ytrain,Xtest,ytest)\n",
        "\n",
        "heatmap(C, cmap=\"YlGnBu\")"
      ],
      "execution_count": null,
      "outputs": [
        {
          "output_type": "stream",
          "text": [
            "Entrenando con 1200 muestras y probando con 160 muestras\n",
            "Testing Accuracy = 91.875%\n",
            "Matriz de Confusión:\n",
            "[[74  6]\n",
            " [ 7 73]]\n"
          ],
          "name": "stdout"
        },
        {
          "output_type": "execute_result",
          "data": {
            "text/plain": [
              "<matplotlib.axes._subplots.AxesSubplot at 0x7f997275ba10>"
            ]
          },
          "metadata": {
            "tags": []
          },
          "execution_count": 14
        },
        {
          "output_type": "display_data",
          "data": {
            "image/png": "[encoded data removed]",
            "text/plain": [
              "<Figure size 432x288 with 2 Axes>"
            ]
          },
          "metadata": {
            "tags": [],
            "needs_background": "light"
          }
        }
      ]
    },
    {
      "cell_type": "markdown",
      "metadata": {
        "id": "eLNxs1ebG3lb"
      },
      "source": [
        "# Ejemplo 2: peatón - no-peatón - peatón con bicicleta\n",
        "\n",
        "\n",
        "* Clase 0: Personas (peatones)\n",
        "\n",
        "* Clase 1: No-Personas (fotos de la partes de la ciudad sin personas)\n",
        "\n",
        "* Clase 2: Peatones con bicicleta\n",
        "\n",
        "\n",
        "La base de datos contiene 254 imágenes por clase de 160x96 pixeles en escala de grises.\n"
      ]
    },
    {
      "cell_type": "markdown",
      "metadata": {
        "id": "79YpWqJBHEXF"
      },
      "source": [
        "## Carga de base de datos"
      ]
    },
    {
      "cell_type": "code",
      "metadata": {
        "id": "YmuseM29Adzq",
        "colab": {
          "base_uri": "https://localhost:8080/"
        },
        "outputId": "dbb8c0fe-6c5d-4fec-eac6-c42a5d7ca826"
      },
      "source": [
        "!wget https://www.dropbox.com/s/8414rxqvk608c4t/bikes.zip\n",
        "!unzip bikes.zip\n",
        "clear_output()\n",
        "print('Base de datos personas/no-personas/personas con bicicletas cargada.')"
      ],
      "execution_count": null,
      "outputs": [
        {
          "output_type": "stream",
          "text": [
            "Base de datos personas/no-personas/personas con bicicletas cargada.\n"
          ],
          "name": "stdout"
        }
      ]
    },
    {
      "cell_type": "code",
      "metadata": {
        "id": "fLG7PghBI2qv",
        "colab": {
          "base_uri": "https://localhost:8080/",
          "height": 581
        },
        "outputId": "0370a373-14cc-45f2-bcb9-4e2fe1b9aeb7"
      },
      "source": [
        "print('Clase Peatón:')\n",
        "I1    = 255*ImageLoad('bikes/person_',1, 7,echo='off')\n",
        "I2    = 255*ImageLoad('bikes/person_',1,17,echo='off')\n",
        "I3    = 255*ImageLoad('bikes/person_',1,27,echo='off')\n",
        "I4    = 255*ImageLoad('bikes/person_',1,37,echo='off')\n",
        "I = np.concatenate((I1,I2,I3,I4),axis=1)\n",
        "cv2_imshow(I)\n",
        "\n",
        "print('')\n",
        "print('Clase No-Peatón:')\n",
        "I1    = 255*ImageLoad('bikes/person_',2, 7,echo='off')\n",
        "I2    = 255*ImageLoad('bikes/person_',2,17,echo='off')\n",
        "I3    = 255*ImageLoad('bikes/person_',2,27,echo='off')\n",
        "I4    = 255*ImageLoad('bikes/person_',2,37,echo='off')\n",
        "I = np.concatenate((I1,I2,I3,I4),axis=1)\n",
        "cv2_imshow(I)\n",
        "\n",
        "print('')\n",
        "print('Clase Peatón-con-Bicicleta:')\n",
        "I1    = 255*ImageLoad('bikes/person_',3, 7,echo='off')\n",
        "I2    = 255*ImageLoad('bikes/person_',3,17,echo='off')\n",
        "I3    = 255*ImageLoad('bikes/person_',3,27,echo='off')\n",
        "I4    = 255*ImageLoad('bikes/person_',3,37,echo='off')\n",
        "I = np.concatenate((I1,I2,I3,I4),axis=1)\n",
        "cv2_imshow(I)\n"
      ],
      "execution_count": null,
      "outputs": [
        {
          "output_type": "stream",
          "text": [
            "Clase Peatón:\n"
          ],
          "name": "stdout"
        },
        {
          "output_type": "display_data",
          "data": {
            "image/png": "[encoded data removed]",
            "text/plain": [
              "<PIL.Image.Image image mode=L size=384x160 at 0x7F9972621F10>"
            ]
          },
          "metadata": {
            "tags": []
          }
        },
        {
          "output_type": "stream",
          "text": [
            "\n",
            "Clase No-Peatón:\n"
          ],
          "name": "stdout"
        },
        {
          "output_type": "display_data",
          "data": {
            "image/png": "[encoded data removed]",
            "text/plain": [
              "<PIL.Image.Image image mode=L size=384x160 at 0x7F997266FED0>"
            ]
          },
          "metadata": {
            "tags": []
          }
        },
        {
          "output_type": "stream",
          "text": [
            "\n",
            "Clase Peatón-con-Bicicleta:\n"
          ],
          "name": "stdout"
        },
        {
          "output_type": "display_data",
          "data": {
            "image/png": "[encoded data removed]",
            "text/plain": [
              "<PIL.Image.Image image mode=L size=384x160 at 0x7F997266F210>"
            ]
          },
          "metadata": {
            "tags": []
          }
        }
      ]
    },
    {
      "cell_type": "markdown",
      "metadata": {
        "id": "m0y-FFt6HHP_"
      },
      "source": [
        "## Extracción de características HoG"
      ]
    },
    {
      "cell_type": "code",
      "metadata": {
        "id": "9gqCMDZV8jZp",
        "colab": {
          "base_uri": "https://localhost:8080/",
          "height": 230,
          "referenced_widgets": [
            "f9c2609da1894a9bab23bebcd6a7b028",
            "077ff9dcf81a474d9fefb3526b20a7da",
            "1f6228e2164c4a66b4c5331ace0ed3d2",
            "3075090c6aa1435da7a6a3757407216d",
            "c3447a8ca0584c0eaa0e3bc0af8f92ad",
            "6e94c09b2e7343ddaa8cbc6ff58f499b",
            "d6687b2c91264eab837b21326ce4c8d2",
            "e2bcd8800b68455597c3fe5d81f6cf87",
            "cde18c2f60454391a2ee730de14fa551",
            "c4eb726750364480b5f3761e069aa263",
            "3d165b014a934c5d98696a93bbfe753c",
            "273b48efd2ef4787b35b86df061643d3",
            "600893fda77e4482bff7854f7686cbab",
            "3951ed192f0f4cf0a60ec89ecac86ab2",
            "e956c9fdbcc84f8789f3d76cffd298b9",
            "49813500f1ca4ee5a64635c8543b6189",
            "2dcd22fb9a2244e19cbdc0bc543d16e1",
            "0709ff45b98846cf8730f45fd6409827",
            "190c050cd6de44bfbb3dd79365fa15c5",
            "042382b262ec44daa02d358523a19e55",
            "fe620b28756143edb3f61541539e6095",
            "d516c3348b9a4b61b9e1773b562322dd",
            "a30e6db80d4545319e872be550136390",
            "1de4f7dde8284a78bee1c9d6751e1def"
          ]
        },
        "outputId": "50b57480-b09a-41f2-f0aa-f429eb093f00"
      },
      "source": [
        "K    = 3     # Numero de clases\n",
        "N    = 254   # Numero de imagenes por clase\n",
        "Mhog = 1440  # Numero de elementos del vector HoG\n",
        "\n",
        "Xhog  = np.zeros((K*N,Mhog))    # K*N muestras (filas), y Mlbp características (columnas)\n",
        "\n",
        "y     = np.zeros((K*N),'int')   # ground truth (clasificacion ideal)\n",
        "\n",
        "t = 0\n",
        "print('Cargando imagenes y extrayendo características...')\n",
        "for j in range(K):            # para cada clase\n",
        "  print('Extrayendo características: batch '+str(j+1)+'/'+str(K))\n",
        "  for i in tqdm(range(N)):                # para cada imagen de la clase\n",
        "    # Lectura de la imagen\n",
        "    img    = 255*ImageLoad('bikes/person_',j+1,i+1,echo='off')\n",
        "\n",
        "    # Extracción de HoG\n",
        "    Xhog[t,:] = hog_features(img, v_windows=16, h_windows=10, n_bins=9) \n",
        "    y[t] = j # la muestra t pertenece a la clase j\n",
        "    t = t+1"
      ],
      "execution_count": null,
      "outputs": [
        {
          "output_type": "stream",
          "text": [
            "Cargando imagenes y extrayendo características...\n",
            "Extrayendo características: batch 1/3\n"
          ],
          "name": "stdout"
        },
        {
          "output_type": "display_data",
          "data": {
            "application/vnd.jupyter.widget-view+json": {
              "model_id": "f9c2609da1894a9bab23bebcd6a7b028",
              "version_minor": 0,
              "version_major": 2
            },
            "text/plain": [
              "HBox(children=(FloatProgress(value=0.0, max=254.0), HTML(value='')))"
            ]
          },
          "metadata": {
            "tags": []
          }
        },
        {
          "output_type": "stream",
          "text": [
            "\n",
            "Extrayendo características: batch 2/3\n"
          ],
          "name": "stdout"
        },
        {
          "output_type": "display_data",
          "data": {
            "application/vnd.jupyter.widget-view+json": {
              "model_id": "cde18c2f60454391a2ee730de14fa551",
              "version_minor": 0,
              "version_major": 2
            },
            "text/plain": [
              "HBox(children=(FloatProgress(value=0.0, max=254.0), HTML(value='')))"
            ]
          },
          "metadata": {
            "tags": []
          }
        },
        {
          "output_type": "stream",
          "text": [
            "\n",
            "Extrayendo características: batch 3/3\n"
          ],
          "name": "stdout"
        },
        {
          "output_type": "display_data",
          "data": {
            "application/vnd.jupyter.widget-view+json": {
              "model_id": "2dcd22fb9a2244e19cbdc0bc543d16e1",
              "version_minor": 0,
              "version_major": 2
            },
            "text/plain": [
              "HBox(children=(FloatProgress(value=0.0, max=254.0), HTML(value='')))"
            ]
          },
          "metadata": {
            "tags": []
          }
        },
        {
          "output_type": "stream",
          "text": [
            "\n"
          ],
          "name": "stdout"
        }
      ]
    },
    {
      "cell_type": "markdown",
      "metadata": {
        "id": "JmSECVj9HTpx"
      },
      "source": [
        "## Clasificación usando HoG\n",
        "\n",
        "230 imágenes por clase para training y 24 imágenes por clase para testing."
      ]
    },
    {
      "cell_type": "code",
      "metadata": {
        "id": "_Owxu3tP8tW6",
        "colab": {
          "base_uri": "https://localhost:8080/",
          "height": 382
        },
        "outputId": "93e9b06d-b77c-48ab-8e45-e53f26ab575d"
      },
      "source": [
        "# Paso 1: definir X\n",
        "X = Xhog\n",
        "\n",
        "# Paso 2: separar training/testing\n",
        "ntrain = 230 \n",
        "Xtrain,ytrain,Xtest,ytest = SplitTrainTest(X,y,ntrain) \n",
        "\n",
        "# Paso 3: clasificar y evaluar desempeño\n",
        "acc,C = ClassifierKNN(Xtrain,ytrain,Xtest,ytest)\n",
        "\n",
        "heatmap(C, cmap=\"YlGnBu\")"
      ],
      "execution_count": null,
      "outputs": [
        {
          "output_type": "stream",
          "text": [
            "Entrenando con 690 muestras y probando con 72 muestras\n",
            "Testing Accuracy = 87.5%\n",
            "Matriz de Confusión:\n",
            "[[24  0  0]\n",
            " [ 2 22  0]\n",
            " [ 7  0 17]]\n"
          ],
          "name": "stdout"
        },
        {
          "output_type": "execute_result",
          "data": {
            "text/plain": [
              "<matplotlib.axes._subplots.AxesSubplot at 0x7f9972725250>"
            ]
          },
          "metadata": {
            "tags": []
          },
          "execution_count": 17
        },
        {
          "output_type": "display_data",
          "data": {
            "image/png": "[encoded data removed]",
            "text/plain": [
              "<Figure size 432x288 with 2 Axes>"
            ]
          },
          "metadata": {
            "tags": [],
            "needs_background": "light"
          }
        }
      ]
    }
  ]
}