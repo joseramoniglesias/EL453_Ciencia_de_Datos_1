{
 "nbformat": 4,
 "nbformat_minor": 0,
 "metadata": {
  "colab": {
   "name": "Numero_Alumnx_Eje04.ipynb",
   "provenance": []
  },
  "kernelspec": {
   "name": "python3",
   "language": "python",
   "display_name": "Python 3 (ipykernel)"
  },
  "language_info": {
   "name": "python"
  }
 },
 "cells": [
  {
   "cell_type": "markdown",
   "metadata": {
    "id": "ldHBGHWGon-Y",
    "pycharm": {
     "name": "#%% md\n"
    }
   },
   "source": [
    "# Ciencia de Datos I<a class=\"tocSkip\">\n",
    "## Electiva Procesamiento de Señales I <a class=\"tocSkip\">\n",
    "### Ingenieria Electrónica <a class=\"tocSkip\">\n",
    "### Universidad Popular del Cesar <a class=\"tocSkip\">\n",
    "### Prof.: Jose Ramón Iglesias Gamarra - [https://github.com/joseramoniglesias/](https://github.com/joseramoniglesias/) <a class=\"tocSkip\">\n",
    "  **joseiglesias@unicesar.edu.co**\n",
    "\n"
   ]
  },
  {
   "cell_type": "markdown",
   "metadata": {
    "id": "zpYuhv665afE",
    "pycharm": {
     "name": "#%% md\n"
    }
   },
   "source": [
    "# IMPORTANTE:\n",
    "\n",
    "En este código por favor:\n",
    "\n",
    "*   No agregar celdas nuevas\n",
    "*   No agregar librerías nuevas\n",
    "*   No usar otro nombre de variables\n",
    "*   No cambiar el clasificador ni el número de vecinos del KNN\n",
    "*   No hacer gráficas\n",
    "\n",
    "\n",
    "<font color='red'>Esta tarea será corregida automáticamente, y si no se cumple alguna de las condiciones anteriores, es posible que la tarea no se corrija correctamente.</font>\n",
    "\n",
    "Si quieres hacer modificaciones y probar estrategias distintas, te invito a hacerlo en otro código (no en éste). <font color='red'>Este código debe modificarse sólo en los lugares indicados.</font>\n",
    "\n",
    "<font color='orange'> Evaluación:</font>\n",
    " Este ejercicio tiene 20 ítems a evaluar, denotados como Q00, Q01, ... Q19 a lo largo del notebook como `<Evaluación Qi>`. En tu evaluación se revisará cómo han sido cada uno de estos 20 items. Tu nota en este ejercicio será el número de ítems correctamente hechos dividido por 20 multiplicado por 100 (en escala de 0 a 100%).\n"
   ]
  },
  {
   "cell_type": "markdown",
   "metadata": {
    "id": "XASTjivuu7cO",
    "pycharm": {
     "name": "#%% md\n"
    }
   },
   "source": [
    "# Ejercicio 04: Detección de Caras usando Características de Textura\n",
    "----\n",
    "ENTREGA: Se realiza en la clase, <font color='red'>el nombre del archivo debe coincidir con tu número de alumno/a)</font>.\n",
    "\n",
    "----\n",
    "En este ejercicio se realizará la clasificación entre dos clases ([ver base de datos](https://www.dropbox.com/sh/40903rl8lsajfwj/AAD3XPQ1qE2c9WBRTFN5IIeMa?dl=0)):\n",
    "\n",
    "* Clase 0: Caras (contiene fotos tomadas de caras frontales y bien alineadas)\n",
    "\n",
    "* Clase 1: No-caras (contiene fotos de objetos que no son caras, por ejemplo sillas, mesas, plantas, etc.)\n",
    "\n",
    "La base de datos contiene 240 imágenes de 80x80 pixeles (120 imágenes por clase).\n",
    "\n",
    "**ADVERTENCIA:** Este ejercicio tiene fines pedagógicos sólamente, con la idea de que la solución a este problema pueda ejecutarse en un par de minutos. Un buen detector de caras sigue esta idea pero con miles de imágenes por clase.\n",
    "\n",
    "A continuación, en cada PREGUNTA deberás ingresar alguna(s) líneas de código, o completar donde aparezca '<= COMPLETAR AQUI\".\n",
    "\n",
    "\n"
   ]
  },
  {
   "cell_type": "markdown",
   "metadata": {
    "id": "tOZy0s57VX5u",
    "pycharm": {
     "name": "#%% md\n"
    }
   },
   "source": [
    "# PREGUNTA 0: Cambiar nombre de archivo\n",
    "\n",
    "Cambia el nombre del archivo de este código de tal forma que sea tu número de alumno/a. Por ejemplo, si tu número de alumno/a es '1234567J' entonces este Notebook debe llamarse '1234567J.ipynb'. Para hacerlo debes hacer un click con el mouse sobre el nombre del archivo (arriba a la izquierda) y renombrar el nombre del archivo."
   ]
  },
  {
   "cell_type": "code",
   "metadata": {
    "id": "EWP0A3aEWSYY",
    "pycharm": {
     "name": "#%%\n"
    },
    "ExecuteTime": {
     "end_time": "2023-08-29T18:11:44.864179100Z",
     "start_time": "2023-08-29T18:11:44.842075400Z"
    }
   },
   "source": [
    "Nombre_de_archivo_cambiado =  # <== COMPLETAR AQUI ESCRIBIENDO EL NÚMERO 1 CUANDO HAYAS CAMBIADO EL NOMBRE"
   ],
   "execution_count": 3,
   "outputs": [
    {
     "ename": "SyntaxError",
     "evalue": "invalid syntax (3917752621.py, line 1)",
     "output_type": "error",
     "traceback": [
      "\u001B[1;36m  File \u001B[1;32m\"C:\\Users\\joser\\AppData\\Local\\Temp\\ipykernel_4640\\3917752621.py\"\u001B[1;36m, line \u001B[1;32m1\u001B[0m\n\u001B[1;33m    Nombre_de_archivo_cambiado =  # <== COMPLETAR AQUI ESCRIBIENDO EL NÚMERO 1 CUANDO HAYAS CAMBIADO EL NOMBRE\u001B[0m\n\u001B[1;37m                                  ^\u001B[0m\n\u001B[1;31mSyntaxError\u001B[0m\u001B[1;31m:\u001B[0m invalid syntax\n"
     ]
    }
   ]
  },
  {
   "cell_type": "markdown",
   "metadata": {
    "id": "BDp6KJgkIryf",
    "pycharm": {
     "name": "#%% md\n"
    }
   },
   "source": [
    "# PREGUNTA 1: Datos personales\n",
    "\n",
    "Ingresa tus datos para poder evaluarte, \n",
    "<font color='red'>si tus datos son incorrectos, este ejercicio no podrá ser corregido y por lo tanto no tendrás nota en esta actividad.</font>"
   ]
  },
  {
   "cell_type": "code",
   "metadata": {
    "id": "A1SQFdnJJitN",
    "pycharm": {
     "name": "#%%\n"
    }
   },
   "source": [
    "NumeroID         = ''   # <= COMPLETAR AQUI NUMERO DE ALUMNO/A ENTRE APOSTROFES\n",
    "PrimerNombre     = ''   # <= COMPLETAR AQUI TU PRIMER NOMBRE\n",
    "PrimerApellido   = ''   # <= COMPLETAR AQUI TU PRIMER APELLIDO\n",
    "Correo           = ''   # <= COMPLETAR AQUI TU CORRECO ELECTRONICO\n",
    "Datos_ingresados =      # <= COMPLETAR AQUI ESCRIBIENDO 1 CUANDO HAYAS INGRESADO TUS DATOS\n",
    "\n",
    "stid             = PrimerNombre+' '+PrimerApellido+' (ID:'+NumeroID+', email:'+Correo+'):'\n",
    "print('Registro: '+stid)"
   ],
   "execution_count": null,
   "outputs": []
  },
  {
   "cell_type": "markdown",
   "metadata": {
    "id": "X9daVUmmTSBW",
    "pycharm": {
     "name": "#%% md\n"
    }
   },
   "source": [
    "## Setup de librerías"
   ]
  },
  {
   "cell_type": "code",
   "metadata": {
    "id": "xUXeMCxoTRH8",
    "pycharm": {
     "name": "#%%\n"
    },
    "ExecuteTime": {
     "end_time": "2023-08-29T18:12:00.498630400Z",
     "start_time": "2023-08-29T18:12:00.483006800Z"
    }
   },
   "source": [
    "#\n",
    "# EJECUTAR ESTA CELDA SIN MODIFICARLA\n",
    "#\n",
    "import cv2\n",
    "import numpy as np\n",
    "import matplotlib.pyplot as plt\n",
    "from   sklearn.metrics import confusion_matrix, accuracy_score\n",
    "from   sklearn.neighbors import KNeighborsClassifier\n",
    "from   seaborn import heatmap\n",
    "from   tqdm.auto import tqdm\n",
    "import skimage\n",
    "from   skimage.filters import gabor_kernel\n",
    "from   scipy import ndimage as ndi\n",
    "from   skimage.feature import graycoprops,graycomatrix,local_binary_pattern\n",
    "\n",
    "print('Librerías cargadas.')\n"
   ],
   "execution_count": 4,
   "outputs": [
    {
     "name": "stdout",
     "output_type": "stream",
     "text": [
      "Librerías cargadas.\n"
     ]
    }
   ]
  },
  {
   "cell_type": "markdown",
   "metadata": {
    "id": "sOcwbiQYYPag",
    "pycharm": {
     "name": "#%% md\n"
    }
   },
   "source": [
    "## Carga de base de datos\n",
    "\n",
    "La base de datos consiste en 2 clases y 120 imágenes por clase. Se almacenan en la carpeta facedetection con el formato face_xx_nnn.png, donde xx es el ID de la clase (01 para caras, 02 para no caras) y nnn es el número de la foto de la clase (01, 02, ... 120). Las fotos son de 80x80 pixeles."
   ]
  },
  {
   "cell_type": "code",
   "metadata": {
    "id": "BMYOlpLpzHQJ",
    "pycharm": {
     "name": "#%%\n"
    },
    "ExecuteTime": {
     "end_time": "2023-08-29T18:12:43.493558900Z",
     "start_time": "2023-08-29T18:12:43.431073400Z"
    }
   },
   "source": [
    "#\n",
    "# EJECUTAR ESTA CELDA SIN MODIFICARLA\n",
    "#\n",
    "\n",
    "# Carga de base de datos\n",
    "!wget https://www.dropbox.com/scl/fi/i4x4s3aicy8fb0rmzv26v/facedetection.zip?rlkey=yto4omy3x07qnp8yjd58uinms&dl=0\n",
    "!unzip facedetection\n",
    "print('Base de datos cargada.')"
   ],
   "execution_count": 6,
   "outputs": [
    {
     "name": "stderr",
     "output_type": "stream",
     "text": [
      "\"wget\" no se reconoce como un comando interno o externo,\n",
      "programa o archivo por lotes ejecutable.\n",
      "\"dl\" no se reconoce como un comando interno o externo,\n",
      "programa o archivo por lotes ejecutable.\n"
     ]
    },
    {
     "name": "stdout",
     "output_type": "stream",
     "text": [
      "Base de datos cargada.\n"
     ]
    },
    {
     "name": "stderr",
     "output_type": "stream",
     "text": [
      "\"unzip\" no se reconoce como un comando interno o externo,\n",
      "programa o archivo por lotes ejecutable.\n"
     ]
    }
   ]
  },
  {
   "cell_type": "markdown",
   "metadata": {
    "id": "dYCCyCrTYVYQ",
    "pycharm": {
     "name": "#%% md\n"
    }
   },
   "source": [
    "## Funciones necesarias"
   ]
  },
  {
   "cell_type": "code",
   "metadata": {
    "id": "V7PwerxH4rxx",
    "pycharm": {
     "name": "#%%\n"
    }
   },
   "source": [
    "#\n",
    "# EJECUTAR ESTA CELDA SIN MODIFICARLA\n",
    "#\n",
    "\n",
    "def num2fixstr(x,d):\n",
    "  # example num2fixstr(2,5) returns '00002'\n",
    "  # example num2fixstr(19,3) returns '019'\n",
    "  st = '%0*d' % (d,x)\n",
    "  return st\n",
    "\n",
    "def ImageLoad(prefix,num_char,num_img,echo='off'):\n",
    "  st   = prefix + num2fixstr(num_char,2) + '_' + num2fixstr(num_img,3) + '.png'\n",
    "  if echo == 'on':\n",
    "    print('loading image '+st+'...')\n",
    "  img    = plt.imread(st)\n",
    "  return img\n",
    "\n",
    "def MatrixStats(X):\n",
    "  p = np.zeros((6),'int')\n",
    "  p[0] = X.shape[0]\n",
    "  p[1] = X.shape[1]\n",
    "  p[2] = X.min()\n",
    "  p[3] = X.max()\n",
    "  p[4] = X.mean()\n",
    "  p[5] = X.std()\n",
    "  return p\n",
    "  \n",
    "def CheckMatrix(st,X,ps):\n",
    "  p = MatrixStats(X)\n",
    "  d = p-ps\n",
    "  t = not(np.sum(d)==0)\n",
    "  if t:\n",
    "    print(st + ': Revisar, esta matriz presenta errores...')\n",
    "  else:\n",
    "    print(st + ': ok')\n",
    "  return t\n",
    "\n",
    "def CheckPrint(Y,st=True):\n",
    "    \n",
    "  if np.sum(Y)>0:\n",
    "    if st:\n",
    "      print('Revisar, hay error en al menos uno de estos cálculos, no continuar con las siguientes celdas hasta no corregir este error.')\n",
    "    else:\n",
    "      print('Revisar, hay error en al menos uno de los datos personales (no coinciden con los ingresados en la PREGUNTA 1),')\n",
    "      print('NO SUBIR TAREA ANTES DE CORREGIR ESTE ERROR.')\n",
    "      print('(tu ejercicio corre el riesgo de no ser corregido)')\n",
    "  else:\n",
    "    if st:\n",
    "      print('Felicitaciones! Los cálculos han sido realizados correctamente.')\n",
    "    else:\n",
    "      print('Felicitaciones! ahora puedes subir este archivo a Google Classroom.')\n",
    "  \n",
    "chk = [[240,59,0,2920,108,157],[240,28,0,57946,171,1406],[240,67,0,794,43,68],[200,59,0,2920,108,154],[40,59,0,1909,108,172],[2,2,0,20,10,8],[200,28,0,57946,188,1530],[40,28,0,2973,86,373],[2,2,1,19,10,7],[200,67,0,794,44,70],[40,67,0,405,39,59],[2,2,2,18,10,7],[200,154,0,57946,95,663],[40,154,0,2973,74,198],[2,2,0,20,10,7],[200,5,0,575,51,81],[40,5,0,430,53,87],[2,2,0,20,10,9]]\n",
    "\n",
    "# Separación entre training y testing\n",
    "def SplitTrainTest(X,y,n):\n",
    "\n",
    "  K      = np.max(y)+1              # número de clases\n",
    "  N      = np.int(X.shape[0]/K)     # numeros de muestras por clase\n",
    "  Ntrain = n*K                      # número de muestras para el training\n",
    "  Ntest  = K*N-Ntrain               # número de muestras para el testing\n",
    "  M      = X.shape[1]               # número de características por muestra\n",
    "  Xtrain = np.zeros((Ntrain,M))     # subset de training\n",
    "  ytrain = np.zeros((Ntrain),'int') # ground truth del training         \n",
    "  Xtest  = np.zeros((Ntest,M))      # subset de testing\n",
    "  ytest  = np.zeros((Ntest),'int')  # ground truth del testing  \n",
    "\n",
    "  # contadores\n",
    "  itrain = 0\n",
    "  itest  = 0\n",
    "  t      = 0\n",
    "\n",
    "  for j in range(K):     # para cada clase\n",
    "    for i in range(N):   # para cada imagen de la clase\n",
    "      if i<n: # training\n",
    "        Xtrain[itrain,:] = X[t,:]\n",
    "        ytrain[itrain] = y[t]\n",
    "        itrain = itrain+1\n",
    "      else:  # testing\n",
    "        Xtest[itest,:] = X[t,:]\n",
    "        ytest[itest] = y[t]\n",
    "        itest = itest+1\n",
    "      t = t+1\n",
    "  \n",
    "  return Xtrain,ytrain,Xtest,ytest\n",
    "\n",
    "# Clasificación usando KNN con 3 vecinos\n",
    "def ClassifierKNN(Xtrain,ytrain,Xtest,ytest):\n",
    "  Xtrain, a, b = normalize(Xtrain)\n",
    "  Xtest        = Xtest * a + b\n",
    "  knn = KNeighborsClassifier(n_neighbors=3)\n",
    "  knn.fit(Xtrain, ytrain)\n",
    "  ypred        = knn.predict(Xtest)\n",
    "  acc          = accuracy_score(ytest,ypred)\n",
    "  print('Entrenando con '+str(Xtrain.shape[0])+' muestras y probando con '+str(Xtest.shape[0])+' muestras')\n",
    "  print('Testing Accuracy = '+str(acc*100)+'%')\n",
    "  C = confusion_matrix(ytest,ypred)\n",
    "  print('Matriz de Confusión:')\n",
    "  print(C)\n",
    "  return acc,C\n",
    "\n",
    "def lbp(img,hdiv=1, vdiv=1, mapping='nri_uniform',norm=False,names=False):\n",
    "  if mapping == 'nri_uniform':\n",
    "    n_bins = 59\n",
    "    st     = 'LBP'\n",
    "  else:\n",
    "    n_bins = 10\n",
    "    st     = 'LBPri'\n",
    "  (nv,nh) = (vdiv,hdiv)\n",
    "  nn  = int(np.fix(img.shape[0]/nv))\n",
    "  mm  = int(np.fix(img.shape[1]/nh))\n",
    "  k = 0\n",
    "  for r in range(0,img.shape[0] - nn+1, nn):\n",
    "    for c in range(0,img.shape[1] - mm+1, mm):\n",
    "      w = img[r:r+nn,c:c+mm]\n",
    "      lbp = local_binary_pattern(w,8,1,mapping)\n",
    "      (xrc, _) = np.histogram(lbp.ravel(), bins=n_bins,range=(0, n_bins))\n",
    "      if k==0:\n",
    "        X = xrc\n",
    "        k = 1\n",
    "      else:\n",
    "        X = np.concatenate((X,xrc))\n",
    "  if norm:\n",
    "    X = X/np.linalg.norm(X)\n",
    "  if names==True:\n",
    "    Xn = []\n",
    "    for i in range(vdiv):\n",
    "      for j in range(hdiv):\n",
    "        for k in range(n_bins):\n",
    "          Xn.append(st+'('+str(i)+','+str(j)+')-'+str(k))\n",
    "    return X,Xn\n",
    "  else:\n",
    "    return X\n",
    "\n",
    "\n",
    "def imageload(prefix,num_class,digits_class,num_img,digits_img,sep='_',echo='off'):\n",
    "  st   = prefix + num2fixstr(num_class,digits_class) + sep + num2fixstr(num_img,digits_img) + '.png'\n",
    "  if echo == 'on':\n",
    "    print('loading image '+st+'...')\n",
    "  img    = plt.imread(st)\n",
    "  return img\n",
    "\n",
    "def haralick(img,hdiv=1, vdiv=1, distance=1,norm=False,names=False):\n",
    "  (nv,nh) = (vdiv,hdiv)\n",
    "  nn  = int(np.fix(img.shape[0]/nv))\n",
    "  mm  = int(np.fix(img.shape[1]/nh))\n",
    "  k = 0\n",
    "  fst = ['contrast','dissimilarity','homogeneity','energy','correlation','ASM']\n",
    "  for r in range(0,img.shape[0] - nn+1, nn):\n",
    "    for c in range(0,img.shape[1] - mm+1, mm):\n",
    "      w  = img[r:r+nn,c:c+mm]\n",
    "      g  = skimage.feature.graycomatrix(w.astype(int), [distance], [0, np.pi/4, np.pi/2, 3*np.pi/4], levels=256)\n",
    "      x0 = skimage.feature.graycoprops(g, fst[0])\n",
    "      x1 = skimage.feature.graycoprops(g, fst[1])\n",
    "      x2 = skimage.feature.graycoprops(g, fst[2])\n",
    "      x3 = skimage.feature.graycoprops(g, fst[3])\n",
    "      x4 = skimage.feature.graycoprops(g, fst[4])\n",
    "      x5 = skimage.feature.graycoprops(g, fst[5])\n",
    "      #haralick = [np.mean(x1),np.mean(x2),np.mean(x3),np.mean(x4),np.mean(x5),np.mean(x6)]\n",
    "      haralick = np.concatenate((x0,x1,x2,x3,x4,x5), axis=1)\n",
    "      if k==0:\n",
    "        X = haralick[0]\n",
    "        k = 1\n",
    "      else:\n",
    "        X = np.concatenate((X,haralick))\n",
    "  if norm:\n",
    "    X = X/np.linalg.norm(X)\n",
    "\n",
    "  if names==True:\n",
    "    Xn = []\n",
    "    for i in range(vdiv):\n",
    "      for j in range(hdiv):\n",
    "        for k in range(6):\n",
    "          Xn.append('Haralick('+str(i)+','+str(j)+')-'+fst[k])\n",
    "    return X,Xn\n",
    "  else:\n",
    "    return X\n",
    "\n",
    "def gabor(img,hdiv=1, vdiv=1,angles=4,sigmas=(1,3),frequencies=(0.05, 0.25),norm=False):\n",
    "  # from scipy\n",
    "  kernels = []\n",
    "  for theta in range(angles):\n",
    "    theta = theta / 4. * np.pi\n",
    "    for sigma in sigmas:\n",
    "      for frequency in frequencies:\n",
    "        kernel = np.real(gabor_kernel(frequency,  theta=theta,\n",
    "                                      sigma_x=sigma, sigma_y=sigma))\n",
    "        kernels.append(kernel)\n",
    "  n       = len(kernels)\n",
    "  (nv,nh) = (vdiv,hdiv)\n",
    "  nn  = int(np.fix(img.shape[0]/nv))\n",
    "  mm  = int(np.fix(img.shape[1]/nh))\n",
    "  k = 0\n",
    "  feats = np.zeros((len(kernels), 2), dtype=np.double)\n",
    "  X = np.zeros((n*nh*nv*2,))\n",
    "  t = 0\n",
    "  for r in range(0,img.shape[0] - nn+1, nn):\n",
    "    for c in range(0,img.shape[1] - mm+1, mm):\n",
    "      w  = img[r:r+nn,c:c+mm]\n",
    "      for j in range(n): #,kernel in enumerate(kernels):\n",
    "        kernel = kernels[j]\n",
    "        filtered = ndi.convolve(w, kernel, mode='wrap')\n",
    "        X[t]   = filtered.mean()\n",
    "        X[t+1] = filtered.var()\n",
    "        t = t+2\n",
    "  if norm:\n",
    "    X = X/np.linalg.norm(X)\n",
    "  return X\n",
    "\n",
    "def minmax(X):\n",
    "  ma = X.max(0)\n",
    "  mi = X.min(0)\n",
    "  md    = ma-mi\n",
    "  a     = 1/ md\n",
    "  b     = -mi/md\n",
    "  return X * a + b, a, b"
   ],
   "execution_count": null,
   "outputs": []
  },
  {
   "cell_type": "markdown",
   "metadata": {
    "id": "yYHxPwnTYhXs",
    "pycharm": {
     "name": "#%% md\n"
    }
   },
   "source": [
    "# PREGUNTA 2: Extracción de características\n",
    "\n",
    "En esta pregunta se debe realizar la extracción de características de la imagen `img`. Las características a extraer son las basadas en LBP, Haralick y Gabor y se extraen usando los siguientes comandos de la librería PyBalu:\n",
    "\n",
    "## 1) Cómo extraer características LBP clásico:\n",
    "\n",
    "Con el comando\n",
    "\n",
    "`f  = lbp(img, hdiv=a, vdiv=b, mapping='nri_uniform')`\n",
    "\n",
    "se divide la imagen `img` en `a x b` particiones y en cada una de ellas se extrae el descriptor LBP (vector de 59 elementos). En este caso `f` es un vector de `59*a*b` elementos. En este ejercicio trabajaremos con `a = b = 1`, es decir sólo una partición por imagen.\n",
    "\n",
    "## 2) Cómo extraer características de Haralick:\n",
    "\n",
    "Con el comando\n",
    "\n",
    "`f = haralick(img, distance=d)`\n",
    "\n",
    "se extrae el vector Haralick para una distancia de `d` pixeles. En este caso `f` es un vector de 28 elementos (independiente de la distancia `d`). En este ejercicio trabajaremos con `d = 3`.\n",
    "\n",
    "\n",
    "## 3) Cómo extraer características de Gabor:\n",
    "\n",
    "Con el comando\n",
    "\n",
    "`f = gabor(img, rotations=r, dilations=s)`\n",
    "\n",
    "se extrae el vector Gabor para `r` rotaciones y `s` escalas. En este caso `f` es un vector de `r*s+3` elementos. En este ejercicio trabajaremos con `r = s = 8`."
   ]
  },
  {
   "cell_type": "code",
   "metadata": {
    "id": "LMZBAlWG40Rz",
    "pycharm": {
     "name": "#%%\n"
    }
   },
   "source": [
    "print('Ejecución de '+stid)\n",
    "\n",
    "K    = ???   # <= COMPLETAR AQUI EL NUMERO DE CLASES\n",
    "N    = ???   # <= COMPLETAR AQUI EL NUMERO DE IMAGENES POR CLASE\n",
    "Mlbp = ???   # <= COMPLETAR AQUI EL NUMERO DE ELEMENTOS DEL VECTOR LBP\n",
    "Mhar = ???   # <= COMPLETAR AQUI EL NUMERO DE ELEMENTOS DEL VECTOR DE HARALICK\n",
    "Mgab = ???   # <= COMPLETAR AQUI EL NUMERO DE ELEMENTOS DEL VECTOR DE GABOR\n",
    "\n",
    "Xlbp  = np.zeros((K*N,Mlbp))    # K*N muestras (filas), y Mlbp características (columnas)\n",
    "Xhar  = np.zeros((K*N,Mhar))    # K*N muestras (filas), y Mhar características (columnas)\n",
    "Xgab  = np.zeros((K*N,Mgab))    # K*N muestras (filas), y Mgab características (columnas)\n",
    "\n",
    "y     = np.zeros((K*N),'int')   # ground truth (clasificacion ideal)\n",
    "\n",
    "t = 0\n",
    "print('Cargando imagenes y extrayendo características...')\n",
    "for j in range(K):            # para cada clase\n",
    "  print('Extrayendo características: batch '+str(j+1)+'/'+str(K))\n",
    "  for i in tqdm(range(N)):                # para cada imagen de la clase\n",
    "    # Lectura de la imagen\n",
    "    img    = 255*ImageLoad('facedetection/face_',j+1,i+1,echo='off')\n",
    "\n",
    "    # Extracción de características\n",
    "\n",
    "    # LBP clásico de 1x1 particiones\n",
    "    Xlbp[t,:] = ??? # <= COMPLETAR AQUI PARA EXTRAER LBP (VER HELP MAS ARRIBA)\n",
    "\n",
    "    # Haralick con d = 3 pixeles\n",
    "    Xhar[t,:] = ??? # <= COMPLETAR AQUI PARA EXTRAER HARALICK (VER HELP MAS ARRIBA)\n",
    "\n",
    "    # Gabor con 8 rotaciones y 8 escalas\n",
    "    Xgab[t,:] = ??? # <= COMPLETAR AQUI PARA EXTRAER GABOR (VER HELP MAS ARRIBA)\n",
    "\n",
    "\n",
    "    y[t] = j # la muestra t pertenece a la clase j\n",
    "    t = t+1"
   ],
   "execution_count": null,
   "outputs": []
  },
  {
   "cell_type": "code",
   "metadata": {
    "id": "sBWnDAZRwypQ",
    "pycharm": {
     "name": "#%%\n"
    }
   },
   "source": [
    "#\n",
    "# EJECUTAR ESTA CELDA PARA EVALUAR LA EXTRACCiÓN DE CARACTERÍSTICAS\n",
    "#\n",
    "\n",
    "T = np.zeros((20),'int')\n",
    "T[0] = CheckMatrix('Xlbp',Xlbp,chk[0]) # <Evaluación Q00>\n",
    "T[1] = CheckMatrix('Xhar',Xhar,chk[1]) # <Evaluación Q01>\n",
    "T[2] = CheckMatrix('Xgab',Xgab,chk[2]) # <Evaluación Q02>\n",
    "\n",
    "CheckPrint(T[0:3])\n"
   ],
   "execution_count": null,
   "outputs": []
  },
  {
   "cell_type": "markdown",
   "metadata": {
    "id": "J88eVidHdI6P",
    "pycharm": {
     "name": "#%% md\n"
    }
   },
   "source": [
    "# PREGUNTA 3: Clasificación usando LBP\n",
    "\n",
    "En la pregunta anterior, fueron extraídas las características LBP, Haralick y Gabor para todas las imágenes de la base de datos. No olvidar que son 120 imágenes por clase, y que son 2 clases. \n",
    "\n",
    "A continuación haremos como ejemplo un clasificador de vecinos más cercanos. \n",
    "\n",
    "<font color='orange'>**IMPORTANTE:** En todo el Ejercicio, el clasificador será SIEMPRE un KNN de 3 vecinos que será entrenado (training) con las primeras 100 muestras de cada clase, y probado (testing) con las 20 restantes.\n",
    "\n",
    "\n",
    "Los pasos a seguir para este ejercicio son los siguientes tres:\n",
    "\n",
    "## Primer paso: Cargar datos \n",
    "\n",
    "En este paso, cargamos en la matriz `X` las características extrídas que van a ser usadas por el clasificador. En nuestro primer ejemplo serían las caractererísticas LBP, es decir:\n",
    "\n",
    "`X = Xlbp`\n",
    "\n",
    "(el vector `y`, que contiene la clase a la que pertenece cada clase, es el mismo para LBP, Haralick y Gabor, así es que ya está definido en la pregunta anterior)\n",
    "\n",
    "## Segundo paso: Separar Training/Testing\n",
    "\n",
    "En este paso, separamos el conjunto de datos en training y testing usando el comando:\n",
    "\n",
    "`Xtrain,ytrain,Xtest,ytest = SplitTrainTest(X,y,ntrain)`\n",
    "\n",
    "donde `ntrain` es el número de muestras por clase a usar en el conjunto de training. \n",
    "\n",
    "A manera de ejemplo, si `X` tiene 60x10 elementos (es decir 60 muestras con 10 características por muestra) y tiene dos clases (es decir las primeras 30 son de la primera clase y las restantes 30 de la segunda clase) entonces el comando:\n",
    "\n",
    "`Xtrain,ytrain,Xtest,ytest = SplitTrainTest(X,y,20)`\n",
    "\n",
    "genera la siguiente salida:\n",
    "\n",
    "* `Xtrain` matriz de 40x10 elementos (las primeras 20 filas de la primera clase, las restante 20 filas de la segunda clase)\n",
    "* `ytrain` vector de 40 elementos (20 ceros y 20 unos)\n",
    "* `Xtest`  matriz de 20x10 elementos (las primeras 10 filas de la primera clase, las restante 10 filas de la segunda clase)\n",
    "* `ytest`  vector de 20 elementos (10 ceros y 10 unos)\n",
    "\n",
    "\n",
    "## Tercer paso: Clasificar y evaluar desempeño\n",
    "\n",
    "Para clasificar usaremos el siguiente comando, en el que se entrena un KNN usando `Xtrain,ytrain` y se prueba en `Xtest` de la siguiente manera:\n",
    "\n",
    "`acc,C = ClassifierKNN(Xtrain,ytrain,Xtest,ytest)`\n",
    "\n",
    "La clasificación del conjunto de pruebas (que es almacenado internamente en la variable `ypred`) es comparado con `ytest` para calcular el Accuracy (`acc`) y la matriz de confusión (`C`).\n",
    "\n",
    "**NOTA:** Las funciones `SplitTrainTest`  y `ClassifierKNN` se encuentran definidas más arriba en la celda \"Funciones Necesarias\".\n",
    "\n"
   ]
  },
  {
   "cell_type": "code",
   "metadata": {
    "id": "X2j5_4sOh2ua",
    "pycharm": {
     "name": "#%%\n"
    }
   },
   "source": [
    "# Paso 1: definir X\n",
    "X = Xlbp\n",
    "\n",
    "# Paso 2: separar training/testing\n",
    "ntrain = ??? # <= COMPLETAR AQUI EL NUMERO DE MUESTRAS POR CLASE PARA EL ENTRENAMIENTO\n",
    "Xtrain,ytrain,Xtest,ytest = SplitTrainTest(X,y,ntrain) \n",
    "\n",
    "# Paso 3: clasificar y evaluar desempeño\n",
    "acc,Clbp = ClassifierKNN(Xtrain,ytrain,Xtest,ytest)"
   ],
   "execution_count": null,
   "outputs": []
  },
  {
   "cell_type": "code",
   "metadata": {
    "id": "WyTRUeszit5m",
    "pycharm": {
     "name": "#%%\n"
    }
   },
   "source": [
    "#\n",
    "# EJECUTAR ESTA CELDA PARA EVALUAR LA CLASIFICACIÓN CON LBP\n",
    "#\n",
    "\n",
    "T[3] = CheckMatrix('Xtrain',Xtrain,chk[3]) # <Evaluación Q03>\n",
    "T[4] = CheckMatrix('Xtest ',Xtest ,chk[4]) # <Evaluación Q04>\n",
    "T[5] = CheckMatrix('Clbp  ',Clbp  ,chk[5]) # <Evaluación Q05>\n",
    "CheckPrint(T[3:6])\n"
   ],
   "execution_count": null,
   "outputs": []
  },
  {
   "cell_type": "markdown",
   "metadata": {
    "id": "VmzJeLdPkWCA",
    "pycharm": {
     "name": "#%% md\n"
    }
   },
   "source": [
    "# PREGUNTA 4: Clasificación usando Haralick\n",
    "\n",
    "Repetir los tres pasos de la celda anterior para realizar una clasificación usando Haralick. "
   ]
  },
  {
   "cell_type": "code",
   "metadata": {
    "id": "ABthai1wkwVS",
    "pycharm": {
     "name": "#%%\n"
    }
   },
   "source": [
    "# Paso 1\n",
    "X = ??? # <= COMPLETAR AQUI CON LA MATRIZ DE CARACTERÍSTICAS DE HARALICK\n",
    "\n",
    "# Paso 2\n",
    "Xtrain,ytrain,Xtest,ytest = ??? # <= COMPLETAR AQUI LA FUNCION QUE SEPARA TRAINING/TESTING\n",
    "\n",
    "# Paso 3\n",
    "acc,Char = ??? # <= COMPLETAR AQUI LA FUNCION QUE CLASIFICA Y EVALUA DESEMPEÑO"
   ],
   "execution_count": null,
   "outputs": []
  },
  {
   "cell_type": "code",
   "metadata": {
    "id": "jntYCaqCmNMm",
    "pycharm": {
     "name": "#%%\n"
    }
   },
   "source": [
    "#\n",
    "# EJECUTAR ESTA CELDA PARA EVALUAR LA CLASIFICACIÓN CON HARALICK\n",
    "#\n",
    "\n",
    "T[6] = CheckMatrix('Xtrain',Xtrain,chk[6]) # <Evaluación Q06>\n",
    "T[7] = CheckMatrix('Xtest ',Xtest ,chk[7]) # <Evaluación Q07>\n",
    "T[8] = CheckMatrix('Char  ',Char  ,chk[8]) # <Evaluación Q08>\n",
    "CheckPrint(T[6:9])\n"
   ],
   "execution_count": null,
   "outputs": []
  },
  {
   "cell_type": "markdown",
   "metadata": {
    "id": "v_zcqYc7m0Qt",
    "pycharm": {
     "name": "#%% md\n"
    }
   },
   "source": [
    "# PREGUNTA 5: Clasificación usando Gabor\n",
    "\n",
    "Repetir los tres pasos de la celda anterior para realizar una clasificación usando Gabor."
   ]
  },
  {
   "cell_type": "code",
   "metadata": {
    "id": "lUpjHFPlm-Y4",
    "pycharm": {
     "name": "#%%\n"
    }
   },
   "source": [
    "# Paso 1\n",
    "X = ??? # <= COMPLETAR AQUI CON LA MATRIZ DE CARACTERÍSTICAS DE GABOR\n",
    "\n",
    "# Paso 2\n",
    "Xtrain,ytrain,Xtest,ytest = SplitTrainTest(X,y,ntrain) \n",
    "\n",
    "# Paso 3\n",
    "acc,Cgab = ClassifierKNN(Xtrain,ytrain,Xtest,ytest) "
   ],
   "execution_count": null,
   "outputs": []
  },
  {
   "cell_type": "code",
   "metadata": {
    "id": "709eielqnjZX",
    "pycharm": {
     "name": "#%%\n"
    }
   },
   "source": [
    "#\n",
    "# EJECUTAR ESTA CELDA PARA EVALUAR LA CLASIFICACIÓN CON GABOR\n",
    "#\n",
    "\n",
    "T[9]  = CheckMatrix('Xtrain',Xtrain,chk[9])    # <Evaluación Q09>\n",
    "T[10] = CheckMatrix('Xtest ',Xtest ,chk[10])   # <Evaluación Q10>\n",
    "T[11] = CheckMatrix('Cgab  ',Cgab  ,chk[11])   # <Evaluación Q11>\n",
    "CheckPrint(T[9:12])\n"
   ],
   "execution_count": null,
   "outputs": []
  },
  {
   "cell_type": "markdown",
   "metadata": {
    "id": "Un68iJ7qpT23",
    "pycharm": {
     "name": "#%% md\n"
    }
   },
   "source": [
    "# PREGUNTA 6: Clasificación usando todas las características\n",
    "\n",
    "Para este ejemplo de esta pregunta, usaremos las tres matrices `Xlbp`, `Xhar` y `Xgab`, es decir por cada muestra tendremos 59+28+67 = 154 características extraídas. Para concatenar las tres matrices, una al lado de la otra usaremos el comando `np.concatenate()` de la librería Numpy. \n",
    "\n",
    "A manera de ejemplo, si tenemos cuatro matrices `Z1`, `Z2`, `Z3` y `Z4`, cada una de 100x10 elementos, el comando \n",
    "\n",
    "`Z = np.concatenate((Z1,Z2,Z3,Z4), axis=1)`\n",
    "\n",
    "entrega una matriz `Z` de 100x40 elementos donde\n",
    "\n",
    " `Z = [ Z1 | Z2 | Z3 | Z4]`."
   ]
  },
  {
   "cell_type": "code",
   "metadata": {
    "id": "bgoDxviCqgux",
    "pycharm": {
     "name": "#%%\n"
    }
   },
   "source": [
    "# Paso 1\n",
    "X = ???  # <= COMPLETAR AQUI LA CONCATENACIÓN DE LBP, HARALICK Y GABOR (NO CAMBIAR EL ORDEN)\n",
    "\n",
    "# Paso 2\n",
    "Xtrain,ytrain,Xtest,ytest = SplitTrainTest(X,y,ntrain) \n",
    "\n",
    "# Paso 3\n",
    "acc,Call = ClassifierKNN(Xtrain,ytrain,Xtest,ytest)"
   ],
   "execution_count": null,
   "outputs": []
  },
  {
   "cell_type": "code",
   "metadata": {
    "id": "YPCZ8mFLEdAv",
    "pycharm": {
     "name": "#%%\n"
    }
   },
   "source": [
    "#\n",
    "# EJECUTAR ESTA CELDA PARA EVALUAR LA CLASIFICACIÓN CON LBP, HARALICK Y GABOR\n",
    "#\n",
    "\n",
    "T[12] = CheckMatrix('Xtrain',Xtrain,chk[12])*CheckMatrix('Xtrain',Xtrain[:,0:59],chk[3])*CheckMatrix('Xtrain',Xtrain[:,59:87],chk[6]) # <Evaluación Q12>\n",
    "T[13] = CheckMatrix('Xtest ',Xtest ,chk[13])  # <Evaluación Q13>\n",
    "T[14] = CheckMatrix('Call  ',Call  ,chk[14])  # <Evaluación Q14>\n",
    "CheckPrint(T[12:15])\n"
   ],
   "execution_count": null,
   "outputs": []
  },
  {
   "cell_type": "markdown",
   "metadata": {
    "id": "Qb48A-RJrGlQ",
    "pycharm": {
     "name": "#%% md\n"
    }
   },
   "source": [
    "# PREGUNTA 7: Selección de características\n",
    "\n",
    "Con el último resultado de la pregunta anterior, nos damos cuenta que al usar todas las características no necesariamente mejoramos el desempeño (ya que hay resultados individuales mejores). Una razón que puede explicar este fenómeno, es que muchas de las características extraídas no tienen un buen desempeño en estos datos porque no discriminan bien, y esto hace que el clasificador se confunda. Una solución a este problema es  seleccionar -de todas las características extraídas- aquellas que tienen un buen desempeño. En este ejemplo seleccionaremos cinco características de las 154 extraídas, que en conjunto se desempeñan muy bien en este problema. La selección fue previamente realizada y en este ejemplo está almacenada en el vector `sel`. La selección de características la veremos con detalle en el próximo capítulo del curso. \n",
    "\n",
    "Para seleccionar columnas se puede estudiar este ejemplo:\n",
    "\n",
    "Si `s = [2,5,7]`, entonces con `Y = Z[:,s]` obtenemos una matriz `Y` con el mismo número de filas de `Z` y con sólo tres columnas que corresponden a la segunda, quinta y séptima columnas de `Z` respectivamente.\n",
    "\n",
    "----\n",
    "<font color='orange'> IMPORTANTE: Este ejemplo resulta bien sólo si en `X` se tienen concatenadas las matrices `Xlbp`, `Xhar` y `Xgab` (estrictamente en este orden, tal como se hizo en la pregunta anterior).\n",
    "\n",
    "----"
   ]
  },
  {
   "cell_type": "code",
   "metadata": {
    "id": "Qv1QDW483af0",
    "pycharm": {
     "name": "#%%\n"
    }
   },
   "source": [
    "# columnas seleccionadas con un algoritmo de selección de características:\n",
    "sel = [ 28,  22,  77, 104,  65]\n",
    "\n",
    "# Paso 1\n",
    "# escoger columnas de X\n",
    "Xs = ??? # <= COMPLETAR AQUI LAS COLUMNAS DE X INDEXADAS CON LA VARIABLE 'sel'\n",
    "\n",
    "# Paso 2\n",
    "# separar training / testing\n",
    "Xtrain,ytrain,Xtest,ytest = SplitTrainTest(Xs,y,ntrain)\n",
    "\n",
    "# Paso 3\n",
    "# clasificar\n",
    "acc,Css = ClassifierKNN(Xtrain,ytrain,Xtest,ytest)"
   ],
   "execution_count": null,
   "outputs": []
  },
  {
   "cell_type": "code",
   "metadata": {
    "id": "X0B9g6JTtB1Z",
    "pycharm": {
     "name": "#%%\n"
    }
   },
   "source": [
    "#\n",
    "# EJECUTAR ESTA CELDA PARA EVALUAR LA CLASIFICACIÓN CON 5 CARACTERISTICAS SELECCIONADAS\n",
    "#\n",
    "\n",
    "T[15] = CheckMatrix('Xtrain',Xtrain,chk[15])  # <Evaluación Q15>\n",
    "T[16] = CheckMatrix('Xtest ',Xtest ,chk[16])  # <Evaluación Q16>\n",
    "T[17] = CheckMatrix('Css   ',Css   ,chk[17])  # <Evaluación Q17>\n",
    "CheckPrint(T[15:18])\n"
   ],
   "execution_count": null,
   "outputs": []
  },
  {
   "cell_type": "markdown",
   "metadata": {
    "id": "UMiYVLNzti_q",
    "pycharm": {
     "name": "#%% md\n"
    }
   },
   "source": [
    "# PREGUNTA 8: Verificar datos personales\n",
    "\n",
    "<font color='red'> **ADVERTENCIA:** En este ejercicio en necesario que revises bien tus datos personales. Si no son correctos, no tendrás nota en este ejercicio."
   ]
  },
  {
   "cell_type": "code",
   "metadata": {
    "id": "WnFyXDtsuFOj",
    "pycharm": {
     "name": "#%%\n"
    }
   },
   "source": [
    "# POR FAVOR VUELVE A DIGITAR ESTOS DATOS PARA VERIFICAR QUE NO HAYA ERRORES DE TIPEO\n",
    "NumeroID_2       = '' # <= COMPLETAR AQUI NUMERO DE ALUMNO/A ENTRE APOSTROFES\n",
    "Correo_2         = '' # <= COMPLETAR AQUI TU CORRECO ELECTRONICO"
   ],
   "execution_count": null,
   "outputs": []
  },
  {
   "cell_type": "code",
   "metadata": {
    "id": "NWTNp7TXubNc",
    "pycharm": {
     "name": "#%%\n"
    }
   },
   "source": [
    "#\n",
    "# EJECUTAR ESTA CELDA PARA VERIFICAR SI LOS DATOS COINCIDEN CON LOS YA INGRESADOS\n",
    "#\n",
    "\n",
    "T[18] = NumeroID != NumeroID_2  # <Evaluación Q18>\n",
    "T[19] = Correo   != Correo_2    # <Evaluación Q19>\n",
    "CheckPrint(T[18:20],0)"
   ],
   "execution_count": null,
   "outputs": []
  },
  {
   "cell_type": "markdown",
   "metadata": {
    "id": "RIffHnis4bIp",
    "pycharm": {
     "name": "#%% md\n"
    }
   },
   "source": [
    "# PASO FINAL: Revisión del Profesor\n",
    "\n",
    "\n"
   ]
  },
  {
   "cell_type": "markdown",
   "source": [
    "**Copyright**\n",
    "\n",
    "The notebooks are provided as [Open Educational Resource](https://de.wikipedia.org/wiki/Open_Educational_Resources). Feel free to use the notebooks for your own educational purposes. The text is licensed under [Creative Commons Attribution 4.0](https://creativecommons.org/licenses/by/4.0/), the code of the IPython examples under the [MIT license](https://opensource.org/licenses/MIT)."
   ],
   "metadata": {
    "collapsed": false
   }
  },
  {
   "cell_type": "code",
   "execution_count": null,
   "outputs": [],
   "source": [],
   "metadata": {
    "collapsed": false
   }
  }
 ]
}
