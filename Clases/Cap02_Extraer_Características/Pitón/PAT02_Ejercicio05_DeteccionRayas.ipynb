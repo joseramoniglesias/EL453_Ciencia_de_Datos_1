{
 "nbformat": 4,
 "nbformat_minor": 0,
 "metadata": {
  "colab": {
   "name": "PAT02_Ejercicio05_DeteccionRayas.ipynb",
   "provenance": [],
   "collapsed_sections": [],
   "toc_visible": true
  },
  "kernelspec": {
   "name": "python3",
   "display_name": "Python 3"
  },
  "language_info": {
   "name": "python"
  },
  "widgets": {
   "application/vnd.jupyter.widget-state+json": {
    "d15560f16d024270af5ffcb58d6f8965": {
     "model_module": "@jupyter-widgets/controls",
     "model_name": "HBoxModel",
     "model_module_version": "1.5.0",
     "state": {
      "_view_name": "HBoxView",
      "_dom_classes": [],
      "_model_name": "HBoxModel",
      "_view_module": "@jupyter-widgets/controls",
      "_model_module_version": "1.5.0",
      "_view_count": null,
      "_view_module_version": "1.5.0",
      "box_style": "",
      "layout": "IPY_MODEL_55574b59d2a54b9fa3ca3ed818f0d91b",
      "_model_module": "@jupyter-widgets/controls",
      "children": [
       "IPY_MODEL_8eca73520aaa4d229d918364ee986612",
       "IPY_MODEL_aa18ec39687f4b8397e55913b8c1b44e"
      ]
     }
    },
    "55574b59d2a54b9fa3ca3ed818f0d91b": {
     "model_module": "@jupyter-widgets/base",
     "model_name": "LayoutModel",
     "model_module_version": "1.2.0",
     "state": {
      "_view_name": "LayoutView",
      "grid_template_rows": null,
      "right": null,
      "justify_content": null,
      "_view_module": "@jupyter-widgets/base",
      "overflow": null,
      "_model_module_version": "1.2.0",
      "_view_count": null,
      "flex_flow": null,
      "width": null,
      "min_width": null,
      "border": null,
      "align_items": null,
      "bottom": null,
      "_model_module": "@jupyter-widgets/base",
      "top": null,
      "grid_column": null,
      "overflow_y": null,
      "overflow_x": null,
      "grid_auto_flow": null,
      "grid_area": null,
      "grid_template_columns": null,
      "flex": null,
      "_model_name": "LayoutModel",
      "justify_items": null,
      "grid_row": null,
      "max_height": null,
      "align_content": null,
      "visibility": null,
      "align_self": null,
      "height": null,
      "min_height": null,
      "padding": null,
      "grid_auto_rows": null,
      "grid_gap": null,
      "max_width": null,
      "order": null,
      "_view_module_version": "1.2.0",
      "grid_template_areas": null,
      "object_position": null,
      "object_fit": null,
      "grid_auto_columns": null,
      "margin": null,
      "display": null,
      "left": null
     }
    },
    "8eca73520aaa4d229d918364ee986612": {
     "model_module": "@jupyter-widgets/controls",
     "model_name": "FloatProgressModel",
     "model_module_version": "1.5.0",
     "state": {
      "_view_name": "ProgressView",
      "style": "IPY_MODEL_d7522a82f7a14ae89cb74d96ee701647",
      "_dom_classes": [],
      "description": "100%",
      "_model_name": "FloatProgressModel",
      "bar_style": "success",
      "max": 600,
      "_view_module": "@jupyter-widgets/controls",
      "_model_module_version": "1.5.0",
      "value": 600,
      "_view_count": null,
      "_view_module_version": "1.5.0",
      "orientation": "horizontal",
      "min": 0,
      "description_tooltip": null,
      "_model_module": "@jupyter-widgets/controls",
      "layout": "IPY_MODEL_80987f93b3424f9dbf2a6cab4ff3ca14"
     }
    },
    "aa18ec39687f4b8397e55913b8c1b44e": {
     "model_module": "@jupyter-widgets/controls",
     "model_name": "HTMLModel",
     "model_module_version": "1.5.0",
     "state": {
      "_view_name": "HTMLView",
      "style": "IPY_MODEL_d85f57f2e5864f06a5127320717b7e20",
      "_dom_classes": [],
      "description": "",
      "_model_name": "HTMLModel",
      "placeholder": "​",
      "_view_module": "@jupyter-widgets/controls",
      "_model_module_version": "1.5.0",
      "value": " 600/600 [00:01&lt;00:00, 326.97it/s]",
      "_view_count": null,
      "_view_module_version": "1.5.0",
      "description_tooltip": null,
      "_model_module": "@jupyter-widgets/controls",
      "layout": "IPY_MODEL_304b99199796466886ffbedec215dce8"
     }
    },
    "d7522a82f7a14ae89cb74d96ee701647": {
     "model_module": "@jupyter-widgets/controls",
     "model_name": "ProgressStyleModel",
     "model_module_version": "1.5.0",
     "state": {
      "_view_name": "StyleView",
      "_model_name": "ProgressStyleModel",
      "description_width": "initial",
      "_view_module": "@jupyter-widgets/base",
      "_model_module_version": "1.5.0",
      "_view_count": null,
      "_view_module_version": "1.2.0",
      "bar_color": null,
      "_model_module": "@jupyter-widgets/controls"
     }
    },
    "80987f93b3424f9dbf2a6cab4ff3ca14": {
     "model_module": "@jupyter-widgets/base",
     "model_name": "LayoutModel",
     "model_module_version": "1.2.0",
     "state": {
      "_view_name": "LayoutView",
      "grid_template_rows": null,
      "right": null,
      "justify_content": null,
      "_view_module": "@jupyter-widgets/base",
      "overflow": null,
      "_model_module_version": "1.2.0",
      "_view_count": null,
      "flex_flow": null,
      "width": null,
      "min_width": null,
      "border": null,
      "align_items": null,
      "bottom": null,
      "_model_module": "@jupyter-widgets/base",
      "top": null,
      "grid_column": null,
      "overflow_y": null,
      "overflow_x": null,
      "grid_auto_flow": null,
      "grid_area": null,
      "grid_template_columns": null,
      "flex": null,
      "_model_name": "LayoutModel",
      "justify_items": null,
      "grid_row": null,
      "max_height": null,
      "align_content": null,
      "visibility": null,
      "align_self": null,
      "height": null,
      "min_height": null,
      "padding": null,
      "grid_auto_rows": null,
      "grid_gap": null,
      "max_width": null,
      "order": null,
      "_view_module_version": "1.2.0",
      "grid_template_areas": null,
      "object_position": null,
      "object_fit": null,
      "grid_auto_columns": null,
      "margin": null,
      "display": null,
      "left": null
     }
    },
    "d85f57f2e5864f06a5127320717b7e20": {
     "model_module": "@jupyter-widgets/controls",
     "model_name": "DescriptionStyleModel",
     "model_module_version": "1.5.0",
     "state": {
      "_view_name": "StyleView",
      "_model_name": "DescriptionStyleModel",
      "description_width": "",
      "_view_module": "@jupyter-widgets/base",
      "_model_module_version": "1.5.0",
      "_view_count": null,
      "_view_module_version": "1.2.0",
      "_model_module": "@jupyter-widgets/controls"
     }
    },
    "304b99199796466886ffbedec215dce8": {
     "model_module": "@jupyter-widgets/base",
     "model_name": "LayoutModel",
     "model_module_version": "1.2.0",
     "state": {
      "_view_name": "LayoutView",
      "grid_template_rows": null,
      "right": null,
      "justify_content": null,
      "_view_module": "@jupyter-widgets/base",
      "overflow": null,
      "_model_module_version": "1.2.0",
      "_view_count": null,
      "flex_flow": null,
      "width": null,
      "min_width": null,
      "border": null,
      "align_items": null,
      "bottom": null,
      "_model_module": "@jupyter-widgets/base",
      "top": null,
      "grid_column": null,
      "overflow_y": null,
      "overflow_x": null,
      "grid_auto_flow": null,
      "grid_area": null,
      "grid_template_columns": null,
      "flex": null,
      "_model_name": "LayoutModel",
      "justify_items": null,
      "grid_row": null,
      "max_height": null,
      "align_content": null,
      "visibility": null,
      "align_self": null,
      "height": null,
      "min_height": null,
      "padding": null,
      "grid_auto_rows": null,
      "grid_gap": null,
      "max_width": null,
      "order": null,
      "_view_module_version": "1.2.0",
      "grid_template_areas": null,
      "object_position": null,
      "object_fit": null,
      "grid_auto_columns": null,
      "margin": null,
      "display": null,
      "left": null
     }
    },
    "6e695acdc0f74000b6ca923e49667b1a": {
     "model_module": "@jupyter-widgets/controls",
     "model_name": "HBoxModel",
     "model_module_version": "1.5.0",
     "state": {
      "_view_name": "HBoxView",
      "_dom_classes": [],
      "_model_name": "HBoxModel",
      "_view_module": "@jupyter-widgets/controls",
      "_model_module_version": "1.5.0",
      "_view_count": null,
      "_view_module_version": "1.5.0",
      "box_style": "",
      "layout": "IPY_MODEL_8f6c013c9b274483a46890901aeba180",
      "_model_module": "@jupyter-widgets/controls",
      "children": [
       "IPY_MODEL_02eea201b87340f09d328f7be6476d67",
       "IPY_MODEL_522bf684a7b6463387298c33c6d1dc7d"
      ]
     }
    },
    "8f6c013c9b274483a46890901aeba180": {
     "model_module": "@jupyter-widgets/base",
     "model_name": "LayoutModel",
     "model_module_version": "1.2.0",
     "state": {
      "_view_name": "LayoutView",
      "grid_template_rows": null,
      "right": null,
      "justify_content": null,
      "_view_module": "@jupyter-widgets/base",
      "overflow": null,
      "_model_module_version": "1.2.0",
      "_view_count": null,
      "flex_flow": null,
      "width": null,
      "min_width": null,
      "border": null,
      "align_items": null,
      "bottom": null,
      "_model_module": "@jupyter-widgets/base",
      "top": null,
      "grid_column": null,
      "overflow_y": null,
      "overflow_x": null,
      "grid_auto_flow": null,
      "grid_area": null,
      "grid_template_columns": null,
      "flex": null,
      "_model_name": "LayoutModel",
      "justify_items": null,
      "grid_row": null,
      "max_height": null,
      "align_content": null,
      "visibility": null,
      "align_self": null,
      "height": null,
      "min_height": null,
      "padding": null,
      "grid_auto_rows": null,
      "grid_gap": null,
      "max_width": null,
      "order": null,
      "_view_module_version": "1.2.0",
      "grid_template_areas": null,
      "object_position": null,
      "object_fit": null,
      "grid_auto_columns": null,
      "margin": null,
      "display": null,
      "left": null
     }
    },
    "02eea201b87340f09d328f7be6476d67": {
     "model_module": "@jupyter-widgets/controls",
     "model_name": "FloatProgressModel",
     "model_module_version": "1.5.0",
     "state": {
      "_view_name": "ProgressView",
      "style": "IPY_MODEL_79172b029a844f86b0dcf74781142b0e",
      "_dom_classes": [],
      "description": "100%",
      "_model_name": "FloatProgressModel",
      "bar_style": "success",
      "max": 600,
      "_view_module": "@jupyter-widgets/controls",
      "_model_module_version": "1.5.0",
      "value": 600,
      "_view_count": null,
      "_view_module_version": "1.5.0",
      "orientation": "horizontal",
      "min": 0,
      "description_tooltip": null,
      "_model_module": "@jupyter-widgets/controls",
      "layout": "IPY_MODEL_3291decd41844362bf4dee070553b217"
     }
    },
    "522bf684a7b6463387298c33c6d1dc7d": {
     "model_module": "@jupyter-widgets/controls",
     "model_name": "HTMLModel",
     "model_module_version": "1.5.0",
     "state": {
      "_view_name": "HTMLView",
      "style": "IPY_MODEL_b1db7036a54546398ccae55c2ac2387b",
      "_dom_classes": [],
      "description": "",
      "_model_name": "HTMLModel",
      "placeholder": "​",
      "_view_module": "@jupyter-widgets/controls",
      "_model_module_version": "1.5.0",
      "value": " 600/600 [00:01&lt;00:00, 325.47it/s]",
      "_view_count": null,
      "_view_module_version": "1.5.0",
      "description_tooltip": null,
      "_model_module": "@jupyter-widgets/controls",
      "layout": "IPY_MODEL_71996b43a05e4b8a90261c5a923542c5"
     }
    },
    "79172b029a844f86b0dcf74781142b0e": {
     "model_module": "@jupyter-widgets/controls",
     "model_name": "ProgressStyleModel",
     "model_module_version": "1.5.0",
     "state": {
      "_view_name": "StyleView",
      "_model_name": "ProgressStyleModel",
      "description_width": "initial",
      "_view_module": "@jupyter-widgets/base",
      "_model_module_version": "1.5.0",
      "_view_count": null,
      "_view_module_version": "1.2.0",
      "bar_color": null,
      "_model_module": "@jupyter-widgets/controls"
     }
    },
    "3291decd41844362bf4dee070553b217": {
     "model_module": "@jupyter-widgets/base",
     "model_name": "LayoutModel",
     "model_module_version": "1.2.0",
     "state": {
      "_view_name": "LayoutView",
      "grid_template_rows": null,
      "right": null,
      "justify_content": null,
      "_view_module": "@jupyter-widgets/base",
      "overflow": null,
      "_model_module_version": "1.2.0",
      "_view_count": null,
      "flex_flow": null,
      "width": null,
      "min_width": null,
      "border": null,
      "align_items": null,
      "bottom": null,
      "_model_module": "@jupyter-widgets/base",
      "top": null,
      "grid_column": null,
      "overflow_y": null,
      "overflow_x": null,
      "grid_auto_flow": null,
      "grid_area": null,
      "grid_template_columns": null,
      "flex": null,
      "_model_name": "LayoutModel",
      "justify_items": null,
      "grid_row": null,
      "max_height": null,
      "align_content": null,
      "visibility": null,
      "align_self": null,
      "height": null,
      "min_height": null,
      "padding": null,
      "grid_auto_rows": null,
      "grid_gap": null,
      "max_width": null,
      "order": null,
      "_view_module_version": "1.2.0",
      "grid_template_areas": null,
      "object_position": null,
      "object_fit": null,
      "grid_auto_columns": null,
      "margin": null,
      "display": null,
      "left": null
     }
    },
    "b1db7036a54546398ccae55c2ac2387b": {
     "model_module": "@jupyter-widgets/controls",
     "model_name": "DescriptionStyleModel",
     "model_module_version": "1.5.0",
     "state": {
      "_view_name": "StyleView",
      "_model_name": "DescriptionStyleModel",
      "description_width": "",
      "_view_module": "@jupyter-widgets/base",
      "_model_module_version": "1.5.0",
      "_view_count": null,
      "_view_module_version": "1.2.0",
      "_model_module": "@jupyter-widgets/controls"
     }
    },
    "71996b43a05e4b8a90261c5a923542c5": {
     "model_module": "@jupyter-widgets/base",
     "model_name": "LayoutModel",
     "model_module_version": "1.2.0",
     "state": {
      "_view_name": "LayoutView",
      "grid_template_rows": null,
      "right": null,
      "justify_content": null,
      "_view_module": "@jupyter-widgets/base",
      "overflow": null,
      "_model_module_version": "1.2.0",
      "_view_count": null,
      "flex_flow": null,
      "width": null,
      "min_width": null,
      "border": null,
      "align_items": null,
      "bottom": null,
      "_model_module": "@jupyter-widgets/base",
      "top": null,
      "grid_column": null,
      "overflow_y": null,
      "overflow_x": null,
      "grid_auto_flow": null,
      "grid_area": null,
      "grid_template_columns": null,
      "flex": null,
      "_model_name": "LayoutModel",
      "justify_items": null,
      "grid_row": null,
      "max_height": null,
      "align_content": null,
      "visibility": null,
      "align_self": null,
      "height": null,
      "min_height": null,
      "padding": null,
      "grid_auto_rows": null,
      "grid_gap": null,
      "max_width": null,
      "order": null,
      "_view_module_version": "1.2.0",
      "grid_template_areas": null,
      "object_position": null,
      "object_fit": null,
      "grid_auto_columns": null,
      "margin": null,
      "display": null,
      "left": null
     }
    }
   }
  }
 },
 "cells": [
  {
   "cell_type": "markdown",
   "metadata": {
    "id": "ldHBGHWGon-Y",
    "pycharm": {
     "name": "#%% md\n"
    }
   },
   "source": [
    "# Reconocimiento de Patrones\n",
    "[Curso de Reconocimiento de Patrones]\n",
    "\n",
    "Departamento Electrónica\n",
    "\n",
    "Universidad Popular del Cesar\n",
    "\n",
    "José Ramón Iglesias\n",
    "\n"
   ]
  },
  {
   "cell_type": "markdown",
   "metadata": {
    "id": "zpYuhv665afE",
    "pycharm": {
     "name": "#%% md\n"
    }
   },
   "source": [
    "# IMPORTANTE:\n",
    "\n",
    "En este código por favor:\n",
    "\n",
    "*   No agregar celdas nuevas\n",
    "*   No agregar librerías nuevas\n",
    "*   No usar otro nombre de variables\n",
    "*   No cambiar el clasificador ni el número de vecinos del KNN\n",
    "*   No hacer gráficas\n",
    "\n",
    "\n",
    "<font color='red'>Esta tarea será corregida automáticamente, y si no se cumple alguna de las condiciones anteriores, es posible que la tarea no se corrija correctamente.</font>\n",
    "\n",
    "Si quieres hacer modificaciones y probar estrategias distintas, te invito a hacerlo en otro código (no en éste). <font color='red'>Este código debe modificarse sólo en los lugares indicados.</font>\n",
    "\n",
    "<font color='orange'> Evaluación:</font>\n",
    " Este ejercicio tiene n=15 ítems a evaluar, denotados como Q00, Q01, ... Qn a lo largo del notebook como `<Evaluación Qi>`. En tu evaluación (que recibirás en los próximos días) se indicará cómo han sido cada uno de estos n items. Tu nota en este ejercicio será el número de ítems correctamente hechos dividido por n multiplicado por 100 (en escala de 0 a 100%).\n"
   ]
  },
  {
   "cell_type": "markdown",
   "metadata": {
    "id": "XASTjivuu7cO",
    "pycharm": {
     "name": "#%% md\n"
    }
   },
   "source": [
    "# Ejercicio 05: Detección de paredes rayadas usando LBP y HoG\n",
    "----\n",
    "ENTREGA: viernes 30/septiembre/2022 a la 1:00 pm (se debe mostrar al profesor funcionando este archivo ipynb, <font color='red'>el nombre del archivo debe coincidir con tu número de alumno/a)</font>.\n",
    "\n",
    "----\n",
    "En este ejercicio se realizará la clasificación entre dos clases de \"parches\" de pared de 64x64 pixeles (en escala de grises):\n",
    "\n",
    "* Clase 0: No-Rayas (contiene parches de pared sin rayas). [Ver parches no rayados](https://www.dropbox.com/s/2e0mxapuc3tno5j/patches_0.png?dl=0)\n",
    "\n",
    "* Clase 1: Rayas (contiene parches de pared con pintas, grafitis, rayados, etc.). [Ver parches rayados](https://www.dropbox.com/s/694u3ttbjmxx2lq/patches_1.png?dl=0)\n",
    "\n",
    "\n",
    "\n",
    "\n",
    "La base de datos contiene 1200 imágenes de 64x64 pixeles (600 imágenes por clase).\n",
    "\n",
    "**ADVERTENCIA:** Este ejercicio tiene fines pedagógicos sólamente, con la idea de que la solución a este problema pueda ejecutarse en un par de minutos. Un buen detector de rayas sigue esta idea pero con miles de imágenes a color por clase.\n",
    "\n",
    "A continuación, en cada PREGUNTA deberás ingresar alguna(s) líneas de código, o completar donde aparezca '<= COMPLETAR AQUI\".\n",
    "\n",
    "\n"
   ]
  },
  {
   "cell_type": "markdown",
   "metadata": {
    "id": "tOZy0s57VX5u",
    "pycharm": {
     "name": "#%% md\n"
    }
   },
   "source": [
    "# PREGUNTA 0: Cambiar nombre de archivo\n",
    "\n",
    "Cambia el nombre del archivo de este código de tal forma que sea tu número de alumno/a. Por ejemplo, si tu número de alumno/a es '1234567J' entonces este Colab Notebook debe llamarse '1234567J.ipynb'. Para hacerlo debes hacer un click con el mouse sobre el nombre del archivo (arriba a la izquierda) y editar el nombre del archivo."
   ]
  },
  {
   "cell_type": "code",
   "metadata": {
    "id": "EWP0A3aEWSYY",
    "pycharm": {
     "name": "#%%\n"
    }
   },
   "source": [
    "Nombre_de_archivo_cambiado =  1  # <== COMPLETAR AQUI ESCRIBIENDO EL NÚMERO 1 CUANDO HAYAS CAMBIADO EL NOMBRE"
   ],
   "execution_count": null,
   "outputs": []
  },
  {
   "cell_type": "markdown",
   "metadata": {
    "id": "BDp6KJgkIryf",
    "pycharm": {
     "name": "#%% md\n"
    }
   },
   "source": [
    "# PREGUNTA 1: Datos personales\n",
    "\n",
    "Ingresa tus datos para poder evaluarte, \n",
    "<font color='red'>si tus datos son incorrectos, este ejercicio no podrá ser corregido y por lo tanto no tendrás nota en esta actividad.</font>"
   ]
  },
  {
   "cell_type": "code",
   "metadata": {
    "id": "A1SQFdnJJitN",
    "colab": {
     "base_uri": "https://localhost:8080/"
    },
    "outputId": "2b75a985-6125-4df0-a9cf-bc3ebbb3c5f0",
    "pycharm": {
     "name": "#%%\n"
    }
   },
   "source": [
    "NumeroID         = '12345678J'   # <= COMPLETAR AQUI NUMERO DE ALUMNO/A ENTRE APOSTROFES\n",
    "PrimerNombre     = 'José Ramón'     # <= COMPLETAR AQUI TU PRIMER NOMBRE\n",
    "PrimerApellido   = 'Iglesias'        # <= COMPLETAR AQUI TU PRIMER APELLIDO\n",
    "Correo           = 'joseiglesias@unicesar.edu.co'   # <= COMPLETAR AQUI TU CORREO ELECTRONICO\n",
    "Datos_ingresados = 1             # <= COMPLETAR AQUI ESCRIBIENDO 1 CUANDO HAYAS INGRESADO TUS DATOS\n",
    "\n",
    "stid             = PrimerNombre+' '+PrimerApellido+' (ID:'+NumeroID+', email:'+Correo+'):'\n",
    "print('Registro: '+stid)"
   ],
   "execution_count": null,
   "outputs": [
    {
     "output_type": "stream",
     "text": [
      "Registro: Domingo Mery (ID:12345678J, email:dmery@ing.puc.cl):\n"
     ],
     "name": "stdout"
    }
   ]
  },
  {
   "cell_type": "markdown",
   "metadata": {
    "id": "R5C53BYjpNl7",
    "pycharm": {
     "name": "#%% md\n"
    }
   },
   "source": [
    "# Setup inicial\n",
    "\n",
    "Liberías necesarias para que funcione el algoritmo."
   ]
  },
  {
   "cell_type": "markdown",
   "metadata": {
    "id": "x-r9zRXMdBOM",
    "pycharm": {
     "name": "#%% md\n"
    }
   },
   "source": [
    "## Instalación de PyBalu\n",
    "\n",
    "[PyBalu](https://github.com/mbucchi/pybalu) es una librería creada para extraer características. "
   ]
  },
  {
   "cell_type": "code",
   "metadata": {
    "id": "XX-Xb2Igk2jQ",
    "colab": {
     "base_uri": "https://localhost:8080/"
    },
    "outputId": "c354ecfc-b918-411d-ec8d-e20d03f0c42e",
    "pycharm": {
     "name": "#%%\n"
    }
   },
   "source": [
    "#\n",
    "# EJECUTAR ESTA CELDA SIN MODIFICARLA\n",
    "#\n",
    "\n",
    "from IPython.display import clear_output\n",
    "!pip install scipy==1.2\n",
    "!pip3 install pybalu==0.2.5\n",
    "clear_output()\n",
    "print('Librería PyBalu instalada.')"
   ],
   "execution_count": null,
   "outputs": [
    {
     "output_type": "stream",
     "text": [
      "Librería PyBalu instalada.\n"
     ],
     "name": "stdout"
    }
   ]
  },
  {
   "cell_type": "markdown",
   "metadata": {
    "id": "X9daVUmmTSBW",
    "pycharm": {
     "name": "#%% md\n"
    }
   },
   "source": [
    "## Setup de librerías"
   ]
  },
  {
   "cell_type": "code",
   "metadata": {
    "id": "xUXeMCxoTRH8",
    "colab": {
     "base_uri": "https://localhost:8080/"
    },
    "outputId": "3c63a3d4-0f7c-4508-92f0-6b133f12b66e",
    "pycharm": {
     "name": "#%%\n"
    }
   },
   "source": [
    "#\n",
    "# EJECUTAR ESTA CELDA SIN MODIFICARLA\n",
    "#\n",
    "\n",
    "import numpy as np\n",
    "import matplotlib.pyplot as plt\n",
    "import os.path\n",
    "from   sklearn.metrics import confusion_matrix, accuracy_score\n",
    "from   sklearn.neighbors import KNeighborsClassifier\n",
    "from   tqdm.auto import tqdm\n",
    "from   pybalu.feature_extraction import lbp_features, hog_features\n",
    "from   pybalu.feature_transformation import normalize\n",
    "\n",
    "print('Librerías cargadas.')\n"
   ],
   "execution_count": null,
   "outputs": [
    {
     "output_type": "stream",
     "text": [
      "Librerías cargadas.\n"
     ],
     "name": "stdout"
    }
   ]
  },
  {
   "cell_type": "markdown",
   "metadata": {
    "id": "dYCCyCrTYVYQ",
    "pycharm": {
     "name": "#%% md\n"
    }
   },
   "source": [
    "## Funciones necesarias"
   ]
  },
  {
   "cell_type": "code",
   "metadata": {
    "id": "V7PwerxH4rxx",
    "colab": {
     "base_uri": "https://localhost:8080/"
    },
    "outputId": "11eba6ec-ca10-4e42-c81d-1bf010f86153",
    "pycharm": {
     "name": "#%%\n"
    }
   },
   "source": [
    "#\n",
    "# EJECUTAR ESTA CELDA SIN MODIFICARLA\n",
    "#\n",
    "\n",
    "def num2fixstr(x,d):\n",
    "  # example num2fixstr(2,5) returns '00002'\n",
    "  # example num2fixstr(19,3) returns '019'\n",
    "  st = '%0*d' % (d,x)\n",
    "  return st\n",
    "\n",
    "def ImageLoad(prefix,num_char,num_img,echo='off'):\n",
    "  st   = prefix + num2fixstr(num_char,2) + '_' + num2fixstr(num_img,3) + '.png'\n",
    "  if echo == 'on':\n",
    "    print('loading image '+st+'...')\n",
    "  img    = plt.imread(st)\n",
    "  return img\n",
    "\n",
    "def MatrixStats(X):\n",
    "  p = np.zeros((6),'int')\n",
    "  n = len(X.shape)\n",
    "  if n>0:\n",
    "    p[0] = X.shape[0]\n",
    "    if n==2:\n",
    "      p[1] = X.shape[1]\n",
    "  p[2] = X.min()\n",
    "  p[3] = X.max()\n",
    "  p[4] = X.mean()\n",
    "  p[5] = X.std()\n",
    "  return p\n",
    "  \n",
    "def CheckMatrix(st,X,ps):\n",
    "  p = MatrixStats(X)\n",
    "  d = p-ps\n",
    "  t = not(np.sum(d)==0)\n",
    "  if t:\n",
    "    print(st + ': Revisar, esta matriz presenta errores...')\n",
    "  else:\n",
    "    print(st + ': ok')\n",
    "  return t\n",
    "\n",
    "def CheckPrint(Y,st=True):\n",
    "    \n",
    "  if np.sum(Y)>0:\n",
    "    if st:\n",
    "      print('Revisar, hay error en al menos uno de estos cálculos, no continuar con las siguientes celdas hasta no corregir este error.')\n",
    "    else:\n",
    "      print('Revisar, hay error en al menos uno de los datos personales (no coinciden con los ingresados en la PREGUNTA 1),')\n",
    "      print('NO SUBIR TAREA ANTES DE CORREGIR ESTE ERROR.')\n",
    "      print('(tu ejercicio corre el riesgo de no ser corregido)')\n",
    "  else:\n",
    "    if st:\n",
    "      print('Felicitaciones! Los cálculos han sido realizados correctamente.')\n",
    "    else:\n",
    "      print('Felicitaciones! ahora puedes mostrarle este archivo al profesor.')\n",
    "\n",
    "\n",
    "def CheckFile(wclass):\n",
    "  st = 'W_'+num2fixstr(wclass,2)\n",
    "  sfile = st+'_600.png'\n",
    "  x = os.path.isfile('rayas/'+sfile)\n",
    "  if x:\n",
    "      print('Imágenes '+st+'*.png: OK')\n",
    "  else:\n",
    "      print('Carga de imágenes '+st+' presentan errores.')\n",
    "  return not(x)\n",
    "\n",
    "chk = [[1200,59,0,1524,69,136],[1200,9,0,98,26,19],[1200,0,0,100,50,50],[ 900,68,0,1524,60,129],[ 300,68,0,1432,60,129],[900,0,0,100,50,50],[300,0,0,100,50,50],[0,0,91,91,91,0],[2,2,13,137,75,61]]\n",
    "\n",
    "# Separación entre training y testing\n",
    "def SplitTrainTest(X,y,n):\n",
    "\n",
    "  K      = np.max(y)+1              # número de clases\n",
    "  N      = np.int(X.shape[0]/K)     # numeros de muestras por clase\n",
    "  Ntrain = n*K                      # número de muestras para el training\n",
    "  Ntest  = K*N-Ntrain               # número de muestras para el testing\n",
    "  M      = X.shape[1]               # número de características por muestra\n",
    "  Xtrain = np.zeros((Ntrain,M))     # subset de training\n",
    "  ytrain = np.zeros((Ntrain),'int') # ground truth del training         \n",
    "  Xtest  = np.zeros((Ntest,M))      # subset de testing\n",
    "  ytest  = np.zeros((Ntest),'int')  # ground truth del testing  \n",
    "\n",
    "  # contadores\n",
    "  itrain = 0\n",
    "  itest  = 0\n",
    "  t      = 0\n",
    "\n",
    "  for j in range(K):     # para cada clase\n",
    "    for i in range(N):   # para cada imagen de la clase\n",
    "      if i<n: # training\n",
    "        Xtrain[itrain,:] = X[t,:]\n",
    "        ytrain[itrain] = y[t]\n",
    "        itrain = itrain+1\n",
    "      else:  # testing\n",
    "        Xtest[itest,:] = X[t,:]\n",
    "        ytest[itest] = y[t]\n",
    "        itest = itest+1\n",
    "      t = t+1\n",
    "  \n",
    "  return Xtrain,ytrain,Xtest,ytest\n",
    "\n",
    "# Clasificación usando KNN con 1 vecino\n",
    "def ClassifierKNN(Xtrain,ytrain,Xtest,ytest):\n",
    "  Xtrain, a, b = normalize(Xtrain)\n",
    "  Xtest        = Xtest * a + b\n",
    "  knn = KNeighborsClassifier(n_neighbors=1)\n",
    "  knn.fit(Xtrain, ytrain)\n",
    "  ypred        = knn.predict(Xtest)\n",
    "  acc          = accuracy_score(ytest,ypred)\n",
    "  print('Entrenando con '+str(Xtrain.shape[0])+' muestras y probando con '+str(Xtest.shape[0])+' muestras')\n",
    "  print('Testing Accuracy = '+str(acc*100)+'%')\n",
    "  C = confusion_matrix(ytest,ypred)\n",
    "  print('Matriz de Confusión:')\n",
    "  print(C)\n",
    "  return acc,C\n",
    "\n",
    "print('Funciones necesarias ejecutadas.')"
   ],
   "execution_count": null,
   "outputs": [
    {
     "output_type": "stream",
     "text": [
      "Funciones necesarias ejecutadas.\n"
     ],
     "name": "stdout"
    }
   ]
  },
  {
   "cell_type": "markdown",
   "metadata": {
    "id": "sOcwbiQYYPag",
    "pycharm": {
     "name": "#%% md\n"
    }
   },
   "source": [
    "# Pregunta 2: Carga de base de datos\n",
    "\n",
    "La base de datos consiste en 2 clases con 600 imágenes por clase. Se almacenan en la carpeta `rayas` con el formato `W_xx_nnn.png`, donde `xx` es el ID de la clase (01 para no-rayas, 02 para raya) y `nnn` es el número de la foto de la clase (001, 002, ... 600). Las fotos son de 64x64 pixeles en escala de grises.\n",
    "\n",
    "\n",
    "Carga la base de datos, descargando el archivo rayas.zip que se encuentra en este link: `https://www.dropbox.com/s/lf8n9lyb5k2eboq/rayas.zip?dl=0`. Una vez descargado el archivo zip, debes descomprimirlo.\n",
    "\n",
    "AYUDA: usar comando `!wget <url archivo zip>` para descargar el archivo, y el comando `! unzip <archivo zip>` para descomprimirlo.\n",
    "\n"
   ]
  },
  {
   "cell_type": "code",
   "metadata": {
    "id": "BMYOlpLpzHQJ",
    "pycharm": {
     "name": "#%%\n"
    }
   },
   "source": [
    "# Carga de base de datos\n",
    "\n",
    "# COMPLETAR AQUI DOS LINEAS DE CODIGO\n",
    "# Linea 1: comando para bajar archivo zip desde dropbox\n",
    "# Linea 2: comando para descomprimir el archivo zip bajado en la linea 1\n",
    "# Al final de la ejecucion debe haberse creado la carpeta rayas con 1200 imágenes\n",
    "\n",
    "!wget https://www.dropbox.com/s/lf8n9lyb5k2eboq/rayas.zip?dl=0 # <- COMPLETAR AQUI LINEA 1\n",
    "!unzip rayas.zip # <- COMPLETAR AQUI LINEA 2\n"
   ],
   "execution_count": null,
   "outputs": []
  },
  {
   "cell_type": "code",
   "metadata": {
    "id": "zVLMo65Dcjec",
    "colab": {
     "base_uri": "https://localhost:8080/"
    },
    "outputId": "195069d8-3f46-43d8-f7a0-385ebb2a13f4",
    "pycharm": {
     "name": "#%%\n"
    }
   },
   "source": [
    "#\n",
    "# EJECUTAR ESTA CELDA PARA EVALUAR LA CARGA DE LA BASE DE DATOS\n",
    "#\n",
    "\n",
    "T = np.ones((15),'int')\n",
    "T[0] = CheckFile(1) # <Evaluación Q00>\n",
    "T[1] = CheckFile(2) # <Evaluación Q01>\n",
    "CheckPrint(T[0:2])"
   ],
   "execution_count": null,
   "outputs": [
    {
     "output_type": "stream",
     "text": [
      "Imágenes W_01*.png: OK\n",
      "Imágenes W_02*.png: OK\n",
      "Felicitaciones! Los cálculos han sido realizados correctamente.\n"
     ],
     "name": "stdout"
    }
   ]
  },
  {
   "cell_type": "markdown",
   "metadata": {
    "id": "yYHxPwnTYhXs",
    "pycharm": {
     "name": "#%% md\n"
    }
   },
   "source": [
    "# PREGUNTA 3: Extracción de características\n",
    "\n",
    "En esta pregunta se debe realizar la extracción de características de la imagen `img`. Las características a extraer son las basadas en LBP y Hog y se extraen usando los siguientes comandos de la librería PyBalu:\n",
    "\n",
    "## 1) Cómo extraer características LBP clásico:\n",
    "\n",
    "Con el comando\n",
    "\n",
    "`f  = lbp_features(img, hdiv=a, vdiv=b, mapping='nri_uniform')`\n",
    "\n",
    "se divide la imagen `img` en `a x b` particiones y en cada una de ellas se extrae el descriptor LBP (vector de 59 elementos). En este caso `f` es un vector de `59*a*b` elementos. En este ejercicio trabajaremos con `a = b = 1`, es decir sólo una partición por imagen.\n",
    "\n",
    "## 2) Cómo extraer características de HoG:\n",
    "\n",
    "Con el comando\n",
    "\n",
    "`f = hog_features(img, v_windows=a, h_windows=b, n_bins=q)`\n",
    "\n",
    "se divide la imagen `img` en `a x b` particiones y en cada una de ellas se extrae el descriptor HoG (vector de `q` elementos, ya que el histograma es de `q` bins). En este caso `f` es un vector de `q*a*b` elementos. En este ejercicio trabajaremos con `a = b = 1`, es decir sólo una partición por imagen, y usaremos `q = 9` bins en el histograma.\n",
    "\n",
    "<font color='red'> Para escribir este código reutilice el código del Ejercicio 04 (celda dedicada a extracción de características) teniendo en cuenta las indicaciones 1) y 2). Este código tiene alrededor de 20-30 líneas."
   ]
  },
  {
   "cell_type": "code",
   "metadata": {
    "id": "ASGRTqKTLYNa",
    "colab": {
     "base_uri": "https://localhost:8080/",
     "height": 166,
     "referenced_widgets": [
      "d15560f16d024270af5ffcb58d6f8965",
      "55574b59d2a54b9fa3ca3ed818f0d91b",
      "8eca73520aaa4d229d918364ee986612",
      "aa18ec39687f4b8397e55913b8c1b44e",
      "d7522a82f7a14ae89cb74d96ee701647",
      "80987f93b3424f9dbf2a6cab4ff3ca14",
      "d85f57f2e5864f06a5127320717b7e20",
      "304b99199796466886ffbedec215dce8",
      "6e695acdc0f74000b6ca923e49667b1a",
      "8f6c013c9b274483a46890901aeba180",
      "02eea201b87340f09d328f7be6476d67",
      "522bf684a7b6463387298c33c6d1dc7d",
      "79172b029a844f86b0dcf74781142b0e",
      "3291decd41844362bf4dee070553b217",
      "b1db7036a54546398ccae55c2ac2387b",
      "71996b43a05e4b8a90261c5a923542c5"
     ]
    },
    "outputId": "d221c3c2-c804-489f-b4a0-42d6e95fab2e",
    "pycharm": {
     "name": "#%%\n"
    }
   },
   "source": [
    "#print('Ejecución de '+stid) # <== NO MODIFICAR ESTA LINEA\n",
    "\n",
    "# Extracción de Características\n",
    "\n",
    "# En esta celda se debe: \n",
    "#  - almacenar en la variable Xlbp la matriz de las características LBP de las 1200 imágenes\n",
    "#  - almacenar en la variable Xhog la matriz de las características HOG de las 1200 imágenes\n",
    "#  - almacenar en la variable y el vector de la clase a que pertenece cada una de las 1200 imágenes\n",
    "\n",
    "# Al final de la ejecución de este código deben haber sido creadas:\n",
    "# Matriz Xlbp\n",
    "# Matriz Xhog \n",
    "# Vector y\n",
    "\n",
    "\n",
    "K    = 2     # <= COMPLETAR AQUI EL NUMERO DE CLASES\n",
    "N    = 600   # <= COMPLETAR AQUI EL NUMERO DE IMAGENES POR CLASE\n",
    "Mlbp = 59    # <= COMPLETAR AQUI EL NUMERO DE ELEMENTOS DEL VECTOR LBP\n",
    "Mhog = 9     # <= COMPLETAR AQUI EL NUMERO DE ELEMENTOS DEL VECTOR DE HOG\n",
    "\n",
    "Xlbp  = np.zeros((K*N,Mlbp))    # K*N muestras (filas), y Mlbp características (columnas)\n",
    "Xhog  = np.zeros((K*N,Mhog))    # K*N muestras (filas), y Mhog características (columnas)\n",
    "\n",
    "y     = np.zeros((K*N),'int')   # ground truth (clasificacion ideal)\n",
    "\n",
    "t = 0\n",
    "print('Cargando imagenes y extrayendo características...')\n",
    "for j in range(K):            # para cada clase\n",
    "  print('Extrayendo características: batch '+str(j+1)+'/'+str(K))\n",
    "  for i in tqdm(range(N)):                # para cada imagen de la clase\n",
    "    # Lectura de la imagen\n",
    "    img    = 255*ImageLoad('rayas/W_',j+1,i+1,echo='off')\n",
    "\n",
    "    # Extracción de características\n",
    "\n",
    "    # LBP clásico de 1x1 particiones\n",
    "    Xlbp[t,:] = lbp_features(img, hdiv=1, vdiv=1, mapping='nri_uniform') # <= COMPLETAR AQUI PARA EXTRAER LBP (VER HELP MAS ARRIBA)\n",
    "\n",
    "    # Haralick con d = 3 pixeles\n",
    "    Xhog[t,:] = hog_features(img, v_windows=1, h_windows=1, n_bins=9)    # <= COMPLETAR AQUI PARA EXTRAER HOG (VER HELP MAS ARRIBA)\n",
    "\n",
    "\n",
    "\n",
    "    y[t] = j # la muestra t pertenece a la clase j\n",
    "    t = t+1\n"
   ],
   "execution_count": null,
   "outputs": [
    {
     "output_type": "stream",
     "text": [
      "Cargando imagenes y extrayendo características...\n",
      "Extrayendo características: batch 1/2\n"
     ],
     "name": "stdout"
    },
    {
     "output_type": "display_data",
     "data": {
      "application/vnd.jupyter.widget-view+json": {
       "model_id": "d15560f16d024270af5ffcb58d6f8965",
       "version_minor": 0,
       "version_major": 2
      },
      "text/plain": [
       "HBox(children=(FloatProgress(value=0.0, max=600.0), HTML(value='')))"
      ]
     },
     "metadata": {
      "tags": []
     }
    },
    {
     "output_type": "stream",
     "text": [
      "\n",
      "Extrayendo características: batch 2/2\n"
     ],
     "name": "stdout"
    },
    {
     "output_type": "display_data",
     "data": {
      "application/vnd.jupyter.widget-view+json": {
       "model_id": "6e695acdc0f74000b6ca923e49667b1a",
       "version_minor": 0,
       "version_major": 2
      },
      "text/plain": [
       "HBox(children=(FloatProgress(value=0.0, max=600.0), HTML(value='')))"
      ]
     },
     "metadata": {
      "tags": []
     }
    },
    {
     "output_type": "stream",
     "text": [
      "\n"
     ],
     "name": "stdout"
    }
   ]
  },
  {
   "cell_type": "code",
   "metadata": {
    "id": "sBWnDAZRwypQ",
    "colab": {
     "base_uri": "https://localhost:8080/"
    },
    "outputId": "248be620-67e7-43c4-a3b7-3d4395948f47",
    "pycharm": {
     "name": "#%%\n"
    }
   },
   "source": [
    "#\n",
    "# EJECUTAR ESTA CELDA PARA EVALUAR LA EXTRACCiÓN DE CARACTERÍSTICAS\n",
    "#\n",
    "\n",
    "T[2] = CheckMatrix('Xlbp',Xlbp,chk[0])     # <Evaluación Q02>\n",
    "T[3] = CheckMatrix('Xhog',Xhog*100,chk[1]) # <Evaluación Q03>\n",
    "T[4] = CheckMatrix('y   ',y*100,chk[2])       # <Evaluación Q04>\n",
    "CheckPrint(T[2:5])"
   ],
   "execution_count": null,
   "outputs": [
    {
     "output_type": "stream",
     "text": [
      "Xlbp: ok\n",
      "Xhog: ok\n",
      "y   : Revisar, esta matriz presenta errores...\n",
      "Revisar, hay error en al menos uno de estos cálculos, no continuar con las siguientes celdas hasta no corregir este error.\n"
     ],
     "name": "stdout"
    }
   ]
  },
  {
   "cell_type": "markdown",
   "metadata": {
    "id": "J88eVidHdI6P",
    "pycharm": {
     "name": "#%% md\n"
    }
   },
   "source": [
    "# Clasificación usando LBP y HoG\n",
    "\n",
    "En la pregunta anterior, fueron extraídas las características LBP y HoG para todas las imágenes de la base de datos. No olvidar que son 600 imágenes por clase, y que son 2 clases. En este Ejercicio, el clasificador será  un clasificador KNN de 1 vecino que será entrenado (training) con las primeras 450 muestras de cada clase, y probado (testing) con las 150 restantes por clase.\n",
    "\n"
   ]
  },
  {
   "cell_type": "markdown",
   "metadata": {
    "id": "Xd5riXIEhUgS",
    "pycharm": {
     "name": "#%% md\n"
    }
   },
   "source": [
    "# Pregunta 4: Definicion de características a utilizar\n",
    "\n",
    "Cargar en `X` la concatenación de `Xlbp` y `Xhog`. Es decir, si `Xlbp` tiene `P x Mlbp` elementos, y `Xhog` tiene `P x Mhog` elementos, entonces `X` debe tener `P x (Mlbp+Mhog)` elementos.\n",
    "\n",
    "Ayuda: use función `np.concatenate()`\n"
   ]
  },
  {
   "cell_type": "code",
   "metadata": {
    "id": "X2j5_4sOh2ua",
    "pycharm": {
     "name": "#%%\n"
    }
   },
   "source": [
    "# Al final de esta ejecución debe haber sido creada la matriz X\n",
    "\n",
    "X = np.concatenate((Xlbp,Xhog),axis=1)  # <= COMPLETAR AQUI LA LÍNEA DE CÓDIGO QUE REALIZA LA CONCATENACIÓN DE LBP Y HOG (NO CAMBIAR EL ORDEN)\n"
   ],
   "execution_count": null,
   "outputs": []
  },
  {
   "cell_type": "code",
   "metadata": {
    "id": "WyTRUeszit5m",
    "colab": {
     "base_uri": "https://localhost:8080/"
    },
    "outputId": "195f89cb-e864-47cc-a1df-1d1935898dc8",
    "pycharm": {
     "name": "#%%\n"
    }
   },
   "source": [
    "#\n",
    "# EJECUTAR ESTA CELDA PARA EVALUAR LA DEFINICION DE X\n",
    "#\n",
    "\n",
    "T[5] = CheckMatrix('X',X[:,0:59],chk[0])    # <Evaluación Q05>\n",
    "T[6] = CheckMatrix('X',X[:,59:]*100,chk[1]) # <Evaluación Q06>\n",
    "CheckPrint(T[5:7])"
   ],
   "execution_count": null,
   "outputs": [
    {
     "output_type": "stream",
     "text": [
      "X: ok\n",
      "X: ok\n",
      "Felicitaciones! Los cálculos han sido realizados correctamente.\n"
     ],
     "name": "stdout"
    }
   ]
  },
  {
   "cell_type": "markdown",
   "metadata": {
    "id": "VmzJeLdPkWCA",
    "pycharm": {
     "name": "#%% md\n"
    }
   },
   "source": [
    "# PREGUNTA 5: Separación Training / Testing\n",
    "\n",
    "El conjunto de training debe contener las primeras 450 muestras por classe. El conjunto de testing debe contener las restantes 150 muestras por clase.\n",
    "\n",
    "Separar `X,y` en `Xtrain,ytrain`, `Xtest,ytest`\n",
    "\n",
    "Ayuda: usar funcion `SplitTrainTest()` definida más arriba en la seeción \"Funciones Necesarias\"."
   ]
  },
  {
   "cell_type": "code",
   "metadata": {
    "id": "ABthai1wkwVS",
    "pycharm": {
     "name": "#%%\n"
    }
   },
   "source": [
    "# Al final de esta ejecución debe haber sido creada la matrices Xtrain, Xtest y los vectores ytest , ytrain\n",
    "\n",
    "Xtrain,ytrain,Xtest,ytest = SplitTrainTest(X,y,450)  # <= COMPLETAR AQUI LA LÍNEA DE CÓDIGO QUE REALIZA LA SPERACIÓN TRAINING/TESTING\n"
   ],
   "execution_count": null,
   "outputs": []
  },
  {
   "cell_type": "code",
   "metadata": {
    "id": "jntYCaqCmNMm",
    "colab": {
     "base_uri": "https://localhost:8080/"
    },
    "outputId": "208dc38a-453d-4ad3-cc5e-275543085a05",
    "pycharm": {
     "name": "#%%\n"
    }
   },
   "source": [
    "#\n",
    "# EJECUTAR ESTA CELDA PARA EVALUAR LA SEPARACION TRAINING/TESTING\n",
    "#\n",
    "\n",
    "T[7]  = CheckMatrix('Xtrain',Xtrain,chk[3])     # <Evaluación Q07>\n",
    "T[8]  = CheckMatrix('Xtest ',Xtest ,chk[4])     # <Evaluación Q08>\n",
    "T[9]  = CheckMatrix('ytarin',ytrain*100,chk[5]) # <Evaluación Q09>\n",
    "T[10] = CheckMatrix('ytest ',ytest*100 ,chk[6]) # <Evaluación Q10>\n",
    "\n",
    "CheckPrint(T[7:11])\n"
   ],
   "execution_count": null,
   "outputs": [
    {
     "output_type": "stream",
     "text": [
      "Xtrain: ok\n",
      "Xtest : ok\n",
      "ytarin: ok\n",
      "ytest : ok\n",
      "Felicitaciones! Los cálculos han sido realizados correctamente.\n"
     ],
     "name": "stdout"
    }
   ]
  },
  {
   "cell_type": "markdown",
   "metadata": {
    "id": "v_zcqYc7m0Qt",
    "pycharm": {
     "name": "#%% md\n"
    }
   },
   "source": [
    "# PREGUNTA 6: Clasificación\n",
    "\n",
    "Diseñar el clasificador usando `Xtrain,ytrain`, pruebe el clasificador en `Xtest`, y compare la clasifición con `ytest`.\n",
    "\n",
    "Ayuda: usar funcion `ClassifierKNN()` definida más arriba en la seeción \"Funciones Necesarias\".\n"
   ]
  },
  {
   "cell_type": "code",
   "metadata": {
    "id": "lUpjHFPlm-Y4",
    "colab": {
     "base_uri": "https://localhost:8080/"
    },
    "outputId": "653a14c8-f6f5-4c66-e958-f5776fd1b62a",
    "pycharm": {
     "name": "#%%\n"
    }
   },
   "source": [
    "# Al final de esta ejecución debe haber sido creada la variable acc y la matriz de confusion C\n",
    "\n",
    "acc,C = ClassifierKNN(Xtrain,ytrain,Xtest,ytest)  # <= COMPLETAR AQUI LA LÍNEA DE CÓDIGO QUE REALIZA LA CLASIFICACIÓN\n"
   ],
   "execution_count": null,
   "outputs": [
    {
     "output_type": "stream",
     "text": [
      "Entrenando con 900 muestras y probando con 300 muestras\n",
      "Testing Accuracy = 91.0%\n",
      "Matriz de Confusión:\n",
      "[[136  14]\n",
      " [ 13 137]]\n"
     ],
     "name": "stdout"
    }
   ]
  },
  {
   "cell_type": "code",
   "metadata": {
    "id": "709eielqnjZX",
    "colab": {
     "base_uri": "https://localhost:8080/"
    },
    "outputId": "0cd7bc0e-cbd3-4866-bc5c-d465f22eef6f",
    "pycharm": {
     "name": "#%%\n"
    }
   },
   "source": [
    "#\n",
    "# EJECUTAR ESTA CELDA PARA EVALUAR LA CLASIFICACIÓN CON LBP Y HOG\n",
    "#\n",
    "\n",
    "T[11]  = CheckMatrix('acc',acc*100,chk[7]) # <Evaluación Q11>\n",
    "T[12] = CheckMatrix('C  ',C ,chk[8])         # <Evaluación Q12>\n",
    "CheckPrint(T[11:13])\n"
   ],
   "execution_count": null,
   "outputs": [
    {
     "output_type": "stream",
     "text": [
      "acc: ok\n",
      "C  : ok\n",
      "Felicitaciones! Los cálculos han sido realizados correctamente.\n"
     ],
     "name": "stdout"
    }
   ]
  },
  {
   "cell_type": "markdown",
   "metadata": {
    "id": "UMiYVLNzti_q",
    "pycharm": {
     "name": "#%% md\n"
    }
   },
   "source": [
    "# PREGUNTA 7: Verificar datos personales\n",
    "\n",
    "<font color='red'> **ADVERTENCIA:** En este ejercicio en necesario que revises bien tus datos personales. Si no son correctos, no tendrás nota en este ejercicio."
   ]
  },
  {
   "cell_type": "code",
   "metadata": {
    "id": "WnFyXDtsuFOj",
    "pycharm": {
     "name": "#%%\n"
    }
   },
   "source": [
    "# POR FAVOR VUELVE A DIGITAR ESTOS DATOS PARA VERIFICAR QUE NO HAYA ERRORES DE TIPEO\n",
    "NumeroID_2       = '12345678J' # <= COMPLETAR AQUI NUMERO DE ALUMNO/A ENTRE APOSTROFES\n",
    "Correo_2         = 'joseiglesias@unicesar.edu.co' # <= COMPLETAR AQUI TU CORRECO ELECTRONICO"
   ],
   "execution_count": null,
   "outputs": []
  },
  {
   "cell_type": "code",
   "metadata": {
    "id": "NWTNp7TXubNc",
    "colab": {
     "base_uri": "https://localhost:8080/"
    },
    "outputId": "cf1c70cd-effc-4cc3-8f4b-ab82c498fb5c",
    "pycharm": {
     "name": "#%%\n"
    }
   },
   "source": [
    "#\n",
    "# EJECUTAR ESTA CELDA PARA VERIFICAR SI LOS DATOS COINCIDEN CON LOS YA INGRESADOS\n",
    "#\n",
    "\n",
    "T[13] = NumeroID != NumeroID_2  # <Evaluación Q13>\n",
    "T[14] = Correo   != Correo_2    # <Evaluación Q14>\n",
    "CheckPrint(T[13:15],0)"
   ],
   "execution_count": null,
   "outputs": [
    {
     "output_type": "stream",
     "text": [
      "Felicitaciones! ahora puedes subir este archivo a Google Classroom.\n"
     ],
     "name": "stdout"
    }
   ]
  },
  {
   "cell_type": "markdown",
   "metadata": {
    "id": "RIffHnis4bIp",
    "pycharm": {
     "name": "#%% md\n"
    }
   },
   "source": [
    "# PASO FINAL: Subir tarea\n",
    "\n",
    "<font color='red'> **ADVERTENCIA FINAL:** Debes verificar que todas las celdas de este código hayan sido ejecutadas sin error. Si durante la evaluación automática tu código \"se cae\" en una celda, las siguientes celdas no serán ejecutadas (ni evaludas). \n",
    "\n",
    "<font color='orange'> Este archivo, que debe llamarse [tu NumeroID].ipynb, debe mostrarse al pofesor en la actividad Ejercicio 05 que se entrega a más tardar el viernes 30/septiembre/2022 a la 1:00 pm.\n"
   ]
  }
 ]
}