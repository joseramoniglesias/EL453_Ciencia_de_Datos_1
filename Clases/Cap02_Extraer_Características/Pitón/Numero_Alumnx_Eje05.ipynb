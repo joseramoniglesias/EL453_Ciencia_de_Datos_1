{
 "nbformat": 4,
 "nbformat_minor": 0,
 "metadata": {
  "colab": {
   "name": "Numero_Alumnx_Eje05.ipynb",
   "provenance": [],
   "collapsed_sections": [],
   "toc_visible": true
  },
  "kernelspec": {
   "name": "python3",
   "language": "python",
   "display_name": "Python 3 (ipykernel)"
  },
  "language_info": {
   "name": "python"
  }
 },
 "cells": [
  {
   "cell_type": "markdown",
   "metadata": {
    "id": "ldHBGHWGon-Y"
   },
   "source": [
    "# Histogramas de Gradientes ( cv2.calcHist )\n",
    "# HOG Human<a class=\"tocSkip\">\n",
    "## Reconocimiento de Patrones <a class=\"tocSkip\">\n",
    "### Ingenieria Electrónica <a class=\"tocSkip\">\n",
    "### Universidad Popular del Cesar <a class=\"tocSkip\">\n",
    "### Prof.: Jose Ramón Iglesias Gamarra - [https://github.com/joseramoniglesias/](https://github.com/joseramoniglesias/) <a class=\"tocSkip\">\n",
    "  **joseiglesias@unicesar.edu.co**\n",
    "\n"
   ]
  },
  {
   "cell_type": "markdown",
   "metadata": {
    "id": "zpYuhv665afE"
   },
   "source": [
    "# IMPORTANTE:\n",
    "\n",
    "En este código por favor:\n",
    "\n",
    "*   No agregar celdas nuevas\n",
    "*   No agregar librerías nuevas\n",
    "*   No usar otro nombre de variables\n",
    "*   No cambiar el clasificador ni el número de vecinos del KNN\n",
    "*   No hacer gráficas\n",
    "\n",
    "\n",
    "<font color='red'>Esta tarea será corregida automáticamente, y si no se cumple alguna de las condiciones anteriores, es posible que la tarea no se corrija correctamente.</font>\n",
    "\n",
    "Si quieres hacer modificaciones y probar estrategias distintas, te invito a hacerlo en otro código (no en éste). <font color='red'>Este código debe modificarse sólo en los lugares indicados.</font>\n",
    "\n",
    "<font color='orange'> Evaluación:</font>\n",
    " Este ejercicio tiene n=15 ítems a evaluar, denotados como Q00, Q01, ... Qn a lo largo del notebook como `<Evaluación Qi>`. En tu evaluación (que recibirás en los próximos días) se indicará cómo han sido cada uno de estos n items. Tu nota en este ejercicio será el número de ítems correctamente hechos dividido por n multiplicado por 100 (en escala de 0 a 100%).\n"
   ]
  },
  {
   "cell_type": "markdown",
   "metadata": {
    "id": "XASTjivuu7cO"
   },
   "source": [
    "# Ejercicio 05: Detección de paredes rayadas usando LBP y HoG\n",
    "----\n",
    "ENTREGA: viernes 16/abril/2020 a la 1:00 pm (se debe subir a Google Classroom este archivo ipynb, <font color='red'>el nombre del archivo debe coincidir con tu número de alumno/a)</font>.\n",
    "\n",
    "----\n",
    "En este ejercicio se realizará la clasificación entre dos clases de \"parches\" de pared de 64x64 pixeles (en escala de grises):\n",
    "\n",
    "* Clase 0: No-Rayas (contiene parches de pared sin rayas). [Ver parches no rayados](https://www.dropbox.com/s/8501gryycq6nxn4/patches_0.png?dl=0)\n",
    "\n",
    "* Clase 1: Rayas (contiene parches de pared con pintas, grafitis, rayados, etc.). [Ver parches rayados](https://www.dropbox.com/s/0ztucomc9yvhp4a/patches_1.png?dl=0)\n",
    "\n",
    "\n",
    "\n",
    "\n",
    "La base de datos contiene 1200 imágenes de 64x64 pixeles (600 imágenes por clase).\n",
    "\n",
    "**ADVERTENCIA:** Este ejercicio tiene fines pedagógicos sólamente, con la idea de que la solución a este problema pueda ejecutarse en un par de minutos. Un buen detector de rayas sigue esta idea pero con miles de imágenes a color por clase.\n",
    "\n",
    "A continuación, en cada PREGUNTA deberás ingresar alguna(s) líneas de código, o completar donde aparezca '<= COMPLETAR AQUI\".\n",
    "\n",
    "\n"
   ]
  },
  {
   "cell_type": "markdown",
   "metadata": {
    "id": "tOZy0s57VX5u"
   },
   "source": [
    "# PREGUNTA 0: Cambiar nombre de archivo\n",
    "\n",
    "Cambia el nombre del archivo de este código de tal forma que sea tu número de alumno/a. Por ejemplo, si tu número de alumno/a es '1234567J' entonces este Colab Notebook debe llamarse '1234567J.ipynb'. Para hacerlo debes hacer un click con el mouse sobre el nombre del archivo (arriba a la izquierda) y editar el nombre del archivo."
   ]
  },
  {
   "cell_type": "code",
   "metadata": {
    "id": "EWP0A3aEWSYY"
   },
   "source": [
    "Nombre_de_archivo_cambiado =  ???  # <== COMPLETAR AQUI ESCRIBIENDO EL NÚMERO 1 CUANDO HAYAS CAMBIADO EL NOMBRE"
   ],
   "execution_count": null,
   "outputs": []
  },
  {
   "cell_type": "markdown",
   "metadata": {
    "id": "BDp6KJgkIryf"
   },
   "source": [
    "# PREGUNTA 1: Datos personales\n",
    "\n",
    "Ingresa tus datos para poder evaluarte, \n",
    "<font color='red'>si tus datos son incorrectos, este ejercicio no podrá ser corregido y por lo tanto no tendrás nota en esta actividad.</font>"
   ]
  },
  {
   "cell_type": "code",
   "metadata": {
    "id": "A1SQFdnJJitN"
   },
   "source": [
    "NumeroID         = '???'   # <= COMPLETAR AQUI NUMERO DE ALUMNO/A ENTRE APOSTROFES\n",
    "PrimerNombre     = '???'   # <= COMPLETAR AQUI TU PRIMER NOMBRE\n",
    "PrimerApellido   = '???'   # <= COMPLETAR AQUI TU PRIMER APELLIDO\n",
    "Correo           = '???'   # <= COMPLETAR AQUI TU CORREO ELECTRONICO\n",
    "Datos_ingresados = ???     # <= COMPLETAR AQUI ESCRIBIENDO 1 CUANDO HAYAS INGRESADO TUS DATOS\n",
    "\n",
    "stid             = PrimerNombre+' '+PrimerApellido+' (ID:'+NumeroID+', email:'+Correo+'):'\n",
    "print('Registro: '+stid)"
   ],
   "execution_count": null,
   "outputs": []
  },
  {
   "cell_type": "markdown",
   "metadata": {
    "id": "R5C53BYjpNl7"
   },
   "source": [
    "# Setup inicial\n",
    "\n",
    "Liberías necesarias para que funcione el algoritmo."
   ]
  },
  {
   "cell_type": "markdown",
   "metadata": {
    "id": "X9daVUmmTSBW"
   },
   "source": [
    "## Setup de librerías"
   ]
  },
  {
   "cell_type": "code",
   "metadata": {
    "id": "xUXeMCxoTRH8"
   },
   "source": [
    "#\n",
    "# EJECUTAR ESTA CELDA SIN MODIFICARLA\n",
    "#\n",
    "\n",
    "import os.path\n",
    "import numpy as np\n",
    "import matplotlib.pyplot as plt\n",
    "import skimage\n",
    "from   skimage.feature import local_binary_pattern\n",
    "from   skimage.filters import gabor_kernel\n",
    "from   sklearn.metrics import confusion_matrix, accuracy_score\n",
    "from   sklearn.neighbors import KNeighborsClassifier\n",
    "from   tqdm.auto import tqdm\n",
    "from   seaborn import heatmap\n",
    "print('Librerías cargadas.')"
   ],
   "execution_count": null,
   "outputs": []
  },
  {
   "cell_type": "markdown",
   "metadata": {
    "id": "dYCCyCrTYVYQ"
   },
   "source": [
    "## Funciones necesarias"
   ]
  },
  {
   "cell_type": "code",
   "metadata": {
    "id": "V7PwerxH4rxx",
    "is_executing": true,
    "ExecuteTime": {
     "start_time": "2023-09-05T16:18:25.814447300Z"
    }
   },
   "source": [
    "#\n",
    "# EJECUTAR ESTA CELDA SIN MODIFICARLA\n",
    "#\n",
    "def num2fixstr(x,d):\n",
    "  # example num2fixstr(2,5) returns '00002'\n",
    "  # example num2fixstr(19,3) returns '019'\n",
    "  st = '%0*d' % (d,x)\n",
    "  return st\n",
    "\n",
    "def imageload(prefix,num_class,digits_class,num_img,digits_img,sep='_',echo='off'):\n",
    "  st   = prefix + num2fixstr(num_class,digits_class) + sep + num2fixstr(num_img,digits_img) + '.png'\n",
    "  if echo == 'on':\n",
    "    print('loading image '+st+'...')\n",
    "  img    = plt.imread(st)\n",
    "  return img\n",
    "\n",
    "def minmax(X):\n",
    "  ma = X.max(0)\n",
    "  mi = X.min(0)\n",
    "  md    = ma-mi\n",
    "  a     = 1/ md\n",
    "  b     = -mi/md\n",
    "  return X * a + b, a, b\n",
    "\n",
    "def MatrixStats(X):\n",
    "  p = np.zeros((6),'int')\n",
    "  n = len(X.shape)\n",
    "  if n>0:\n",
    "    p[0] = X.shape[0]\n",
    "    if n==2:\n",
    "      p[1] = X.shape[1]\n",
    "  p[2] = X.min()\n",
    "  p[3] = X.max()\n",
    "  p[4] = X.mean()\n",
    "  p[5] = X.std()\n",
    "  return p\n",
    "  \n",
    "def CheckMatrix(st,X,ps):\n",
    "  p = MatrixStats(X)\n",
    "  d = p-ps\n",
    "  t = not(np.sum(d)==0)\n",
    "  if t:\n",
    "    print(st + ': Revisar, esta matriz presenta errores...')\n",
    "  else:\n",
    "    print(st + ': ok')\n",
    "  return t\n",
    "\n",
    "def CheckPrint(Y,st=True):\n",
    "    \n",
    "  if np.sum(Y)>0:\n",
    "    if st:\n",
    "      print('Revisar, hay error en al menos uno de estos cálculos, no continuar con las siguientes celdas hasta no corregir este error.')\n",
    "    else:\n",
    "      print('Revisar, hay error en al menos uno de los datos personales (no coinciden con los ingresados en la PREGUNTA 1),')\n",
    "      print('NO SUBIR TAREA ANTES DE CORREGIR ESTE ERROR.')\n",
    "      print('(tu ejercicio corre el riesgo de no ser corregido)')\n",
    "  else:\n",
    "    if st:\n",
    "      print('Felicitaciones! Los cálculos han sido realizados correctamente.')\n",
    "    else:\n",
    "      print('Felicitaciones! ahora puedes subir este archivo a Google Classroom.')\n",
    "\n",
    "\n",
    "def CheckFile(wclass):\n",
    "  st = 'W_'+num2fixstr(wclass,2)\n",
    "  sfile = st+'_600.png'\n",
    "  x = os.path.isfile('rayas/'+sfile)\n",
    "  if x:\n",
    "      print('Imágenes '+st+'*.png: OK')\n",
    "  else:\n",
    "      print('Carga de imágenes '+st+' presentan errores.')\n",
    "  return not(x)\n",
    "\n",
    "chk = [[1200,59,0,1524,69,136],[1200,9,0,98,26,19],[1200,0,0,100,50,50],[ 900,68,0,1524,60,129],[ 300,68,0,1432,60,129],[900,0,0,100,50,50],[300,0,0,100,50,50],[0,0,91,91,91,0],[2,2,13,137,75,61]]\n",
    "\n",
    "# Separación entre training y testing\n",
    "def hog(img, orientations=9, pixels_per_cell=(16,16),cells_per_block=(2,2),norm=False):\n",
    "  X = skimage.feature.hog(img, orientations=orientations, pixels_per_cell=pixels_per_cell,cells_per_block=cells_per_block)\n",
    "  if norm:\n",
    "    X = X/np.linalg.norm(X)\n",
    "  return X\n",
    "\n",
    "# Separación entre training y testing\n",
    "def SplitTrainTest(X,y,n):\n",
    "\n",
    "  K      = np.max(y)+1              # número de clases\n",
    "  N      = int(X.shape[0]/K)        # numeros de muestras por clase\n",
    "  Ntrain = n*K                      # número de muestras para el training\n",
    "  Ntest  = K*N-Ntrain               # número de muestras para el testing\n",
    "  M      = X.shape[1]               # número de características por muestra\n",
    "  Xtrain = np.zeros((Ntrain,M))     # subset de training\n",
    "  ytrain = np.zeros((Ntrain),'int') # ground truth del training         \n",
    "  Xtest  = np.zeros((Ntest,M))      # subset de testing\n",
    "  ytest  = np.zeros((Ntest),'int')  # ground truth del testing  \n",
    "\n",
    "  # contadores\n",
    "  itrain = 0\n",
    "  itest  = 0\n",
    "  t      = 0\n",
    "\n",
    "  for j in range(K):     # para cada clase\n",
    "    for i in range(N):   # para cada imagen de la clase\n",
    "      if i<n: # training\n",
    "        Xtrain[itrain,:] = X[t,:]\n",
    "        ytrain[itrain] = y[t]\n",
    "        itrain = itrain+1\n",
    "      else:  # testing\n",
    "        Xtest[itest,:] = X[t,:]\n",
    "        ytest[itest] = y[t]\n",
    "        itest = itest+1\n",
    "      t = t+1\n",
    "\n",
    "  return Xtrain,ytrain,Xtest,ytest\n",
    "\n",
    "# Clasificación usando KNN\n",
    "def ClassifierKNN(Xtrain,ytrain,Xtest,ytest,n_neighbors=1,normalize=True,echo=True):\n",
    "  if normalize:\n",
    "    Xtrain, a, b = minmax(Xtrain)\n",
    "    Xtest        = Xtest * a + b\n",
    "  knn = KNeighborsClassifier(n_neighbors=n_neighbors)\n",
    "  knn.fit(Xtrain, ytrain)\n",
    "  ypred        = knn.predict(Xtest)\n",
    "  acc          = accuracy_score(ytest,ypred)\n",
    "  C = confusion_matrix(ytest,ypred)\n",
    "  if echo:\n",
    "    print('Training with '+str(Xtrain.shape[0])+' samples. Testing with '+str(Xtest.shape[0])+' samples (of '+str(Xtrain.shape[1])+ ' features)...')\n",
    "    print('Testing Accuracy = '+str(acc*100)+'%')\n",
    "    print('Confusion Matrix:')\n",
    "    print(C)\n",
    "  return acc,C\n",
    "\n",
    "print('Funciones necesarias ejecutadas.')"
   ],
   "execution_count": null,
   "outputs": []
  },
  {
   "cell_type": "markdown",
   "metadata": {
    "id": "sOcwbiQYYPag"
   },
   "source": [
    "# Pregunta 2: Carga de base de datos\n",
    "\n",
    "La base de datos consiste en 2 clases con 600 imágenes por clase. Se almacenan en la carpeta `rayas` con el formato `W_xx_nnn.png`, donde `xx` es el ID de la clase (01 para no-rayas, 02 para raya) y `nnn` es el número de la foto de la clase (001, 002, ... 600). Las fotos son de 64x64 pixeles en escala de grises.\n",
    "\n",
    "\n",
    "Carga la base de datos, descargando el archivo rayas.zip que se encuentra en este link: `https://www.dropbox.com/s/08nu4a4mayk7kj2/rayas.zip`. Una vez descargado el archivo zip, debes descomprimirlo.\n",
    "\n",
    "AYUDA: usar comando `!wget <url archivo zip>` para descargar el archivo, y el comando `! unzip <archivo zip>` para descomprimirlo.\n",
    "\n"
   ]
  },
  {
   "cell_type": "code",
   "metadata": {
    "id": "BMYOlpLpzHQJ"
   },
   "source": [
    "# Carga de base de datos\n",
    "\n",
    "# COMPLETAR AQUI DOS LINEAS DE CODIGO\n",
    "# Linea 1: comando para bajar archivo zip desde dropbox\n",
    "# Linea 2: comando para descomprimir el archivo zip bajado en la linea 1\n",
    "# Al final de la ejecucion debe haberse creado la carpeta rayas con 1200 imágenes\n",
    "\n",
    "??? # <- COMPLETAR AQUI LINEA 1\n",
    "??? # <- COMPLETAR AQUI LINEA 2\n"
   ],
   "execution_count": null,
   "outputs": []
  },
  {
   "cell_type": "code",
   "metadata": {
    "id": "zVLMo65Dcjec"
   },
   "source": [
    "#\n",
    "# EJECUTAR ESTA CELDA PARA EVALUAR LA CARGA DE LA BASE DE DATOS\n",
    "#\n",
    "\n",
    "T = np.ones((15),'int')\n",
    "T[0] = CheckFile(1) # <Evaluación Q00>\n",
    "T[1] = CheckFile(2) # <Evaluación Q01>\n",
    "CheckPrint(T[0:2])"
   ],
   "execution_count": null,
   "outputs": []
  },
  {
   "cell_type": "markdown",
   "metadata": {
    "id": "yYHxPwnTYhXs"
   },
   "source": [
    "# PREGUNTA 3: Extracción de características\n",
    "\n",
    "En esta pregunta se debe realizar la extracción de características de la imagen `img`. Las características a extraer son las basadas en LBP y Hog y se extraen usando los siguientes comandos de la librería PyBalu:\n",
    "\n",
    "## 1) Cómo extraer características LBP clásico:\n",
    "\n",
    "Con el comando\n",
    "\n",
    "`f  = lbp(img, hdiv=a, vdiv=b, mapping='nri_uniform')`\n",
    "\n",
    "se divide la imagen `img` en `a x b` particiones y en cada una de ellas se extrae el descriptor LBP (vector de 59 elementos). En este caso `f` es un vector de `59*a*b` elementos. En este ejercicio trabajaremos con `a = b = 1`, es decir sólo una partición por imagen.\n",
    "\n",
    "## 2) Cómo extraer características de HoG:\n",
    "\n",
    "Con el comando\n",
    "\n",
    "`f = hog(img, v_windows=a, h_windows=b, n_bins=q)`\n",
    "\n",
    "se divide la imagen `img` en `a x b` particiones y en cada una de ellas se extrae el descriptor HoG (vector de `q` elementos, ya que el histograma es de `q` bins). En este caso `f` es un vector de `q*a*b` elementos. En este ejercicio trabajaremos con `a = b = 1`, es decir sólo una partición por imagen, y usaremos `q = 9` bins en el histograma.\n",
    "\n",
    "<font color='red'> Para escribir este código reutilice el código del Ejercicio 04 (celda dedicada a extracción de características) teniendo en cuenta las indicaciones 1) y 2). Este código tiene alrededor de 20-30 líneas."
   ]
  },
  {
   "cell_type": "code",
   "metadata": {
    "id": "ASGRTqKTLYNa"
   },
   "source": [
    "print('Ejecución de '+stid) # <== NO MODIFICAR ESTA LINEA\n",
    "\n",
    "# Extracción de Características\n",
    "\n",
    "# En esta celda se debe: \n",
    "#  - almacenar en la variable Xlbp la matriz de las características LBP de las 1200 imágenes\n",
    "#  - almacenar en la variable Xhog la matriz de las características HOG de las 1200 imágenes\n",
    "#  - almacenar en la variable y el vector de la clase a que pertenece cada una de las 1200 imágenes\n",
    "\n",
    "# Al final de la ejecución de este código deben haber sido creadas:\n",
    "# Matriz Xlbp\n",
    "# Matriz Xhog \n",
    "# Vector y\n",
    "\n",
    "\n"
   ],
   "execution_count": null,
   "outputs": []
  },
  {
   "cell_type": "code",
   "metadata": {
    "id": "sBWnDAZRwypQ"
   },
   "source": [
    "#\n",
    "# EJECUTAR ESTA CELDA PARA EVALUAR LA EXTRACCiÓN DE CARACTERÍSTICAS\n",
    "#\n",
    "\n",
    "T[2] = CheckMatrix('Xlbp',Xlbp,chk[0])     # <Evaluación Q02>\n",
    "T[3] = CheckMatrix('Xhog',Xhog*100,chk[1]) # <Evaluación Q03>\n",
    "T[4] = CheckMatrix('y   ',y*100,chk[2])       # <Evaluación Q04>\n",
    "CheckPrint(T[2:5])"
   ],
   "execution_count": null,
   "outputs": []
  },
  {
   "cell_type": "markdown",
   "metadata": {
    "id": "J88eVidHdI6P"
   },
   "source": [
    "# Clasificación usando LBP y HoG\n",
    "\n",
    "En la pregunta anterior, fueron extraídas las características LBP y HoG para todas las imágenes de la base de datos. No olvidar que son 600 imágenes por clase, y que son 2 clases. En este Ejercicio, el clasificador será  un clasificador KNN de 1 vecino que será entrenado (training) con las primeras 450 muestras de cada clase, y probado (testing) con las 150 restantes por clase.\n",
    "\n"
   ]
  },
  {
   "cell_type": "markdown",
   "metadata": {
    "id": "Xd5riXIEhUgS"
   },
   "source": [
    "# Pregunta 4: Definicion de características a utilizar\n",
    "\n",
    "Cargar en `X` la concatenación de `Xlbp` y `Xhog`. Es decir, si `Xlbp` tiene `P x Mlbp` elementos, y `Xhog` tiene `P x Mhog` elementos, entonces `X` debe tener `P x (Mlbp+Mhog)` elementos.\n",
    "\n",
    "Ayuda: use función `np.concatenate()`\n"
   ]
  },
  {
   "cell_type": "code",
   "metadata": {
    "id": "X2j5_4sOh2ua"
   },
   "source": [
    "# Al final de esta ejecución debe haber sido creada la matriz X\n",
    "\n",
    "???  # <= COMPLETAR AQUI LA LÍNEA DE CÓDIGO QUE REALIZA LA CONCATENACIÓN DE LBP Y HOG (NO CAMBIAR EL ORDEN)\n"
   ],
   "execution_count": null,
   "outputs": []
  },
  {
   "cell_type": "code",
   "metadata": {
    "id": "WyTRUeszit5m"
   },
   "source": [
    "#\n",
    "# EJECUTAR ESTA CELDA PARA EVALUAR LA DEFINICION DE X\n",
    "#\n",
    "\n",
    "T[5] = CheckMatrix('X',X[:,0:59],chk[0])    # <Evaluación Q05>\n",
    "T[6] = CheckMatrix('X',X[:,59:]*100,chk[1]) # <Evaluación Q06>\n",
    "CheckPrint(T[5:7])"
   ],
   "execution_count": null,
   "outputs": []
  },
  {
   "cell_type": "markdown",
   "metadata": {
    "id": "VmzJeLdPkWCA"
   },
   "source": [
    "# PREGUNTA 5: Separación Training / Testing\n",
    "\n",
    "El conjunto de training debe contener las primeras 450 muestras por classe. El conjunto de testing debe contener las restantes 150 muestras por clase.\n",
    "\n",
    "Separar `X,y` en `Xtrain,ytrain`, `Xtest,ytest`\n",
    "\n",
    "Ayuda: usar funcion `SplitTrainTest()` definida más arriba en la seeción \"Funciones Necesarias\"."
   ]
  },
  {
   "cell_type": "code",
   "metadata": {
    "id": "ABthai1wkwVS"
   },
   "source": [
    "# Al final de esta ejecución debe haber sido creada la matrices Xtrain, Xtest y los vectores ytest , ytrain\n",
    "\n",
    "???  # <= COMPLETAR AQUI LA LÍNEA DE CÓDIGO QUE REALIZA LA SPERACIÓN TRAINING/TESTING\n"
   ],
   "execution_count": null,
   "outputs": []
  },
  {
   "cell_type": "code",
   "metadata": {
    "id": "jntYCaqCmNMm"
   },
   "source": [
    "#\n",
    "# EJECUTAR ESTA CELDA PARA EVALUAR LA SEPARACION TRAINING/TESTING\n",
    "#\n",
    "\n",
    "T[7]  = CheckMatrix('Xtrain',Xtrain,chk[3])     # <Evaluación Q07>\n",
    "T[8]  = CheckMatrix('Xtest ',Xtest ,chk[4])     # <Evaluación Q08>\n",
    "T[9]  = CheckMatrix('ytarin',ytrain*100,chk[5]) # <Evaluación Q09>\n",
    "T[10] = CheckMatrix('ytest ',ytest*100 ,chk[6]) # <Evaluación Q10>\n",
    "\n",
    "CheckPrint(T[7:11])\n"
   ],
   "execution_count": null,
   "outputs": []
  },
  {
   "cell_type": "markdown",
   "metadata": {
    "id": "v_zcqYc7m0Qt"
   },
   "source": [
    "# PREGUNTA 6: Clasificación\n",
    "\n",
    "Diseñar el clasificador usando `Xtrain,ytrain`, pruebe el clasificador en `Xtest`, y compare la clasifición con `ytest`.\n",
    "\n",
    "Ayuda: usar funcion `ClassifierKNN()` definida más arriba en la seeción \"Funciones Necesarias\".\n"
   ]
  },
  {
   "cell_type": "code",
   "metadata": {
    "id": "lUpjHFPlm-Y4"
   },
   "source": [
    "# Al final de esta ejecución debe haber sido creada la variable acc y la matriz de confusion C\n",
    "\n",
    "???  # <= COMPLETAR AQUI LA LÍNEA DE CÓDIGO QUE REALIZA LA CLASIFICACIÓN\n"
   ],
   "execution_count": null,
   "outputs": []
  },
  {
   "cell_type": "code",
   "metadata": {
    "id": "709eielqnjZX"
   },
   "source": [
    "#\n",
    "# EJECUTAR ESTA CELDA PARA EVALUAR LA CLASIFICACIÓN CON LBP Y HOG\n",
    "#\n",
    "\n",
    "T[11]  = CheckMatrix('acc',acc*100,chk[7]) # <Evaluación Q11>\n",
    "T[12] = CheckMatrix('C  ',C ,chk[8])         # <Evaluación Q12>\n",
    "CheckPrint(T[11:13])\n"
   ],
   "execution_count": null,
   "outputs": []
  },
  {
   "cell_type": "markdown",
   "metadata": {
    "id": "UMiYVLNzti_q"
   },
   "source": [
    "# PREGUNTA 7: Verificar datos personales\n",
    "\n",
    "<font color='red'> **ADVERTENCIA:** En este ejercicio en necesario que revises bien tus datos personales. Si no son correctos, no tendrás nota en este ejercicio."
   ]
  },
  {
   "cell_type": "code",
   "metadata": {
    "id": "WnFyXDtsuFOj"
   },
   "source": [
    "# POR FAVOR VUELVE A DIGITAR ESTOS DATOS PARA VERIFICAR QUE NO HAYA ERRORES DE TIPEO\n",
    "NumeroID_2       = '???' # <= COMPLETAR AQUI NUMERO DE ALUMNO/A ENTRE APOSTROFES\n",
    "Correo_2         = '???' # <= COMPLETAR AQUI TU CORRECO ELECTRONICO"
   ],
   "execution_count": null,
   "outputs": []
  },
  {
   "cell_type": "code",
   "metadata": {
    "id": "NWTNp7TXubNc"
   },
   "source": [
    "#\n",
    "# EJECUTAR ESTA CELDA PARA VERIFICAR SI LOS DATOS COINCIDEN CON LOS YA INGRESADOS\n",
    "#\n",
    "\n",
    "T[13] = NumeroID != NumeroID_2  # <Evaluación Q13>\n",
    "T[14] = Correo   != Correo_2    # <Evaluación Q14>\n",
    "CheckPrint(T[13:15],0)"
   ],
   "execution_count": null,
   "outputs": []
  },
  {
   "cell_type": "markdown",
   "metadata": {
    "id": "RIffHnis4bIp"
   },
   "source": [
    "# PASO FINAL: Subir tarea\n",
    "\n",
    "<font color='red'> **ADVERTENCIA FINAL:** Debes verificar que todas las celdas de este código hayan sido ejecutadas sin error. Si durante la evaluación automática tu código \"se cae\" en una celda, las siguientes celdas no serán ejecutadas (ni evaludas). \n",
    "\n"
   ]
  },
  {
   "cell_type": "code",
   "execution_count": null,
   "outputs": [],
   "source": [],
   "metadata": {
    "collapsed": false
   }
  }
 ]
}
